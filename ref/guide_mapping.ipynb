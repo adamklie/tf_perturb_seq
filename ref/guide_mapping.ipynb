{
 "cells": [
  {
   "cell_type": "markdown",
   "metadata": {},
   "source": [
    "# Mapping Guide IDs between labs\n",
    "This notebook describes the current guide annotations provided by the Hon and Huangfu labs, and creates a master list of guide IDs to use for downstream analysis"
   ]
  },
  {
   "cell_type": "markdown",
   "metadata": {},
   "source": [
    "# Set-up"
   ]
  },
  {
   "cell_type": "code",
   "execution_count": 1,
   "metadata": {},
   "outputs": [
    {
     "name": "stdout",
     "output_type": "stream",
     "text": [
      "The history saving thread hit an unexpected error (DatabaseError('database disk image is malformed')).History will not be written to the database.\n"
     ]
    }
   ],
   "source": [
    "# imports\n",
    "import pandas as pd\n",
    "import matplotlib.pyplot as plt\n",
    "import numpy as np\n",
    "import seaborn as sns"
   ]
  },
  {
   "cell_type": "code",
   "execution_count": 2,
   "metadata": {},
   "outputs": [],
   "source": [
    "# Paths: TODO update if necessary\n",
    "path_huanfu_guide_ref = \"/cellar/users/aklie/data/datasets/tf_perturb_seq/ref/Huangfu_ref_feature.csv\"\n",
    "path_hon_guide_ref = \"/cellar/users/aklie/data/datasets/tf_perturb_seq/ref/Hon_sgRNA_index_dacc_annot_reference.csv\"\n",
    "path_non_targeting = \"/cellar/users/aklie/data/datasets/tf_perturb_seq/ref/non_targeting.tsv\"\n",
    "path_negative_controls = \"/cellar/users/aklie/data/datasets/tf_perturb_seq/ref/negative_controls.tsv\"\n",
    "path_positive_controls = \"/cellar/users/aklie/data/datasets/tf_perturb_seq/ref/positive_controls.tsv\"\n",
    "path_targets = \"/cellar/users/aklie/data/datasets/tf_perturb_seq/ref/target_genes.tsv\""
   ]
  },
  {
   "cell_type": "markdown",
   "metadata": {},
   "source": [
    "# Load in auxiliary data"
   ]
  },
  {
   "cell_type": "code",
   "execution_count": 3,
   "metadata": {},
   "outputs": [
    {
     "name": "stdout",
     "output_type": "stream",
     "text": [
      "Loaded 100 negative controls, 19 positive controls, 600 non-targeting guides, and 2210 targets.\n"
     ]
    }
   ],
   "source": [
    "# Load in the reference files\n",
    "negative_controls = pd.read_csv(path_negative_controls, sep=\"\\t\")\n",
    "positive_controls = pd.read_csv(path_positive_controls, sep=\"\\t\")\n",
    "non_targeting = pd.read_csv(path_non_targeting, sep=\"\\t\")\n",
    "targets = pd.read_csv(path_targets, sep=\"\\t\")\n",
    "print(f\"Loaded {len(negative_controls)} negative controls, {len(positive_controls)} positive controls, {len(non_targeting)} non-targeting guides, and {len(targets)} targets.\")"
   ]
  },
  {
   "cell_type": "code",
   "execution_count": 4,
   "metadata": {},
   "outputs": [],
   "source": [
    "# Get a list of genes for negative controls\n",
    "negative_control_genes = negative_controls[\"Gene\"].values"
   ]
  },
  {
   "cell_type": "code",
   "execution_count": 5,
   "metadata": {},
   "outputs": [],
   "source": [
    "# Get a list of photospacers for negative controls\n",
    "negative_control_guide_photospacers = negative_controls[['Photospacer 1', 'Photospacer 2', 'Photospacer 3', 'Photospacer 4', 'Photospacer 5', 'Photospacer 6']].values.flatten()\n",
    "negative_control_guide_photospacers = [str(x).upper() for x in negative_control_guide_photospacers]"
   ]
  },
  {
   "cell_type": "code",
   "execution_count": 6,
   "metadata": {},
   "outputs": [
    {
     "data": {
      "text/plain": [
       "array(['CD81', 'CD81', 'CD151', 'CD151', 'CD55', 'CD29', 'B2M', 'AARS',\n",
       "       'AARS', 'AARS', 'POLR1D', 'POLR1D', 'POLR1D', 'DNAJC19', 'DNAJC19',\n",
       "       'DNAJC19', 'MALAT1', 'NGFRAP1', 'TFRC'], dtype=object)"
      ]
     },
     "execution_count": 6,
     "metadata": {},
     "output_type": "execute_result"
    }
   ],
   "source": [
    "# Get a list of genes for positive controls\n",
    "positive_control_genes = positive_controls[\"Gene\"].str.split(\" \").str[0].values\n",
    "positive_control_genes"
   ]
  },
  {
   "cell_type": "code",
   "execution_count": 7,
   "metadata": {},
   "outputs": [],
   "source": [
    "# Get non-targeting guide IDs\n",
    "non_targeting_ids = non_targeting[\"Unnamed: 0\"].values"
   ]
  },
  {
   "cell_type": "markdown",
   "metadata": {},
   "source": [
    "# Huangfu annotations"
   ]
  },
  {
   "cell_type": "code",
   "execution_count": 163,
   "metadata": {},
   "outputs": [
    {
     "name": "stdout",
     "output_type": "stream",
     "text": [
      "Total guides in Huangfu lab reference: 14364\n"
     ]
    }
   ],
   "source": [
    "# Read Huangfu lab guide reference\n",
    "huangfu_guide_ref = pd.read_csv(path_huanfu_guide_ref)\n",
    "print(f\"Total guides in Huangfu lab reference: {huangfu_guide_ref.shape[0]}\")"
   ]
  },
  {
   "cell_type": "code",
   "execution_count": 164,
   "metadata": {},
   "outputs": [
    {
     "data": {
      "text/html": [
       "<div>\n",
       "<style scoped>\n",
       "    .dataframe tbody tr th:only-of-type {\n",
       "        vertical-align: middle;\n",
       "    }\n",
       "\n",
       "    .dataframe tbody tr th {\n",
       "        vertical-align: top;\n",
       "    }\n",
       "\n",
       "    .dataframe thead th {\n",
       "        text-align: right;\n",
       "    }\n",
       "</style>\n",
       "<table border=\"1\" class=\"dataframe\">\n",
       "  <thead>\n",
       "    <tr style=\"text-align: right;\">\n",
       "      <th></th>\n",
       "      <th>protospacer_ID</th>\n",
       "      <th>protospacer</th>\n",
       "      <th>intended_target_name</th>\n",
       "      <th>type</th>\n",
       "      <th>genomic_element</th>\n",
       "      <th>reverse_compliment</th>\n",
       "      <th>protospacer_upper</th>\n",
       "    </tr>\n",
       "  </thead>\n",
       "  <tbody>\n",
       "    <tr>\n",
       "      <th>count</th>\n",
       "      <td>14358</td>\n",
       "      <td>14358</td>\n",
       "      <td>14358</td>\n",
       "      <td>14358</td>\n",
       "      <td>14358</td>\n",
       "      <td>14358</td>\n",
       "      <td>14358</td>\n",
       "    </tr>\n",
       "    <tr>\n",
       "      <th>unique</th>\n",
       "      <td>14358</td>\n",
       "      <td>14358</td>\n",
       "      <td>2087</td>\n",
       "      <td>4</td>\n",
       "      <td>1</td>\n",
       "      <td>14358</td>\n",
       "      <td>14358</td>\n",
       "    </tr>\n",
       "    <tr>\n",
       "      <th>top</th>\n",
       "      <td>DNAJC19_ B</td>\n",
       "      <td>GGGAACTCCTGTAAGGTCAG</td>\n",
       "      <td>non-targeting</td>\n",
       "      <td>targeting</td>\n",
       "      <td>promoter</td>\n",
       "      <td>CTGACCTTACAGGAGTTCCC</td>\n",
       "      <td>GGGAACTCCTGTAAGGTCAG</td>\n",
       "    </tr>\n",
       "    <tr>\n",
       "      <th>freq</th>\n",
       "      <td>1</td>\n",
       "      <td>1</td>\n",
       "      <td>600</td>\n",
       "      <td>13141</td>\n",
       "      <td>14358</td>\n",
       "      <td>1</td>\n",
       "      <td>1</td>\n",
       "    </tr>\n",
       "  </tbody>\n",
       "</table>\n",
       "</div>"
      ],
      "text/plain": [
       "       protospacer_ID           protospacer intended_target_name       type  \\\n",
       "count           14358                 14358                14358      14358   \n",
       "unique          14358                 14358                 2087          4   \n",
       "top        DNAJC19_ B  GGGAACTCCTGTAAGGTCAG        non-targeting  targeting   \n",
       "freq                1                     1                  600      13141   \n",
       "\n",
       "       genomic_element    reverse_compliment     protospacer_upper  \n",
       "count            14358                 14358                 14358  \n",
       "unique               1                 14358                 14358  \n",
       "top           promoter  CTGACCTTACAGGAGTTCCC  GGGAACTCCTGTAAGGTCAG  \n",
       "freq             14358                     1                     1  "
      ]
     },
     "execution_count": 164,
     "metadata": {},
     "output_type": "execute_result"
    }
   ],
   "source": [
    "# Describe the dataframes\n",
    "hon_guide_ref.describe()"
   ]
  },
  {
   "cell_type": "code",
   "execution_count": 165,
   "metadata": {},
   "outputs": [
    {
     "data": {
      "text/plain": [
       "600"
      ]
     },
     "execution_count": 165,
     "metadata": {},
     "output_type": "execute_result"
    }
   ],
   "source": [
    "# how many ids start with non-targeting\n",
    "huangfu_guide_ref[\"id\"].str.startswith(\"non-targeting\").sum()"
   ]
  },
  {
   "cell_type": "code",
   "execution_count": 167,
   "metadata": {},
   "outputs": [
    {
     "name": "stdout",
     "output_type": "stream",
     "text": [
      "Non-targeting guides in Huangfu reference: 600\n",
      "Do non-targeting guides match? True\n"
     ]
    }
   ],
   "source": [
    "# are these the same as the non_targeting_ids?\n",
    "non_targeting_ids_in_huangfu = huangfu_guide_ref[huangfu_guide_ref[\"id\"].isin(non_targeting_ids)]\n",
    "print(f\"Non-targeting guides in Huangfu reference: {non_targeting_ids_in_huangfu.shape[0]}\")\n",
    "non_targeting_match = non_targeting_ids_in_huangfu[\"id\"].isin(non_targeting_ids)\n",
    "print(f\"Do non-targeting guides match? {non_targeting_match.all()}\")"
   ]
  },
  {
   "cell_type": "code",
   "execution_count": 168,
   "metadata": {},
   "outputs": [
    {
     "data": {
      "text/plain": [
       "target\n",
       "non-targeting    600\n",
       "ESRRG             30\n",
       "FOXP1             21\n",
       "SOX6              18\n",
       "ZNF83             18\n",
       "HIVEP3            16\n",
       "ZNF718            16\n",
       "NFIC              12\n",
       "NFE2L2            12\n",
       "NFATC2            12\n",
       "NFATC1            12\n",
       "NFIX              12\n",
       "NOBOX             12\n",
       "MYCN              12\n",
       "MKX               12\n",
       "MITF              12\n",
       "NOTCH1            12\n",
       "MYRF              12\n",
       "ESR1              12\n",
       "NR4A2             12\n",
       "MIER1             12\n",
       "MEIS3             12\n",
       "LMO1              12\n",
       "LIN54             12\n",
       "LHX6              12\n",
       "Name: count, dtype: int64"
      ]
     },
     "execution_count": 168,
     "metadata": {},
     "output_type": "execute_result"
    }
   ],
   "source": [
    "# Get a target column representing the gene target (if targeting)\n",
    "huangfu_guide_ref[\"target\"] = huangfu_guide_ref[\"id\"].str.split(\"|\").str[0].str.split(\"_\").str[0]\n",
    "huangfu_guide_ref[\"target\"].value_counts().iloc[:25]"
   ]
  },
  {
   "cell_type": "code",
   "execution_count": 169,
   "metadata": {},
   "outputs": [
    {
     "data": {
      "image/png": "[encoded data removed]",
      "text/plain": [
       "<Figure size 800x600 with 1 Axes>"
      ]
     },
     "metadata": {},
     "output_type": "display_data"
    }
   ],
   "source": [
    "# Plot a \n",
    "with sns.plotting_context(\"notebook\", font_scale=1.5):\n",
    "    plt.figure(figsize=(8, 6))\n",
    "    huangfu_guide_ref[\"target\"].value_counts().value_counts().plot(kind='bar')\n",
    "    # put numbers above bars\n",
    "    for i, v in enumerate(huangfu_guide_ref[\"target\"].value_counts().value_counts()):\n",
    "        plt.text(i, v + 0.5, str(v), ha='center', va='bottom')\n",
    "    plt.xlabel(\"Number of guides per gene\")\n",
    "    plt.ylabel(\"Number of genes\")\n",
    "    plt.title(\"Distribution of the number of guides per gene in Huangfu lab reference\")\n",
    "    plt.show()"
   ]
  },
  {
   "cell_type": "code",
   "execution_count": 170,
   "metadata": {},
   "outputs": [
    {
     "data": {
      "text/plain": [
       "598"
      ]
     },
     "execution_count": 170,
     "metadata": {},
     "output_type": "execute_result"
    }
   ],
   "source": [
    "# How many guides target a gene in the negative control list? Should be 600 (we have 100 targets with 6 guides each)\n",
    "huangfu_guide_ref[\"target\"].isin(negative_control_genes).sum()"
   ]
  },
  {
   "cell_type": "code",
   "execution_count": 171,
   "metadata": {},
   "outputs": [
    {
     "data": {
      "text/plain": [
       "598"
      ]
     },
     "execution_count": 171,
     "metadata": {},
     "output_type": "execute_result"
    }
   ],
   "source": [
    "# how many ids start with \"OR\", should ideally be same as above\n",
    "huangfu_guide_ref[\"id\"].str.startswith(\"OR\").sum()"
   ]
  },
  {
   "cell_type": "code",
   "execution_count": 172,
   "metadata": {},
   "outputs": [
    {
     "name": "stdout",
     "output_type": "stream",
     "text": [
      "Negative control guides in Huangfu reference: 598\n",
      "Do negative control guides match? True\n"
     ]
    }
   ],
   "source": [
    "# Are these two the same?\n",
    "negative_control_ids_in_huangfu = huangfu_guide_ref[huangfu_guide_ref[\"target\"].isin(negative_control_genes)]\n",
    "print(f\"Negative control guides in Huangfu reference: {negative_control_ids_in_huangfu.shape[0]}\")\n",
    "negative_control_match = negative_control_ids_in_huangfu[\"target\"].isin(negative_control_genes)\n",
    "print(f\"Do negative control guides match? {negative_control_match.all()}\")"
   ]
  },
  {
   "cell_type": "code",
   "execution_count": 173,
   "metadata": {},
   "outputs": [
    {
     "data": {
      "text/plain": [
       "set()"
      ]
     },
     "execution_count": 173,
     "metadata": {},
     "output_type": "execute_result"
    }
   ],
   "source": [
    "# Are we missing any negative control genes? Or are there just some missing guides\n",
    "set(negative_control_genes).difference(huangfu_guide_ref[\"target\"])"
   ]
  },
  {
   "cell_type": "code",
   "execution_count": 174,
   "metadata": {},
   "outputs": [
    {
     "data": {
      "text/plain": [
       "600"
      ]
     },
     "execution_count": 174,
     "metadata": {},
     "output_type": "execute_result"
    }
   ],
   "source": [
    "# How many photospacers are in the negative control list?\n",
    "len(negative_control_guide_photospacers)"
   ]
  },
  {
   "cell_type": "code",
   "execution_count": 175,
   "metadata": {},
   "outputs": [
    {
     "data": {
      "text/plain": [
       "set()"
      ]
     },
     "execution_count": 175,
     "metadata": {},
     "output_type": "execute_result"
    }
   ],
   "source": [
    "# What is the difference\n",
    "set(negative_control_guide_photospacers) - set(huangfu_guide_ref[huangfu_guide_ref[\"target\"].isin(negative_control_genes)][\"sequence\"].values)"
   ]
  },
  {
   "cell_type": "code",
   "execution_count": 176,
   "metadata": {},
   "outputs": [
    {
     "data": {
      "text/plain": [
       "(600, 598)"
      ]
     },
     "execution_count": 176,
     "metadata": {},
     "output_type": "execute_result"
    }
   ],
   "source": [
    "# Are their photospacers in the negative control list that are repeated?\n",
    "len(negative_control_guide_photospacers), len(set(negative_control_guide_photospacers))"
   ]
  },
  {
   "cell_type": "code",
   "execution_count": 177,
   "metadata": {},
   "outputs": [
    {
     "data": {
      "text/plain": [
       "GGGCATCCCAACCAAGAAGA    2\n",
       "GCCTATGGTTCATGAGGACA    2\n",
       "GTTTGTGACTAAGTTTATTC    1\n",
       "GCCAATTTATATGAGATTGG    1\n",
       "GTCTCCAATTTATATGAGAT    1\n",
       "                       ..\n",
       "GTCGTCTGAAGAGTCCCATG    1\n",
       "GAGTTGGATTTCATCCTCAT    1\n",
       "GTGACCACACTAAGTAGAGC    1\n",
       "GCATCCAGCTCTACTTAGTG    1\n",
       "GAATGTGGCTATCTTGATGT    1\n",
       "Name: count, Length: 598, dtype: int64"
      ]
     },
     "execution_count": 177,
     "metadata": {},
     "output_type": "execute_result"
    }
   ],
   "source": [
    "# Which negative_control_guide_photospacers are repeated\n",
    "pd.Series(negative_control_guide_photospacers).value_counts()"
   ]
  },
  {
   "cell_type": "code",
   "execution_count": 178,
   "metadata": {},
   "outputs": [
    {
     "data": {
      "text/plain": [
       "18"
      ]
     },
     "execution_count": 178,
     "metadata": {},
     "output_type": "execute_result"
    }
   ],
   "source": [
    "# What about positive controls, should have 19?\n",
    "huangfu_guide_ref[\"target\"].isin(positive_control_genes).sum()"
   ]
  },
  {
   "cell_type": "code",
   "execution_count": 179,
   "metadata": {},
   "outputs": [
    {
     "data": {
      "text/plain": [
       "{'CD29'}"
      ]
     },
     "execution_count": 179,
     "metadata": {},
     "output_type": "execute_result"
    }
   ],
   "source": [
    "# What's the difference\n",
    "set(positive_control_genes).difference(huangfu_guide_ref[\"target\"])"
   ]
  },
  {
   "cell_type": "code",
   "execution_count": 180,
   "metadata": {},
   "outputs": [
    {
     "data": {
      "text/html": [
       "<div>\n",
       "<style scoped>\n",
       "    .dataframe tbody tr th:only-of-type {\n",
       "        vertical-align: middle;\n",
       "    }\n",
       "\n",
       "    .dataframe tbody tr th {\n",
       "        vertical-align: top;\n",
       "    }\n",
       "\n",
       "    .dataframe thead th {\n",
       "        text-align: right;\n",
       "    }\n",
       "</style>\n",
       "<table border=\"1\" class=\"dataframe\">\n",
       "  <thead>\n",
       "    <tr style=\"text-align: right;\">\n",
       "      <th></th>\n",
       "      <th>id</th>\n",
       "      <th>name</th>\n",
       "      <th>read</th>\n",
       "      <th>pattern</th>\n",
       "      <th>sequence</th>\n",
       "      <th>feature_type</th>\n",
       "      <th>target</th>\n",
       "    </tr>\n",
       "  </thead>\n",
       "  <tbody>\n",
       "    <tr>\n",
       "      <th>5</th>\n",
       "      <td>ITGB1</td>\n",
       "      <td>ITGB1</td>\n",
       "      <td>R2</td>\n",
       "      <td>(BC)GTTTAAGAGCTAAGCTGGAA</td>\n",
       "      <td>GAGAGGCCCAGCGGGAGTCG</td>\n",
       "      <td>Custom</td>\n",
       "      <td>ITGB1</td>\n",
       "    </tr>\n",
       "  </tbody>\n",
       "</table>\n",
       "</div>"
      ],
      "text/plain": [
       "      id   name read                   pattern              sequence  \\\n",
       "5  ITGB1  ITGB1   R2  (BC)GTTTAAGAGCTAAGCTGGAA  GAGAGGCCCAGCGGGAGTCG   \n",
       "\n",
       "  feature_type target  \n",
       "5       Custom  ITGB1  "
      ]
     },
     "execution_count": 180,
     "metadata": {},
     "output_type": "execute_result"
    }
   ],
   "source": [
    "# Is it becuase CD29 is called ITGB1\n",
    "huangfu_guide_ref[huangfu_guide_ref[\"id\"] == \"ITGB1\"]"
   ]
  },
  {
   "cell_type": "code",
   "execution_count": 181,
   "metadata": {},
   "outputs": [
    {
     "data": {
      "text/plain": [
       "20"
      ]
     },
     "execution_count": 181,
     "metadata": {},
     "output_type": "execute_result"
    }
   ],
   "source": [
    "# add ITGB1 to positive control list\n",
    "if \"ITGB1\" not in positive_control_genes:\n",
    "    positive_control_genes = np.append(positive_control_genes, \"ITGB1\")\n",
    "len(positive_control_genes)"
   ]
  },
  {
   "cell_type": "code",
   "execution_count": 182,
   "metadata": {},
   "outputs": [
    {
     "data": {
      "text/plain": [
       "19"
      ]
     },
     "execution_count": 182,
     "metadata": {},
     "output_type": "execute_result"
    }
   ],
   "source": [
    "# What about positive controls, should have 19?\n",
    "huangfu_guide_ref[\"target\"].isin(positive_control_genes).sum()"
   ]
  },
  {
   "cell_type": "code",
   "execution_count": 183,
   "metadata": {},
   "outputs": [
    {
     "name": "stdout",
     "output_type": "stream",
     "text": [
      "type\n",
      "targeting           13147\n",
      "non_targeting         600\n",
      "negative_control      598\n",
      "positive_control       19\n",
      "Name: count, dtype: int64\n"
     ]
    }
   ],
   "source": [
    "# Final thing: annotated types of guides\n",
    "# 1. If it starts with \"non-targeting\", it's a non-targeting guide\n",
    "# 2. If it starts with \"OR\", it's a negative control\n",
    "# 3. If its in the positive control list, it's a positive control\n",
    "# 4. Otherwise its a targeting guide\n",
    "def annotate_guide_type_huangfu(row):\n",
    "    if row[\"id\"].startswith(\"non-targeting\"):\n",
    "        return \"non_targeting\"\n",
    "    elif row[\"id\"].startswith(\"OR\"):\n",
    "        return \"negative_control\"\n",
    "    elif row[\"target\"] in positive_control_genes:\n",
    "        return \"positive_control\"\n",
    "    else:\n",
    "        return \"targeting\"\n",
    "    \n",
    "huangfu_guide_ref[\"type\"] = huangfu_guide_ref.apply(annotate_guide_type_huangfu, axis=1)\n",
    "guide_type_counts = huangfu_guide_ref[\"type\"].value_counts()\n",
    "print(guide_type_counts)"
   ]
  },
  {
   "cell_type": "markdown",
   "metadata": {},
   "source": [
    "# Hon annotations"
   ]
  },
  {
   "cell_type": "code",
   "execution_count": 184,
   "metadata": {},
   "outputs": [
    {
     "name": "stdout",
     "output_type": "stream",
     "text": [
      "Total guides in Hon lab reference: 14358\n"
     ]
    }
   ],
   "source": [
    "# Read Hon lab guide reference\n",
    "hon_guide_ref = pd.read_csv(path_hon_guide_ref, sep=\"\\t\")\n",
    "hon_guide_ref[\"protospacer_upper\"] = hon_guide_ref[\"protospacer\"].str.upper()  # create protospacer_upper column\n",
    "print(f\"Total guides in Hon lab reference: {hon_guide_ref.shape[0]}\")"
   ]
  },
  {
   "cell_type": "code",
   "execution_count": 185,
   "metadata": {},
   "outputs": [
    {
     "data": {
      "text/html": [
       "<div>\n",
       "<style scoped>\n",
       "    .dataframe tbody tr th:only-of-type {\n",
       "        vertical-align: middle;\n",
       "    }\n",
       "\n",
       "    .dataframe tbody tr th {\n",
       "        vertical-align: top;\n",
       "    }\n",
       "\n",
       "    .dataframe thead th {\n",
       "        text-align: right;\n",
       "    }\n",
       "</style>\n",
       "<table border=\"1\" class=\"dataframe\">\n",
       "  <thead>\n",
       "    <tr style=\"text-align: right;\">\n",
       "      <th></th>\n",
       "      <th>protospacer_ID</th>\n",
       "      <th>protospacer</th>\n",
       "      <th>intended_target_name</th>\n",
       "      <th>type</th>\n",
       "      <th>genomic_element</th>\n",
       "      <th>reverse_compliment</th>\n",
       "      <th>protospacer_upper</th>\n",
       "    </tr>\n",
       "  </thead>\n",
       "  <tbody>\n",
       "    <tr>\n",
       "      <th>count</th>\n",
       "      <td>14358</td>\n",
       "      <td>14358</td>\n",
       "      <td>14358</td>\n",
       "      <td>14358</td>\n",
       "      <td>14358</td>\n",
       "      <td>14358</td>\n",
       "      <td>14358</td>\n",
       "    </tr>\n",
       "    <tr>\n",
       "      <th>unique</th>\n",
       "      <td>14358</td>\n",
       "      <td>14358</td>\n",
       "      <td>2087</td>\n",
       "      <td>2</td>\n",
       "      <td>1</td>\n",
       "      <td>14358</td>\n",
       "      <td>14358</td>\n",
       "    </tr>\n",
       "    <tr>\n",
       "      <th>top</th>\n",
       "      <td>DNAJC19_ B</td>\n",
       "      <td>GGGAACTCCTGTAAGGTCAG</td>\n",
       "      <td>non-targeting</td>\n",
       "      <td>targeting</td>\n",
       "      <td>promoter</td>\n",
       "      <td>CTGACCTTACAGGAGTTCCC</td>\n",
       "      <td>GGGAACTCCTGTAAGGTCAG</td>\n",
       "    </tr>\n",
       "    <tr>\n",
       "      <th>freq</th>\n",
       "      <td>1</td>\n",
       "      <td>1</td>\n",
       "      <td>600</td>\n",
       "      <td>13758</td>\n",
       "      <td>14358</td>\n",
       "      <td>1</td>\n",
       "      <td>1</td>\n",
       "    </tr>\n",
       "  </tbody>\n",
       "</table>\n",
       "</div>"
      ],
      "text/plain": [
       "       protospacer_ID           protospacer intended_target_name       type  \\\n",
       "count           14358                 14358                14358      14358   \n",
       "unique          14358                 14358                 2087          2   \n",
       "top        DNAJC19_ B  GGGAACTCCTGTAAGGTCAG        non-targeting  targeting   \n",
       "freq                1                     1                  600      13758   \n",
       "\n",
       "       genomic_element    reverse_compliment     protospacer_upper  \n",
       "count            14358                 14358                 14358  \n",
       "unique               1                 14358                 14358  \n",
       "top           promoter  CTGACCTTACAGGAGTTCCC  GGGAACTCCTGTAAGGTCAG  \n",
       "freq             14358                     1                     1  "
      ]
     },
     "execution_count": 185,
     "metadata": {},
     "output_type": "execute_result"
    }
   ],
   "source": [
    "# Describe the dataframes\n",
    "hon_guide_ref.describe()"
   ]
  },
  {
   "cell_type": "code",
   "execution_count": 186,
   "metadata": {},
   "outputs": [
    {
     "data": {
      "text/plain": [
       "type\n",
       "targeting        13758\n",
       "non-targeting      600\n",
       "Name: count, dtype: int64"
      ]
     },
     "execution_count": 186,
     "metadata": {},
     "output_type": "execute_result"
    }
   ],
   "source": [
    "#. Check the types of guides in the Hon lab reference\n",
    "hon_guide_ref[\"type\"].value_counts()"
   ]
  },
  {
   "cell_type": "code",
   "execution_count": 187,
   "metadata": {},
   "outputs": [
    {
     "data": {
      "text/plain": [
       "600"
      ]
     },
     "execution_count": 187,
     "metadata": {},
     "output_type": "execute_result"
    }
   ],
   "source": [
    "# how many ids start with non-targeting\n",
    "hon_guide_ref[\"protospacer_ID\"].str.startswith(\"non-targeting\").sum()"
   ]
  },
  {
   "cell_type": "code",
   "execution_count": 188,
   "metadata": {},
   "outputs": [
    {
     "name": "stdout",
     "output_type": "stream",
     "text": [
      "Non-targeting guides in hon reference: 600\n",
      "Do non-targeting guides match? True\n"
     ]
    }
   ],
   "source": [
    "# are these the same as the non_targeting_ids?\n",
    "non_targeting_ids_in_hon = hon_guide_ref[hon_guide_ref[\"protospacer_ID\"].isin(non_targeting_ids)]\n",
    "print(f\"Non-targeting guides in hon reference: {non_targeting_ids_in_hon.shape[0]}\")\n",
    "non_targeting_match = non_targeting_ids_in_hon[\"protospacer_ID\"].isin(non_targeting_ids)\n",
    "print(f\"Do non-targeting guides match? {non_targeting_match.all()}\")"
   ]
  },
  {
   "cell_type": "code",
   "execution_count": 189,
   "metadata": {},
   "outputs": [
    {
     "data": {
      "image/png": "[encoded data removed]",
      "text/plain": [
       "<Figure size 800x600 with 1 Axes>"
      ]
     },
     "metadata": {},
     "output_type": "display_data"
    }
   ],
   "source": [
    "# Plot a \n",
    "with sns.plotting_context(\"notebook\", font_scale=1.5):\n",
    "    plt.figure(figsize=(8, 6))\n",
    "    hon_guide_ref[\"intended_target_name\"].value_counts().value_counts().plot(kind='bar')\n",
    "    # put numbers above bars\n",
    "    for i, v in enumerate(hon_guide_ref[\"intended_target_name\"].value_counts().value_counts()):\n",
    "        plt.text(i, v + 0.5, str(v), ha='center', va='bottom')\n",
    "    plt.xlabel(\"Number of guides per gene\")\n",
    "    plt.ylabel(\"Number of genes\")\n",
    "    plt.title(\"Distribution of the number of guides per gene in hon lab reference\")\n",
    "    plt.show()"
   ]
  },
  {
   "cell_type": "code",
   "execution_count": 190,
   "metadata": {},
   "outputs": [
    {
     "data": {
      "text/plain": [
       "598"
      ]
     },
     "execution_count": 190,
     "metadata": {},
     "output_type": "execute_result"
    }
   ],
   "source": [
    "# How many guides target a gene in the negative control list? Should be 600 (we have 100 targets with 6 guides each)\n",
    "hon_guide_ref[\"intended_target_name\"].isin(negative_control_genes).sum()"
   ]
  },
  {
   "cell_type": "code",
   "execution_count": 191,
   "metadata": {},
   "outputs": [
    {
     "data": {
      "text/plain": [
       "598"
      ]
     },
     "execution_count": 191,
     "metadata": {},
     "output_type": "execute_result"
    }
   ],
   "source": [
    "# how many ids start with \"OR\", should ideally be same as above\n",
    "hon_guide_ref[\"intended_target_name\"].str.startswith(\"OR\").sum()"
   ]
  },
  {
   "cell_type": "code",
   "execution_count": 192,
   "metadata": {},
   "outputs": [
    {
     "name": "stdout",
     "output_type": "stream",
     "text": [
      "Negative control guides in Hon reference: 598\n",
      "Do negative control guides match? True\n"
     ]
    }
   ],
   "source": [
    "# Are these two the same?\n",
    "negative_control_ids_in_hon = hon_guide_ref[hon_guide_ref[\"intended_target_name\"].isin(negative_control_genes)]\n",
    "print(f\"Negative control guides in Hon reference: {negative_control_ids_in_hon.shape[0]}\")\n",
    "negative_control_match = negative_control_ids_in_hon[\"intended_target_name\"].isin(negative_control_genes)\n",
    "print(f\"Do negative control guides match? {negative_control_match.all()}\")"
   ]
  },
  {
   "cell_type": "code",
   "execution_count": 193,
   "metadata": {},
   "outputs": [
    {
     "data": {
      "text/plain": [
       "set()"
      ]
     },
     "execution_count": 193,
     "metadata": {},
     "output_type": "execute_result"
    }
   ],
   "source": [
    "# Are we missing any negative control genes? Or are there just some missing guides\n",
    "set(negative_control_genes).difference(hon_guide_ref[\"intended_target_name\"])"
   ]
  },
  {
   "cell_type": "code",
   "execution_count": 194,
   "metadata": {},
   "outputs": [
    {
     "data": {
      "text/plain": [
       "600"
      ]
     },
     "execution_count": 194,
     "metadata": {},
     "output_type": "execute_result"
    }
   ],
   "source": [
    "# How many photospacers are in the negative control list?\n",
    "len(negative_control_guide_photospacers)"
   ]
  },
  {
   "cell_type": "code",
   "execution_count": 195,
   "metadata": {},
   "outputs": [
    {
     "data": {
      "text/plain": [
       "set()"
      ]
     },
     "execution_count": 195,
     "metadata": {},
     "output_type": "execute_result"
    }
   ],
   "source": [
    "# What is the difference\n",
    "set(negative_control_guide_photospacers) - set(hon_guide_ref[hon_guide_ref[\"intended_target_name\"].isin(negative_control_genes)][\"protospacer_upper\"].values)"
   ]
  },
  {
   "cell_type": "code",
   "execution_count": 196,
   "metadata": {},
   "outputs": [
    {
     "data": {
      "text/plain": [
       "(600, 598)"
      ]
     },
     "execution_count": 196,
     "metadata": {},
     "output_type": "execute_result"
    }
   ],
   "source": [
    "# Are their photospacers in the negative control list that are repeated?\n",
    "len(negative_control_guide_photospacers), len(set(negative_control_guide_photospacers))"
   ]
  },
  {
   "cell_type": "code",
   "execution_count": 197,
   "metadata": {},
   "outputs": [
    {
     "data": {
      "text/plain": [
       "GGGCATCCCAACCAAGAAGA    2\n",
       "GCCTATGGTTCATGAGGACA    2\n",
       "GTTTGTGACTAAGTTTATTC    1\n",
       "GCCAATTTATATGAGATTGG    1\n",
       "GTCTCCAATTTATATGAGAT    1\n",
       "                       ..\n",
       "GTCGTCTGAAGAGTCCCATG    1\n",
       "GAGTTGGATTTCATCCTCAT    1\n",
       "GTGACCACACTAAGTAGAGC    1\n",
       "GCATCCAGCTCTACTTAGTG    1\n",
       "GAATGTGGCTATCTTGATGT    1\n",
       "Name: count, Length: 598, dtype: int64"
      ]
     },
     "execution_count": 197,
     "metadata": {},
     "output_type": "execute_result"
    }
   ],
   "source": [
    "# Which negative_control_guide_photospacers are repeated\n",
    "pd.Series(negative_control_guide_photospacers).value_counts()"
   ]
  },
  {
   "cell_type": "code",
   "execution_count": 198,
   "metadata": {},
   "outputs": [
    {
     "data": {
      "text/plain": [
       "19"
      ]
     },
     "execution_count": 198,
     "metadata": {},
     "output_type": "execute_result"
    }
   ],
   "source": [
    "# What about positive controls, should have 19?\n",
    "hon_guide_ref[\"intended_target_name\"].isin(positive_control_genes).sum()"
   ]
  },
  {
   "cell_type": "code",
   "execution_count": 199,
   "metadata": {},
   "outputs": [
    {
     "data": {
      "text/plain": [
       "{'ITGB1'}"
      ]
     },
     "execution_count": 199,
     "metadata": {},
     "output_type": "execute_result"
    }
   ],
   "source": [
    "# What's the difference\n",
    "set(positive_control_genes).difference(hon_guide_ref[\"intended_target_name\"])"
   ]
  },
  {
   "cell_type": "code",
   "execution_count": 200,
   "metadata": {},
   "outputs": [
    {
     "data": {
      "text/html": [
       "<div>\n",
       "<style scoped>\n",
       "    .dataframe tbody tr th:only-of-type {\n",
       "        vertical-align: middle;\n",
       "    }\n",
       "\n",
       "    .dataframe tbody tr th {\n",
       "        vertical-align: top;\n",
       "    }\n",
       "\n",
       "    .dataframe thead th {\n",
       "        text-align: right;\n",
       "    }\n",
       "</style>\n",
       "<table border=\"1\" class=\"dataframe\">\n",
       "  <thead>\n",
       "    <tr style=\"text-align: right;\">\n",
       "      <th></th>\n",
       "      <th>protospacer_ID</th>\n",
       "      <th>protospacer</th>\n",
       "      <th>intended_target_name</th>\n",
       "      <th>type</th>\n",
       "      <th>genomic_element</th>\n",
       "      <th>reverse_compliment</th>\n",
       "      <th>protospacer_upper</th>\n",
       "    </tr>\n",
       "  </thead>\n",
       "  <tbody>\n",
       "  </tbody>\n",
       "</table>\n",
       "</div>"
      ],
      "text/plain": [
       "Empty DataFrame\n",
       "Columns: [protospacer_ID, protospacer, intended_target_name, type, genomic_element, reverse_compliment, protospacer_upper]\n",
       "Index: []"
      ]
     },
     "execution_count": 200,
     "metadata": {},
     "output_type": "execute_result"
    }
   ],
   "source": [
    "# Is it becuase CD29 is called ITGB1\n",
    "hon_guide_ref[hon_guide_ref[\"protospacer_ID\"] == \"ITGB1\"]"
   ]
  },
  {
   "cell_type": "code",
   "execution_count": 201,
   "metadata": {},
   "outputs": [
    {
     "data": {
      "text/plain": [
       "20"
      ]
     },
     "execution_count": 201,
     "metadata": {},
     "output_type": "execute_result"
    }
   ],
   "source": [
    "# add ITGB1 to positive control list\n",
    "if \"ITGB1\" not in positive_control_genes:\n",
    "    positive_control_genes = np.append(positive_control_genes, \"ITGB1\")\n",
    "len(positive_control_genes)"
   ]
  },
  {
   "cell_type": "code",
   "execution_count": 202,
   "metadata": {},
   "outputs": [
    {
     "data": {
      "text/plain": [
       "19"
      ]
     },
     "execution_count": 202,
     "metadata": {},
     "output_type": "execute_result"
    }
   ],
   "source": [
    "# What about positive controls, should have 19?\n",
    "hon_guide_ref[\"intended_target_name\"].isin(positive_control_genes).sum()"
   ]
  },
  {
   "cell_type": "code",
   "execution_count": 203,
   "metadata": {},
   "outputs": [
    {
     "name": "stdout",
     "output_type": "stream",
     "text": [
      "type\n",
      "targeting           13141\n",
      "non_targeting         600\n",
      "negative_control      598\n",
      "positive_control       19\n",
      "Name: count, dtype: int64\n"
     ]
    }
   ],
   "source": [
    "# Final thing: annotated types of guides\n",
    "# 1. If it starts with \"non-targeting\", it's a non-targeting guide\n",
    "# 2. If it starts with \"OR\", it's a negative control\n",
    "# 3. If its in the positive control list, it's a positive control\n",
    "# 4. Otherwise its a targeting guide\n",
    "def annotate_guide_type_hon(row):\n",
    "    if row[\"protospacer_ID\"].startswith(\"non-targeting\"):\n",
    "        return \"non_targeting\"\n",
    "    elif row[\"protospacer_ID\"].startswith(\"OR\"):\n",
    "        return \"negative_control\"\n",
    "    elif row[\"intended_target_name\"] in positive_control_genes:\n",
    "        return \"positive_control\"\n",
    "    else:\n",
    "        return \"targeting\"\n",
    "    \n",
    "hon_guide_ref[\"type\"] = hon_guide_ref.apply(annotate_guide_type_hon, axis=1)\n",
    "guide_type_counts = hon_guide_ref[\"type\"].value_counts()\n",
    "print(guide_type_counts)"
   ]
  },
  {
   "cell_type": "markdown",
   "metadata": {},
   "source": [
    "# Create master guide reference"
   ]
  },
  {
   "cell_type": "code",
   "execution_count": 204,
   "metadata": {},
   "outputs": [
    {
     "data": {
      "text/plain": [
       "14358"
      ]
     },
     "execution_count": 204,
     "metadata": {},
     "output_type": "execute_result"
    }
   ],
   "source": [
    "# How many map\n",
    "hon_guide_ref[\"protospacer\"].str.upper().isin(huangfu_guide_ref[\"sequence\"]).sum()"
   ]
  },
  {
   "cell_type": "code",
   "execution_count": 205,
   "metadata": {},
   "outputs": [
    {
     "data": {
      "text/html": [
       "<div>\n",
       "<style scoped>\n",
       "    .dataframe tbody tr th:only-of-type {\n",
       "        vertical-align: middle;\n",
       "    }\n",
       "\n",
       "    .dataframe tbody tr th {\n",
       "        vertical-align: top;\n",
       "    }\n",
       "\n",
       "    .dataframe thead th {\n",
       "        text-align: right;\n",
       "    }\n",
       "</style>\n",
       "<table border=\"1\" class=\"dataframe\">\n",
       "  <thead>\n",
       "    <tr style=\"text-align: right;\">\n",
       "      <th></th>\n",
       "      <th>protospacer_ID</th>\n",
       "      <th>protospacer</th>\n",
       "      <th>intended_target_name</th>\n",
       "      <th>type_hon</th>\n",
       "      <th>genomic_element</th>\n",
       "      <th>reverse_compliment</th>\n",
       "      <th>protospacer_upper</th>\n",
       "      <th>id</th>\n",
       "      <th>name</th>\n",
       "      <th>read</th>\n",
       "      <th>pattern</th>\n",
       "      <th>sequence</th>\n",
       "      <th>feature_type</th>\n",
       "      <th>target</th>\n",
       "      <th>type_huangfu</th>\n",
       "    </tr>\n",
       "  </thead>\n",
       "  <tbody>\n",
       "    <tr>\n",
       "      <th>0</th>\n",
       "      <td>OR5K2-2</td>\n",
       "      <td>GAAAAAATTGTAGAGGAATA</td>\n",
       "      <td>OR5K2</td>\n",
       "      <td>negative_control</td>\n",
       "      <td>promoter</td>\n",
       "      <td>TATTCCTCTACAATTTTTTC</td>\n",
       "      <td>GAAAAAATTGTAGAGGAATA</td>\n",
       "      <td>OR5K2_2</td>\n",
       "      <td>OR5K2</td>\n",
       "      <td>R2</td>\n",
       "      <td>(BC)GTTTAAGAGCTAAGCTGGAA</td>\n",
       "      <td>GAAAAAATTGTAGAGGAATA</td>\n",
       "      <td>Custom</td>\n",
       "      <td>OR5K2</td>\n",
       "      <td>negative_control</td>\n",
       "    </tr>\n",
       "    <tr>\n",
       "      <th>1</th>\n",
       "      <td>SP1_+_53773993.23-P1P2-1</td>\n",
       "      <td>GAAAAACGCGGACGCTGACG</td>\n",
       "      <td>SP1</td>\n",
       "      <td>targeting</td>\n",
       "      <td>promoter</td>\n",
       "      <td>CGTCAGCGTCCGCGTTTTTC</td>\n",
       "      <td>GAAAAACGCGGACGCTGACG</td>\n",
       "      <td>SP1_1</td>\n",
       "      <td>SP1</td>\n",
       "      <td>R2</td>\n",
       "      <td>(BC)GTTTAAGAGCTAAGCTGGAA</td>\n",
       "      <td>GAAAAACGCGGACGCTGACG</td>\n",
       "      <td>Custom</td>\n",
       "      <td>SP1</td>\n",
       "      <td>targeting</td>\n",
       "    </tr>\n",
       "    <tr>\n",
       "      <th>2</th>\n",
       "      <td>SP8_-_20826141.23-P1P2-2</td>\n",
       "      <td>GAAAAAGATCCTCTGAGAGG</td>\n",
       "      <td>SP8</td>\n",
       "      <td>targeting</td>\n",
       "      <td>promoter</td>\n",
       "      <td>CCTCTCAGAGGATCTTTTTC</td>\n",
       "      <td>GAAAAAGATCCTCTGAGAGG</td>\n",
       "      <td>SP8_4</td>\n",
       "      <td>SP8</td>\n",
       "      <td>R2</td>\n",
       "      <td>(BC)GTTTAAGAGCTAAGCTGGAA</td>\n",
       "      <td>GAAAAAGATCCTCTGAGAGG</td>\n",
       "      <td>Custom</td>\n",
       "      <td>SP8</td>\n",
       "      <td>targeting</td>\n",
       "    </tr>\n",
       "    <tr>\n",
       "      <th>3</th>\n",
       "      <td>FOXN3_-_89883583.23-P2-1</td>\n",
       "      <td>GAAAAAGGCGACACATGACC</td>\n",
       "      <td>FOXN3</td>\n",
       "      <td>targeting</td>\n",
       "      <td>promoter</td>\n",
       "      <td>GGTCATGTGTCGCCTTTTTC</td>\n",
       "      <td>GAAAAAGGCGACACATGACC</td>\n",
       "      <td>FOXN3_P2_3</td>\n",
       "      <td>FOXN3_P2</td>\n",
       "      <td>R2</td>\n",
       "      <td>(BC)GTTTAAGAGCTAAGCTGGAA</td>\n",
       "      <td>GAAAAAGGCGACACATGACC</td>\n",
       "      <td>Custom</td>\n",
       "      <td>FOXN3</td>\n",
       "      <td>targeting</td>\n",
       "    </tr>\n",
       "    <tr>\n",
       "      <th>4</th>\n",
       "      <td>ZNF85_+_21106076.23-P1P2-1</td>\n",
       "      <td>GAAAACAAGACCTAGAGCTC</td>\n",
       "      <td>ZNF85</td>\n",
       "      <td>targeting</td>\n",
       "      <td>promoter</td>\n",
       "      <td>GAGCTCTAGGTCTTGTTTTC</td>\n",
       "      <td>GAAAACAAGACCTAGAGCTC</td>\n",
       "      <td>ZNF85_3</td>\n",
       "      <td>ZNF85</td>\n",
       "      <td>R2</td>\n",
       "      <td>(BC)GTTTAAGAGCTAAGCTGGAA</td>\n",
       "      <td>GAAAACAAGACCTAGAGCTC</td>\n",
       "      <td>Custom</td>\n",
       "      <td>ZNF85</td>\n",
       "      <td>targeting</td>\n",
       "    </tr>\n",
       "    <tr>\n",
       "      <th>...</th>\n",
       "      <td>...</td>\n",
       "      <td>...</td>\n",
       "      <td>...</td>\n",
       "      <td>...</td>\n",
       "      <td>...</td>\n",
       "      <td>...</td>\n",
       "      <td>...</td>\n",
       "      <td>...</td>\n",
       "      <td>...</td>\n",
       "      <td>...</td>\n",
       "      <td>...</td>\n",
       "      <td>...</td>\n",
       "      <td>...</td>\n",
       "      <td>...</td>\n",
       "      <td>...</td>\n",
       "    </tr>\n",
       "    <tr>\n",
       "      <th>14359</th>\n",
       "      <td>SH3D19_-_152147401.23-P2-2</td>\n",
       "      <td>GTTTTGAGCTGAGTAATCTG</td>\n",
       "      <td>SH3D19</td>\n",
       "      <td>targeting</td>\n",
       "      <td>promoter</td>\n",
       "      <td>CAGATTACTCAGCTCAAAAC</td>\n",
       "      <td>GTTTTGAGCTGAGTAATCTG</td>\n",
       "      <td>SH3D19_P2_4</td>\n",
       "      <td>SH3D19_P2</td>\n",
       "      <td>R2</td>\n",
       "      <td>(BC)GTTTAAGAGCTAAGCTGGAA</td>\n",
       "      <td>GTTTTGAGCTGAGTAATCTG</td>\n",
       "      <td>Custom</td>\n",
       "      <td>SH3D19</td>\n",
       "      <td>targeting</td>\n",
       "    </tr>\n",
       "    <tr>\n",
       "      <th>14360</th>\n",
       "      <td>ZNF532_-_56532303.23-P1-2</td>\n",
       "      <td>GTTTTGGCTGCCATGAAGGG</td>\n",
       "      <td>ZNF532</td>\n",
       "      <td>targeting</td>\n",
       "      <td>promoter</td>\n",
       "      <td>CCCTTCATGGCAGCCAAAAC</td>\n",
       "      <td>GTTTTGGCTGCCATGAAGGG</td>\n",
       "      <td>ZNF532_P1_4</td>\n",
       "      <td>ZNF532_P1</td>\n",
       "      <td>R2</td>\n",
       "      <td>(BC)GTTTAAGAGCTAAGCTGGAA</td>\n",
       "      <td>GTTTTGGCTGCCATGAAGGG</td>\n",
       "      <td>Custom</td>\n",
       "      <td>ZNF532</td>\n",
       "      <td>targeting</td>\n",
       "    </tr>\n",
       "    <tr>\n",
       "      <th>14361</th>\n",
       "      <td>ZNF829_-_37406927.23-P1P2-2</td>\n",
       "      <td>GTTTTGGTCCCCAGGAGAAC</td>\n",
       "      <td>ZNF829</td>\n",
       "      <td>targeting</td>\n",
       "      <td>promoter</td>\n",
       "      <td>GTTCTCCTGGGGACCAAAAC</td>\n",
       "      <td>GTTTTGGTCCCCAGGAGAAC</td>\n",
       "      <td>ZNF829_4</td>\n",
       "      <td>ZNF829</td>\n",
       "      <td>R2</td>\n",
       "      <td>(BC)GTTTAAGAGCTAAGCTGGAA</td>\n",
       "      <td>GTTTTGGTCCCCAGGAGAAC</td>\n",
       "      <td>Custom</td>\n",
       "      <td>ZNF829</td>\n",
       "      <td>targeting</td>\n",
       "    </tr>\n",
       "    <tr>\n",
       "      <th>14362</th>\n",
       "      <td>NANOG_+_7942459.23-P1P2-2</td>\n",
       "      <td>GTTTTTCCATTATAACTTGG</td>\n",
       "      <td>NANOG</td>\n",
       "      <td>targeting</td>\n",
       "      <td>promoter</td>\n",
       "      <td>CCAAGTTATAATGGAAAAAC</td>\n",
       "      <td>GTTTTTCCATTATAACTTGG</td>\n",
       "      <td>NANOG_6</td>\n",
       "      <td>NANOG</td>\n",
       "      <td>R2</td>\n",
       "      <td>(BC)GTTTAAGAGCTAAGCTGGAA</td>\n",
       "      <td>GTTTTTCCATTATAACTTGG</td>\n",
       "      <td>Custom</td>\n",
       "      <td>NANOG</td>\n",
       "      <td>targeting</td>\n",
       "    </tr>\n",
       "    <tr>\n",
       "      <th>14363</th>\n",
       "      <td>OR8B3-5</td>\n",
       "      <td>GTTTTTGTCTTCAAAAATCT</td>\n",
       "      <td>OR8B3</td>\n",
       "      <td>negative_control</td>\n",
       "      <td>promoter</td>\n",
       "      <td>AGATTTTTGAAGACAAAAAC</td>\n",
       "      <td>GTTTTTGTCTTCAAAAATCT</td>\n",
       "      <td>OR8B3_5</td>\n",
       "      <td>OR8B3</td>\n",
       "      <td>R2</td>\n",
       "      <td>(BC)GTTTAAGAGCTAAGCTGGAA</td>\n",
       "      <td>GTTTTTGTCTTCAAAAATCT</td>\n",
       "      <td>Custom</td>\n",
       "      <td>OR8B3</td>\n",
       "      <td>negative_control</td>\n",
       "    </tr>\n",
       "  </tbody>\n",
       "</table>\n",
       "<p>14364 rows × 15 columns</p>\n",
       "</div>"
      ],
      "text/plain": [
       "                    protospacer_ID           protospacer intended_target_name  \\\n",
       "0                          OR5K2-2  GAAAAAATTGTAGAGGAATA                OR5K2   \n",
       "1         SP1_+_53773993.23-P1P2-1  GAAAAACGCGGACGCTGACG                  SP1   \n",
       "2         SP8_-_20826141.23-P1P2-2  GAAAAAGATCCTCTGAGAGG                  SP8   \n",
       "3         FOXN3_-_89883583.23-P2-1  GAAAAAGGCGACACATGACC                FOXN3   \n",
       "4       ZNF85_+_21106076.23-P1P2-1  GAAAACAAGACCTAGAGCTC                ZNF85   \n",
       "...                            ...                   ...                  ...   \n",
       "14359   SH3D19_-_152147401.23-P2-2  GTTTTGAGCTGAGTAATCTG               SH3D19   \n",
       "14360    ZNF532_-_56532303.23-P1-2  GTTTTGGCTGCCATGAAGGG               ZNF532   \n",
       "14361  ZNF829_-_37406927.23-P1P2-2  GTTTTGGTCCCCAGGAGAAC               ZNF829   \n",
       "14362    NANOG_+_7942459.23-P1P2-2  GTTTTTCCATTATAACTTGG                NANOG   \n",
       "14363                      OR8B3-5  GTTTTTGTCTTCAAAAATCT                OR8B3   \n",
       "\n",
       "               type_hon genomic_element    reverse_compliment  \\\n",
       "0      negative_control        promoter  TATTCCTCTACAATTTTTTC   \n",
       "1             targeting        promoter  CGTCAGCGTCCGCGTTTTTC   \n",
       "2             targeting        promoter  CCTCTCAGAGGATCTTTTTC   \n",
       "3             targeting        promoter  GGTCATGTGTCGCCTTTTTC   \n",
       "4             targeting        promoter  GAGCTCTAGGTCTTGTTTTC   \n",
       "...                 ...             ...                   ...   \n",
       "14359         targeting        promoter  CAGATTACTCAGCTCAAAAC   \n",
       "14360         targeting        promoter  CCCTTCATGGCAGCCAAAAC   \n",
       "14361         targeting        promoter  GTTCTCCTGGGGACCAAAAC   \n",
       "14362         targeting        promoter  CCAAGTTATAATGGAAAAAC   \n",
       "14363  negative_control        promoter  AGATTTTTGAAGACAAAAAC   \n",
       "\n",
       "          protospacer_upper           id       name read  \\\n",
       "0      GAAAAAATTGTAGAGGAATA      OR5K2_2      OR5K2   R2   \n",
       "1      GAAAAACGCGGACGCTGACG        SP1_1        SP1   R2   \n",
       "2      GAAAAAGATCCTCTGAGAGG        SP8_4        SP8   R2   \n",
       "3      GAAAAAGGCGACACATGACC   FOXN3_P2_3   FOXN3_P2   R2   \n",
       "4      GAAAACAAGACCTAGAGCTC      ZNF85_3      ZNF85   R2   \n",
       "...                     ...          ...        ...  ...   \n",
       "14359  GTTTTGAGCTGAGTAATCTG  SH3D19_P2_4  SH3D19_P2   R2   \n",
       "14360  GTTTTGGCTGCCATGAAGGG  ZNF532_P1_4  ZNF532_P1   R2   \n",
       "14361  GTTTTGGTCCCCAGGAGAAC     ZNF829_4     ZNF829   R2   \n",
       "14362  GTTTTTCCATTATAACTTGG      NANOG_6      NANOG   R2   \n",
       "14363  GTTTTTGTCTTCAAAAATCT      OR8B3_5      OR8B3   R2   \n",
       "\n",
       "                        pattern              sequence feature_type  target  \\\n",
       "0      (BC)GTTTAAGAGCTAAGCTGGAA  GAAAAAATTGTAGAGGAATA       Custom   OR5K2   \n",
       "1      (BC)GTTTAAGAGCTAAGCTGGAA  GAAAAACGCGGACGCTGACG       Custom     SP1   \n",
       "2      (BC)GTTTAAGAGCTAAGCTGGAA  GAAAAAGATCCTCTGAGAGG       Custom     SP8   \n",
       "3      (BC)GTTTAAGAGCTAAGCTGGAA  GAAAAAGGCGACACATGACC       Custom   FOXN3   \n",
       "4      (BC)GTTTAAGAGCTAAGCTGGAA  GAAAACAAGACCTAGAGCTC       Custom   ZNF85   \n",
       "...                         ...                   ...          ...     ...   \n",
       "14359  (BC)GTTTAAGAGCTAAGCTGGAA  GTTTTGAGCTGAGTAATCTG       Custom  SH3D19   \n",
       "14360  (BC)GTTTAAGAGCTAAGCTGGAA  GTTTTGGCTGCCATGAAGGG       Custom  ZNF532   \n",
       "14361  (BC)GTTTAAGAGCTAAGCTGGAA  GTTTTGGTCCCCAGGAGAAC       Custom  ZNF829   \n",
       "14362  (BC)GTTTAAGAGCTAAGCTGGAA  GTTTTTCCATTATAACTTGG       Custom   NANOG   \n",
       "14363  (BC)GTTTAAGAGCTAAGCTGGAA  GTTTTTGTCTTCAAAAATCT       Custom   OR8B3   \n",
       "\n",
       "           type_huangfu  \n",
       "0      negative_control  \n",
       "1             targeting  \n",
       "2             targeting  \n",
       "3             targeting  \n",
       "4             targeting  \n",
       "...                 ...  \n",
       "14359         targeting  \n",
       "14360         targeting  \n",
       "14361         targeting  \n",
       "14362         targeting  \n",
       "14363  negative_control  \n",
       "\n",
       "[14364 rows x 15 columns]"
      ]
     },
     "execution_count": 205,
     "metadata": {},
     "output_type": "execute_result"
    }
   ],
   "source": [
    "# merge\n",
    "ref = pd.merge(\n",
    "    hon_guide_ref,\n",
    "    huangfu_guide_ref,\n",
    "    left_on=\"protospacer_upper\",\n",
    "    right_on=\"sequence\",\n",
    "    how=\"outer\",\n",
    "    suffixes=(\"_hon\", \"_huangfu\")\n",
    ")\n",
    "ref"
   ]
  },
  {
   "cell_type": "code",
   "execution_count": 206,
   "metadata": {},
   "outputs": [
    {
     "data": {
      "text/plain": [
       "6"
      ]
     },
     "execution_count": 206,
     "metadata": {},
     "output_type": "execute_result"
    }
   ],
   "source": [
    "# Are there any types that don't match\n",
    "(ref[\"type_hon\"] != ref[\"type_huangfu\"]).sum()"
   ]
  },
  {
   "cell_type": "code",
   "execution_count": 207,
   "metadata": {},
   "outputs": [
    {
     "data": {
      "text/html": [
       "<div>\n",
       "<style scoped>\n",
       "    .dataframe tbody tr th:only-of-type {\n",
       "        vertical-align: middle;\n",
       "    }\n",
       "\n",
       "    .dataframe tbody tr th {\n",
       "        vertical-align: top;\n",
       "    }\n",
       "\n",
       "    .dataframe thead th {\n",
       "        text-align: right;\n",
       "    }\n",
       "</style>\n",
       "<table border=\"1\" class=\"dataframe\">\n",
       "  <thead>\n",
       "    <tr style=\"text-align: right;\">\n",
       "      <th></th>\n",
       "      <th>protospacer_ID</th>\n",
       "      <th>protospacer</th>\n",
       "      <th>intended_target_name</th>\n",
       "      <th>type_hon</th>\n",
       "      <th>genomic_element</th>\n",
       "      <th>reverse_compliment</th>\n",
       "      <th>protospacer_upper</th>\n",
       "      <th>id</th>\n",
       "      <th>name</th>\n",
       "      <th>read</th>\n",
       "      <th>pattern</th>\n",
       "      <th>sequence</th>\n",
       "      <th>feature_type</th>\n",
       "      <th>target</th>\n",
       "      <th>type_huangfu</th>\n",
       "    </tr>\n",
       "  </thead>\n",
       "  <tbody>\n",
       "    <tr>\n",
       "      <th>2221</th>\n",
       "      <td>NaN</td>\n",
       "      <td>NaN</td>\n",
       "      <td>NaN</td>\n",
       "      <td>NaN</td>\n",
       "      <td>NaN</td>\n",
       "      <td>NaN</td>\n",
       "      <td>NaN</td>\n",
       "      <td>GATA6_TSS_6</td>\n",
       "      <td>GATA6_TSS</td>\n",
       "      <td>R2</td>\n",
       "      <td>(BC)GTTTAAGAGCTAAGCTGGAA</td>\n",
       "      <td>GAGTCAAGGCCATCCACGGT</td>\n",
       "      <td>Custom</td>\n",
       "      <td>GATA6</td>\n",
       "      <td>targeting</td>\n",
       "    </tr>\n",
       "    <tr>\n",
       "      <th>3405</th>\n",
       "      <td>NaN</td>\n",
       "      <td>NaN</td>\n",
       "      <td>NaN</td>\n",
       "      <td>NaN</td>\n",
       "      <td>NaN</td>\n",
       "      <td>NaN</td>\n",
       "      <td>NaN</td>\n",
       "      <td>GATA6_TSS_1</td>\n",
       "      <td>GATA6_TSS</td>\n",
       "      <td>R2</td>\n",
       "      <td>(BC)GTTTAAGAGCTAAGCTGGAA</td>\n",
       "      <td>GCAGGGGCCCGCGACGAGTA</td>\n",
       "      <td>Custom</td>\n",
       "      <td>GATA6</td>\n",
       "      <td>targeting</td>\n",
       "    </tr>\n",
       "    <tr>\n",
       "      <th>3417</th>\n",
       "      <td>NaN</td>\n",
       "      <td>NaN</td>\n",
       "      <td>NaN</td>\n",
       "      <td>NaN</td>\n",
       "      <td>NaN</td>\n",
       "      <td>NaN</td>\n",
       "      <td>NaN</td>\n",
       "      <td>GATA6_TSS_3</td>\n",
       "      <td>GATA6_TSS</td>\n",
       "      <td>R2</td>\n",
       "      <td>(BC)GTTTAAGAGCTAAGCTGGAA</td>\n",
       "      <td>GCAGGGTCCGGCCGCCTACG</td>\n",
       "      <td>Custom</td>\n",
       "      <td>GATA6</td>\n",
       "      <td>targeting</td>\n",
       "    </tr>\n",
       "    <tr>\n",
       "      <th>4868</th>\n",
       "      <td>NaN</td>\n",
       "      <td>NaN</td>\n",
       "      <td>NaN</td>\n",
       "      <td>NaN</td>\n",
       "      <td>NaN</td>\n",
       "      <td>NaN</td>\n",
       "      <td>NaN</td>\n",
       "      <td>GATA6_TSS_2</td>\n",
       "      <td>GATA6_TSS</td>\n",
       "      <td>R2</td>\n",
       "      <td>(BC)GTTTAAGAGCTAAGCTGGAA</td>\n",
       "      <td>GCGACGGGTTAACAAGAGCG</td>\n",
       "      <td>Custom</td>\n",
       "      <td>GATA6</td>\n",
       "      <td>targeting</td>\n",
       "    </tr>\n",
       "    <tr>\n",
       "      <th>6882</th>\n",
       "      <td>NaN</td>\n",
       "      <td>NaN</td>\n",
       "      <td>NaN</td>\n",
       "      <td>NaN</td>\n",
       "      <td>NaN</td>\n",
       "      <td>NaN</td>\n",
       "      <td>NaN</td>\n",
       "      <td>GATA6_TSS_4</td>\n",
       "      <td>GATA6_TSS</td>\n",
       "      <td>R2</td>\n",
       "      <td>(BC)GTTTAAGAGCTAAGCTGGAA</td>\n",
       "      <td>GCTTATTGATCTCCACGCCC</td>\n",
       "      <td>Custom</td>\n",
       "      <td>GATA6</td>\n",
       "      <td>targeting</td>\n",
       "    </tr>\n",
       "    <tr>\n",
       "      <th>11203</th>\n",
       "      <td>NaN</td>\n",
       "      <td>NaN</td>\n",
       "      <td>NaN</td>\n",
       "      <td>NaN</td>\n",
       "      <td>NaN</td>\n",
       "      <td>NaN</td>\n",
       "      <td>NaN</td>\n",
       "      <td>GATA6_TSS_5</td>\n",
       "      <td>GATA6_TSS</td>\n",
       "      <td>R2</td>\n",
       "      <td>(BC)GTTTAAGAGCTAAGCTGGAA</td>\n",
       "      <td>GGGTATGGTAGGAGATCGAC</td>\n",
       "      <td>Custom</td>\n",
       "      <td>GATA6</td>\n",
       "      <td>targeting</td>\n",
       "    </tr>\n",
       "  </tbody>\n",
       "</table>\n",
       "</div>"
      ],
      "text/plain": [
       "      protospacer_ID protospacer intended_target_name type_hon  \\\n",
       "2221             NaN         NaN                  NaN      NaN   \n",
       "3405             NaN         NaN                  NaN      NaN   \n",
       "3417             NaN         NaN                  NaN      NaN   \n",
       "4868             NaN         NaN                  NaN      NaN   \n",
       "6882             NaN         NaN                  NaN      NaN   \n",
       "11203            NaN         NaN                  NaN      NaN   \n",
       "\n",
       "      genomic_element reverse_compliment protospacer_upper           id  \\\n",
       "2221              NaN                NaN               NaN  GATA6_TSS_6   \n",
       "3405              NaN                NaN               NaN  GATA6_TSS_1   \n",
       "3417              NaN                NaN               NaN  GATA6_TSS_3   \n",
       "4868              NaN                NaN               NaN  GATA6_TSS_2   \n",
       "6882              NaN                NaN               NaN  GATA6_TSS_4   \n",
       "11203             NaN                NaN               NaN  GATA6_TSS_5   \n",
       "\n",
       "            name read                   pattern              sequence  \\\n",
       "2221   GATA6_TSS   R2  (BC)GTTTAAGAGCTAAGCTGGAA  GAGTCAAGGCCATCCACGGT   \n",
       "3405   GATA6_TSS   R2  (BC)GTTTAAGAGCTAAGCTGGAA  GCAGGGGCCCGCGACGAGTA   \n",
       "3417   GATA6_TSS   R2  (BC)GTTTAAGAGCTAAGCTGGAA  GCAGGGTCCGGCCGCCTACG   \n",
       "4868   GATA6_TSS   R2  (BC)GTTTAAGAGCTAAGCTGGAA  GCGACGGGTTAACAAGAGCG   \n",
       "6882   GATA6_TSS   R2  (BC)GTTTAAGAGCTAAGCTGGAA  GCTTATTGATCTCCACGCCC   \n",
       "11203  GATA6_TSS   R2  (BC)GTTTAAGAGCTAAGCTGGAA  GGGTATGGTAGGAGATCGAC   \n",
       "\n",
       "      feature_type target type_huangfu  \n",
       "2221        Custom  GATA6    targeting  \n",
       "3405        Custom  GATA6    targeting  \n",
       "3417        Custom  GATA6    targeting  \n",
       "4868        Custom  GATA6    targeting  \n",
       "6882        Custom  GATA6    targeting  \n",
       "11203       Custom  GATA6    targeting  "
      ]
     },
     "execution_count": 207,
     "metadata": {},
     "output_type": "execute_result"
    }
   ],
   "source": [
    "# which are these\n",
    "ref[(ref[\"type_hon\"] != ref[\"type_huangfu\"])]"
   ]
  },
  {
   "cell_type": "code",
   "execution_count": null,
   "metadata": {},
   "outputs": [
    {
     "data": {
      "text/html": [
       "<div>\n",
       "<style scoped>\n",
       "    .dataframe tbody tr th:only-of-type {\n",
       "        vertical-align: middle;\n",
       "    }\n",
       "\n",
       "    .dataframe tbody tr th {\n",
       "        vertical-align: top;\n",
       "    }\n",
       "\n",
       "    .dataframe thead th {\n",
       "        text-align: right;\n",
       "    }\n",
       "</style>\n",
       "<table border=\"1\" class=\"dataframe\">\n",
       "  <thead>\n",
       "    <tr style=\"text-align: right;\">\n",
       "      <th></th>\n",
       "      <th>protospacer_ID</th>\n",
       "      <th>protospacer</th>\n",
       "      <th>intended_target_name</th>\n",
       "      <th>genomic_element</th>\n",
       "      <th>reverse_compliment</th>\n",
       "      <th>Huangfu_id</th>\n",
       "      <th>Huangfu_name</th>\n",
       "      <th>type</th>\n",
       "    </tr>\n",
       "  </thead>\n",
       "  <tbody>\n",
       "    <tr>\n",
       "      <th>0</th>\n",
       "      <td>OR5K2-2</td>\n",
       "      <td>GAAAAAATTGTAGAGGAATA</td>\n",
       "      <td>OR5K2</td>\n",
       "      <td>promoter</td>\n",
       "      <td>TATTCCTCTACAATTTTTTC</td>\n",
       "      <td>OR5K2_2</td>\n",
       "      <td>OR5K2</td>\n",
       "      <td>negative_control</td>\n",
       "    </tr>\n",
       "    <tr>\n",
       "      <th>1</th>\n",
       "      <td>SP1_+_53773993.23-P1P2-1</td>\n",
       "      <td>GAAAAACGCGGACGCTGACG</td>\n",
       "      <td>SP1</td>\n",
       "      <td>promoter</td>\n",
       "      <td>CGTCAGCGTCCGCGTTTTTC</td>\n",
       "      <td>SP1_1</td>\n",
       "      <td>SP1</td>\n",
       "      <td>targeting</td>\n",
       "    </tr>\n",
       "    <tr>\n",
       "      <th>2</th>\n",
       "      <td>SP8_-_20826141.23-P1P2-2</td>\n",
       "      <td>GAAAAAGATCCTCTGAGAGG</td>\n",
       "      <td>SP8</td>\n",
       "      <td>promoter</td>\n",
       "      <td>CCTCTCAGAGGATCTTTTTC</td>\n",
       "      <td>SP8_4</td>\n",
       "      <td>SP8</td>\n",
       "      <td>targeting</td>\n",
       "    </tr>\n",
       "    <tr>\n",
       "      <th>3</th>\n",
       "      <td>FOXN3_-_89883583.23-P2-1</td>\n",
       "      <td>GAAAAAGGCGACACATGACC</td>\n",
       "      <td>FOXN3</td>\n",
       "      <td>promoter</td>\n",
       "      <td>GGTCATGTGTCGCCTTTTTC</td>\n",
       "      <td>FOXN3_P2_3</td>\n",
       "      <td>FOXN3_P2</td>\n",
       "      <td>targeting</td>\n",
       "    </tr>\n",
       "    <tr>\n",
       "      <th>4</th>\n",
       "      <td>ZNF85_+_21106076.23-P1P2-1</td>\n",
       "      <td>GAAAACAAGACCTAGAGCTC</td>\n",
       "      <td>ZNF85</td>\n",
       "      <td>promoter</td>\n",
       "      <td>GAGCTCTAGGTCTTGTTTTC</td>\n",
       "      <td>ZNF85_3</td>\n",
       "      <td>ZNF85</td>\n",
       "      <td>targeting</td>\n",
       "    </tr>\n",
       "  </tbody>\n",
       "</table>\n",
       "</div>"
      ],
      "text/plain": [
       "               protospacer_ID           protospacer intended_target_name  \\\n",
       "0                     OR5K2-2  GAAAAAATTGTAGAGGAATA                OR5K2   \n",
       "1    SP1_+_53773993.23-P1P2-1  GAAAAACGCGGACGCTGACG                  SP1   \n",
       "2    SP8_-_20826141.23-P1P2-2  GAAAAAGATCCTCTGAGAGG                  SP8   \n",
       "3    FOXN3_-_89883583.23-P2-1  GAAAAAGGCGACACATGACC                FOXN3   \n",
       "4  ZNF85_+_21106076.23-P1P2-1  GAAAACAAGACCTAGAGCTC                ZNF85   \n",
       "\n",
       "  genomic_element    reverse_compliment  Huangfu_id Huangfu_name  \\\n",
       "0        promoter  TATTCCTCTACAATTTTTTC     OR5K2_2        OR5K2   \n",
       "1        promoter  CGTCAGCGTCCGCGTTTTTC       SP1_1          SP1   \n",
       "2        promoter  CCTCTCAGAGGATCTTTTTC       SP8_4          SP8   \n",
       "3        promoter  GGTCATGTGTCGCCTTTTTC  FOXN3_P2_3     FOXN3_P2   \n",
       "4        promoter  GAGCTCTAGGTCTTGTTTTC     ZNF85_3        ZNF85   \n",
       "\n",
       "               type  \n",
       "0  negative_control  \n",
       "1         targeting  \n",
       "2         targeting  \n",
       "3         targeting  \n",
       "4         targeting  "
      ]
     },
     "execution_count": 210,
     "metadata": {},
     "output_type": "execute_result"
    }
   ],
   "source": [
    "# clean\n",
    "cols_to_keep = hon_guide_ref.columns\n",
    "cols_to_keep = [col for col in cols_to_keep if col not in ['protospacer_upper', 'type']]\n",
    "ref_clean = ref[list(cols_to_keep) + [\"id\", \"name\", \"type_huangfu\"]]\n",
    "ref_clean = ref_clean.rename(columns={\"id\": \"Huangfu_id\", \"name\": \"Huangfu_name\", \"type_huangfu\": \"type\"})\n",
    "ref_clean.head()"
   ]
  },
  {
   "cell_type": "code",
   "execution_count": 211,
   "metadata": {},
   "outputs": [],
   "source": [
    "# save\n",
    "ref_clean.to_csv(\n",
    "    \"/cellar/users/aklie/data/datasets/tf_perturb_seq/ref/sgRNA_id_master.tsv\",\n",
    "    sep=\"\\t\",\n",
    "    index=False,\n",
    "    header=True,\n",
    ")"
   ]
  },
  {
   "cell_type": "markdown",
   "metadata": {},
   "source": [
    "# DONE!"
   ]
  },
  {
   "cell_type": "markdown",
   "metadata": {},
   "source": [
    "---"
   ]
  }
 ],
 "metadata": {
  "kernelspec": {
   "display_name": "Python 3.9 scverse-lite",
   "language": "python",
   "name": "scverse-lite-py39"
  },
  "language_info": {
   "codemirror_mode": {
    "name": "ipython",
    "version": 3
   },
   "file_extension": ".py",
   "mimetype": "text/x-python",
   "name": "python",
   "nbconvert_exporter": "python",
   "pygments_lexer": "ipython3",
   "version": "3.9.18"
  }
 },
 "nbformat": 4,
 "nbformat_minor": 2
}
