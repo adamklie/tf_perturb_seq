{
 "cells": [
  {
   "cell_type": "markdown",
   "metadata": {},
   "source": [
    "# Mapping Guide IDs between labs\n",
    "This notebook describes the current guide annotations provided by the Hon and Huangfu labs, and creates a master list of guide IDs to use for downstream analysis"
   ]
  },
  {
   "cell_type": "markdown",
   "metadata": {},
   "source": [
    "# Set-up"
   ]
  },
  {
   "cell_type": "code",
   "execution_count": 2,
   "metadata": {},
   "outputs": [
    {
     "name": "stdout",
     "output_type": "stream",
     "text": [
      "Requirement already satisfied: pandas in c:\\users\\sarae\\anaconda3\\envs\\sara_env\\lib\\site-packages (2.2.3)\n",
      "Requirement already satisfied: numpy>=1.26.0 in c:\\users\\sarae\\anaconda3\\envs\\sara_env\\lib\\site-packages (from pandas) (2.2.4)\n",
      "Requirement already satisfied: python-dateutil>=2.8.2 in c:\\users\\sarae\\anaconda3\\envs\\sara_env\\lib\\site-packages (from pandas) (2.9.0.post0)\n",
      "Requirement already satisfied: pytz>=2020.1 in c:\\users\\sarae\\anaconda3\\envs\\sara_env\\lib\\site-packages (from pandas) (2024.1)\n",
      "Requirement already satisfied: tzdata>=2022.7 in c:\\users\\sarae\\anaconda3\\envs\\sara_env\\lib\\site-packages (from pandas) (2025.2)\n",
      "Requirement already satisfied: six>=1.5 in c:\\users\\sarae\\anaconda3\\envs\\sara_env\\lib\\site-packages (from python-dateutil>=2.8.2->pandas) (1.17.0)\n",
      "Note: you may need to restart the kernel to use updated packages.\n",
      "Requirement already satisfied: matplotlib in c:\\users\\sarae\\anaconda3\\envs\\sara_env\\lib\\site-packages (3.10.0)\n",
      "Requirement already satisfied: contourpy>=1.0.1 in c:\\users\\sarae\\anaconda3\\envs\\sara_env\\lib\\site-packages (from matplotlib) (1.3.1)\n",
      "Requirement already satisfied: cycler>=0.10 in c:\\users\\sarae\\anaconda3\\envs\\sara_env\\lib\\site-packages (from matplotlib) (0.11.0)\n",
      "Requirement already satisfied: fonttools>=4.22.0 in c:\\users\\sarae\\anaconda3\\envs\\sara_env\\lib\\site-packages (from matplotlib) (4.55.3)\n",
      "Requirement already satisfied: kiwisolver>=1.3.1 in c:\\users\\sarae\\anaconda3\\envs\\sara_env\\lib\\site-packages (from matplotlib) (1.4.8)\n",
      "Requirement already satisfied: numpy>=1.23 in c:\\users\\sarae\\anaconda3\\envs\\sara_env\\lib\\site-packages (from matplotlib) (2.2.4)\n",
      "Requirement already satisfied: packaging>=20.0 in c:\\users\\sarae\\anaconda3\\envs\\sara_env\\lib\\site-packages (from matplotlib) (24.2)\n",
      "Requirement already satisfied: pillow>=8 in c:\\users\\sarae\\anaconda3\\envs\\sara_env\\lib\\site-packages (from matplotlib) (11.1.0)\n",
      "Requirement already satisfied: pyparsing>=2.3.1 in c:\\users\\sarae\\anaconda3\\envs\\sara_env\\lib\\site-packages (from matplotlib) (3.2.0)\n",
      "Requirement already satisfied: python-dateutil>=2.7 in c:\\users\\sarae\\anaconda3\\envs\\sara_env\\lib\\site-packages (from matplotlib) (2.9.0.post0)\n",
      "Requirement already satisfied: six>=1.5 in c:\\users\\sarae\\anaconda3\\envs\\sara_env\\lib\\site-packages (from python-dateutil>=2.7->matplotlib) (1.17.0)\n",
      "Note: you may need to restart the kernel to use updated packages.\n",
      "Requirement already satisfied: numpy in c:\\users\\sarae\\anaconda3\\envs\\sara_env\\lib\\site-packages (2.2.4)\n",
      "Note: you may need to restart the kernel to use updated packages.\n",
      "Requirement already satisfied: seaborn in c:\\users\\sarae\\anaconda3\\envs\\sara_env\\lib\\site-packages (0.13.2)\n",
      "Requirement already satisfied: numpy!=1.24.0,>=1.20 in c:\\users\\sarae\\anaconda3\\envs\\sara_env\\lib\\site-packages (from seaborn) (2.2.4)\n",
      "Requirement already satisfied: pandas>=1.2 in c:\\users\\sarae\\anaconda3\\envs\\sara_env\\lib\\site-packages (from seaborn) (2.2.3)\n",
      "Requirement already satisfied: matplotlib!=3.6.1,>=3.4 in c:\\users\\sarae\\anaconda3\\envs\\sara_env\\lib\\site-packages (from seaborn) (3.10.0)\n",
      "Requirement already satisfied: contourpy>=1.0.1 in c:\\users\\sarae\\anaconda3\\envs\\sara_env\\lib\\site-packages (from matplotlib!=3.6.1,>=3.4->seaborn) (1.3.1)\n",
      "Requirement already satisfied: cycler>=0.10 in c:\\users\\sarae\\anaconda3\\envs\\sara_env\\lib\\site-packages (from matplotlib!=3.6.1,>=3.4->seaborn) (0.11.0)\n",
      "Requirement already satisfied: fonttools>=4.22.0 in c:\\users\\sarae\\anaconda3\\envs\\sara_env\\lib\\site-packages (from matplotlib!=3.6.1,>=3.4->seaborn) (4.55.3)\n",
      "Requirement already satisfied: kiwisolver>=1.3.1 in c:\\users\\sarae\\anaconda3\\envs\\sara_env\\lib\\site-packages (from matplotlib!=3.6.1,>=3.4->seaborn) (1.4.8)\n",
      "Requirement already satisfied: packaging>=20.0 in c:\\users\\sarae\\anaconda3\\envs\\sara_env\\lib\\site-packages (from matplotlib!=3.6.1,>=3.4->seaborn) (24.2)\n",
      "Requirement already satisfied: pillow>=8 in c:\\users\\sarae\\anaconda3\\envs\\sara_env\\lib\\site-packages (from matplotlib!=3.6.1,>=3.4->seaborn) (11.1.0)\n",
      "Requirement already satisfied: pyparsing>=2.3.1 in c:\\users\\sarae\\anaconda3\\envs\\sara_env\\lib\\site-packages (from matplotlib!=3.6.1,>=3.4->seaborn) (3.2.0)\n",
      "Requirement already satisfied: python-dateutil>=2.7 in c:\\users\\sarae\\anaconda3\\envs\\sara_env\\lib\\site-packages (from matplotlib!=3.6.1,>=3.4->seaborn) (2.9.0.post0)\n",
      "Requirement already satisfied: pytz>=2020.1 in c:\\users\\sarae\\anaconda3\\envs\\sara_env\\lib\\site-packages (from pandas>=1.2->seaborn) (2024.1)\n",
      "Requirement already satisfied: tzdata>=2022.7 in c:\\users\\sarae\\anaconda3\\envs\\sara_env\\lib\\site-packages (from pandas>=1.2->seaborn) (2025.2)\n",
      "Requirement already satisfied: six>=1.5 in c:\\users\\sarae\\anaconda3\\envs\\sara_env\\lib\\site-packages (from python-dateutil>=2.7->matplotlib!=3.6.1,>=3.4->seaborn) (1.17.0)\n",
      "Note: you may need to restart the kernel to use updated packages.\n"
     ]
    }
   ],
   "source": [
    "%pip install pandas\n",
    "%pip install matplotlib\n",
    "%pip install numpy\n",
    "%pip install seaborn"
   ]
  },
  {
   "cell_type": "code",
   "execution_count": 3,
   "metadata": {},
   "outputs": [],
   "source": [
    "# Imports\n",
    "import pandas as pd\n",
    "import matplotlib.pyplot as plt\n",
    "import numpy as np\n",
    "import seaborn as sns"
   ]
  },
  {
   "cell_type": "code",
   "execution_count": 4,
   "metadata": {},
   "outputs": [],
   "source": [
    "# Paths: TODO update if necessary\n",
    "#local_path = \"/cellar/users/aklie/data/datasets/tf_perturb_seq/ref/\"\n",
    "#local_path = \"C:/Users/seg95/Documents/tf_perturb_seq/\"\n",
    "local_path = \"D:/tf_perturb_seq/\""
   ]
  },
  {
   "cell_type": "code",
   "execution_count": 5,
   "metadata": {},
   "outputs": [],
   "source": [
    "# Guide ref files\n",
    "path_huangfu_guide_ref = local_path + \"Huangfu_ref_feature.csv\"\n",
    "path_hon_guide_ref = local_path + \"Hon_sgRNA_index_dacc_annot_reference.csv\"\n",
    "path_gersbach_guide_ref = local_path + \"Gersbach_feature_ref_5.csv\"\n",
    "path_engreitz_guide_ref = local_path + \"eTN7_guides_filtered.csv\"\n",
    "\n",
    "# Other reference files\n",
    "path_non_targeting = local_path + \"non_targeting.tsv\"\n",
    "path_negative_controls = local_path + \"negative_controls.tsv\"\n",
    "path_positive_controls = local_path + \"positive_controls.tsv\"\n",
    "path_targets = local_path + \"target_genes.tsv\""
   ]
  },
  {
   "cell_type": "markdown",
   "metadata": {},
   "source": [
    "# Load in auxiliary data"
   ]
  },
  {
   "cell_type": "code",
   "execution_count": 6,
   "metadata": {},
   "outputs": [
    {
     "name": "stdout",
     "output_type": "stream",
     "text": [
      "Loaded 100 negative controls, 19 positive controls, 600 non-targeting guides, and 2210 targets.\n"
     ]
    }
   ],
   "source": [
    "# Load in the reference files\n",
    "negative_controls = pd.read_csv(path_negative_controls, sep=\"\\t\")\n",
    "positive_controls = pd.read_csv(path_positive_controls, sep=\"\\t\")\n",
    "non_targeting = pd.read_csv(path_non_targeting, sep=\"\\t\")\n",
    "targets = pd.read_csv(path_targets, sep=\"\\t\")\n",
    "print(f\"Loaded {len(negative_controls)} negative controls, {len(positive_controls)} positive controls, {len(non_targeting)} non-targeting guides, and {len(targets)} targets.\")"
   ]
  },
  {
   "cell_type": "code",
   "execution_count": 7,
   "metadata": {},
   "outputs": [],
   "source": [
    "# Get a list of genes for negative controls\n",
    "negative_control_genes = negative_controls[\"Gene\"].values"
   ]
  },
  {
   "cell_type": "code",
   "execution_count": 8,
   "metadata": {},
   "outputs": [],
   "source": [
    "# Get a list of photospacers for negative controls\n",
    "negative_control_guide_photospacers = negative_controls[['Photospacer 1', 'Photospacer 2', 'Photospacer 3', 'Photospacer 4', 'Photospacer 5', 'Photospacer 6']].values.flatten()\n",
    "negative_control_guide_photospacers = [str(x).upper() for x in negative_control_guide_photospacers]"
   ]
  },
  {
   "cell_type": "code",
   "execution_count": 9,
   "metadata": {},
   "outputs": [
    {
     "data": {
      "text/plain": [
       "array(['CD81', 'CD81', 'CD151', 'CD151', 'CD55', 'CD29', 'B2M', 'AARS',\n",
       "       'AARS', 'AARS', 'POLR1D', 'POLR1D', 'POLR1D', 'DNAJC19', 'DNAJC19',\n",
       "       'DNAJC19', 'MALAT1', 'NGFRAP1', 'TFRC'], dtype=object)"
      ]
     },
     "execution_count": 9,
     "metadata": {},
     "output_type": "execute_result"
    }
   ],
   "source": [
    "# Get a list of genes for positive controls\n",
    "positive_control_genes = positive_controls[\"Gene\"].str.split(\" \").str[0].values\n",
    "positive_control_genes"
   ]
  },
  {
   "cell_type": "code",
   "execution_count": 10,
   "metadata": {},
   "outputs": [],
   "source": [
    "# Get non-targeting guide IDs\n",
    "non_targeting_ids = non_targeting[\"Unnamed: 0\"].values"
   ]
  },
  {
   "cell_type": "markdown",
   "metadata": {},
   "source": [
    "# Huangfu annotations"
   ]
  },
  {
   "cell_type": "code",
   "execution_count": 11,
   "metadata": {},
   "outputs": [
    {
     "name": "stdout",
     "output_type": "stream",
     "text": [
      "Total guides in Huangfu lab reference: 14364\n"
     ]
    }
   ],
   "source": [
    "# Read Huangfu lab guide reference\n",
    "huangfu_guide_ref = pd.read_csv(path_huangfu_guide_ref)\n",
    "print(f\"Total guides in Huangfu lab reference: {huangfu_guide_ref.shape[0]}\")"
   ]
  },
  {
   "cell_type": "code",
   "execution_count": 12,
   "metadata": {},
   "outputs": [
    {
     "data": {
      "text/html": [
       "<div>\n",
       "<style scoped>\n",
       "    .dataframe tbody tr th:only-of-type {\n",
       "        vertical-align: middle;\n",
       "    }\n",
       "\n",
       "    .dataframe tbody tr th {\n",
       "        vertical-align: top;\n",
       "    }\n",
       "\n",
       "    .dataframe thead th {\n",
       "        text-align: right;\n",
       "    }\n",
       "</style>\n",
       "<table border=\"1\" class=\"dataframe\">\n",
       "  <thead>\n",
       "    <tr style=\"text-align: right;\">\n",
       "      <th></th>\n",
       "      <th>id</th>\n",
       "      <th>name</th>\n",
       "      <th>read</th>\n",
       "      <th>pattern</th>\n",
       "      <th>sequence</th>\n",
       "      <th>feature_type</th>\n",
       "    </tr>\n",
       "  </thead>\n",
       "  <tbody>\n",
       "    <tr>\n",
       "      <th>count</th>\n",
       "      <td>14364</td>\n",
       "      <td>14364</td>\n",
       "      <td>14364</td>\n",
       "      <td>14364</td>\n",
       "      <td>14364</td>\n",
       "      <td>14364</td>\n",
       "    </tr>\n",
       "    <tr>\n",
       "      <th>unique</th>\n",
       "      <td>14364</td>\n",
       "      <td>2937</td>\n",
       "      <td>1</td>\n",
       "      <td>1</td>\n",
       "      <td>14364</td>\n",
       "      <td>1</td>\n",
       "    </tr>\n",
       "    <tr>\n",
       "      <th>top</th>\n",
       "      <td>ZNF226_P1_5|ZNF234_P1_5</td>\n",
       "      <td>APITD1|APITD1-CORT</td>\n",
       "      <td>R2</td>\n",
       "      <td>(BC)GTTTAAGAGCTAAGCTGGAA</td>\n",
       "      <td>GTTCCGCTCCAGGGAAGAGG</td>\n",
       "      <td>Custom</td>\n",
       "    </tr>\n",
       "    <tr>\n",
       "      <th>freq</th>\n",
       "      <td>1</td>\n",
       "      <td>6</td>\n",
       "      <td>14364</td>\n",
       "      <td>14364</td>\n",
       "      <td>1</td>\n",
       "      <td>14364</td>\n",
       "    </tr>\n",
       "  </tbody>\n",
       "</table>\n",
       "</div>"
      ],
      "text/plain": [
       "                             id                name   read  \\\n",
       "count                     14364               14364  14364   \n",
       "unique                    14364                2937      1   \n",
       "top     ZNF226_P1_5|ZNF234_P1_5  APITD1|APITD1-CORT     R2   \n",
       "freq                          1                   6  14364   \n",
       "\n",
       "                         pattern              sequence feature_type  \n",
       "count                      14364                 14364        14364  \n",
       "unique                         1                 14364            1  \n",
       "top     (BC)GTTTAAGAGCTAAGCTGGAA  GTTCCGCTCCAGGGAAGAGG       Custom  \n",
       "freq                       14364                     1        14364  "
      ]
     },
     "execution_count": 12,
     "metadata": {},
     "output_type": "execute_result"
    }
   ],
   "source": [
    "# Describe the dataframes\n",
    "huangfu_guide_ref.describe()"
   ]
  },
  {
   "cell_type": "code",
   "execution_count": 13,
   "metadata": {},
   "outputs": [
    {
     "data": {
      "text/plain": [
       "np.int64(600)"
      ]
     },
     "execution_count": 13,
     "metadata": {},
     "output_type": "execute_result"
    }
   ],
   "source": [
    "# how many ids start with non-targeting\n",
    "huangfu_guide_ref[\"id\"].str.startswith(\"non-targeting\").sum()"
   ]
  },
  {
   "cell_type": "code",
   "execution_count": 14,
   "metadata": {},
   "outputs": [
    {
     "name": "stdout",
     "output_type": "stream",
     "text": [
      "Non-targeting guides in Huangfu reference: 600\n",
      "Do non-targeting guides match? True\n"
     ]
    }
   ],
   "source": [
    "# are these the same as the non_targeting_ids?\n",
    "non_targeting_ids_in_huangfu = huangfu_guide_ref[huangfu_guide_ref[\"id\"].isin(non_targeting_ids)]\n",
    "print(f\"Non-targeting guides in Huangfu reference: {non_targeting_ids_in_huangfu.shape[0]}\")\n",
    "non_targeting_match = non_targeting_ids_in_huangfu[\"id\"].isin(non_targeting_ids)\n",
    "print(f\"Do non-targeting guides match? {non_targeting_match.all()}\")"
   ]
  },
  {
   "cell_type": "code",
   "execution_count": 15,
   "metadata": {},
   "outputs": [
    {
     "data": {
      "text/plain": [
       "target\n",
       "non-targeting    600\n",
       "ESRRG             30\n",
       "FOXP1             21\n",
       "ZNF83             18\n",
       "SOX6              18\n",
       "ZNF718            16\n",
       "HIVEP3            16\n",
       "SMARCB1           12\n",
       "RBL2              12\n",
       "SIN3A             12\n",
       "GATA6             12\n",
       "TULP3             12\n",
       "TP53BP1           12\n",
       "SUB1              12\n",
       "CGGBP1            12\n",
       "CPEB1             12\n",
       "CRAMP1L           12\n",
       "FOXD3             12\n",
       "FOXN3             12\n",
       "FOXO3             12\n",
       "AKNA              12\n",
       "ARX               12\n",
       "ATXN7             12\n",
       "BAZ2A             12\n",
       "BMP2              12\n",
       "Name: count, dtype: int64"
      ]
     },
     "execution_count": 15,
     "metadata": {},
     "output_type": "execute_result"
    }
   ],
   "source": [
    "# Get a target column representing the gene target (if targeting)\n",
    "huangfu_guide_ref[\"target\"] = huangfu_guide_ref[\"id\"].str.split(\"|\").str[0].str.split(\"_\").str[0]\n",
    "huangfu_guide_ref[\"target\"].value_counts().iloc[:25]"
   ]
  },
  {
   "cell_type": "code",
   "execution_count": 16,
   "metadata": {},
   "outputs": [
    {
     "data": {
      "image/png": "[encoded data removed]",
      "text/plain": [
       "<Figure size 800x600 with 1 Axes>"
      ]
     },
     "metadata": {},
     "output_type": "display_data"
    }
   ],
   "source": [
    "# Plot a \n",
    "with sns.plotting_context(\"notebook\", font_scale=1.5):\n",
    "    plt.figure(figsize=(8, 6))\n",
    "    huangfu_guide_ref[\"target\"].value_counts().value_counts().plot(kind='bar')\n",
    "    # put numbers above bars\n",
    "    for i, v in enumerate(huangfu_guide_ref[\"target\"].value_counts().value_counts()):\n",
    "        plt.text(i, v + 0.5, str(v), ha='center', va='bottom')\n",
    "    plt.xlabel(\"Number of guides per gene\")\n",
    "    plt.ylabel(\"Number of genes\")\n",
    "    plt.title(\"Distribution of the number of guides per gene in Huangfu lab reference\")\n",
    "    plt.show()"
   ]
  },
  {
   "cell_type": "code",
   "execution_count": 17,
   "metadata": {},
   "outputs": [
    {
     "data": {
      "text/plain": [
       "np.int64(598)"
      ]
     },
     "execution_count": 17,
     "metadata": {},
     "output_type": "execute_result"
    }
   ],
   "source": [
    "# How many guides target a gene in the negative control list? Should be 600 (we have 100 targets with 6 guides each)\n",
    "huangfu_guide_ref[\"target\"].isin(negative_control_genes).sum()"
   ]
  },
  {
   "cell_type": "code",
   "execution_count": 18,
   "metadata": {},
   "outputs": [
    {
     "data": {
      "text/plain": [
       "np.int64(598)"
      ]
     },
     "execution_count": 18,
     "metadata": {},
     "output_type": "execute_result"
    }
   ],
   "source": [
    "# how many ids start with \"OR\", should ideally be same as above\n",
    "huangfu_guide_ref[\"id\"].str.startswith(\"OR\").sum()"
   ]
  },
  {
   "cell_type": "code",
   "execution_count": 19,
   "metadata": {},
   "outputs": [
    {
     "name": "stdout",
     "output_type": "stream",
     "text": [
      "Negative control guides in Huangfu reference: 598\n",
      "Do negative control guides match? True\n"
     ]
    }
   ],
   "source": [
    "# Are these two the same?\n",
    "negative_control_ids_in_huangfu = huangfu_guide_ref[huangfu_guide_ref[\"target\"].isin(negative_control_genes)]\n",
    "print(f\"Negative control guides in Huangfu reference: {negative_control_ids_in_huangfu.shape[0]}\")\n",
    "negative_control_match = negative_control_ids_in_huangfu[\"target\"].isin(negative_control_genes)\n",
    "print(f\"Do negative control guides match? {negative_control_match.all()}\")"
   ]
  },
  {
   "cell_type": "code",
   "execution_count": 20,
   "metadata": {},
   "outputs": [
    {
     "data": {
      "text/plain": [
       "set()"
      ]
     },
     "execution_count": 20,
     "metadata": {},
     "output_type": "execute_result"
    }
   ],
   "source": [
    "# Are we missing any negative control genes? Or are there just some missing guides\n",
    "set(negative_control_genes).difference(huangfu_guide_ref[\"target\"])"
   ]
  },
  {
   "cell_type": "code",
   "execution_count": 21,
   "metadata": {},
   "outputs": [
    {
     "data": {
      "text/plain": [
       "600"
      ]
     },
     "execution_count": 21,
     "metadata": {},
     "output_type": "execute_result"
    }
   ],
   "source": [
    "# How many photospacers are in the negative control list?\n",
    "len(negative_control_guide_photospacers)"
   ]
  },
  {
   "cell_type": "code",
   "execution_count": 22,
   "metadata": {},
   "outputs": [
    {
     "data": {
      "text/plain": [
       "set()"
      ]
     },
     "execution_count": 22,
     "metadata": {},
     "output_type": "execute_result"
    }
   ],
   "source": [
    "# What is the difference\n",
    "set(negative_control_guide_photospacers) - set(huangfu_guide_ref[huangfu_guide_ref[\"target\"].isin(negative_control_genes)][\"sequence\"].values)"
   ]
  },
  {
   "cell_type": "code",
   "execution_count": 23,
   "metadata": {},
   "outputs": [
    {
     "data": {
      "text/plain": [
       "(600, 598)"
      ]
     },
     "execution_count": 23,
     "metadata": {},
     "output_type": "execute_result"
    }
   ],
   "source": [
    "# Are their photospacers in the negative control list that are repeated?\n",
    "len(negative_control_guide_photospacers), len(set(negative_control_guide_photospacers))"
   ]
  },
  {
   "cell_type": "code",
   "execution_count": 24,
   "metadata": {},
   "outputs": [
    {
     "data": {
      "text/plain": [
       "GCCTATGGTTCATGAGGACA    2\n",
       "GGGCATCCCAACCAAGAAGA    2\n",
       "GACCAGTGTCAGCCAAGTCT    1\n",
       "GAGGCATTGGATGAAATTTC    1\n",
       "GAAAATACAGATGCTTGTGT    1\n",
       "                       ..\n",
       "GGGTTAAAGGGCTCAGTGCG    1\n",
       "GTTGTTGCCTGTGTCCATTG    1\n",
       "GGGGGTATGCAACTGATGGG    1\n",
       "GATGGGGGTATGCAACTGAT    1\n",
       "GTGAGACAGGGCATTGGTAC    1\n",
       "Name: count, Length: 598, dtype: int64"
      ]
     },
     "execution_count": 24,
     "metadata": {},
     "output_type": "execute_result"
    }
   ],
   "source": [
    "# Which negative_control_guide_photospacers are repeated\n",
    "pd.Series(negative_control_guide_photospacers).value_counts()"
   ]
  },
  {
   "cell_type": "code",
   "execution_count": 25,
   "metadata": {},
   "outputs": [
    {
     "data": {
      "text/plain": [
       "np.int64(18)"
      ]
     },
     "execution_count": 25,
     "metadata": {},
     "output_type": "execute_result"
    }
   ],
   "source": [
    "# What about positive controls, should have 19?\n",
    "huangfu_guide_ref[\"target\"].isin(positive_control_genes).sum()"
   ]
  },
  {
   "cell_type": "code",
   "execution_count": 26,
   "metadata": {},
   "outputs": [
    {
     "data": {
      "text/plain": [
       "{'CD29'}"
      ]
     },
     "execution_count": 26,
     "metadata": {},
     "output_type": "execute_result"
    }
   ],
   "source": [
    "# What's the difference\n",
    "set(positive_control_genes).difference(huangfu_guide_ref[\"target\"])"
   ]
  },
  {
   "cell_type": "code",
   "execution_count": 27,
   "metadata": {},
   "outputs": [
    {
     "data": {
      "text/html": [
       "<div>\n",
       "<style scoped>\n",
       "    .dataframe tbody tr th:only-of-type {\n",
       "        vertical-align: middle;\n",
       "    }\n",
       "\n",
       "    .dataframe tbody tr th {\n",
       "        vertical-align: top;\n",
       "    }\n",
       "\n",
       "    .dataframe thead th {\n",
       "        text-align: right;\n",
       "    }\n",
       "</style>\n",
       "<table border=\"1\" class=\"dataframe\">\n",
       "  <thead>\n",
       "    <tr style=\"text-align: right;\">\n",
       "      <th></th>\n",
       "      <th>id</th>\n",
       "      <th>name</th>\n",
       "      <th>read</th>\n",
       "      <th>pattern</th>\n",
       "      <th>sequence</th>\n",
       "      <th>feature_type</th>\n",
       "      <th>target</th>\n",
       "    </tr>\n",
       "  </thead>\n",
       "  <tbody>\n",
       "    <tr>\n",
       "      <th>5</th>\n",
       "      <td>ITGB1</td>\n",
       "      <td>ITGB1</td>\n",
       "      <td>R2</td>\n",
       "      <td>(BC)GTTTAAGAGCTAAGCTGGAA</td>\n",
       "      <td>GAGAGGCCCAGCGGGAGTCG</td>\n",
       "      <td>Custom</td>\n",
       "      <td>ITGB1</td>\n",
       "    </tr>\n",
       "  </tbody>\n",
       "</table>\n",
       "</div>"
      ],
      "text/plain": [
       "      id   name read                   pattern              sequence  \\\n",
       "5  ITGB1  ITGB1   R2  (BC)GTTTAAGAGCTAAGCTGGAA  GAGAGGCCCAGCGGGAGTCG   \n",
       "\n",
       "  feature_type target  \n",
       "5       Custom  ITGB1  "
      ]
     },
     "execution_count": 27,
     "metadata": {},
     "output_type": "execute_result"
    }
   ],
   "source": [
    "# Is it becuase CD29 is called ITGB1\n",
    "huangfu_guide_ref[huangfu_guide_ref[\"id\"] == \"ITGB1\"]"
   ]
  },
  {
   "cell_type": "code",
   "execution_count": 28,
   "metadata": {},
   "outputs": [
    {
     "data": {
      "text/plain": [
       "20"
      ]
     },
     "execution_count": 28,
     "metadata": {},
     "output_type": "execute_result"
    }
   ],
   "source": [
    "# add ITGB1 to positive control list\n",
    "if \"ITGB1\" not in positive_control_genes:\n",
    "    positive_control_genes = np.append(positive_control_genes, \"ITGB1\")\n",
    "len(positive_control_genes)"
   ]
  },
  {
   "cell_type": "code",
   "execution_count": 29,
   "metadata": {},
   "outputs": [
    {
     "data": {
      "text/plain": [
       "np.int64(19)"
      ]
     },
     "execution_count": 29,
     "metadata": {},
     "output_type": "execute_result"
    }
   ],
   "source": [
    "# What about positive controls, should have 19?\n",
    "huangfu_guide_ref[\"target\"].isin(positive_control_genes).sum()"
   ]
  },
  {
   "cell_type": "code",
   "execution_count": 30,
   "metadata": {},
   "outputs": [
    {
     "name": "stdout",
     "output_type": "stream",
     "text": [
      "type\n",
      "targeting           13147\n",
      "non_targeting         600\n",
      "negative_control      598\n",
      "positive_control       19\n",
      "Name: count, dtype: int64\n"
     ]
    }
   ],
   "source": [
    "# Final thing: annotated types of guides\n",
    "# 1. If it starts with \"non-targeting\", it's a non-targeting guide\n",
    "# 2. If it starts with \"OR\", it's a negative control\n",
    "# 3. If its in the positive control list, it's a positive control\n",
    "# 4. Otherwise its a targeting guide\n",
    "def annotate_guide_type_huangfu(row):\n",
    "    if row[\"id\"].startswith(\"non-targeting\"):\n",
    "        return \"non_targeting\"\n",
    "    elif row[\"id\"].startswith(\"OR\"):\n",
    "        return \"negative_control\"\n",
    "    elif row[\"target\"] in positive_control_genes:\n",
    "        return \"positive_control\"\n",
    "    else:\n",
    "        return \"targeting\"\n",
    "    \n",
    "huangfu_guide_ref[\"type\"] = huangfu_guide_ref.apply(annotate_guide_type_huangfu, axis=1)\n",
    "guide_type_counts = huangfu_guide_ref[\"type\"].value_counts()\n",
    "print(guide_type_counts)"
   ]
  },
  {
   "cell_type": "markdown",
   "metadata": {},
   "source": [
    "# Hon annotations"
   ]
  },
  {
   "cell_type": "code",
   "execution_count": 31,
   "metadata": {},
   "outputs": [
    {
     "name": "stdout",
     "output_type": "stream",
     "text": [
      "Total guides in Hon lab reference: 14358\n"
     ]
    }
   ],
   "source": [
    "# Read Hon lab guide reference\n",
    "hon_guide_ref = pd.read_csv(path_hon_guide_ref, sep=\"\\t\")\n",
    "hon_guide_ref[\"protospacer_upper\"] = hon_guide_ref[\"protospacer\"].str.upper()  # create protospacer_upper column\n",
    "print(f\"Total guides in Hon lab reference: {hon_guide_ref.shape[0]}\")"
   ]
  },
  {
   "cell_type": "code",
   "execution_count": 32,
   "metadata": {},
   "outputs": [
    {
     "data": {
      "text/html": [
       "<div>\n",
       "<style scoped>\n",
       "    .dataframe tbody tr th:only-of-type {\n",
       "        vertical-align: middle;\n",
       "    }\n",
       "\n",
       "    .dataframe tbody tr th {\n",
       "        vertical-align: top;\n",
       "    }\n",
       "\n",
       "    .dataframe thead th {\n",
       "        text-align: right;\n",
       "    }\n",
       "</style>\n",
       "<table border=\"1\" class=\"dataframe\">\n",
       "  <thead>\n",
       "    <tr style=\"text-align: right;\">\n",
       "      <th></th>\n",
       "      <th>protospacer_ID</th>\n",
       "      <th>protospacer</th>\n",
       "      <th>intended_target_name</th>\n",
       "      <th>type</th>\n",
       "      <th>genomic_element</th>\n",
       "      <th>reverse_compliment</th>\n",
       "      <th>protospacer_upper</th>\n",
       "    </tr>\n",
       "  </thead>\n",
       "  <tbody>\n",
       "    <tr>\n",
       "      <th>count</th>\n",
       "      <td>14358</td>\n",
       "      <td>14358</td>\n",
       "      <td>14358</td>\n",
       "      <td>14358</td>\n",
       "      <td>14358</td>\n",
       "      <td>14358</td>\n",
       "      <td>14358</td>\n",
       "    </tr>\n",
       "    <tr>\n",
       "      <th>unique</th>\n",
       "      <td>14358</td>\n",
       "      <td>14358</td>\n",
       "      <td>2087</td>\n",
       "      <td>2</td>\n",
       "      <td>1</td>\n",
       "      <td>14358</td>\n",
       "      <td>14358</td>\n",
       "    </tr>\n",
       "    <tr>\n",
       "      <th>top</th>\n",
       "      <td>DNAJC19_ main</td>\n",
       "      <td>GTCATGGACTCGGAGATTAG</td>\n",
       "      <td>non-targeting</td>\n",
       "      <td>targeting</td>\n",
       "      <td>promoter</td>\n",
       "      <td>CTAATCTCCGAGTCCATGAC</td>\n",
       "      <td>GTCATGGACTCGGAGATTAG</td>\n",
       "    </tr>\n",
       "    <tr>\n",
       "      <th>freq</th>\n",
       "      <td>1</td>\n",
       "      <td>1</td>\n",
       "      <td>600</td>\n",
       "      <td>13758</td>\n",
       "      <td>14358</td>\n",
       "      <td>1</td>\n",
       "      <td>1</td>\n",
       "    </tr>\n",
       "  </tbody>\n",
       "</table>\n",
       "</div>"
      ],
      "text/plain": [
       "       protospacer_ID           protospacer intended_target_name       type  \\\n",
       "count           14358                 14358                14358      14358   \n",
       "unique          14358                 14358                 2087          2   \n",
       "top     DNAJC19_ main  GTCATGGACTCGGAGATTAG        non-targeting  targeting   \n",
       "freq                1                     1                  600      13758   \n",
       "\n",
       "       genomic_element    reverse_compliment     protospacer_upper  \n",
       "count            14358                 14358                 14358  \n",
       "unique               1                 14358                 14358  \n",
       "top           promoter  CTAATCTCCGAGTCCATGAC  GTCATGGACTCGGAGATTAG  \n",
       "freq             14358                     1                     1  "
      ]
     },
     "execution_count": 32,
     "metadata": {},
     "output_type": "execute_result"
    }
   ],
   "source": [
    "# Describe the dataframes\n",
    "hon_guide_ref.describe()"
   ]
  },
  {
   "cell_type": "code",
   "execution_count": 33,
   "metadata": {},
   "outputs": [
    {
     "data": {
      "text/plain": [
       "type\n",
       "targeting        13758\n",
       "non-targeting      600\n",
       "Name: count, dtype: int64"
      ]
     },
     "execution_count": 33,
     "metadata": {},
     "output_type": "execute_result"
    }
   ],
   "source": [
    "#. Check the types of guides in the Hon lab reference\n",
    "hon_guide_ref[\"type\"].value_counts()"
   ]
  },
  {
   "cell_type": "code",
   "execution_count": 34,
   "metadata": {},
   "outputs": [
    {
     "data": {
      "text/plain": [
       "np.int64(600)"
      ]
     },
     "execution_count": 34,
     "metadata": {},
     "output_type": "execute_result"
    }
   ],
   "source": [
    "# how many ids start with non-targeting\n",
    "hon_guide_ref[\"protospacer_ID\"].str.startswith(\"non-targeting\").sum()"
   ]
  },
  {
   "cell_type": "code",
   "execution_count": 35,
   "metadata": {},
   "outputs": [
    {
     "name": "stdout",
     "output_type": "stream",
     "text": [
      "Non-targeting guides in hon reference: 600\n",
      "Do non-targeting guides match? True\n"
     ]
    }
   ],
   "source": [
    "# are these the same as the non_targeting_ids?\n",
    "non_targeting_ids_in_hon = hon_guide_ref[hon_guide_ref[\"protospacer_ID\"].isin(non_targeting_ids)]\n",
    "print(f\"Non-targeting guides in hon reference: {non_targeting_ids_in_hon.shape[0]}\")\n",
    "non_targeting_match = non_targeting_ids_in_hon[\"protospacer_ID\"].isin(non_targeting_ids)\n",
    "print(f\"Do non-targeting guides match? {non_targeting_match.all()}\")"
   ]
  },
  {
   "cell_type": "code",
   "execution_count": 36,
   "metadata": {},
   "outputs": [
    {
     "data": {
      "image/png": "[encoded data removed]",
      "text/plain": [
       "<Figure size 800x600 with 1 Axes>"
      ]
     },
     "metadata": {},
     "output_type": "display_data"
    }
   ],
   "source": [
    "# Plot a \n",
    "with sns.plotting_context(\"notebook\", font_scale=1.5):\n",
    "    plt.figure(figsize=(8, 6))\n",
    "    hon_guide_ref[\"intended_target_name\"].value_counts().value_counts().plot(kind='bar')\n",
    "    # put numbers above bars\n",
    "    for i, v in enumerate(hon_guide_ref[\"intended_target_name\"].value_counts().value_counts()):\n",
    "        plt.text(i, v + 0.5, str(v), ha='center', va='bottom')\n",
    "    plt.xlabel(\"Number of guides per gene\")\n",
    "    plt.ylabel(\"Number of genes\")\n",
    "    plt.title(\"Distribution of the number of guides per gene in hon lab reference\")\n",
    "    plt.show()"
   ]
  },
  {
   "cell_type": "code",
   "execution_count": 37,
   "metadata": {},
   "outputs": [
    {
     "data": {
      "text/plain": [
       "np.int64(598)"
      ]
     },
     "execution_count": 37,
     "metadata": {},
     "output_type": "execute_result"
    }
   ],
   "source": [
    "# How many guides target a gene in the negative control list? Should be 600 (we have 100 targets with 6 guides each)\n",
    "hon_guide_ref[\"intended_target_name\"].isin(negative_control_genes).sum()"
   ]
  },
  {
   "cell_type": "code",
   "execution_count": 38,
   "metadata": {},
   "outputs": [
    {
     "data": {
      "text/plain": [
       "np.int64(598)"
      ]
     },
     "execution_count": 38,
     "metadata": {},
     "output_type": "execute_result"
    }
   ],
   "source": [
    "# how many ids start with \"OR\", should ideally be same as above\n",
    "hon_guide_ref[\"intended_target_name\"].str.startswith(\"OR\").sum()"
   ]
  },
  {
   "cell_type": "code",
   "execution_count": 39,
   "metadata": {},
   "outputs": [
    {
     "name": "stdout",
     "output_type": "stream",
     "text": [
      "Negative control guides in Hon reference: 598\n",
      "Do negative control guides match? True\n"
     ]
    }
   ],
   "source": [
    "# Are these two the same?\n",
    "negative_control_ids_in_hon = hon_guide_ref[hon_guide_ref[\"intended_target_name\"].isin(negative_control_genes)]\n",
    "print(f\"Negative control guides in Hon reference: {negative_control_ids_in_hon.shape[0]}\")\n",
    "negative_control_match = negative_control_ids_in_hon[\"intended_target_name\"].isin(negative_control_genes)\n",
    "print(f\"Do negative control guides match? {negative_control_match.all()}\")"
   ]
  },
  {
   "cell_type": "code",
   "execution_count": 40,
   "metadata": {},
   "outputs": [
    {
     "data": {
      "text/plain": [
       "set()"
      ]
     },
     "execution_count": 40,
     "metadata": {},
     "output_type": "execute_result"
    }
   ],
   "source": [
    "# Are we missing any negative control genes? Or are there just some missing guides\n",
    "set(negative_control_genes).difference(hon_guide_ref[\"intended_target_name\"])"
   ]
  },
  {
   "cell_type": "code",
   "execution_count": 41,
   "metadata": {},
   "outputs": [
    {
     "data": {
      "text/plain": [
       "600"
      ]
     },
     "execution_count": 41,
     "metadata": {},
     "output_type": "execute_result"
    }
   ],
   "source": [
    "# How many photospacers are in the negative control list?\n",
    "len(negative_control_guide_photospacers)"
   ]
  },
  {
   "cell_type": "code",
   "execution_count": 42,
   "metadata": {},
   "outputs": [
    {
     "data": {
      "text/plain": [
       "set()"
      ]
     },
     "execution_count": 42,
     "metadata": {},
     "output_type": "execute_result"
    }
   ],
   "source": [
    "# What is the difference\n",
    "set(negative_control_guide_photospacers) - set(hon_guide_ref[hon_guide_ref[\"intended_target_name\"].isin(negative_control_genes)][\"protospacer_upper\"].values)"
   ]
  },
  {
   "cell_type": "code",
   "execution_count": 43,
   "metadata": {},
   "outputs": [
    {
     "data": {
      "text/plain": [
       "(600, 598)"
      ]
     },
     "execution_count": 43,
     "metadata": {},
     "output_type": "execute_result"
    }
   ],
   "source": [
    "# Are their photospacers in the negative control list that are repeated?\n",
    "len(negative_control_guide_photospacers), len(set(negative_control_guide_photospacers))"
   ]
  },
  {
   "cell_type": "code",
   "execution_count": 44,
   "metadata": {},
   "outputs": [
    {
     "data": {
      "text/plain": [
       "GCCTATGGTTCATGAGGACA    2\n",
       "GGGCATCCCAACCAAGAAGA    2\n",
       "GACCAGTGTCAGCCAAGTCT    1\n",
       "GAGGCATTGGATGAAATTTC    1\n",
       "GAAAATACAGATGCTTGTGT    1\n",
       "                       ..\n",
       "GGGTTAAAGGGCTCAGTGCG    1\n",
       "GTTGTTGCCTGTGTCCATTG    1\n",
       "GGGGGTATGCAACTGATGGG    1\n",
       "GATGGGGGTATGCAACTGAT    1\n",
       "GTGAGACAGGGCATTGGTAC    1\n",
       "Name: count, Length: 598, dtype: int64"
      ]
     },
     "execution_count": 44,
     "metadata": {},
     "output_type": "execute_result"
    }
   ],
   "source": [
    "# Which negative_control_guide_photospacers are repeated\n",
    "pd.Series(negative_control_guide_photospacers).value_counts()"
   ]
  },
  {
   "cell_type": "code",
   "execution_count": 45,
   "metadata": {},
   "outputs": [
    {
     "data": {
      "text/plain": [
       "np.int64(19)"
      ]
     },
     "execution_count": 45,
     "metadata": {},
     "output_type": "execute_result"
    }
   ],
   "source": [
    "# What about positive controls, should have 19?\n",
    "hon_guide_ref[\"intended_target_name\"].isin(positive_control_genes).sum()"
   ]
  },
  {
   "cell_type": "code",
   "execution_count": 46,
   "metadata": {},
   "outputs": [
    {
     "data": {
      "text/plain": [
       "{'ITGB1'}"
      ]
     },
     "execution_count": 46,
     "metadata": {},
     "output_type": "execute_result"
    }
   ],
   "source": [
    "# What's the difference\n",
    "set(positive_control_genes).difference(hon_guide_ref[\"intended_target_name\"])"
   ]
  },
  {
   "cell_type": "code",
   "execution_count": 47,
   "metadata": {},
   "outputs": [
    {
     "data": {
      "text/html": [
       "<div>\n",
       "<style scoped>\n",
       "    .dataframe tbody tr th:only-of-type {\n",
       "        vertical-align: middle;\n",
       "    }\n",
       "\n",
       "    .dataframe tbody tr th {\n",
       "        vertical-align: top;\n",
       "    }\n",
       "\n",
       "    .dataframe thead th {\n",
       "        text-align: right;\n",
       "    }\n",
       "</style>\n",
       "<table border=\"1\" class=\"dataframe\">\n",
       "  <thead>\n",
       "    <tr style=\"text-align: right;\">\n",
       "      <th></th>\n",
       "      <th>protospacer_ID</th>\n",
       "      <th>protospacer</th>\n",
       "      <th>intended_target_name</th>\n",
       "      <th>type</th>\n",
       "      <th>genomic_element</th>\n",
       "      <th>reverse_compliment</th>\n",
       "      <th>protospacer_upper</th>\n",
       "    </tr>\n",
       "  </thead>\n",
       "  <tbody>\n",
       "  </tbody>\n",
       "</table>\n",
       "</div>"
      ],
      "text/plain": [
       "Empty DataFrame\n",
       "Columns: [protospacer_ID, protospacer, intended_target_name, type, genomic_element, reverse_compliment, protospacer_upper]\n",
       "Index: []"
      ]
     },
     "execution_count": 47,
     "metadata": {},
     "output_type": "execute_result"
    }
   ],
   "source": [
    "# Is it becuase CD29 is called ITGB1\n",
    "hon_guide_ref[hon_guide_ref[\"protospacer_ID\"] == \"ITGB1\"]"
   ]
  },
  {
   "cell_type": "code",
   "execution_count": 48,
   "metadata": {},
   "outputs": [
    {
     "data": {
      "text/plain": [
       "20"
      ]
     },
     "execution_count": 48,
     "metadata": {},
     "output_type": "execute_result"
    }
   ],
   "source": [
    "# add ITGB1 to positive control list\n",
    "if \"ITGB1\" not in positive_control_genes:\n",
    "    positive_control_genes = np.append(positive_control_genes, \"ITGB1\")\n",
    "len(positive_control_genes)"
   ]
  },
  {
   "cell_type": "code",
   "execution_count": 49,
   "metadata": {},
   "outputs": [
    {
     "data": {
      "text/plain": [
       "np.int64(19)"
      ]
     },
     "execution_count": 49,
     "metadata": {},
     "output_type": "execute_result"
    }
   ],
   "source": [
    "# What about positive controls, should have 19?\n",
    "hon_guide_ref[\"intended_target_name\"].isin(positive_control_genes).sum()"
   ]
  },
  {
   "cell_type": "code",
   "execution_count": 50,
   "metadata": {},
   "outputs": [
    {
     "name": "stdout",
     "output_type": "stream",
     "text": [
      "type\n",
      "targeting           13141\n",
      "non_targeting         600\n",
      "negative_control      598\n",
      "positive_control       19\n",
      "Name: count, dtype: int64\n"
     ]
    }
   ],
   "source": [
    "# Final thing: annotated types of guides\n",
    "# 1. If it starts with \"non-targeting\", it's a non-targeting guide\n",
    "# 2. If it starts with \"OR\", it's a negative control\n",
    "# 3. If its in the positive control list, it's a positive control\n",
    "# 4. Otherwise its a targeting guide\n",
    "def annotate_guide_type_hon(row):\n",
    "    if row[\"protospacer_ID\"].startswith(\"non-targeting\"):\n",
    "        return \"non_targeting\"\n",
    "    elif row[\"protospacer_ID\"].startswith(\"OR\"):\n",
    "        return \"negative_control\"\n",
    "    elif row[\"intended_target_name\"] in positive_control_genes:\n",
    "        return \"positive_control\"\n",
    "    else:\n",
    "        return \"targeting\"\n",
    "    \n",
    "hon_guide_ref[\"type\"] = hon_guide_ref.apply(annotate_guide_type_hon, axis=1)\n",
    "guide_type_counts = hon_guide_ref[\"type\"].value_counts()\n",
    "print(guide_type_counts)"
   ]
  },
  {
   "cell_type": "markdown",
   "metadata": {},
   "source": [
    "# Gersbach annotations"
   ]
  },
  {
   "cell_type": "code",
   "execution_count": 51,
   "metadata": {},
   "outputs": [
    {
     "name": "stdout",
     "output_type": "stream",
     "text": [
      "Total guides in Gersbach lab reference: 17034\n"
     ]
    }
   ],
   "source": [
    "gersbach_guide_ref = pd.read_csv(path_gersbach_guide_ref)\n",
    "print(f\"Total guides in Gersbach lab reference: {gersbach_guide_ref.shape[0]}\")"
   ]
  },
  {
   "cell_type": "code",
   "execution_count": 52,
   "metadata": {},
   "outputs": [
    {
     "data": {
      "text/html": [
       "<div>\n",
       "<style scoped>\n",
       "    .dataframe tbody tr th:only-of-type {\n",
       "        vertical-align: middle;\n",
       "    }\n",
       "\n",
       "    .dataframe tbody tr th {\n",
       "        vertical-align: top;\n",
       "    }\n",
       "\n",
       "    .dataframe thead th {\n",
       "        text-align: right;\n",
       "    }\n",
       "</style>\n",
       "<table border=\"1\" class=\"dataframe\">\n",
       "  <thead>\n",
       "    <tr style=\"text-align: right;\">\n",
       "      <th></th>\n",
       "      <th>id</th>\n",
       "      <th>name</th>\n",
       "      <th>read</th>\n",
       "      <th>pattern</th>\n",
       "      <th>sequence</th>\n",
       "      <th>feature_type</th>\n",
       "      <th>target_gene_name</th>\n",
       "    </tr>\n",
       "  </thead>\n",
       "  <tbody>\n",
       "    <tr>\n",
       "      <th>count</th>\n",
       "      <td>17034</td>\n",
       "      <td>17034</td>\n",
       "      <td>17034</td>\n",
       "      <td>17034</td>\n",
       "      <td>17034</td>\n",
       "      <td>17034</td>\n",
       "      <td>17034</td>\n",
       "    </tr>\n",
       "    <tr>\n",
       "      <th>unique</th>\n",
       "      <td>17034</td>\n",
       "      <td>17034</td>\n",
       "      <td>1</td>\n",
       "      <td>1</td>\n",
       "      <td>17034</td>\n",
       "      <td>1</td>\n",
       "      <td>2989</td>\n",
       "    </tr>\n",
       "    <tr>\n",
       "      <th>top</th>\n",
       "      <td>SPDYE8P.14</td>\n",
       "      <td>SPDYE8P.14</td>\n",
       "      <td>R2</td>\n",
       "      <td>TTCCAGCTTAGCTCTTAAAC(BC)</td>\n",
       "      <td>ACAAGACTGGAGTAATTTT</td>\n",
       "      <td>CRISPR Guide Capture</td>\n",
       "      <td>non-targeting</td>\n",
       "    </tr>\n",
       "    <tr>\n",
       "      <th>freq</th>\n",
       "      <td>1</td>\n",
       "      <td>1</td>\n",
       "      <td>17034</td>\n",
       "      <td>17034</td>\n",
       "      <td>1</td>\n",
       "      <td>17034</td>\n",
       "      <td>600</td>\n",
       "    </tr>\n",
       "  </tbody>\n",
       "</table>\n",
       "</div>"
      ],
      "text/plain": [
       "                id        name   read                   pattern  \\\n",
       "count        17034       17034  17034                     17034   \n",
       "unique       17034       17034      1                         1   \n",
       "top     SPDYE8P.14  SPDYE8P.14     R2  TTCCAGCTTAGCTCTTAAAC(BC)   \n",
       "freq             1           1  17034                     17034   \n",
       "\n",
       "                   sequence          feature_type target_gene_name  \n",
       "count                 17034                 17034            17034  \n",
       "unique                17034                     1             2989  \n",
       "top     ACAAGACTGGAGTAATTTT  CRISPR Guide Capture    non-targeting  \n",
       "freq                      1                 17034              600  "
      ]
     },
     "execution_count": 52,
     "metadata": {},
     "output_type": "execute_result"
    }
   ],
   "source": [
    "# Describe the dataframes\n",
    "gersbach_guide_ref.describe()"
   ]
  },
  {
   "cell_type": "code",
   "execution_count": 53,
   "metadata": {},
   "outputs": [
    {
     "data": {
      "text/plain": [
       "feature_type\n",
       "CRISPR Guide Capture    17034\n",
       "Name: count, dtype: int64"
      ]
     },
     "execution_count": 53,
     "metadata": {},
     "output_type": "execute_result"
    }
   ],
   "source": [
    "# Check the types of guides in the Gersbach lab reference\n",
    "gersbach_guide_ref[\"feature_type\"].value_counts()"
   ]
  },
  {
   "cell_type": "code",
   "execution_count": 54,
   "metadata": {},
   "outputs": [
    {
     "data": {
      "text/plain": [
       "np.int64(600)"
      ]
     },
     "execution_count": 54,
     "metadata": {},
     "output_type": "execute_result"
    }
   ],
   "source": [
    "# how many ids start with non-targeting\n",
    "gersbach_guide_ref[\"id\"].str.startswith(\"non-targeting\").sum()"
   ]
  },
  {
   "cell_type": "code",
   "execution_count": 55,
   "metadata": {},
   "outputs": [
    {
     "name": "stdout",
     "output_type": "stream",
     "text": [
      "Non-targeting guides in gersbach reference: 600\n",
      "Do non-targeting guides match? True\n"
     ]
    }
   ],
   "source": [
    "# are these the same as the non_targeting_ids?\n",
    "non_targeting_ids_in_gersbach = gersbach_guide_ref[gersbach_guide_ref[\"id\"].isin(non_targeting_ids)]\n",
    "print(f\"Non-targeting guides in gersbach reference: {non_targeting_ids_in_gersbach.shape[0]}\")\n",
    "non_targeting_match = non_targeting_ids_in_gersbach[\"id\"].isin(non_targeting_ids)\n",
    "print(f\"Do non-targeting guides match? {non_targeting_match.all()}\")"
   ]
  },
  {
   "cell_type": "code",
   "execution_count": 56,
   "metadata": {},
   "outputs": [
    {
     "data": {
      "image/png": "[encoded data removed]",
      "text/plain": [
       "<Figure size 800x600 with 1 Axes>"
      ]
     },
     "metadata": {},
     "output_type": "display_data"
    }
   ],
   "source": [
    "# Plot \n",
    "with sns.plotting_context(\"notebook\", font_scale=1.5):\n",
    "    plt.figure(figsize=(8, 6))\n",
    "    gersbach_guide_ref[\"target_gene_name\"].value_counts().value_counts().plot(kind='bar')\n",
    "    # put numbers above bars\n",
    "    for i, v in enumerate(gersbach_guide_ref[\"target_gene_name\"].value_counts().value_counts()):\n",
    "        plt.text(i, v + 0.5, str(v), ha='center', va='bottom')\n",
    "    plt.xlabel(\"Number of guides per gene\")\n",
    "    plt.ylabel(\"Number of genes\")\n",
    "    plt.title(\"Distribution of the number of guides per gene in gersbach lab reference\")\n",
    "    plt.show()"
   ]
  },
  {
   "cell_type": "code",
   "execution_count": 57,
   "metadata": {},
   "outputs": [
    {
     "name": "stdout",
     "output_type": "stream",
     "text": [
      "0\n",
      "['OR1J4' 'OR10K1' 'OR5L2' 'OR52W1' 'OR8K1' 'OR4E2' 'OR4C12' 'OR51T1'\n",
      " 'OR1M1' 'OR51F2']\n"
     ]
    }
   ],
   "source": [
    "# How many guides target a gene in the negative control list? Should be 600 (we have 100 targets with 6 guides each)\n",
    "print(gersbach_guide_ref[\"target_gene_name\"].isin(negative_control_genes).sum())\n",
    "print(negative_control_genes[:10])"
   ]
  },
  {
   "cell_type": "code",
   "execution_count": 58,
   "metadata": {},
   "outputs": [
    {
     "name": "stdout",
     "output_type": "stream",
     "text": [
      "['OR5K2-2' 'OR51A4-1' 'OR5T3-2' 'OR6C1-3' 'OR8G5-3' 'OR4A5-5' 'OR8G5-6'\n",
      " 'OR4E2-6' 'OR4K13-2' 'OR2F2-5']\n",
      "598\n"
     ]
    }
   ],
   "source": [
    "# Is it because the Gersbach lab negative controls are hyphenated?\n",
    "gersbach_negative_controls_spl = gersbach_guide_ref[\"target_gene_name\"].str.split('-').str[0]   #.str.replace(\"-\", \"\")\n",
    "print(gersbach_guide_ref[gersbach_guide_ref['id'].str.startswith(\"OR\")][\"target_gene_name\"].values[:10])\n",
    "print(gersbach_negative_controls_spl.isin(negative_control_genes).sum())"
   ]
  },
  {
   "cell_type": "code",
   "execution_count": 59,
   "metadata": {},
   "outputs": [
    {
     "data": {
      "text/plain": [
       "np.int64(19)"
      ]
     },
     "execution_count": 59,
     "metadata": {},
     "output_type": "execute_result"
    }
   ],
   "source": [
    "# What about positive controls, should have 19?\n",
    "gersbach_guide_ref[\"target_gene_name\"].isin(positive_control_genes).sum()"
   ]
  },
  {
   "cell_type": "code",
   "execution_count": 60,
   "metadata": {},
   "outputs": [
    {
     "name": "stdout",
     "output_type": "stream",
     "text": [
      "type\n",
      "targeting           15817\n",
      "non_targeting         600\n",
      "negative_control      598\n",
      "positive_control       19\n",
      "Name: count, dtype: int64\n"
     ]
    }
   ],
   "source": [
    "# Final thing: annotated types of guides\n",
    "# 1. If it starts with \"non-targeting\", it's a non-targeting guide\n",
    "# 2. If it starts with \"OR\", it's a negative control\n",
    "# 3. If its in the positive control list, it's a positive control\n",
    "# 4. Otherwise its a targeting guide\n",
    "def annotate_guide_type_gersbach(row):\n",
    "    if row[\"id\"].startswith(\"non-targeting\"):\n",
    "        return \"non_targeting\"\n",
    "    elif row[\"id\"].startswith(\"OR\"):\n",
    "        return \"negative_control\"\n",
    "    elif row[\"target_gene_name\"] in positive_control_genes:\n",
    "        return \"positive_control\"\n",
    "    else:\n",
    "        return \"targeting\"\n",
    "    \n",
    "gersbach_guide_ref[\"type\"] = gersbach_guide_ref.apply(annotate_guide_type_gersbach, axis=1)\n",
    "guide_type_counts = gersbach_guide_ref[\"type\"].value_counts()\n",
    "print(guide_type_counts)"
   ]
  },
  {
   "cell_type": "markdown",
   "metadata": {},
   "source": [
    "# Engreitz Lab annotations"
   ]
  },
  {
   "cell_type": "code",
   "execution_count": 61,
   "metadata": {},
   "outputs": [
    {
     "name": "stdout",
     "output_type": "stream",
     "text": [
      "Total guides in Engreitz lab reference: 17017\n"
     ]
    }
   ],
   "source": [
    "engreitz_guide_ref = pd.read_csv(path_engreitz_guide_ref)\n",
    "print(f\"Total guides in Engreitz lab reference: {engreitz_guide_ref.shape[0]}\")"
   ]
  },
  {
   "cell_type": "code",
   "execution_count": 62,
   "metadata": {},
   "outputs": [
    {
     "data": {
      "text/html": [
       "<div>\n",
       "<style scoped>\n",
       "    .dataframe tbody tr th:only-of-type {\n",
       "        vertical-align: middle;\n",
       "    }\n",
       "\n",
       "    .dataframe tbody tr th {\n",
       "        vertical-align: top;\n",
       "    }\n",
       "\n",
       "    .dataframe thead th {\n",
       "        text-align: right;\n",
       "    }\n",
       "</style>\n",
       "<table border=\"1\" class=\"dataframe\">\n",
       "  <thead>\n",
       "    <tr style=\"text-align: right;\">\n",
       "      <th></th>\n",
       "      <th>guide_name</th>\n",
       "      <th>prefix</th>\n",
       "      <th>guide_sequence</th>\n",
       "      <th>suffix</th>\n",
       "      <th>target_gene</th>\n",
       "    </tr>\n",
       "  </thead>\n",
       "  <tbody>\n",
       "    <tr>\n",
       "      <th>count</th>\n",
       "      <td>17017</td>\n",
       "      <td>17017</td>\n",
       "      <td>17017</td>\n",
       "      <td>17017</td>\n",
       "      <td>17017</td>\n",
       "    </tr>\n",
       "    <tr>\n",
       "      <th>unique</th>\n",
       "      <td>17017</td>\n",
       "      <td>1</td>\n",
       "      <td>17017</td>\n",
       "      <td>1</td>\n",
       "      <td>3096</td>\n",
       "    </tr>\n",
       "    <tr>\n",
       "      <th>top</th>\n",
       "      <td>GREGoR_17332</td>\n",
       "      <td>AAGCAGTGGTATCAACGCAGAGTGAATGGG</td>\n",
       "      <td>GTATTGTAAACTACAGCCCA</td>\n",
       "      <td>GTTTAAGAGCTAAGCTGGAAACAGCATAGCAAGTTTAAAATCTCGT...</td>\n",
       "      <td>ESRRG</td>\n",
       "    </tr>\n",
       "    <tr>\n",
       "      <th>freq</th>\n",
       "      <td>1</td>\n",
       "      <td>17017</td>\n",
       "      <td>1</td>\n",
       "      <td>17017</td>\n",
       "      <td>30</td>\n",
       "    </tr>\n",
       "  </tbody>\n",
       "</table>\n",
       "</div>"
      ],
      "text/plain": [
       "          guide_name                          prefix        guide_sequence  \\\n",
       "count          17017                           17017                 17017   \n",
       "unique         17017                               1                 17017   \n",
       "top     GREGoR_17332  AAGCAGTGGTATCAACGCAGAGTGAATGGG  GTATTGTAAACTACAGCCCA   \n",
       "freq               1                           17017                     1   \n",
       "\n",
       "                                                   suffix target_gene  \n",
       "count                                               17017       17017  \n",
       "unique                                                  1        3096  \n",
       "top     GTTTAAGAGCTAAGCTGGAAACAGCATAGCAAGTTTAAAATCTCGT...       ESRRG  \n",
       "freq                                                17017          30  "
      ]
     },
     "execution_count": 62,
     "metadata": {},
     "output_type": "execute_result"
    }
   ],
   "source": [
    "# Describe the dataframes; note that there are no feature types provided\n",
    "engreitz_guide_ref.describe()"
   ]
  },
  {
   "cell_type": "code",
   "execution_count": 63,
   "metadata": {},
   "outputs": [
    {
     "name": "stdout",
     "output_type": "stream",
     "text": [
      "                      guide_name                          prefix  \\\n",
      "13731  non-targeting_00642_13861  AAGCAGTGGTATCAACGCAGAGTGAATGGG   \n",
      "13732  non-targeting_00718_13862  AAGCAGTGGTATCAACGCAGAGTGAATGGG   \n",
      "13733  non-targeting_03631_13863  AAGCAGTGGTATCAACGCAGAGTGAATGGG   \n",
      "13734  non-targeting_03705_13864  AAGCAGTGGTATCAACGCAGAGTGAATGGG   \n",
      "13735  non-targeting_01469_13865  AAGCAGTGGTATCAACGCAGAGTGAATGGG   \n",
      "\n",
      "             guide_sequence  \\\n",
      "13731  GGAGTTAAGGCCTCGTCTAG   \n",
      "13732  GTCCCAGGCTCTCCACTATG   \n",
      "13733  GGACGCGTCTGCAAGAACGT   \n",
      "13734  GGGCATGGACCCGCGGCACG   \n",
      "13735  GCGTCCGAGGTACTGAATAA   \n",
      "\n",
      "                                                  suffix          target_gene  \n",
      "13731  GTTTAAGAGCTAAGCTGGAAACAGCATAGCAAGTTTAAAATCTCGT...  non-targeting_00642  \n",
      "13732  GTTTAAGAGCTAAGCTGGAAACAGCATAGCAAGTTTAAAATCTCGT...  non-targeting_00718  \n",
      "13733  GTTTAAGAGCTAAGCTGGAAACAGCATAGCAAGTTTAAAATCTCGT...  non-targeting_03631  \n",
      "13734  GTTTAAGAGCTAAGCTGGAAACAGCATAGCAAGTTTAAAATCTCGT...  non-targeting_03705  \n",
      "13735  GTTTAAGAGCTAAGCTGGAAACAGCATAGCAAGTTTAAAATCTCGT...  non-targeting_01469  \n",
      "['non-targeting_00642' 'non-targeting_00718' 'non-targeting_03631'\n",
      " 'non-targeting_03705' 'non-targeting_01469' 'non-targeting_02459'\n",
      " 'non-targeting_00166' 'non-targeting_01967' 'non-targeting_02577'\n",
      " 'non-targeting_00954']\n"
     ]
    }
   ],
   "source": [
    "# how many ids start with non-targeting\n",
    "engreitz_guide_ref[\"target_gene\"].str.startswith(\"non-targeting\").sum()\n",
    "print(engreitz_guide_ref[engreitz_guide_ref[\"target_gene\"].str.startswith(\"non-targeting\")].head())\n",
    "print(non_targeting_ids[:10])"
   ]
  },
  {
   "cell_type": "code",
   "execution_count": 64,
   "metadata": {},
   "outputs": [
    {
     "name": "stdout",
     "output_type": "stream",
     "text": [
      "Non-targeting guides in engreitz reference: 600\n",
      "Do non-targeting guides match? True\n"
     ]
    }
   ],
   "source": [
    "# are these the same as the non_targeting_ids?\n",
    "non_targeting_ids_in_engreitz = engreitz_guide_ref[engreitz_guide_ref[\"target_gene\"].isin(non_targeting_ids)]\n",
    "print(f\"Non-targeting guides in engreitz reference: {non_targeting_ids_in_engreitz.shape[0]}\")\n",
    "non_targeting_match = non_targeting_ids_in_engreitz[\"target_gene\"].isin(non_targeting_ids)\n",
    "print(f\"Do non-targeting guides match? {non_targeting_match.all()}\")"
   ]
  },
  {
   "cell_type": "code",
   "execution_count": 65,
   "metadata": {},
   "outputs": [
    {
     "data": {
      "image/png": "[encoded data removed]",
      "text/plain": [
       "<Figure size 800x600 with 1 Axes>"
      ]
     },
     "metadata": {},
     "output_type": "display_data"
    }
   ],
   "source": [
    "# Plot \n",
    "with sns.plotting_context(\"notebook\", font_scale=1.5):\n",
    "    plt.figure(figsize=(8, 6))\n",
    "    engreitz_guide_ref[\"target_gene\"].value_counts().value_counts().plot(kind='bar')\n",
    "    # put numbers above bars\n",
    "    for i, v in enumerate(engreitz_guide_ref[\"target_gene\"].value_counts().value_counts()):\n",
    "        plt.text(i, v + 0.5, str(v), ha='center', va='bottom')\n",
    "    plt.xlabel(\"Number of guides per gene\")\n",
    "    plt.ylabel(\"Number of genes\")\n",
    "    plt.title(\"Distribution of the number of guides per gene in engreitz lab reference\")\n",
    "    plt.show()"
   ]
  },
  {
   "cell_type": "code",
   "execution_count": 66,
   "metadata": {},
   "outputs": [
    {
     "name": "stdout",
     "output_type": "stream",
     "text": [
      "597\n",
      "['OR1J4' 'OR10K1' 'OR5L2' 'OR52W1' 'OR8K1' 'OR4E2' 'OR4C12' 'OR51T1'\n",
      " 'OR1M1' 'OR51F2']\n"
     ]
    }
   ],
   "source": [
    "# How many guides target a gene in the negative control list? Should be 600 (we have 100 targets with 6 guides each)\n",
    "print(engreitz_guide_ref[\"target_gene\"].isin(negative_control_genes).sum())\n",
    "print(negative_control_genes[:10])"
   ]
  },
  {
   "cell_type": "code",
   "execution_count": 67,
   "metadata": {},
   "outputs": [
    {
     "name": "stdout",
     "output_type": "stream",
     "text": [
      "100\n",
      "set()\n",
      "set()\n",
      "{'GAGTTGGATTTCATCCTCAT'}\n"
     ]
    }
   ],
   "source": [
    "# Is there one that is missing?\n",
    "print(len(negative_control_genes))\n",
    "print(set(negative_control_genes).difference(engreitz_guide_ref[\"target_gene\"]))\n",
    "print(set(engreitz_guide_ref[engreitz_guide_ref[\"target_gene\"].str.startswith(\"OR\")]['target_gene']).difference(negative_control_genes))\n",
    "print(set(huangfu_guide_ref[huangfu_guide_ref['id'].str.startswith(\"OR\")]['sequence']) - set(engreitz_guide_ref[engreitz_guide_ref[\"target_gene\"].str.startswith(\"OR\")]['guide_sequence']))\n",
    "\n",
    "# Corresponds to OR2T5_3"
   ]
  },
  {
   "cell_type": "code",
   "execution_count": 68,
   "metadata": {},
   "outputs": [
    {
     "data": {
      "text/plain": [
       "np.int64(4)"
      ]
     },
     "execution_count": 68,
     "metadata": {},
     "output_type": "execute_result"
    }
   ],
   "source": [
    "# What about positive controls, should have 19?\n",
    "engreitz_guide_ref[\"target_gene\"].isin(positive_control_genes).sum()"
   ]
  },
  {
   "cell_type": "code",
   "execution_count": 69,
   "metadata": {},
   "outputs": [
    {
     "name": "stdout",
     "output_type": "stream",
     "text": [
      "{'ITGB1', 'CD29', 'DNAJC19', 'CD55', 'CD81', 'POLR1D', 'AARS', 'CD151'}\n",
      "                  guide_name                          prefix  \\\n",
      "14331     AARS sgRNA B_14461  AAGCAGTGGTATCAACGCAGAGTGAATGGG   \n",
      "14332     AARS sgRNA C_14464  AAGCAGTGGTATCAACGCAGAGTGAATGGG   \n",
      "14333  AARS sgRNA main_14467  AAGCAGTGGTATCAACGCAGAGTGAATGGG   \n",
      "14335     CD151_strong_14480  AAGCAGTGGTATCAACGCAGAGTGAATGGG   \n",
      "14336       CD151_weak_14490  AAGCAGTGGTATCAACGCAGAGTGAATGGG   \n",
      "\n",
      "             guide_sequence  \\\n",
      "14331  GCGGCGACCCTAGGAGAGGT   \n",
      "14332  GCCGCCCTCGGAGAGCTCTG   \n",
      "14333  GTCTGCGGGAATAGGTGCAG   \n",
      "14335  GCCGGACTCGGACGCGTGGT   \n",
      "14336  GCCGCTCGGCCGAGCTGTCG   \n",
      "\n",
      "                                                  suffix      target_gene  \n",
      "14331  GTTTAAGAGCTAAGCTGGAAACAGCATAGCAAGTTTAAAATCTCGT...     AARS sgRNA B  \n",
      "14332  GTTTAAGAGCTAAGCTGGAAACAGCATAGCAAGTTTAAAATCTCGT...     AARS sgRNA C  \n",
      "14333  GTTTAAGAGCTAAGCTGGAAACAGCATAGCAAGTTTAAAATCTCGT...  AARS sgRNA main  \n",
      "14335  GTTTAAGAGCTAAGCTGGAAACAGCATAGCAAGTTTAAAATCTCGT...     CD151_strong  \n",
      "14336  GTTTAAGAGCTAAGCTGGAAACAGCATAGCAAGTTTAAAATCTCGT...       CD151_weak  \n"
     ]
    }
   ],
   "source": [
    "# What's the difference?\n",
    "print(set(positive_control_genes).difference(engreitz_guide_ref[\"target_gene\"]))\n",
    "\n",
    "# Search for these genes with variable labels\n",
    "missing_pos_controls = set(positive_control_genes).difference(engreitz_guide_ref[\"target_gene\"])\n",
    "combined_pattern = '|'.join(missing_pos_controls)\n",
    "matches = engreitz_guide_ref[\"target_gene\"].str.contains(combined_pattern, na=False, regex=True)\n",
    "print(engreitz_guide_ref[matches].head())\n",
    "\n",
    "# Each has appendices (e.g.. '_sgRNA_main_A', or '_strong')"
   ]
  },
  {
   "cell_type": "code",
   "execution_count": 70,
   "metadata": {},
   "outputs": [
    {
     "name": "stdout",
     "output_type": "stream",
     "text": [
      "type\n",
      "targeting           15802\n",
      "non_targeting         600\n",
      "negative_control      597\n",
      "positive_control       18\n",
      "Name: count, dtype: int64\n",
      "{'AARS sgRNA main', 'MALAT1', 'DNAJC19_sgRNA_main', 'POLR1D_sgRNA_main', 'DNAJC19_sgRNAB', 'DNAJC19_sgRNA_C', 'AARS sgRNA C', 'AARS sgRNA B', 'CD29_(ITGB1)', 'CD151_strong', 'NGFRAP1', 'POLR1D_sgRNA_C', 'TFRC', 'CD55_strong', 'POLR1D_sgRNA_B', 'B2M', 'CD151_weak'}\n",
      "['CD81' 'CD81' 'CD151' 'CD151' 'CD55' 'CD29' 'B2M' 'AARS' 'AARS' 'AARS'\n",
      " 'POLR1D' 'POLR1D' 'POLR1D' 'DNAJC19' 'DNAJC19' 'DNAJC19' 'MALAT1'\n",
      " 'NGFRAP1' 'TFRC' 'ITGB1']\n"
     ]
    }
   ],
   "source": [
    "# Final thing: annotated types of guides\n",
    "# 1. If it starts with \"non-targeting\", it's a non-targeting guide\n",
    "# 2. If it starts with \"OR\", it's a negative control\n",
    "# 3. If its in the positive control list, it's a positive control\n",
    "# 4. Otherwise its a targeting guide\n",
    "def annotate_guide_type_engreitz(row):\n",
    "    if row[\"target_gene\"].startswith(\"non-targeting\"):\n",
    "        return \"non_targeting\"\n",
    "    elif row[\"target_gene\"].startswith(\"OR\"):\n",
    "        return \"negative_control\"\n",
    "    elif check_if_pos_control(row['target_gene']):\n",
    "        return \"positive_control\"\n",
    "    else:\n",
    "        return \"targeting\"\n",
    "\n",
    "import re\n",
    "def check_if_pos_control(targ_gene):\n",
    "    base_gene = re.split(r'[_\\s(]', targ_gene)[0].upper()\n",
    "    if(base_gene in set(positive_control_genes)):\n",
    "        return True\n",
    "    return False\n",
    "\n",
    "engreitz_guide_ref[\"type\"] = engreitz_guide_ref.apply(annotate_guide_type_engreitz, axis=1)\n",
    "guide_type_counts = engreitz_guide_ref[\"type\"].value_counts()\n",
    "print(guide_type_counts)\n",
    "\n",
    "print(set(engreitz_guide_ref[engreitz_guide_ref[\"type\"] == \"positive_control\"]['target_gene']))\n",
    "print(positive_control_genes)"
   ]
  },
  {
   "cell_type": "code",
   "execution_count": 71,
   "metadata": {},
   "outputs": [
    {
     "name": "stdout",
     "output_type": "stream",
     "text": [
      "{'ITGB1', 'CD81'}\n"
     ]
    }
   ],
   "source": [
    "# Which one is missing?\n",
    "# Extract base gene names from found_genes\n",
    "def extract_base_gene(s):\n",
    "    return re.split(r'[_\\s(]', s)[0].upper()\n",
    "\n",
    "found_base_genes = {extract_base_gene(g) for g in set(engreitz_guide_ref[engreitz_guide_ref[\"type\"] == \"positive_control\"]['target_gene'])}\n",
    "print(set(positive_control_genes) - set(found_base_genes)) # missing CD81"
   ]
  },
  {
   "cell_type": "markdown",
   "metadata": {},
   "source": [
    "# Look for overlap with Pool F"
   ]
  },
  {
   "cell_type": "code",
   "execution_count": 72,
   "metadata": {},
   "outputs": [
    {
     "data": {
      "text/html": [
       "<div>\n",
       "<style scoped>\n",
       "    .dataframe tbody tr th:only-of-type {\n",
       "        vertical-align: middle;\n",
       "    }\n",
       "\n",
       "    .dataframe tbody tr th {\n",
       "        vertical-align: top;\n",
       "    }\n",
       "\n",
       "    .dataframe thead th {\n",
       "        text-align: right;\n",
       "    }\n",
       "</style>\n",
       "<table border=\"1\" class=\"dataframe\">\n",
       "  <thead>\n",
       "    <tr style=\"text-align: right;\">\n",
       "      <th></th>\n",
       "      <th>sgRNA coordinates</th>\n",
       "      <th>Region name</th>\n",
       "      <th>Region coordinates</th>\n",
       "      <th>sgRNA protospacer sequence</th>\n",
       "    </tr>\n",
       "  </thead>\n",
       "  <tbody>\n",
       "    <tr>\n",
       "      <th>0</th>\n",
       "      <td>chr9:104927901-104927919(+)</td>\n",
       "      <td>ABCA1_P1P2</td>\n",
       "      <td>chr9:104927901-104928151</td>\n",
       "      <td>TAACGCCCAAGTAAGTCAC</td>\n",
       "    </tr>\n",
       "    <tr>\n",
       "      <th>1</th>\n",
       "      <td>chr9:104928028-104928046(+)</td>\n",
       "      <td>ABCA1_P1P2</td>\n",
       "      <td>chr9:104927901-104928151</td>\n",
       "      <td>AGCAAAGCGCCCTGAGAAC</td>\n",
       "    </tr>\n",
       "    <tr>\n",
       "      <th>2</th>\n",
       "      <td>chr9:104928084-104928102(+)</td>\n",
       "      <td>ABCA1_P1P2</td>\n",
       "      <td>chr9:104927901-104928151</td>\n",
       "      <td>GCCGCAGCCCGGGAGAGAA</td>\n",
       "    </tr>\n",
       "    <tr>\n",
       "      <th>3</th>\n",
       "      <td>chr9:104928088-104928106(+)</td>\n",
       "      <td>ABCA1_P1P2</td>\n",
       "      <td>chr9:104927901-104928151</td>\n",
       "      <td>CAGCCCGGGAGAGAAGGGT</td>\n",
       "    </tr>\n",
       "    <tr>\n",
       "      <th>4</th>\n",
       "      <td>chr9:104928093-104928111(+)</td>\n",
       "      <td>ABCA1_P1P2</td>\n",
       "      <td>chr9:104927901-104928151</td>\n",
       "      <td>CGGGAGAGAAGGGTCGGCT</td>\n",
       "    </tr>\n",
       "  </tbody>\n",
       "</table>\n",
       "</div>"
      ],
      "text/plain": [
       "             sgRNA coordinates Region name        Region coordinates  \\\n",
       "0  chr9:104927901-104927919(+)  ABCA1_P1P2  chr9:104927901-104928151   \n",
       "1  chr9:104928028-104928046(+)  ABCA1_P1P2  chr9:104927901-104928151   \n",
       "2  chr9:104928084-104928102(+)  ABCA1_P1P2  chr9:104927901-104928151   \n",
       "3  chr9:104928088-104928106(+)  ABCA1_P1P2  chr9:104927901-104928151   \n",
       "4  chr9:104928093-104928111(+)  ABCA1_P1P2  chr9:104927901-104928151   \n",
       "\n",
       "  sgRNA protospacer sequence  \n",
       "0        TAACGCCCAAGTAAGTCAC  \n",
       "1        AGCAAAGCGCCCTGAGAAC  \n",
       "2        GCCGCAGCCCGGGAGAGAA  \n",
       "3        CAGCCCGGGAGAGAAGGGT  \n",
       "4        CGGGAGAGAAGGGTCGGCT  "
      ]
     },
     "execution_count": 72,
     "metadata": {},
     "output_type": "execute_result"
    }
   ],
   "source": [
    "# Optional \"Pool F\" guides - see if the Gersbach or Engreitz groups' non-targeting guides overlap this \n",
    "pool_f = pd.read_csv(local_path + \"poolF_sgRNAs.csv\")\n",
    "pool_f.head()"
   ]
  },
  {
   "cell_type": "code",
   "execution_count": 73,
   "metadata": {},
   "outputs": [],
   "source": [
    "# Add a reverse compliment column to Gersbach lab file for matching\n",
    "def reverse_compliment(sequence):\n",
    "    complement = {'A': 'T', 'T': 'A', 'C': 'G', 'G': 'C'}\n",
    "    return \"\".join(complement.get(base, base) for base in reversed(sequence.upper()))\n",
    "\n",
    "gersbach_guide_ref['reverse_compliment'] = gersbach_guide_ref['sequence'].apply(reverse_compliment)"
   ]
  },
  {
   "cell_type": "code",
   "execution_count": 74,
   "metadata": {},
   "outputs": [
    {
     "name": "stdout",
     "output_type": "stream",
     "text": [
      "Hon:['GAAAAACGCGGACGCTGACG', 'GAAAAAGATCCTCTGAGAGG', 'GAAAAAGGCGACACATGACC', 'GAAAACAAGACCTAGAGCTC', 'GAAAACACCAACCCGGGCAG']\n",
      "Huangfu:['GAGTGGCCGGTCCAGAGCTG', 'GGCGCCTCGAGGCCGAGTCA', 'GCCCCGGGAGGGCGGAGAAG', 'GCGAGGTCCTGGCGGCTAAT', 'GCGGGAGAGCTCCTCCAGGT']\n",
      "Gersbach:['GAAAAACGCGGACGCTGACG', 'GAAAAAGATCCTCTGAGAGG', 'GAAAAAGGCGACACATGACC', 'GAAAACAAGACCTAGAGCTC', 'GTTTTCACCAACCCGGGCAG']\n",
      "Engreitz:['GAGTGGCCGGTCCAGAGCTG', 'GGGATCAAGGCGAGAGGATC', 'GGCGCCTCGAGGCCGAGTCA', 'GCAGCAGCGGGGACCGAGAG', 'GCCCCGGGAGGGCGGAGAAG']\n"
     ]
    }
   ],
   "source": [
    "# Get the targeting guides that do not overlap all files\n",
    "hon_targeting = hon_guide_ref[hon_guide_ref['type'] == 'targeting']['protospacer']\n",
    "hon_targeting = [seq.upper() for seq in hon_targeting]\n",
    "huangfu_targeting = huangfu_guide_ref[huangfu_guide_ref['type'] == 'targeting']['sequence']\n",
    "huangfu_targeting = [seq.upper() for seq in huangfu_targeting]\n",
    "gersbach_targeting = gersbach_guide_ref[gersbach_guide_ref['type'] == 'targeting']['reverse_compliment']\n",
    "gersbach_targeting = [seq.upper() for seq in gersbach_targeting]\n",
    "engreitz_targeting = engreitz_guide_ref[engreitz_guide_ref['type'] == 'targeting']['guide_sequence']\n",
    "engreitz_targeting = [seq.upper() for seq in engreitz_targeting]\n",
    "\n",
    "\n",
    "print(\"Hon:\" + str(hon_targeting[:5]))\n",
    "print(\"Huangfu:\" + str(huangfu_targeting[:5]))\n",
    "print(\"Gersbach:\" + str(gersbach_targeting[:5]))\n",
    "print(\"Engreitz:\" + str(engreitz_targeting[:5]))\n",
    "\n",
    "full_intersect = list(set(hon_targeting).intersection(huangfu_targeting, gersbach_targeting, engreitz_targeting))\n",
    "len(full_intersect) #11,985 that intersect all reference files\n",
    "hon_guide_ref[hon_guide_ref['protospacer'].isin(full_intersect)].to_csv(local_path + \"all_lab_intersection.csv\")"
   ]
  },
  {
   "cell_type": "code",
   "execution_count": 75,
   "metadata": {},
   "outputs": [
    {
     "name": "stdout",
     "output_type": "stream",
     "text": [
      "Hon 1156\n",
      "Huangfu 1162\n",
      "Gersbach 3832\n",
      "Engreitz 3817\n"
     ]
    }
   ],
   "source": [
    "# How many do not intersect? \n",
    "hon_extra = list(set(hon_targeting) - set(full_intersect))\n",
    "print(\"Hon \" + str(len(hon_extra)))\n",
    "huangfu_extra = list(set(huangfu_targeting) - set(full_intersect))\n",
    "print(\"Huangfu \" + str(len(huangfu_extra)))\n",
    "gersbach_extra = list(set(gersbach_targeting) - set(full_intersect))\n",
    "print(\"Gersbach \" + str(len(gersbach_extra)))\n",
    "engreitz_extra = list(set(engreitz_targeting) - set(full_intersect))\n",
    "print(\"Engreitz \" + str(len(engreitz_extra)))"
   ]
  },
  {
   "cell_type": "code",
   "execution_count": 84,
   "metadata": {},
   "outputs": [
    {
     "name": "stdout",
     "output_type": "stream",
     "text": [
      "0\n",
      "0\n",
      "2592\n",
      "922\n",
      "2745\n"
     ]
    }
   ],
   "source": [
    "# Do these intersect with Pool F?\n",
    "print(len(set(hon_extra).intersection(pool_f['sgRNA protospacer sequence'])))\n",
    "print(len(set(huangfu_extra).intersection(pool_f['sgRNA protospacer sequence'])))\n",
    "print(len(set(gersbach_extra).intersection(pool_f['sgRNA protospacer sequence'])))\n",
    "print(len(set(engreitz_extra).intersection(pool_f['sgRNA protospacer sequence'])))\n",
    "\n",
    "print(len(pool_f['sgRNA protospacer sequence']))"
   ]
  },
  {
   "cell_type": "code",
   "execution_count": 77,
   "metadata": {},
   "outputs": [
    {
     "name": "stdout",
     "output_type": "stream",
     "text": [
      "Hon&Huangfu: 1156\n",
      "Hon&Gersbach: 7\n",
      "Hon&Engreitz: 1149\n",
      "Huangfu&Gersbach: 7\n",
      "Huangfu&Engreitz: 1149\n",
      "Gersbach&Engreitz: 0\n",
      "Hon&Huangfu&Gersbach: 7\n",
      "Hon&Huangfu&Engreitz: 1149\n",
      "Hon&Gersbach&Engreitz: 0\n",
      "Huangfu&Gersbach&Engreitz: 0\n",
      "Hon&Huangfu&Gersbach&Engreitz: 0\n"
     ]
    }
   ],
   "source": [
    "# OK - do the remaining (non pool F) guides intersect each other?\n",
    "from itertools import combinations\n",
    "def all_intersections(named_lists, min_group_size=2):\n",
    "    intersections = {}\n",
    "    items = list(named_lists.items())\n",
    "    for r in range(min_group_size, len(items)+1):  # all sizes from 2 to N\n",
    "        for combo in combinations(items, r):\n",
    "            names = [name for name, _ in combo]\n",
    "            sets = [set(lst) for _, lst in combo]\n",
    "            key = \"&\".join(names)\n",
    "            intersections[key] = list(set.intersection(*sets))\n",
    "    \n",
    "    return intersections\n",
    "\n",
    "gersbach_extra_nof = list(set(gersbach_extra) - set(pool_f['sgRNA protospacer sequence']))\n",
    "engreitz_extra_nof = list(set(engreitz_extra) - set(pool_f['sgRNA protospacer sequence']))\n",
    "\n",
    "res_all_intersect = all_intersections({\"Hon\": hon_extra, \"Huangfu\": huangfu_extra, \"Gersbach\": gersbach_extra_nof, \"Engreitz\": engreitz_extra_nof})\n",
    "for group, shared in res_all_intersect.items():\n",
    "    print(f\"{group}: {len(shared)}\")"
   ]
  },
  {
   "cell_type": "code",
   "execution_count": 78,
   "metadata": {},
   "outputs": [
    {
     "name": "stdout",
     "output_type": "stream",
     "text": [
      "Engreitz: 1746 guides\n",
      "Gersbach: 1233 guides\n",
      "Engreitz&Hon&Huangfu: 1149 guides\n",
      "Gersbach&Hon&Huangfu: 7 guides\n",
      "Huangfu: 6 guides\n"
     ]
    }
   ],
   "source": [
    "from itertools import chain\n",
    "\n",
    "def partition_by_group_presence(named_lists):\n",
    "    guide_to_groups = {}\n",
    "\n",
    "    # Map each guide to all the groups it appears in\n",
    "    for group, guides in named_lists.items():\n",
    "        for guide in guides:\n",
    "            guide_to_groups.setdefault(guide, set()).add(group)\n",
    "\n",
    "    # Invert to get: group combination → list of guides\n",
    "    pattern_to_guides = {}\n",
    "    for guide, groups in guide_to_groups.items():\n",
    "        key = \"&\".join(sorted(groups))\n",
    "        pattern_to_guides.setdefault(key, []).append(guide)\n",
    "\n",
    "    return pattern_to_guides\n",
    "\n",
    "partitioned = partition_by_group_presence({\"Hon\": hon_extra, \"Huangfu\": huangfu_extra, \"Gersbach\": gersbach_extra_nof, \"Engreitz\": engreitz_extra_nof})\n",
    "for group_combo, gids in sorted(partitioned.items(), key=lambda x: (-len(x[1]), x[0])):\n",
    "    print(f\"{group_combo}: {len(gids)} guides\")"
   ]
  },
  {
   "cell_type": "code",
   "execution_count": 79,
   "metadata": {},
   "outputs": [
    {
     "name": "stderr",
     "output_type": "stream",
     "text": [
      "c:\\Users\\sarae\\anaconda3\\envs\\sara_env\\Lib\\site-packages\\upsetplot\\data.py:303: FutureWarning: Downcasting object dtype arrays on .fillna, .ffill, .bfill is deprecated and will change in a future version. Call result.infer_objects(copy=False) instead. To opt-in to the future behavior, set `pd.set_option('future.no_silent_downcasting', True)`\n",
      "  df.fillna(False, inplace=True)\n",
      "c:\\Users\\sarae\\anaconda3\\envs\\sara_env\\Lib\\site-packages\\upsetplot\\plotting.py:795: FutureWarning: A value is trying to be set on a copy of a DataFrame or Series through chained assignment using an inplace method.\n",
      "The behavior will change in pandas 3.0. This inplace method will never work because the intermediate object on which we are setting values always behaves as a copy.\n",
      "\n",
      "For example, when doing 'df[col].method(value, inplace=True)', try using 'df.method({col: value}, inplace=True)' or df[col] = df[col].method(value) instead, to perform the operation inplace on the original object.\n",
      "\n",
      "\n",
      "  styles[\"linewidth\"].fillna(1, inplace=True)\n",
      "c:\\Users\\sarae\\anaconda3\\envs\\sara_env\\Lib\\site-packages\\upsetplot\\plotting.py:796: FutureWarning: A value is trying to be set on a copy of a DataFrame or Series through chained assignment using an inplace method.\n",
      "The behavior will change in pandas 3.0. This inplace method will never work because the intermediate object on which we are setting values always behaves as a copy.\n",
      "\n",
      "For example, when doing 'df[col].method(value, inplace=True)', try using 'df.method({col: value}, inplace=True)' or df[col] = df[col].method(value) instead, to perform the operation inplace on the original object.\n",
      "\n",
      "\n",
      "  styles[\"facecolor\"].fillna(self._facecolor, inplace=True)\n",
      "c:\\Users\\sarae\\anaconda3\\envs\\sara_env\\Lib\\site-packages\\upsetplot\\plotting.py:797: FutureWarning: A value is trying to be set on a copy of a DataFrame or Series through chained assignment using an inplace method.\n",
      "The behavior will change in pandas 3.0. This inplace method will never work because the intermediate object on which we are setting values always behaves as a copy.\n",
      "\n",
      "For example, when doing 'df[col].method(value, inplace=True)', try using 'df.method({col: value}, inplace=True)' or df[col] = df[col].method(value) instead, to perform the operation inplace on the original object.\n",
      "\n",
      "\n",
      "  styles[\"edgecolor\"].fillna(styles[\"facecolor\"], inplace=True)\n",
      "c:\\Users\\sarae\\anaconda3\\envs\\sara_env\\Lib\\site-packages\\upsetplot\\plotting.py:798: FutureWarning: A value is trying to be set on a copy of a DataFrame or Series through chained assignment using an inplace method.\n",
      "The behavior will change in pandas 3.0. This inplace method will never work because the intermediate object on which we are setting values always behaves as a copy.\n",
      "\n",
      "For example, when doing 'df[col].method(value, inplace=True)', try using 'df.method({col: value}, inplace=True)' or df[col] = df[col].method(value) instead, to perform the operation inplace on the original object.\n",
      "\n",
      "\n",
      "  styles[\"linestyle\"].fillna(\"solid\", inplace=True)\n"
     ]
    },
    {
     "data": {
      "text/plain": [
       "<Figure size 10000x1000 with 0 Axes>"
      ]
     },
     "metadata": {},
     "output_type": "display_data"
    },
    {
     "data": {
      "image/png": "[encoded data removed]",
      "text/plain": [
       "<Figure size 444.444x444.444 with 4 Axes>"
      ]
     },
     "metadata": {},
     "output_type": "display_data"
    }
   ],
   "source": [
    "# Visualize as an UpSet plot\n",
    "from upsetplot import UpSet, from_memberships\n",
    "\n",
    "def prepare_upset_data(named_lists):\n",
    "    # Convert each group's list into sets\n",
    "    sets = {name: set(vals) for name, vals in named_lists.items()}\n",
    "\n",
    "    # Get universe of all unique items\n",
    "    all_guides = set.union(*sets.values())\n",
    "\n",
    "    # Build membership list for each guide\n",
    "    memberships = []\n",
    "    for guide in all_guides:\n",
    "        present_in = [name for name, s in sets.items() if guide in s]\n",
    "        memberships.append(present_in)\n",
    "\n",
    "    # Create the data in upsetplot-compatible format\n",
    "    data = from_memberships(memberships)\n",
    "    return data\n",
    "\n",
    "# Usage\n",
    "guide_sets = {\n",
    "    \"Hon\": hon_extra,\n",
    "    \"Huangfu\": huangfu_extra,\n",
    "    \"Gersbach\": gersbach_extra_nof,\n",
    "    \"Engreitz\": engreitz_extra_nof\n",
    "}\n",
    "\n",
    "upset_data = prepare_upset_data(guide_sets)\n",
    "\n",
    "# Plot\n",
    "plt.figure(figsize=(100, 10))\n",
    "UpSet(upset_data, subset_size='count', show_counts=True).plot()\n",
    "plt.suptitle(\"UpSet Plot of Guide Intersections\")\n",
    "plt.show()"
   ]
  },
  {
   "cell_type": "code",
   "execution_count": 80,
   "metadata": {},
   "outputs": [
    {
     "name": "stdout",
     "output_type": "stream",
     "text": [
      "1149\n",
      "7\n",
      "0\n",
      "EMX1_P1_4, TEAD1_1, ZNF366_1, MBD2_4, KCMF1_1, PURG_1, GMEB2_2, ZNF112_5, CTBP2_6, ZBTB39_6, ZNF417_3, ZNF652_4, ETV6_2, NFIX_P1_2, HDGF_6, PAX6_3, SLC2A4RG_2, ZNF534_3, ANHX_3, BARX1_3, CRTC3_2, ZFHX2_P1_3, NCOA3_4, ZBTB44_1, CAMTA1_2, ZNF653_5, EGR3_1, PAX9_P2_1, ZNF311_4, GTF2IRD2B_2|GTF2IRD2_2, RORB_1, ZNF703_4, ZBTB2_2, PATZ1_P2_6, ZNF177_P1_1, PPARA_3, RFX7_5, ZNF618_5, THAP4_5, POU2F3_P1_2, NACC2_5, KMT2B_P2_6, TIGD2_6, CBFB_4, KMT2B_P2_3, LMX1B_1, HDGF_1, RUNX3_P2_1, SOX18_1, CPEB1_P1_3, ZBTB40_2, ZNF628_4, BARX1_5, ARID2_6, GTF2IRD1_5, GSC2_1, CHD7_4, NCOA3_1, WHSC1_2, TEAD3_1, CREM_3, ZFP14_3, FOXK2_1, ARID3A_3, NR2F2_4, STRAP_6, ZNF704_5, ZNF699_P1_3, BRPF1_5, FOXF1_3, MXD3_6, MTA1_5, JDP2_3, NFATC3_5, ZSCAN31_P1_5, ERG_P1_2, NFE4_3, ZNF587_6, TCEB2_5, TFEB_P1_1, HOXD13_1, SCRT1_1, ZNF501_2, NOTCH1_P1_3, ZFP42_P1_3, ASCL3_6, IKZF5_2, ZFPM1_6, NFE2L3_3, ZSCAN31_P1_6, MSLN_3, ZSCAN5A_P1_6, ZFHX3_3, SKI_3, EBF4_5, ASCL3_5, ZFP42_P1_1, ZNF273_P1_4, ZBTB4_P1_3, NR2F6_2, ETF1_1, GATAD2A_P2_1, ETF1_5, POU2F3_P1_5, CTCF_2, TLX1_2, YBX2_6, DNAJC21_5, ZNF865_1, FOXO6_3, CBL_6, DNAJC1_6, NCOA3_3, EWSR1_4, MYRF_P1_5, ELK1_1, PDX1_2, YAF2_4, CREM_1, SIN3A_P1_1, SKIL_2, SMARCC2_1, ZFHX2_P2_4, ZNF362_4, TPI1_2, LEUTX_5, ZNF48_5, EGR3_4, EMX1_P1_3, MSLN_2, MIER2_5, RUNX3_P2_3, ZBED4_2, ZNF705A_1, SMARCB1_P2_4, ZNF83_P3_5, TERF2_6, ZNF281_3, AEBP1_3, HIC2_P1_1, ARID1A_1, SOX11_1, NCOA3_2, ZNF592_6, HIC2_P1_3, ZSCAN31_P1_2, ZNF735_6, RFX3_2, MAFG_3, LITAF_3, ZNF587B_4, MYRF_P1_1, PRRX2_5, CDX1_1, FOXG1_5, TCF15_1, ZNF444_6, ZCCHC11_5, NR6A1_4, GTF2IRD2B_4|GTF2IRD2_3, LITAF_6, SCXB_2, EGR1_P2_2, ZNF34_1, HIRA_P1_5, SETD1A_3, KLF17_4, HOXA13_6, PURA_P2_4, KMT2A_6, TEAD3_3, ZBTB22_4, ZNF592_4, ZNF84_1, ADNP_4, FOXK2_4, TFAP2A_P1_4, HIC2_P1_6, FOXC1_1, ZNF341_P2_2, PRDM12_3, CBFA2T3_P2_4, CNOT8_2, FIGLA_5, ZNF587B_6, SMAD2_1, FOXI3_6, TCF12_P2_5, IKZF5_4, LMX1B_2, NACC2_6, ZNF775_6, EOMES_4, ZIC3_2, ZBTB46_1, PAX9_P2_3, ZNF652_1, ZNF333_3, KLF15_6, ZNF592_1, ZNF219_4, HOXA13_5, ETS1_4, ZFP62_5, BMP2_P2_2, KLF2_6, LIN9_2, ARID3C_6, HAND2_P2_5, NKX2-2_6, TFAP2A_P2_6, PRDM11_P2_2, ZNF653_2, ZNF83_P3_2, TSHZ2_3, ERF_3, GMEB2_4, CBFB_6, JUP_3, CREM_5, CDX2_2, CGGBP1_P2_5, TFEB_P2_6, ZNF598_1, CDX2_5, ZNF395_3, TPRX1_1, ZNF333_1, ZNF280D_5, ZNF704_6, ZNF853_P1_6, IRX1_2, HMGN2_4, LHX2_1, CTBP1_1, ZBTB7A_P1_1, ZNF124_6, KLF16_3, BNC2_4, FOXF2_6, FOXK1_1, ZIC3_1, LCOR_2, THAP7_5, TPRX1_4, RUNX3_P2_5, MYRF_P1_3, MTA1_6, HDGF_5, IRX6_1, MYBL2_1, GLI2_P2_1, ZNF273_P1_3, CEBPG_4, SCRT1_2, ZNF444_3, KLF11_4, ZNF513_2, MSANTD3_4, NR2F2_1, LCORL_2, PURG_5, ZNF236_4, EGR1_P2_5, ERG_P1_6, NFE2L3_4, CUX2_4, SCRT1_5, SIN3A_P1_2, ZBTB34_6, SOX18_3, MIXL1_1, SHOX2_4, ZNF587_2, SMYD2_1, ELF2_3, ZNF705D_5|ZNF705B_P1_6, MSANTD3_1, UNKL_3, SOX18_6, HIVEP2_2, ERF_2, ERG_P1_1, SMARCC2_5, MIER1_P2_6, CBL_2, KAT2A_4, HOXC4_3, MSLN_4, RELB_5, ZNF600_4, MSLN_5, EBF4_6, ZNF317_6, GBX2_5, ZNF618_2, ZNF80_5, ZNF512B_6, NFIC_P2_3, NR2C2_5, OLIG1_2, MXD4_5, MIER1_P2_4, CBFB_2, C11orf95_3, ZNF787_6, PRDM11_P2_4, KLF10_P1_6, CENPBD1_4, ONECUT1_6, ZNF816_P2_5, LIN54_P2_3, BRPF1_2, FOXK2_5, MYRF_P1_4, CRTC1_6, FOXO3_P1_5, PBRM1_3, PURA_P2_2, POU2F3_P1_3, ZBTB39_4, POGK_5, MAFG_6, KLF17_6, TRIM28_1, CENPB_1, ZNF658_4, GATAD2A_P2_2, BBX_3, SIN3A_P1_4, NOTCH1_P1_1, E2F4_6, MXI1_P2_4, GLI1_3, LITAF_2, IKZF5_3, IRX6_6, GLI2_P2_4, KMT2B_P1_4, LDB1_P2_1, E2F3_P1_4, MSLN_1, NPAS1_3, PURG_4, CBL_5, HOXD8_4, POU2F3_P2_5, CBFA2T3_P2_3, ZNF687_1, SMAD9_5, ZNF444_4, MXI1_P1_1, TIGD3_3, ID1_5, KLF10_P2_2, ATXN7_P2_5, HOXC8_1, CPEB1_P1_5, PLEKHA5_5, TSHZ2_1, PURB_1, IRX2_2, RFX2_2, ZNF280C_2, CBFA2T2_2, JAZF1_5, CRAMP1L_P1_5, SMARCC2_4, PRDM11_P2_1, FOXN3_P2_6, HAND1_2, ZBTB4_P1_1, GMEB2_1, HES5_1, NFE4_1, CTBP1_4, UNKL_4, PURB_6, CBFA2T2_6, SUB1_P2_3, ZNF704_4, POLR3K_2, ZNF366_4, BARX1_1, MAFB_2, FOXO4_1, LDB1_P1_2, NFIC_P2_4, ETS1_6, TIGD5_2, SALL3_3, DEAF1_4, ZNF839_4, FOXP4_6, ERF_1, ZNF646_6, ZNF540_P2_1, GTF2IRD1_6, MSANTD3_3, SOX13_6, MBD3_1, GMEB2_6, TFAP2A_P2_1, SCRT1_4, TAF4_1, PRR12_5, RHOXF1_6, ZNF703_6, C11orf95_1, KMT2B_P2_5, TIGD5_6, ESRRA_2, ZBTB22_1, ZNF697_2, TCF7L1_3, ADNP2_6, ZBTB22_5, ZNF534_4, ZBTB46_6, LDB2_1, GMEB1_6, NKX6-1_4, FOXO1_6, CIZ1_3, ATF1_1, DMRTC2_4, ZNF280C_5, POU3F1_1, SMARCC1_2, RELB_3, ZNF888_P1_1, CNOT8_3, SIX5_4, CEBPG_2, POU3F2_1, ZNF281_4, SMARCC1_1, GATAD2B_5, MXD4_3, PRRX2_3, CENPB_5, CAPN15_6, SIM2_4, NFATC1_P2_6, JUND_2, SRF_3, ZNF296_2, PIAS3_3, ZNF273_P1_6, CTCF_1, RELB_4, NR2C2_2, INSM1_6, MAFK_1, ZNF230_5, BCL6_2, VAX2_3, ZNF282_4, DACH1_5, ERG_P1_5, CBFA2T2_3, SCRT1_3, GAS7_2, CPEB1_P1_6, MEIS3_P1_2, SOX2_2, ARID3C_5, RBPJL_6, KIAA1549_2, EGR3_6, ARID1B_P1_6, NFATC3_3, NR2C2_3, NKX6-2_5, HDGF_2, BRPF1_3, MLLT1_5, ZNF395_2, ZNF540_P2_5, ZNF365_3, ZSCAN32_6, CEBPB_3, MYSM1_6, BNC1_6, BID_2, IRX6_2, ERF_5, PURG_3, LHX8_4, SATB1_P2_2, TGFB1I1_2, NFE4_5, HES5_2, MYBL2_4, DNAJC21_2, CGGBP1_P2_3, ZIC2_2, FOXK2_6, SKI_5, DMRTC2_3, ZNF333_5, RFX4_2, TOX2_4, ATMIN_3, FIZ1_3, FOXA1_4, PDX1_5, FOSL1_2, RUNX3_P2_4, TFEB_P2_1, ZNF658_3, FOXO6_1, KMT2A_2, THRA_5, ZNF699_P1_5, GMEB1_5, PRR12_3, NR4A3_6, MXD4_2, LDB1_P2_2, TBX1_1, TP53BP1_P1_2, TOX2_5, CRTC3_4, HMX1_6, PLEKHA5_4, ZNF600_6, HOXC10_3, MAFK_4, ZNF438_P2_4, SMAD7_1, YAF2_6, ZNF124_1, SUZ12_4, DMBX1_4, ZNF362_1, LCOR_5, ZFHX2_P2_1, MIER2_3, ZBTB33_3, BARX1_2, CASZ1_4, SMYD2_4, YEATS2_2, ZBTB42_2, ZNF575_2, ANHX_4, E2F3_P1_2, POU3F2_4, TCEB2_2, MLLT1_3, VEZF1_3, ZSCAN31_P1_3, L3MBTL4_4, SRCAP_6, ZNF165_6, HES2_P2_5, NKX6-1_3, ZNF852_2, CBFA2T3_P2_2, PHF2_5, JUND_1, ZNF575_3, ZNF540_P2_6, ESR2_5, ELMSAN1_P2_4, ZNF540_P2_4, TBX2_6, LDB1_P2_4, SCMH1_P2_6, ZNF540_P2_2, TCF3_3, NPAS2_6, NR2C2_1, PBRM1_4, WHSC1_6, EMX1_P1_6, HHEX_3, RXRA_1, NKX6-1_1, UNCX_1, ZNF273_P1_2, RORC_P2_4, PHF2_3, CBX2_1, SETBP1_6, LCOR_6, MAFK_5, BHLHE23_3, IRX6_3, HOXB2_3, FOXG1_2, ARID3A_2, CREBBP_5, ZFHX3_4, CBFA2T3_P2_5, PLAG1_3, EBF1_2, SETD1A_2, SCXA_2, SOX18_4, ATMIN_2, FOXN3_P2_2, ZNF516_1, SATB1_P2_1, NFE4_4, TGFB1I1_4, CDX1_5, MIER3_4, ZNF587_3, KCMF1_5, SCXB_1, CTCFL_2, ZNF124_2, IRX2_1, MAFK_6, NCOA6_3, ZHX3_6, ZNF699_P1_6, E2F3_P1_6, ZHX3_2, CGGBP1_P2_2, CSRNP2_6, TCEB2_1, MNT_5, MSANTD3_2, ATMIN_4, PHF19_6, ZNF80_3, EBF3_2, ADNP_3, MTA1_1, TLX1_3, NCOA3_5, ZNF853_P1_3, GMEB1_2, PKNOX1_5, RORB_5, ZNF438_P2_3, CAMTA1_6, HES2_P2_2, TRIM28_5, RORB_6, ZNF710_5, TSHZ2_4, IKZF1_6, DNAJC1_4, MBD2_3, ARID3C_2, TEAD1_2, ERG_P1_4, CTBP1_6, GLI2_P2_6, FOXD3_P1_3, TP53BP1_P1_6, HELZ2_P2_5, WHSC1_4, ZFHX2_P2_2, CPEB1_P1_4, ADNP2_1, PBRM1_1, TPRX1_5, NCL_P1_5, RELB_1, MEF2C_3, ARNTL_6, ZNF699_P2_6, ZNF507_1, ZNF580_P2_2, NEUROG2_4, TBX2_5, ZBED4_6, ZFPM2_5, SMARCC1_4, PRDM12_4, ARID3C_3, SOX11_5, BHLHA9_1, VEZF1_1, CEBPD_2, PRDM11_P1_4, NKX3-2_4, ONECUT1_5, CBX2_5, MLLT1_1, PPARD_2, TIGD2_2, CIC_3, NFATC1_P2_3, ARID3C_1, DMRTC2_1, ZNF296_1, SMARCA4_2, ARID1B_P1_3, ZNF276_6, PBRM1_2, ZBTB34_3, BCL6_4, FIGLA_6, TSC22D4_1, GATAD2B_1, RLF_3, TSC22D2_3, GMEB2_5, ZBTB20_P2_5, SP7_4, POU6F1_6, GATAD2A_P2_6, GLI3_1, SCXA_1, ARNT2_1, THRA_1, CUX2_2, PURB_3, TGIF2_2, TFDP1_5, ZNF852_1, PRDM12_1, FOXO4_3, PURB_4, FOXK2_3, DACH1_3, PEG3_5, MECP2_5, JUND_6, ZNF501_6, UBP1_1, TCFL5_5, CIC_2, TAF4_4, TAF4_5, NACC2_2, CBFA2T2_4, JAZF1_1, CPEB1_P1_1, ZHX3_1, IRF7_4, MIER1_P2_5, MEIS2_1, PRDM11_P1_1, ZCCHC11_1, ZFPM2_1, GATAD2A_P2_5, ZBTB34_1, SUZ12_3, PURA_P2_1, GATAD2B_2, PURA_P1_3, RFX1_4, TEAD3_2, JUND_5, BACH2_6, MAFG_4, HOXB8_P1_1, CAPN15_4, ZNF236_1, ATN1_4, NR2F6_5, TP53BP1_P1_4, MEF2A_2, CBX2_2, TADA2A_2, TFEB_P1_5, GTF2IRD1_1, SP7_2, SCXA_4, AEBP1_5, ZNF839_5, DLX6_6, SACM1L_3, ZNF704_3, MAFA_5, YAF2_5, SNAPC2_5, KLF10_P2_6, ZNF219_5, ZIC1_5, CXXC5_3, C11orf95_5, ZNF273_P1_1, MBD2_2, SKI_2, ZEB1_P1_4, CREM_6, TFDP3_1, SATB1_P2_4, EBF1_5, FOXD3_P1_5, ZNF512B_1, TSHZ2_6, PURG_2, PRDM12_2, ZSCAN31_P1_4, RREB1_6, ZBTB12_4, SRCAP_4, SCXB_3, ZFP62_3, WHSC1_5, NFKB1_6, FOXO4_2, HSF1_2, LBX1_4, NEUROD2_1, TOX3_6, NFKB1_3, YEATS2_5, ZFP91_6, SRCAP_3, NKX2-4_5, ZFPM1_2, NKRF_6, NFE2L3_1, CBFB_1, RORC_P2_3, NFYA_2, MAFB_4, MNT_3, GTF2IRD2_4, EBF3_3, EBF4_3, MTA1_4, ZSCAN5A_P1_4, SUZ12_6, ZNF516_2, TP73_6, ZBTB42_1, ZBTB12_1, PLAG1_2, E2F3_P1_3, HIVEP1_4, CRTC3_5, ZSCAN5B_P1_5, NCOR1_6, PHF21A_4, ZNF333_4, FOXG1_6, KLF10_P1_4, ZNF513_3, KLF16_4, SLC2A4RG_3, CREBBP_1, ZFP14_2, RFX3_5, DMRTC2_2, DLX2_1, NKX2-4_6, GTF2H1_5, POU2F3_P1_1, ZNF467_2, NFIC_P2_2, EBF4_1, DNAJC21_3, CGGBP1_P2_1, PURA_P1_2, FOXF1_6, MEIS3_P1_1, EGR3_2, ZNF317_3, ILF3_4, GMEB1_1, CXXC5_2, CBFA2T2_1, SLC2A4RG_1, DPF3_3, CDK9_6, PBX2_2, ZNF213_4, TCF3_6, SCRT1_6, HIRA_P1_1, ZNF365_1, NOBOX_P1_4, IRX5_6, RCOR3_2, NFKB1_5, SKI_1, ZNF395_4, EZH1_5, ELF4_5, CUX1_4, KLF15_2, KLF10_P2_3, NFATC3_2, TCF4_1, NFE4_6, ZNF532_P2_2, PITX2_P2_3, MAFG_1, ZNF521_5, ZBTB12_2, NFIX_P1_4, TCEB2_3, KLF15_4, HOXB2_5, ZNF592_3, SCXA_5, ZBTB10_2, CIC_5, SNAPC5_6, GBX1_P2_1, LHX6_P2_1, NFIX_P1_6, RXRA_6, ZNF80_1, TFDP1_3, NFIL3_5, IRX6_4, CEBPB_4, MTA1_3, NFATC3_6, LHX8_6, ADNP_5, CIZ1_6, CAMTA1_4, HDAC3_1, RFX7_3, TEAD3_5, SOX18_2, TBX1_4, PATZ1_P2_5, DMBX1_3, SALL2_2, ONECUT3_6, ZNF267_P1_4, KDM2B_P2_5, NR2F1_1, CDK9_1, MTA3_1, ZNF280D_1, MAPK8IP1_P1_1, MAZ_1, RFX2_6, ARNT2_4, ZBTB2_1, HDGF_3, MIER3_6, AHDC1_6, CPEB1_P1_2, NFYA_3, CAPN15_1, NFATC3_4, FOXK2_2, HIC2_P1_4, ESRRA_5, RREB1_5, ATMIN_6, MAZ_4, ZNF706_5, ZNF365_5, YAP1_1, ARID1B_P1_1, KLF10_P1_3, IRX6_5, NFE4_2, ZBTB4_P1_2, ZNF34_3, PRDM11_P2_5, ZBTB44_5, ZFHX3_5, ZNF417_4, HMGA2_5, HMGB3_3, TCF3_5, RELB_6, ZNF230_6, SIX3_1, CBFA2T3_P2_1, KDM2B_P2_3, CREM_4, PLEKHA5_3, BCL6_6, ZNF710_6, KLF12_1, FOXO4_6, ZBED4_4, ZNF438_P2_1, ETV6_4, LHX6_P2_2, SMARCC2_3, CRAMP1L_P1_4, NFKB1_1, JDP2_2, ELF4_3, ZNF592_2, TFDP1_4, ZNF575_4, BCL11B_6, PRDM11_P2_6, GLI4_3, WHSC1_3, KLF16_1, LITAF_1, CTBP1_2, FOXC2_1, DR1_2, TBX1_3, ZBTB46_3, ZFHX4_2, CAMTA1_3, SMARCC1_3, FOXD2_4, CXXC5_5, FOXD3_P1_1, ZBTB33_2, CSRNP2_1, GLI2_P2_3, CREBBP_6, BRPF1_4, ZNF444_5, ZBTB39_5, SALL3_5, EBF4_2, NR2F2_3, TFDP1_6, ZNF853_P1_5, TCF4_4, SCXA_3, FOXF1_5, MNT_2, ATOH8_1, CRTC3_6, SIX3_3, ZNF131_6, BACH1_2, NKX6-1_2, ZFPM1_4, NFIC_P2_1, NKX3-2_3, HOXD13_6, KLF16_6, HHEX_2, FIZ1_6, ZNF705A_3, TP53BP2_1, SMARCC2_6, BCL6_1, ZBTB44_4, TFDP1_1, ZNF511_5, PRDM11_P1_2, PKNOX2_3, SOX11_6, TBX1_2, ZFHX3_1, TFDP1_2, KLF15_1, CASZ1_3, CGGBP1_P2_6, GLI4_2, HIVEP2_5, ZBTB33_4, HIC2_P1_2, ALYREF_3, WT1_6, CRTC3_3, TEAD3_6, GTF2A1_2, E2F1_3, ZNF540_P2_3, GTF2IRD1_4, VEZF1_2, TOX2_3, MESP2_2, AR_4, ZNF517_4, ZNF587B_2, ZNF236_5, NFIX_P1_5, TCF7L1_6, NACC2_3, ZNF395_1, JUP_5, LDB2_3, MAPK8IP1_P1_3, SMAD9_6, ANHX_1, GBX2_1, NCL_P1_3, KLF10_P2_1, E2F1_1, ARNTL_5, ZBTB22_2, SP1_3, BID_4, NFKBIE_5, FOXA1_6, TCF15_6, NPAS1_2, ZNF282_2, FOXP1_P3_2, TCF4_3, ZNF580_P2_3, ADNP2_5, HIVEP1_6, TAF4_3, ARID3C_4, ZBTB2_3, IRX5_4, TAF10_5, ZNF483_6, FOXO6_4, NCOA6_1, DNAJC21_4, PRDM11_P2_3, GMEB1_3, SOX1_1, ZHX3_3, LHX6_P2_3, KLF9_4, ZSCAN31_P1_1, FOSL2_1, NRF1_4, AR_5, ZNF148_5, TCF4_5, CTCF_6, MECP2_6, KIAA1549_1, CIZ1_5, FOXL2_5, ZNF273_P1_5, CSRNP2_2, ZBTB46_2, POGK_4, AFF2_5, TERF2_5, SETDB1_1, SRF_5, HOXD3_5, HIVEP1_3, MSANTD3_5, ZNF25_6, POGK_6, ARID1B_P1_4, CIC_1, MLLT3_6, IKZF5_1, SETD1A_4, NFATC3_1, ZNF84_6, NFKB1_4, NFATC1_P2_1, ZNF250_3, KIAA1549_3, MXI1_P1_4, HES5_4, MECOM_4, HOXD13_2\n",
      "1149\n",
      "PPAP2B, SIX5, NFE2L3, MTA1, GAS7, SRF, HOXD3, ZNF521, PAX6, TCFL5, MLLT1, YAF2, NR2F6, KLF10, NKX3-2, POLR3K, ZNF219, ZNF517, PIAS3, MBD2, CENPBD1, PHF19, PURB, ZFPM2, ARID2, CHD7, ARID3A, ZNF652, TPRX1, BBX, ZNF25, GLI4, IKZF1, TCF15, ZNF124, ZNF628, E2F4, TIGD5, ZNF839, PBX2, NKX2-2, PURG, ZNF618, FOXO6, PRDM12, E2F1, IRF7, RXRA, CBFB, ZNF280D, STRAP, ASCL3, ZSCAN5B, UBP1, FOXC1, PEG3, ZBTB12, JUP, L3MBTL4, ZEB1, FOXC2, GTF2IRD2B, LCORL, ZNF507, ZNF341, SMYD2, PDX1, ZNF512B, ZBTB10, JDP2, BCL6, SHOX2, ZBTB44, IKZF5, CDX1, ZNF273, ZFHX4, DLX6, RFX7, ZNF653, ZNF395, JAZF1, ZNF112, ZNF705A, ZBTB4, RORC, TBX2, RORB, ZNF483, ZNF267, MEF2C, E2F3, MYBL2, HOXC8, MLLT3, MIER2, CRTC1, ZNF34, POU6F1, PMS2P3, BID, ZNF80, MYRF, HOXD13, ZNF48, ATOH8, CGGBP1, HES2, FOXP1, ARID1B, ATMIN, KCMF1, TP53BP1, MEF2A, ZNF177, FOXK2, FOXL2, NFKBIE, SMAD7, ZNF775, CDK9, MAPK8IP1, AHDC1, ZNF501, LDB1, SATB1, ILF3, ATN1, SOX1, MXD3, EGR1, ZSCAN31, RHOXF1, RFX4, TADA2A, SNAPC5, ZBTB7A, NCL, CREBBP, NEUROG2, ZNF280C, ALYREF, HIVEP2, AR, GMEB2, ANHX, THAP7, SMARCC2, PPARA, MBD3, KLF15, ZBTB2, ERF, NKX6-2, AEBP1, WT1, KMT2B, SNAPC2, TAF4, PHF21A, ZFHX2, SOX11, HDGF, SP7, CCDC146, IRX1, EBF3, CRTC3, IRX5, HIRA, FIZ1, ZNF296, DPF3, NSUN5P1, SPDYE8P, UNCX, ADNP2, GTF2A1, NR4A3, CASZ1, TERF2, BRPF1, GLI1, CTCFL, RELB, CREM, ZNF165, HHEX, ZFP14, GTF2IRD1, SMAD9, ZNF131, SMAD2, NKRF, SETBP1, HOXD8, CBL, ZBTB46, GTF2H1, TEAD3, CAPN15, SOX18, DMRTC2, TBX1, FIGLA, BARX1, PKNOX1, CIC, RUNX3, FOXA1, MEIS2, NCOA6, PRDM11, ZNF587B, PRKRIR, MECOM, ZBTB34, ZSCAN32, TCF7L1, NFKB1, ZFHX3, CBFA2T2, ETS1, HOXA13, ARNT2, CEBPG, HMX1, EMX1, NCOA3, TMEM191A, ZNF699, KLF11, ZNF703, CTBP1, BACH1, TFEB, SKIL, YEATS2, NEURL1, FOXD2, RFX1, GBX2, KDM2B, CXXC5, CDX2, MAFA, ZNF84, MAFB, DNAJC21, UNKL, KLF9, SALL2, EZH1, ETV6, ATXN7, EOMES, TP73, TIGD3, COMT, PBRM1, NFATC1, POU3F2, ZNF587, RFX3, BNC2, ARID3C, NR6A1, KLF12, SOX2, TSC22D4, NPAS1, ZNF438, ZNF333, KLF2, CNOT8, ZNF853, LITAF, PLEKHA5, FOXP4, LEUTX, TOX2, NR2F2, ZNF282, GLI2, ZIC3, POU2F3, SBK3, HIVEP1, ZNF852, CPEB1, MNT, TP53BP2, ZBTB22, SCMH1, ARID1A, ZNF365, PITX2, HOXC4, APITD1, NFATC3, ONECUT1, SOX13, BHLHE23, DGCR6, ARNTL, MXI1, ZNF468, GATAD2B, MIER3, OLIG1, LHX6, GREGoR, ZNF888, TANGO2, CSRNP2, CBFA2T3, PRRX2, VAX2, CAMTA1, FOXO3, PLAG1, TSHZ2, MIXL1, EGR3, KMT2A, BNC1, ZNF592, ZNF417, CRAMP1L, ZNF511, ZNF83, HIC2, DUX4, GSC2, ADNP, MAZ, ESR2, KLF16, SUZ12, FOXF2, TSC22D2, HMGB3, NPAS2, EWSR1, NFIL3, ZNF281, ZNF687, CEBPB, BACH2, GATSL2, EIF4H, WHSC1, CENPB, DMBX1, ZNF865, SETDB1, ZNF787, ZNF580, ZNF236, ZBTB20, HMGA2, PRR12, ZBTB33, ZNF816, ZNF148, THRA, ZSCAN5A, TFDP1, DACH1, TCEB2, ZNF658, ELMSAN1, RFX2, MYSM1, POGK, ZNF706, TCF12, PATZ1, TLX1, TIGD2, ZNF646, CIZ1, ZNF513, ZNF317, TEAD1, GTF2IRD2, MAFK, ZNF710, MAFG, SMARCC1, ZNF311, ZCCHC11, ZNF366, HOXB8, TRIM28, ZNF697, NKX2-4, TGIF2, SP1, SACM1L, DR1, HAND1, HES5, ZFPM1, FOSL2, ZFP42, VEZF1, TGFB1I1, RBPJL, ZNF467, SUB1, SRCAP, ESRRA, PKNOX2, GTF2IP4, ZNF600, LCOR, FOXI3, IRX6, CEBPD, TPI1, SIM2, CTCF, SIN3A, NRF1, ZNF276, KIAA1549, CUX2, LDB2, GMEB1, ZNF705D, NR2C2, NEUROD2, ERG, FOXN3, ZNF213, INSM1, KAT2A, NR2F1, HMGN2, ETF1, STX1A, CBX2, FOSL1, ZNF534, NOTCH1, EBF1, SLC2A4RG, NFYA, ID1, RREB1, CUX1, MORF4L1, PAX9, MIER1, ELF4, FOXD4L5, ZNF598, FOXF1, LIN9, TOX3, DGCR10, LINC00896, THAP4, ZFP62, SCRT1, ZNF705B, ZNF230, SIX3, YAP1, ZNF704, MEIS3, HAND2, GATAD2A, TCF3, ZBTB40, SNORA14A, NFIX, DNAJC1, ZNF575, ONECUT3, ELF2, TCF4, ZIC1, ZNF516, GBX1, DGCR5, MSANTD3, ZFP91, NSUN5P2, JUND, ZNF735, FOXD4L4, LINC00895, TFAP2A, ZNF540, EBF4, PHF2, SALL3, HOXC10, TFDP3, HOXB2, BMP2, C11orf95, PURA, ATF1, FOXO1, GLI3, ZNF444, SCXA, HDAC3, SKI, HELZ2, MESDC1, ZNF532, FOXO4, MXD4, KLF17, POU3F1, NFIC, YBX2, NKX6-1, HSF1, LHX8, NACC2, PPARD, FOXD3, MTA3, DEAF1, NFE4, RCOR3, ZHX3, LMX1B, SMARCA4, MECP2, ELK1, LHX2, ZIC2, NOBOX, SMARCB1, MESP2, TAF10, ZNF250, CTBP2, SCXB, DGCR9, ZNF362, ZBTB42, IRX2, BHLHA9, RLF, LIN54, MSLN, SETD1A, AFF2, FOXK1, DLX2, TGIF2LY, FOXG1, PMS2P9, NCOR1, LBX1, ZBED4, BCL11B, ZBTB39\n",
      "1240\n",
      "ZNF468_4, ZNF705B_P1_4, TGIF2LY_2, TGIF2LY_4, TGIF2LY_3, TGIF2LY_1, GTF2IRD2B_1\n",
      "7\n",
      "SUB1_7036, GJA1_15305, NACC2_11633, DGCR5_16861, ZNF516_3793, EGR3_11252, SMARCD1_16243, ZBTB2_3054, TMEM120A_16423, CCDC141_14921, HES5_5400, HSF1_1184, ING3_15401, ALYREF_4465, TAF4_7070, MIER1_5962, FOXD4L4_17249, GPR157_15314, C11orf95_229, TANGO2_16933, TLX1_2866, STYXL1_16349, BRD9_14840, AEBP1_4427, GPR32_15321, SBK2_16145, TNFRSF1B_16462, GNAZ_15306, CREM_375, INO80_15431, CHD3_14985, CXXC5_4833, F9_15183, ZNF513_8207, FZR1_15262, TPRX1_9855, ZBTB12_3044, XRCC2_16624, DUX4_17001, CIZ1_8965, ZNHIT1_16686, SQLE_16315, FOXD3_10654, HIRIP3_15356, F9_15185, FURIN_15246, GREGoR_17332, RNU4ATAC_16844, RFX2_2266, TWISTNB_17009, MAPKAP1_15597, CHD4_14993, LINC00896_16956, ATP10D_14763, KIAA1549_1326, ZNF280D_10087, IAPP_15380, QSER1_15978, SFPQ_16217, NFIC_6166, MYBPHL_15649, ZNF483_12402, SLC2A4RG_6845, WBSCR28_16603, SP7_2558, ABHD13_14605, SYNRG_16383, COMT_16910, TBX1_2681, RREB1_11856, PBRM1_1979, ZNF395_8047, SERPIND1_16185, HIC2_999, KIAA0232_15487, PBRM1_1980, POM121C_15885, SALL3_6765, ZNF697_4086, JUND_1300, ZNF84_4309, DR1_506, ZBTB42_3093, EPC2_15174, UCN3_16519, SEPT5-GP1BB_16898, TRIM28_9860, TNFRSF1B_16458, NABP2_15717, CRKL_15042, SYK_16377, UCN3_16522, ZBTB22_9920, ERF_5027, C4orf19_14876, JAG2_15458, TMEM120A_16425, TFDP1_12024, MXI1_6042, UBFD1_16504, TFAP2A_2778, GABARAPL2_15281, STAG3L3_17043, SIN3A_6819, CCDC146_14923, YLPM1_16641, SQLE_16316, ZC3H4_16665, PRKRIR_16757, ZNF705A_8523, SSC4D_17207, HIC2_5419, DGCR8_16941, SMARCE1_16271, POM121L4P_16973, SMARCD1_16246, AP2B1_14694, SS18L1_16330, CAMTA1_4656, ZNF280C_10086, ZFHX2_3156, RAPGEF1_16033, NPAS1_1850, MIER2_5963, ARNTL_8878, DTX2P1-UPK3BP1-PMS2P11_17219, STRAP_12786, STYXL1_16344, MYLIP_15678, ILK_15393, HOXC8_1155, RNF168_16106, MIER3_11586, RIMS4_16097, TRIM50_16474, UCHL5_16513, LOC388849_15552, SYT4_16389, TBX1_7101, UBE2F_16497, MORF4L1_16788, ZBED4_12116, SMG9_16284, EBF4_9039, DGCR10_16873, INO80D_15414, RHBDD2_16076, UBXN7_16509, TEAD3_7177, SMARCD3_16263, GREGoR_17321, SNAP29_16292, ACTR6_14629, PMS2P5_17119, MIER1_10747, ACTR8_14633, HOXB8_1135, BECN1_14798, NCOA5_15738, PPP4R1_15906, SYNRG_16380, ELF4_9048, IRX6_9283, POU2F3_2073, TIGD5_12049, GPR78_15326, KIF22_15502, REXO2_16068, KDF1_16718, ADGRG6_17007, ZC3H4_16663, CRTC3_12702, PMS2P7_17053, TOX3_12059, BID_4618, ASH2L_14746, PPARA_6521, SCARB1_16150, EMX1_12854, CXXC5_414, CREBBP_10489, DMBX1_4881, AHDC1_11061, TMEM60_16441, FDX1_15207, SAP130_16134, PTK7_15932, GREGoR_17316, MESDC1_16795, CCDC146_17312, ATG13_14761, SNAPC2_9702, DAAM1_15083, RCOR3_2246, MEMO1_15628, CCDC141_14918, GART_15285, ZNF787_12612, NOTCH1_1839, RAI1_16019, EBF3_4959, NGDN_15751, NSRP1_15789, SOX18_2505, RUVBL2_16133, CTD-2515O10.6_17278, ZNF687_4069, C16orf92_14856, SENP7_16166, AIFM3_14658, EZH1_9079, FAM57B_16824, USP32_16556, GREGoR_17322, ESR2_9061, ONECUT3_11718, CREBBP_12699, GART_15284, MORC3_15630, KLF11_5758, DTX2P1-UPK3BP1-PMS2P11_17220, CYP2C19_15078, HSPB1_15369, SNAPC5_11915, JDP2_1288, ZNF852_4326, GMEB2_9160, SEL1L_16158, TMEM63B_16451, SNORA14A_17199, TCF3_12001, DSTN_15153, TWISTNB_17013, SMCO1_16276, ZNF124_3289, SPDYE8P_17067, FLVCR1_15223, MYLK3_15686, UBXN7_16508, APITD1_16707, WBSCR16_16587, TMEM219_16438, ETV6_654, C22orf29_14865, LOC101926943_17107, ETS1_5058, NCF1B_17085, MYH6_15663, INTS10_15439, NFKB1_9448, BHLHE23_4611, TMEM161B_16430, CDK8_14970, LHX6_5838, SBDSP1_17016, NKX2-4_9464, C2orf72_14871, KIF26B_15506, MYO1C_15709, CORO1A_15034, SMARCC1_2458, ANKRD13B_14677, FAM46C_16728, LINC00896_16952, POM121L4P_16974, NABP2_15725, ARID3C_77, TCF3_9791, LOC100133091_17215, BRD2_14818, CTBP1_395, NSUN5P1_17185, ZNF230_10060, MEIS2_1523, RBM20_16061, MAT2A_15604, INTS12_15449, ATG13_14759, AIFM3_14665, SETD1A_2378, IAPP_15381, AIDA_14650, CAMTA1_11143, TECRL_16399, ZNF699_13165, HSPB1_15368, OSBPL11_15803, GPR78_15328, ELK1_567, OTUB1_15808, NODAL_15764, SUZ12_7046, KIF3C_15514, PRKRIR_16754, MAEA_15566, LOC388849_15554, BRPF1_4646, GGT3P_16987, NR2F2_6307, MRGPRX1_15638, WASF2_16582, TMEM63B_16448, KIF3C_15512, RUVBL2_16131, PMS2P9_17228, TGFB1I1_7232, SEPT5-GP1BB_16893, INTS10_15440, NAMPT_15728, TFAP2A_13065, PPP4C_15901, EIF1B_15162, GTF2IP4_17077, QPRT_15967, ZNF703_8520, KLF16_11518, NAMPT_15726, KLF17_5770, SSC4D_17208, PHF10_15849, CCL24_14935, FOXF1_11318, ZNF540_3826, SPDYE8P_17056, NCOA5_15740, PCGF1_15841, CGGBP1_4732, SMARCC1_6877, DDX3X_15106, EBF1_536, CTD-2574D22.6_17266, QPRT_15975, NR2C2_1880, SKI_2416, ZNF273_3473, FOXF1_9108, MYRF_10756, TRRAP_16482, FURIN_15242, BRD7_14833, G3BP2_15268, HIVEP1_11409, DCAF10_15088, SMG9_16286, INO80B_15402, MVP_15646, ZFP91_12179, DDX21_15097, F9_15181, SCARB1_16147, ARID3A_4493, COMT_16918, CS_15060, TP53BP1_2889, HIP1_15352, MYO1C_15713, BRD7_14829, MYBPHL_15653, GTF2IP4_17075, CBFB_4674, PXDNL_15959, STS_16343, C10orf54_16739, DMRTC2_4898, SMYD2_2461, ZSCAN5A_8823, SUPT3H_16359, FBXO46_15195, SOX1_2489, SKIL_2418, RBM33_16062, TAF4_9763, GLI2_5286, WBSCR22_16593, NCOR1_11640, FYN_15257, MEMO1_15618, NSUN5_15797, SUPT16H_16351, CBX1_14913, CHRAC1_14996, EBF4_11249, ATXN7L3_14781, ZNHIT1_16688, CBX2_8941, PMS2P2_17156, C5orf24_14885, RAD51D_16013, ETV6_5074, GPR157_15317, NOTCH3_15773, HDGF_960, NFKB1_11658, BEND3_14806, RFX1_6684, MTA1_6016, SPDYE8P_17060, ZNF592_8356, NR2F6_9495, DENND4C_17235, MIXL1_1553, DDX3X_15104, DGCR8_16939, CTD-2515O10.6_17290, UCN3_16518, DMRTC2_477, MYBPHL_15648, COMT_16905, NR2F2_16800, CBFA2T3_4670, FIGLA_9089, RALGAPB_16025, ZNF148_10021, TNFRSF1B_16455, NFE2L3_6158, PHF21A_6436, CNOT4_15022, SPDYE8P_17143, FZR1_15260, PAICS_15827, RAB2A_15985, XRCC2_16622, ZNF703_12557, CDK12_14964, XRCC2_16625, FAM46C_16729, PRDM11_2122, BEND3_14804, PRPF4B_15912, MAPKAP1_15596, ARNT2_4510, TWISTNB_17012, LOC100101148_17173, CSK_15053, GAS7_820, XXbac-B562F10.12_16964, MAPKAP1_15594, HAND2_10677, PBX2_1984, CTBP1_396, ZNF706_10351, MYL7_15674, SS18L1_16328, GREGoR_17314, KDF1_16717, MAFA_9344, ZBTB34_7495, ADGRG6_17002, ZNF852_4325, RSF1_16127, ZNF124_12217, ZBTB4_3085, CBFA2T3_4672, TADA2A_2630, ZSCAN31_10980, MAP3K12_15579, CTD-2515O10.6_17294, E2F3_12848, CHTOP_15001, BRD9_14842, C11orf95_4649, KIF26B_15504, TCF12_10849, GNAZ_15307, INO80D_15418, KIAA0232_15489, INO80C_15410, RTN4R_16959, FIGLA_11299, ARPC2_14731, VEZF1_2976, APITD1_16704, TGFB1I1_2812, QSER1_15982, WHSC1_7410, RFX4_2270, ZFPM1_3208, CCL26_14942, INO80C_15412, CYP2C19_15073, INTS10_15438, CRKL_15037, PPAP2B_16724, GPR87_15330, ACTL6A_14609, PPP2R2A_15894, ZP3_16695, SRRM3_16322, FURIN_15244, CBL_11150, MORF4L1_16786, COMT_16908, ZBTB4_3087, WNT4_16613, MEIS3_1525, QPRT_15973, LOC100133091_17216, NFATC3_9439, SPDYE5_17187, ATF1_111, ACTR8_14631, IRX6_5696, RAB2A_15984, ABCA1_14591, PIK3C2A_15865, MSLN_1590, GTF2IRD1_9172, C22orf29_14864, ZNF273_7895, MNT_1576, IKZF5_1227, MAT2A_15602, LDB1_1394, HIC2_12892, ZNF710_10356, FARS2_15188, ASPHD1_14753, SOX11_2493, NSUN5_15792, TAF4_2649, HSPB1_15370, CTD-2574D22.6_17267, SETD1A_6798, FDX1_15208, HOXC10_5561, RLF_6709, PURB_11813, UNKL_7380, XXbac-B562F10.12_16965, ARID1B_4487, ALDOA_14670, HDGF_9183, BRD2_14822, NEURL1_16749, DGCR11_16875, FOXD4L5_17247, IKZF5_5647, UPK3B_16546, PUM2_15951, ZNF177_3339, MBD2_5911, ARNT2_89, ARPC2_14726, INO80_15428, PPP4R1_15909, SLC17A6_16225, ZIC3_3233, LRRC74B_16981, TCF3_7161, SYK_16368, QPRT_15968, NCOA5_15741, GATSL2_17127, NFE2L3_1737, DOC2A_15134, NFATC1_1718, HES5_979, DDX21_15098, UBXN7_16506, CBX2_257, ZNF540_10941, KMT2B_12941, ZNF512B_3785, GREGoR_17331, STRA13_16834, PUM2_15949, ZRANB2_16702, RHOT1_16083, TWISTNB_17010, RREB1_9646, PAICS_15826, C10orf54_16738, SCRT1_6786, NCOA3_6107, POR_15891, CGGBP1_314, ZFHX2_7573, COMT_16909, ADNP_4423, PURB_6615, GGT3P_16985, NR2F2_16804, ZMIZ2_16682, EGR3_552, PTPRS_15945, NSUN5P1_17186, STAG3L2_17114, TSC22D4_2925, SETD1A_6797, BRPF1_10480, ZNF592_12481, TMEM60_16444, DDX3X_15108, ZC3H4_16658, MYL7_15675, INTS12_15447, ZHX3_12190, LINC01311_16885, MYLK3_15693, SEPT5_16181, YWHAG_16650, TOX2_7299, CSK_15049, ZP3_16694, TMEM161B_16431, P2RX6_15813, ZNF230_12270, CCDC146_17310, STAG3L2_17120, CSRNP2_11194, SYNRG_16382, KCTD13_15474, NCOA3_1688, BNC1_11134, CAMTA1_4655, NCOA6_1689, CCL26_14941, SYK_16378, NFATC1_6138, ETS1_11276, NFATC1_12969, ESRRA_620, ELAVL1_15167, LOC284865_16945, INO80_15430, DDX1_15096, JAZF1_1285, AP1G1_14687, BARX1_8903, ZNF333_3557, FOXK2_5177, SMARCD3_16257, KDM1A_15485, MESDC1_16794, CCDC146_17305, ZNF34_7989, MSLN_6009, KCMF1_9293, MLLT1_5979, CNOT4_15024, DHX38_15122, DSTN_15152, ZNF652_8438, TRRAP_16486, CTCF_399, MVP_15642, NDEL1_15744, SKI_9681, TP53BP1_13236, GDF11_15291, FURIN_15245, CHD4_14990, ZFPM1_7628, C2orf72_14872, CHTOP_15002, STRN3_16333, STYXL1_16347, ASPHD1_14752, P2RX6_15814, CDK12_14959, KIFAP3_15518, E2F1_515, HMGCS2_15364, KIF26B_15507, PMS2P3_17195, DENND4C_17229, SIN3A_2399, NDEL1_15745, UBE2F_16496, SPDYE7P_17020, CTD-2515O10.6_17279, TFDP3_2801, TIPRL_16417, FGL2_15220, FRS2_15236, DGCR11_16878, ASPHD1_14751, PYGO2_15963, RAD51D_16012, BCL6_176, CHTOP_15005, ZG16_16674, NR2C2_9490, TFDP1_2796, CDIPT_14955, CAPN15_12691, SIRT7_16221, NEURL1_16747, NBN_15732, GMEB2_882, SCARB1_16151, MAEA_15559, DUX4_17000, NSUN5P1_17184, KDM2B_10725, CEBPG_298, ARID1B_4489, BRCA2_14811, COMT_16915, POM121L4P_16972, ZBTB46_3101, STAG3L1_17168, ZBTB44_7518, ATOH8_135, LHX6_1418, G6PD_15273, SERPIND1_16184, FBXO46_15197, POU3F2_6498, ACTR6_14625, TMEM161B_16429, DGCR10_16874, ZNF646_12515, PXDNL_15954, ZNF317_12314, LOC541473_17174, BAZ1A_14794, ZBTB2_3053, LINC00895_16889, CTBP1_11195, GTF2IRD2_930, NEUROG2_6130, WNT4_16609, POU2F3_2071, TANGO2_16926, GATAD2A_12875, SYK_16379, CNTFR_15030, IKZF1_11474, ZBTB34_3075, RUNX3_6744, LOC541473_17031, EIF4H_17100, SDHD_16153, TMEM191A_16976, PCGF1_15842, STX1A_17089, NKX6-2_9471, POR_15888, WBSCR16_16589, AP2B1_14692, MAFK_9348, MYLK3_15689, SYT4_16386, SMG9_16285, BECN1_14799, LMX1B_1450, ZEB1_7563, INO80C_15411, SEZ6L2_16197, STYXL1_16346, DOC2A_15140, CCL26_14944, FRS2_15237, LINC00895_16891, LOC388849_15557, CTD-2574D22.6_17275, FOXA1_5126, PUM2_15953, LIN54_5850, PRKRIR_16753, GSAP_15338, TCF4_7164, TP53BP1_7309, ZNF80_8679, ATP10D_14766, SVEP1_16363, TIGD2_2854, CBFA2T2_4667, CTCF_400, TBX1_2682, BRCA2_14814, LOC100133091_17217, F9_15186, POLE3_15877, CPEB1_4761, POGK_6476, RXRA_11858, ARHGEF7_14713, YAF2_12811, EIF4H_17102, NSUN5P1_17182, ZNF511_10209, GSAP_15341, ZNF540_8246, SEPT5_16180, SYT4_16387, WBSCR28_16606, RTN4R_16962, C22orf29_14866, NR2F2_16813, PRDM11_2121, ABCA1_14593, HMGCS2_15361, TMEM191A_16975, WASF2_16581, PTPRS_15946, ZNF587B_3932, ACTR5_14620, PMS2P7_17154, ZNF516_3794, TAOK2_16394, LMX1B_1449, PHF2_9539, MYH6_15654, PMS2P3_17197, NFYA_1784, ADNP_4424, POM121C_15886, ZNF213_7804, NOBOX_6253, FNDC3B_15231, C16orf54_14850, DDX1_15094, PPP2R2A_15897, TRRAP_16483, ZNF853_10974, CCDC146_17309, GDPD3_15296, JAG2_15457, WBSCR28_16602, MAPKAP1_15593, SEZ6L2_16196, SOX2_2508, ZNF395_3627, ING3_15396, CPEB1_12834, RFX2_11836, ACTL6B_14612, RBM33_16064, FOXD4L6_17236, ZFP14_7583, GDPD3_15299, KMT2D_15524, AIFM3_14655, MAEA_15569, UBFD1_16500, IRX6_1275, RAB5C_16004, HSPB1_15374, CCDC146_14928, TECRL_16402, DLG5_15129, CCDC146_14926, C16orf92_14855, TFEB_2805, RELB_11831, HSPB1_15377, RBM20_16058, ADAMTS7_14643, PITX2_6452, SETD3_16193, THAP4_9826, ZNF865_4335, GTF2IRD2_5349, TSPAN14_16491, LCOR_9323, DCAF10_15090, CBX1_14911, F9_15182, ZNF710_12566, NOTCH3_15770, CENPBD1_4728, HES5_980, MYLIP_15683, ZNF438_3688, ZC3H4_16661, MRGPRX1_15640, EGR3_551, DNAJC21_9017, MVP_15647, CARM1_14910, SENP7_16164, ATMIN_4548, ZNF341_3574, ZNF513_3788, ZNF598_3949, ONECUT1_9506, FGL2_15222, PURA_6611, APITD1_16710, SPTBN1_16312, ATXN7_10611, ZBED4_3032, MORF4L1_16783, MAEA_15560, ARPC2_14733, DAAM1_15080, CCL24_14940, DAAM1_15079, SFMBT1_16209, LOC100101148_17175, SEPT5-GP1BB_16897, SEZ6L2_16198, SPTBN1_16311, INTS12_15445, KDM1A_15481, MSANTD3_1581, DHX38_15126, LDLR_15542, RAD51D_16009, PHF2_6431, FYN_15255, ZSCAN31_4397, MTA3_1599, STRA13_16831, ATG13_14760, MECOM_5924, FZR1_15263, RIMS4_16093, ZNF281_7916, GBX2_9147, EWSR1_5082, ACTR6_14628, PALB2_15832, WWC3_16617, SMARCC2_6880, USP32_16554, AR_8866, CORO1A_15033, BMP2_204, MAZ_5908, HOXC4_5569, CTD-2515O10.6_17293, JMJD6_15462, INO80C_15409, SETBP1_11876, CDIPT_14957, NRF1_6332, LCORL_1392, TREML2_16464, RORC_6722, CCDC146_17311, NCF1B_17086, LBX1_5806, NBN_15735, CTD-2515O10.6_17292, TRIM50_16471, CCKBR_14932, GDF11_15290, EGR1_10641, TECRL_16401, NANOGP8_16778, GLI2_864, VAX2_7389, RAI1_16015, RNF168_16107, XXbac-B562F10.12_16966, FOXD3_5143, ABHD11-AS1_17093, CYP2C18_15067, TCF15_11995, USP32_16555, FARS2_15191, NR2C2_6299, NRP1_15777, SMYD2_6882, FOXP4_11340, KAT2A_5724, SOX11_9710, ZBTB33_3074, EBF1_9036, MBD3_1493, RUNX3_6746, OTUB1_15806, CMIP_15007, PRRX2_9596, WHSC1_7409, SIRT7_16223, NGDN_15753, ZNF395_3628, ASH2L_14749, GPR32_15323, RSBN1L_16110, PRDM11_10799, IL6ST_15384, INTS10_15441, GATAD2B_842, AR_4480, BACH1_142, IRX6_5695, E2F4_11240, ERF_607, AIFM3_14659, TEAD1_2754, RALGAPB_16022, ZSCAN31_8815, NKX6-1_1820, ASF1A_14738, FOXO4_782, FLVCR1_15226, NCL_6099, C5orf24_14883, FOXD4L3_17258, ERF_9060, GPR32_15320, ZNF839_8728, FOXD4L5_17246, PLAG1_6461, TREML2_16466, NR2F2_16803, SENP7_16167, VPS4A_16571, MLLT1_9379, BHLHA9_185, BAZ1A_14796, GREGoR_17324, HDAC2_15345, SPOP_16302, ERG_611, CTD-2515O10.6_17282, MRGPRX1_15639, UFD1L_16529, ZNF600_12488, ZMIZ2_16685, LAMA5_15530, FOXG1_9110, SDHD_16152, SF3B1_16203, GLI4_870, DDX1_15091, GREGoR_17328, CBFA2T3_10619, RSF1_16124, LHX2_1407, POU2F3_10793, BARX1_4569, CPEB1_341, ZFPM2_9972, LOC388849_15555, TMEM63B_16446, CBX1_14916, NRP1_15775, CYP2C19_15077, POM121L4P_16969, DOC2A_15142, IKZF5_5648, DUX4_16998, GMEB1_880, KMT2B_5794, ARHGEF7_14709, PRDM12_2125, DMRTC2_4897, EBF3_540, ZNF444_8124, PKNOX1_9548, KLF10_12937, C6orf62_14897, KLF12_1339, TMEM63B_16449, PKN2_15872, LMO2_15550, ZNF417_8071, MXI1_6041, ZNF705A_4103, ZNF587_12478, ACTR8_14630, RANBP1_16029, CCDC146_14924, SF3B1_16201, SPN_16298, LDLR_15543, SBK3_16840, EGR3_4972, JUND_11501, SETD3_16189, DDX3X_15103, STRN3_16335, GPR87_15333, GTF2IRD1_927, CBFB_253, CUX2_408, CDX1_8947, ZBTB44_9934, BACH2_11110, PHF10_15848, NCOA3_1687, NCL_11002, DGCR6_16856, MYL7_15677, NLK_15761, RHOT1_16085, ZC3H7A_16671, USP14_16553, ARID1A_65, KMT2D_15522, CTD-2574D22.6_17271, CREBBP_365, ZNF704_12558, MYH6_15657, NKX2-2_11672, PPP2R2A_15899, RBM33_16063, SIRT7_16220, SYK_16369, USP32_16559, CHD7_4740, MIER2_9375, RNU4ATAC_16847, YIPF5_16632, SCXB_2372, BCL11B_11121, RAB35_15990, KLF10_1336, YWHAG_16653, MIER3_5966, TNFRSF1B_16461, CCDC146_17304, MAPKAP1_15598, BRD9_14845, NABP2_15719, FOXK2_758, ZBTB34_12137, ZIC3_3234, ONECUT1_11716, WBSCR27_16601, ABCC8_14596, PTK7_15933, QPRT_15966, TMEM219_16437, UNC5C_16532, FCHO2_15200, YLPM1_16640, PKN2_15873, SNORA14A_17200, ZNF80_4259, CTD-2574D22.6_17261, RIMS4_16095, BRD2_14821, PALB2_15830, MAFK_5896, YAF2_7426, CYP2C18_15072, GJA1_15300, RAPGEF1_16035, FGL2_15217, DGCR5_16862, NSUN5P2_17024, BCL6_4596, SPDYE8P_17145, KCMF1_1307, SSC4D_17205, MYRF_6077, MAPK3_15587, DGCR6_16857, MTA1_11604, PRKRIR_16755, HIVEP2_9200, CNOT4_15021, SPDYE5_17190, INSM1_11479, PURG_9604, LDLR_15544, ZFHX3_9952, MEG3_16766, DACH1_8994, FOXO6_783, FYN_15253, ZNF653_10309, SNORA14A_17201, PRDM11_2124, USP14_16549, SPDYE7P_17019, NFE4_1739, ABCC8_14599, MYH6_15664, ANP32E_14683, STX1A_17092, TSPAN14_16492, NFKB1_6176, CORO1A_15032, DTX2P1-UPK3BP1-PMS2P11_17222, HIP1_15351, PYGO2_15965, TFAP2A_7199, NFATC3_1726, ANHX_4468, SIX3_6827, TIPRL_16416, ZBTB2_7473, KLF10_12936, COMT_16906, PPP2R2A_15896, MORF4L1_16791, FURIN_15251, KLF15_1345, E2F3_4939, CTCFL_402, BRD2_14819, BRD8_14837, SLC52A1_16232, IRX6_11493, DLG5_15127, ZPR1_16761, SATB1_2350, IAPP_15378, TSHZ2_12077, TEAD3_2757, UNC5C_16535, TCEB2_2716, CCDC146_17308, FOXO4_5201, HIRIP3_15359, SLC17A6_16229, UNC5C_16534, ERF_608, IL6ST_15389, ALDOA_14667, GGT3P_16850, ZC3H7A_16670, HDGF_959, BRD2_14816, SNAP29_16295, CEBPB_4712, HSPB1_15367, TMEM219_16435, MORF4L1_16789, FYN_15258, UBE2F_16498, HOXA13_9220, NOTCH3_15768, FOXN3_772, CIZ1_11175, C1orf21_14858, DPY30_15147, MYH6_15662, ZNF236_10063, ZNF658_8446, COMT_16903, KIFAP3_15521, PLEKHA5_6471, SETD3_16190, SEPT5_16177, SCRT1_11871, PURG_2197, EXOC8_15176, GPR87_15331, RAB35_15994, UPF1_16538, NBN_15733, CDK12_14963, GTF2H1_10516, TOX2_7300, ZBTB22_3062, MRGPRX1_15637, NFATC3_1725, ZNF296_3513, CREM_4795, PIK3C2A_15867, QPRT_15977, ZNF575_8319, LINC00896_16955, GREGoR_17315, TCEB2_10587, KCTD13_15475, WT1_12104, TP73_12063, ARPC2_14732, SIN3A_2397, EPC2_15170, REXO2_16073, CRKL_15039, NSUN5_15793, SENP7_16165, SS18L1_16326, EIF4H_17104, MEG3_16775, YBX2_12108, RBBP7_16046, NSD1_15780, POLR3K_2060, SMAD2_2431, RIC8B_16089, ATP6V0A1_14768, CELF4_14980, GMEB1_879, CDK9_12698, SEL1L_16163, DGCR9_16868, QSER1_15981, WBSCR27_16599, NABP2_15714, GATSL2_17124, AEBP1_8844, PRPF4B_15913, AP2B1_14693, INS_15436, SLC7A4_16236, SLC2A4RG_2425, GLI4_5289, ZNF512B_12421, JUND_9291, ANHX_4467, YEATS2_9900, DNAJC21_4905, SF3B1_16200, MAPK8IP1_1479, MEG3_16764, DGCR5_16864, TANGO2_16936, GPR87_15332, CHD4_14992, FCHO2_15201, TFPT_16404, MSANTD3_6002, INTS10_15442, APITD1_16709, GATAD2A_840, ADNP2_8843, CHD4_14994, RUNX3_2324, ZNF250_7863, SCRT1_2365, SFPQ_16216, MAEA_15567, GPR32_15319, TRIM71_16481, QPRT_15970, ATP6V0A1_14771, CTD-2574D22.6_17276, ANP32E_14680, FOXF2_11319, YPEL3_16645, ASH2L_14744, PMS2P9_17225, GLI2_12881, WBSCR27_16600, PIK3C2A_15864, FOXD4L4_17252, CTD-2515O10.6_17291, MAPKAP1_15590, TP53BP2_2891, SCARB1_16148, C10orf76_16743, TRIM71_16477, LINC01311_16886, HMGB3_5475, ZNF438_8108, SEPT5_16175, CSK_15054, TFEB_13069, ZNF366_3601, EPC2_15171, IRX5_5694, SEPT5-GP1BB_16896, GREGoR_17330, CYP2C19_15075, DDX21_15099, HIRA_1011, GSAP_15337, YPEL3_16649, JUP_10531, GBX1_844, VPS37D_16562, ZNF273_7893, ARPC2_14727, ZNF124_3290, JUND_1299, ADGRG6_17003, SEPT5_16171, SPTBN1_16309, TMEM120A_16422, APH1A_14700, PCGF1_15845, GLI2_5284, SPDYE8P_17144, WBSCR16_16585, RBBP7_16047, ZFP14_3164, KMT2B_10731, PHOSPHO1_15855, GSAP_15339, ERG_12856, ACTR6_14624, MAFK_1475, PLEKHA5_6472, TANGO2_16922, CBFA2T3_252, ARID3C_4498, PEG3_9533, SETDB1_2379, NABP2_15722, MYL4_15670, GART_15283, LOC541473_17034, EIF4H_17101, NR2F2_16817, NFATC3_11649, TREML2_16468, CCL26_14943, MYO1C_15710, YWHAG_16655, FOXO4_11337, KIF22_15500, FGL2_15218, PAICS_15822, QPRT_15969, MEIS3_1527, ARL15_14720, DHX38_15124, RHOT1_16080, ZNF365_8019, INO80_15427, TWISTNB_17008, ZNF704_8521, PRRX2_6593, ADNP_8842, MYH6_15660, POM121C_15887, PPP4C_15903, SPDYE5_17191, CORO1A_15035, PDX1_9532, ZNF267_7889, TCF4_9792, C6orf62_14892, ZBTB44_3097, PI4KA_15862, NKRF_11668, RFX3_9627, ATG13_14758, HMGCS2_15363, CNTFR_15026, APITD1_16705, LOC541473_17036, KDF1_16720, TCF7L1_7167, PURA_2192, PRRC2B_15919, ZRANB2_16700, ZMIZ2_16681, VTCN1_16575, SCXA_6789, L3MBTL4_5804, LAMA5_15531, KLF9_5788, ING3_15399, ADAMTS7_14646, ZNF704_10348, FDX1_15206, MYO1C_15707, IRX2_1267, LITAF_5855, ZNF282_7918, KLF15_11517, FRS2_15238, PARD3_15839, KDF1_16716, IRF7_5680, RAB5C_16000, ZNF273_10912, NACC2_6091, KLF16_5768, RNU4ATAC_16842, JDP2_5707, ZBTB33_7493, NR2F2_16816, ZNF540_3828, LDB1_5816, HIC2_1001, DUX4_16996, CIC_4743, CHD3_14983, MESDC1_16798, GATAD2A_10665, CDK12_14960, TCF4_2743, INO80E_15420, JMJD6_15467, ZNF704_8522, ERG_5031, AP2B1_14695, BRD7_14830, CCDC146_17303, FOXO3_10658, NFE2L3_6157, MYLIP_15680, TCF4_7163, HSPB1_15366, SPOP_16303, WBSCR27_16596, CUL5_15063, PMS2P5_17115, AIDA_14648, PRDM11_2123, LOC101926943_17110, INO80_15429, TMEM60_16445, SEL1L_16159, CCL24_14936, E2F1_4935, BRD2_14826, ZBTB39_12139, ZFHX3_7577, DLX6_11216, KCTD13_15479, ZC3H7A_16672, DOC2A_15139, BRD9_14843, PAX6_6387, MYO1C_15712, ZSCAN5B_10984, HIVEP2_1018, BRD2_14820, QSER1_15979, STAG3L3_17045, APITD1_16715, SPOP_16304, CENPB_305, KMT2B_5795, FDPSP2_17212, HIP1_15353, TECRL_16403, GJA1_15304, SYK_16374, NFE4_1740, MYLK3_15688, LAMA5_15529, SF3B1_16202, TMEM191A_16977, TMEM120A_16427, IRX1_1266, DOC2A_15141, NFIC_1748, HOXA13_11430, DAAM1_15084, MRGPRX1_15636, NABP2_15723, ZBTB33_7494, TSHZ2_7350, CBL_8940, UCN3_16521, NAMPT_15729, FLVCR1_15225, JAG2_15461, POGK_11765, BRPF1_226, ZNF592_3935, DDX1_15092, RANBP1_16030, MAFB_1470, SIM2_6816, MAP2K7_15572, ADAMTS7_14644, GTF2IRD2_5350, ZMIZ2_16684, RAPGEF1_16036, DNAJC1_12711, ARL15_14725, PIAS3_6443, ZRANB2_16701, AFF2_10472, KLF17_11519, FARS2_15190, BARD1_14791, INO80E_15425, MORC3_15631, NSD1_15783, SPTBN1_16310, NANOGP8_16781, PIK3C2A_15868, ARHGEF7_14708, ZNF517_8216, ADNP2_11053, GMEB1_11369, LRRC74B_16983, ZFP42_7603, FOXO6_5203, ZCCHC11_9950, MECP2_11570, C16orf54_14848, KIAA0232_15491, PMS2P7_17050, MYLIP_15681, GJA1_15302, GJA1_15303, PRRT2_15924, GREGoR_17323, YLPM1_16642, NFIX_12976, MXD4_1618, LINC01311_16882, PPP4C_15902, KAT5_15471, NGDN_15754, TFDP1_9814, ABCA1_14588, TSHZ2_2929, PKN2_15871, CELF4_14977, RNU4ATAC_16846, APITD1_16711, CELF4_14979, SMAD9_11904, FOXK2_11329, SP1_6957, ZNF600_8374, POU6F1_11780, TFPT_16407, NKX2-4_11674, KDF1_16721, RBBP7_16048, DGCR14_15119, DACH1_4835, SPDYE8P_17058, HHEX_996, PTPN12_15937, ARL15_14722, TAF4_7069, SEZ6L2_16195, DUX4_16999, ZNF507_3777, ABCA1_14592, CTD-2515O10.6_17280, CIC_324, NKX6-1_1819, SOX18_6925, MAEA_15561, MSLN_1589, LRRC74B_16980, FOXD4L3_17255, FOXG1_11320, RIC8B_16087, VPS4A_16566, MAPK8IP1_5899, IAPP_15382, NSUN5_15795, TANGO2_16930, FOXD2_5142, ARL15_14721, NKX3-2_6238, CBFA2T2_248, ZBTB4_7505, CNOT10_15018, COMT_16917, MYLK3_15690, TNFRSF1B_16452, ATP10D_14764, FDX1_15210, TIGD3_7275, ZNF276_12291, COMT_16913, SLC17A6_16226, MORC3_15634, IRX2_1268, ARID1B_67, P2RX6_15812, LDLR_15540, RHOXF1_11845, PATZ1_12991, NABP2_15720, RHOT1_16082, ZC3H4_16659, CTD-2574D22.6_17265, RBFOX1_16053, CRTC1_12700, FES_15214, NFKB1_1755, SLC7A4_16239, SBDSP1_17017, TANGO2_16929, LDB2_5817, ZHX3_3227, CS_15056, ZNF165_12237, FCHO2_15199, GTF2IRD1_5348, ZHX3_3228, NAMPT_15731, ZSCAN32_12675, MSANTD3_6001, POU2F3_10792, NFIX_10766, GGT3P_16849, SSC4D_17206, NKX6-1_6239, MECP2_9360, SMARCD3_16256, GDF11_15293, NFIX_6173, CUX2_4828, BAZ1A_14795, LDLR_15545, RBM20_16059, YIPF5_16635, CDX2_286, PAICS_15823, FOXD4L6_17238, MYBL2_1629, CBFA2T2_11148, C6orf62_14894, IKZF5_1228, KMT2D_15527, CASZ1_4666, NABP2_15715, SETD3_16192, SRRM3_16321, SMARCD3_16264, STX1A_17087, RORB_9643, TCEB2_2715, ATG13_14756, BEND3_14808, SYK_16371, TRIM28_2911, ZNF296_3514, RNF168_16108, MLLT1_1559, ZBTB12_7464, CGGBP1_12833, RELB_6672, PLAG1_2042, ZNF333_7978, CAMTA1_236, GART_15286, SPOP_16305, PRDM12_6546, ZNF280C_3492, PMS2P9_17227, GTF2IP4_17071, PRPF4B_15916, STAG3L3_17042, HIVEP1_5435, PI4KA_15859, C5orf24_14887, RNU4ATAC_16845, GPR78_15324, HOXD13_1169, TPRX1_7320, ABCC8_14594, TERF2_9802, NACC2_1672, ZNF853_8747, CGGBP1_312, LRRC74B_16982, CTD-2574D22.6_17262, C4orf19_14879, ZNF501_3770, ZPR1_16762, ZSCAN31_13190, TNFRSF1B_16456, ZBTB46_12146, CBFA2T2_247, RORC_6724, PPAP2B_16722, ZNF540_13151, NEURL1_16750, CHRAC1_14995, ZNF273_13122, ELF4_4983, NFIL3_9447, UNKL_7379, SFPQ_16213, CSF3R_15047, ZNF534_8242, RLBP1_16102, SPDYE8P_17055, DGCR10_16872, SFMBT1_16206, MEF2C_5937, ILK_15390, LHX8_11540, MEG3_16768, COMT_16916, ARID3C_11082, NR2F6_1890, SMG9_16288, CTD-2574D22.6_17272, DNAJC21_4906, MDH2_15614, PURG_6617, CS_15058, ARPC2_14736, RTN4R_16957, ZNF839_10427, UPK3B_16543, TRIM50_16475, CTBP1_4816, ZNF521_10218, ETF1_635, ARID3A_74, NR2F2_16815, C6orf62_14898, NKX6-1_6240, LOC284865_16947, TFPT_16405, PPP2R2A_15898, G6PD_15271, CRTC3_4801, TCF15_2725, SPN_16297, TMEM219_16439, NANOGP8_16776, RBBP4_16039, C5orf24_14886, SUPT3H_16358, LOC541473_17180, GTF2A1_906, WBSCR28_16607, CCDC146_17306, TREML2_16465, GTF2IP1_17135, NR2F2_6308, MYLK3_15691, CXXC5_8993, DLG5_15130, C10orf76_16744, BBX_4587, CSRNP2_389, ANKRD13B_14676, FOXD3_723, BCL6_175, RLBP1_16103, LDB1_1395, ACTL6A_14607, WBSCR16_16586, SOX18_2506, FOXD4L4_17248, DGCR14_15117, RUVBL2_16129, LOC541473_17176, EMX1_5001, ZBTB39_7504, NLK_15759, PAICS_15825, GGT3P_16989, NGDN_15752, INO80D_15416, HOXD13_1170, POLE3_15881, LOC101926943_17109, RALGAPB_16023, GDPD3_15298, PURG_2198, POM121L4P_16971, ARPC2_14734, RAB5C_16007, TIPRL_16418, FIZ1_11300, COMT_16920, RORB_11853, CDX2_8948, SMAD7_2441, GLI3_867, LITAF_1435, ZNF587B_8352, WHSC1_9892, FRS2_15240, PUM2_15952, ARPC2_14730, LOC100133091_17213, RUVBL2_16132, YAF2_10601, AIFM3_14654, PALB2_15831, CREM_4796, LITAF_1436, MYH6_15656, DMRTC2_478, SYK_16373, GMEB2_881, HOXD3_9248, BRD8_14836, ZNF853_13184, HIP1_15350, TCFL5_9796, DCAF10_15085, NBN_15736, CBFB_11149, MYBL2_6050, LINC00895_16892, NABP2_15718, C2orf72_14875, INTS10_15443, SOX13_11922, C10orf76_16742, ANP32E_14682, CCDC141_14922, WBSCR16_16588, FURIN_15247, LAMA5_15533, C2orf72_14873, SMARCC2_9695, NSRP1_15790, ZNF417_8072, ATP6V0A1_14773, ATXN7L3_14783, DUX4_16997, LOC100101148_17171, PRPF4B_15917, FOXD4L5_17245, HES2_974, RSBN1L_16111, LINC00895_16890, KLF2_11520, SUZ12_11965, UFD1L_16526, TPI1_2898, ZNF501_12413, RBFOX1_16050, CMIP_15011, SMARCD3_16265, ELAVL1_15168, STX1A_17088, NANOGP8_16780, MAP3K12_15577, WBSCR27_16598, RBFOX1_16055, RELB_6671, CASZ1_4665, CDK9_281, ZNF219_7814, INO80B_15407, NCOA6_6109, MYO1C_15711, PBRM1_6399, FOSL1_702, ZNF699_13164, RAB5C_16002, ZG16_16679, FOXK2_9119, ZNF534_8241, STRA13_16835, SNAP29_16294, FURIN_15241, LINC01311_16881, ADGRG6_17004, PURA_6614, DDX21_15100, ZNF362_3597, ARPC2_14735, GREGoR_17313, SLC52A1_16230, PRDM11_6543, C1orf21_14862, CDIPT_14953, CECR2_14974, ACTL6B_14614, ZBED4_7452, MYLK3_15692, LIN9_1434, ATXN7L3_14780, ANP32E_14678, KIF26B_15508, RIC8B_16088, DLX2_449, JAG2_15456, ZG16_16676, KIF22_15492, KIF22_15496, KIF26B_15505, MYL4_15669, MXD4_6037, WNT4_16608, GJA1_15301, BRD7_14831, CHRAC1_14999, ABHD13_14602, PMS2P7_17044, NR2C2_1879, SMARCE1_16267, FAM46C_16730, SCXA_6790, SMARCB1_6876, SBK3_16836, ABHD11-AS1_17098, CMIP_15010, DDX21_15101, RAB5C_16005, POU2F3_6491, PURB_2195, ZFHX3_3157, SRCAP_11952, FOXP1_791, RAB5C_15996, CBX2_258, FOXD4L6_17240, SATB1_6772, VEZF1_2975, PMS2P3_17194, ZNF48_10190, LOC101926943_17106, NFATC3_6146, ZNF219_10051, MYSM1_11629, SPDYE8P_17057, POR_15892, POR_15889, MAT2A_15601, RUNX3_10823, SMARCA4_2450, ZNF888_4345, NCOA3_9429, FAM46C_16732, RHBDD2_16079, MEF2A_1512, SUPT16H_16355, SS18L1_16329, SUPT16H_16354, NPAS2_11688, NR2F2_16811, TMEM120A_16426, ACTL6B_14613, CRAMP1L_4767, SMARCE1_16266, YIPF5_16633, C10orf76_16745, THRA_2845, ZNF816_10973, APITD1_16714, STAG3L3_17047, FOXK1_755, ARHGEF26_14702, SENP7_16168, PBRM1_6400, ZP3_16697, CCDC141_14919, YAP1_3007, MAFG_1473, EXOC8_15180, SMCO1_16273, SYK_16375, PYGO2_15961, MAPKAP1_15592, ZNF84_12638, ZIC2_3232, PHF10_15846, ZNF580_8330, YPEL3_16647, FURIN_15250, MYRF_1657, SMARCC2_11905, FCHO2_15202, FNDC3B_15232, PMS2P2_17151, POLE3_15880, ZNF34_3569, DGCR6_16859, PKN2_15874, C4orf19_14878, SERPIND1_16182, PYGO2_15964, FBXO46_15196, CRTC3_382, TEAD3_2758, ZHX3_7647, INS_15432, CCL26_14946, LINC00896_16954, ZNF540_8248, CHRAC1_14998, EXOC8_15177, CBFB_254, ATXN7L3_14784, PMS2P7_17052, ACTR8_14635, SVEP1_16366, ZBTB22_3061, FOXC1_715, E2F3_4941, KIF22_15494, ABCA1_14589, CEBPB_4711, TRRAP_16487, DOC2A_15136, EOMES_5012, NR4A3_11709, MYLK3_15687, PURA_2194, ZNF83_4296, ACTR8_14632, APH1A_14698, C5orf24_14884, INO80D_15415, PI4KA_15858, ZBTB39_9929, G6PD_15274, NRP1_15779, UFD1L_16528, POM121C_15883, EPC2_15169, PALB2_15829, SALL2_2344, MYH6_15655, ZFHX4_3160, HIVEP1_5436, ZNF775_12600, SERPIND1_16187, NCOA3_6108, CNOT10_15015, SBK3_16839, YEATS2_3016, C6orf62_14890, DGCR9_16866, HOXB2_5541, ELAVL1_15163, PMS2P3_17193, SUPT16H_16353, CHD3_14987, SERPIND1_16183, KDM2B_5734, RNF168_16109, UCHL5_16514, RBBP4_16041, HMGA2_9205, GATAD2B_841, ZNF467_3724, DEAF1_4860, CRAMP1L_10626, LCOR_1390, FOXG1_740, TAF10_9759, CCDC141_14920, BAZ1A_14793, NACC2_9423, CSK_15052, APH1A_14701, FOXA1_11305, VPS4A_16570, LCOR_11533, FOXO1_11336, ADNP2_5, RELB_9621, CPEB1_339, MESDC1_16797, VEZF1_7395, MYL4_15667, MYO1C_15706, TFEB_2806, RBFOX1_16051, MSANTD3_1582, BARD1_14786, NOTCH3_15772, PURB_6616, NSUN5_15794, ARID1B_13196, HDAC3_953, QPRT_15974, ACTL6B_14617, LOC101926943_17108, ZNHIT1_16687, SLC52A1_16231, CTD-2574D22.6_17273, PTPRS_15944, COMT_16907, HDGF_5379, ANHX_47, DGCR9_16871, ARID3C_8872, EIF1B_15159, ELAVL1_15165, TCF7L1_12004, CSRNP2_390, ZSCAN31_4395, NKX3-2_6237, SMARCE1_16268, TFDP1_2795, SCXA_2369, C5orf24_14882, ZNF618_10289, UPK3B_16545, SMG8_16283, DGCR5_16863, TRIM71_16476, RSF1_16122, MAEA_15568, RAB5C_16003, UPK3B_16547, CELF4_14981, MEG3_16765, CAPN15_239, ZSCAN31_8817, NFE4_11654, GATAD2A_838, SKI_2415, PAGR1_15817, ZNF699_10954, PHOSPHO1_15854, SRRM3_16320, ZNF618_3980, FOXK2_757, GGT3P_16848, STX1A_17090, CYP2C19_15076, ASF1A_14740, PATZ1_10781, FLVCR1_15224, TFDP1_7216, ARPC2_14729, FNDC3B_15229, CSF3R_15046, OLIG1_1918, ZNF587_8349, GPR157_15312, ACVR1B_14639, DENND4C_17233, ZNF366_8022, PRDM11_6544, CECR2_14976, ZNF705D_10350, GMEB1_5299, NR2F1_1885, NBN_15737, GABARAPL2_15278, G3BP2_15269, UNC5C_16533, BCL6_11123, GMEB2_11370, DHX38_15123, PRRT2_15928, THRA_9832, PURG_6618, CTBP2_12703, TFDP1_7215, INO80E_15422, YEATS4_16627, MXD3_11614, GGT3P_16853, CARM1_14906, NLK_15756, ASH2L_14748, TANGO2_16938, FURIN_15252, FOXK2_5178, MIER1_12957, CEBPD_294, ZFP42_3183, P2RX6_15810, ZNF444_8123, SMG9_16289, ERG_10646, DHX38_15121, SCRT1_9661, SEPT5-GP1BB_16895, G3BP2_15266, MYO1C_15702, GPR87_15335, ID1_9260, RSBN1_16116, UCN3_16520, CIC_8963, INTS12_15448, DNAJC21_486, DENND4C_17234, SPDYE5_17189, ZNHIT1_16691, EBF4_541, ZNF652_4017, STAG3L2_17111, CHD4_14991, AP1G1_14688, SAP130_16136, COMT_16912, DNAJC1_4902, ZNF311_7946, APH1A_14696, JUP_5721, CREM_8980, PMS2P3_17196, ZNF365_10130, TPRX1_2899, PRDM12_6545, CPEB1_4759, SMAD9_9694, TCEB2_7135, HDGF_11393, CDK8_14967, PAGR1_15816, PKN2_15870, ZNF333_7977, SUPT3H_16357, ABCC8_14597, JMJD6_15464, COMT_16902, YLPM1_16639, INO80B_15403, LCP2_15538, SIRT7_16219, ZNF83_11041, CRKL_15038, DTX2P1-UPK3BP1-PMS2P11_17224, ZP3_16696, LHX6_1420, NFATC3_6145, MYL4_15668, KIAA1549_5745, RXRA_2329, HOXB2_9229, TSC22D2_7341, OTUB1_15809, ANKRD13B_14673, MYH6_15661, PARD3_15834, MXD4_9405, ZNF575_3900, SACM1L_6755, NFE4_9444, C16orf54_14849, FOXD4L6_17241, G6PD_15276, ZNF365_3599, ASH2L_14747, TIPRL_16420, TANGO2_16927, FOXN3_12867, FAM46C_16731, ARHGEF7_14710, PRR12_9595, GPR78_15329, KMT2A_11528, MLLT3_11591, ZNF587_3930, SMARCC1_2457, ACTR6_14627, MNT_9385, NBN_15734, CYP2C18_15069, G6PD_15275, NR2F2_1887, POU3F2_2077, SRF_9744, C16orf92_14853, BRCA2_14815, CEBPG_4718, LDB2_1397, ERG_609, RALGAPB_16024, CCDC146_14927, FNDC3B_15233, PXDNL_15958, KDM1A_15482, MEG3_16770, CARM1_14905, MSLN_10540, CARD11_14901, CDK8_14969, CAPN15_4660, POM121C_15882, TAOK2_16396, PRR12_6587, RFX7_9631, VTCN1_16576, NSUN5P2_17029, GREGoR_17327, TOX2_9848, FOXO4_781, BARD1_14789, PALB2_15828, MAPK3_15582, ITGB8_15454, MYO1C_15708, SNORA14A_17203, DGCR9_16869, PRDM11_6542, NR2F2_16821, RSF1_16126, ZFP62_9964, RLBP1_16100, ING3_15398, NFIC_1746, SLC52A1_16235, SMCO1_16274, CYP2C18_15070, SOX11_11920, SBDSP1_17015, NCF1B_17083, BRD9_14844, OSBPL11_15802, MBD2_5912, YWHAG_16651, PUM2_15950, RSBN1L_16115, SFMBT1_16208, GMEB2_5302, ZFHX2_7576, KLF10_5753, EXOC8_15178, SMARCD3_16260, KLF10_5755, ZNF80_10410, DAAM1_15082, TMEM120A_16424, ESRRA_9062, SPDYE8P_17141, SMARCC2_2459, RFX7_6695, SMARCD3_16259, UBFD1_16503, YPEL3_16646, WHSC1_2990, PCGF1_15843, MCRS1_15608, C10orf54_16737, MAZ_1487, SPN_16301, COMT_16914, MAP2K7_15575, KMT2A_1372, PIK3C2A_15869, PARD3_15836, ARID3C_78, TLX1_7285, SLC17A6_16224, NR2F2_16823, DAAM1_15081, CTD-2574D22.6_17264, KMT2D_15525, DENND4C_17232, NFIC_6168, MYRF_6079, CRKL_15040, KIAA1549_1325, PURA_2193, HOXD8_5596, PAX9_6394, CNTFR_15025, LDB1_1396, ELMSAN1_4996, SCXB_6791, VPS37D_16564, TRIM50_16472, ZNF362_8018, SOX18_6926, ZBTB42_3094, JAZF1_9286, CCL26_14945, DOC2A_15143, MYO18A_15699, PTK7_15931, LOC101926943_17105, MNT_5995, TEAD1_2753, FOXL2_9121, WNT4_16611, STRN3_16337, VTCN1_16573, ATMIN_4547, ZNF444_12382, EIF1B_15157, ELAVL1_15164, FOXD4L3_17254, EXOC8_15175, SMARCD2_16253, ATP6V0D1_14776, SYK_16370, WASF2_16578, CRTC3_10492, HIC2_5421, CBFA2T2_4668, EIF1B_15161, XXbac-B562F10.12_16967, ACTL6A_14606, UCHL5_16517, USP14_16548, MAP3K12_15576, NFE4_6159, BRD8_14835, ATG13_14757, SKI_6835, MEMO1_15627, HELZ2_10993, YPEL3_16644, SMG8_16282, RBPJL_11822, ANP32E_14679, RAPGEF1_16032, MTA1_9394, GMEB1_9159, TREML2_16469, MBD2_1492, ZFPM1_12181, MAFG_11557, CYP2C18_15071, SBK3_16837, TBX2_9779, KMT2D_15526, CSF3R_15044, ZNF25_12277, RELB_2251, MORC3_15632, ACTR5_14619, ZNF580_3912, TECRL_16400, PARD3_15835, BID_198, ARID3C_4497, C11orf95_8932, KLF15_5766, JAG2_15460, MAPK3_15586, HIRIP3_15357, DGCR6_16854, ACTR6_14626, MDH2_15616, WNT4_16610, PPAP2B_16726, UBXN7_16510, SMARCC2_6879, G3BP2_15267, ZNF280D_3493, ZNF236_3433, PXDNL_15956, BARD1_14790, DGCR14_15120, FIZ1_5107, UFD1L_16524, ABHD11-AS1_17097, PMS2P9_17226, ZNF658_8445, CCDC146_17299, POGK_9555, CTCF_11196, GDPD3_15294, ATMIN_128, LCP2_15539, CNOT8_4755, BECN1_14801, SIX3_2407, ZNF273_3475, MYBPHL_15650, RAPGEF1_16037, LOC284865_16948, RBFOX1_16054, ARHGEF26_14703, C16orf54_14847, RLBP1_16099, ARID2_11079, CUX1_4826, NLK_15758, RUVBL2_16130, GATSL2_17123, LDLR_15541, PLEKHA5_9553, CPEB1_10624, DSTN_15156, KDM1A_15483, RAB2A_15986, ARPC2_14737, GREGoR_17329, MAFG_5893, NFYA_6203, FYN_15256, CSF3R_15045, HHEX_5415, TECRL_16398, ZG16_16675, DGCR9_16870, CYP2C19_15074, TIGD2_12046, SP7_6978, USP32_16558, ACTR5_14623, ZBTB22_7482, UPK3B_16542, ZNF444_10172, RFX3_2268, UBP1_2953, ZNF236_7854, SALL3_9656, GATAD2B_9146, PPAP2B_16727, LCP2_15534, GLI1_5281, GTF2IP1_17140, SUPT3H_16361, SEZ6L2_16199, PTK7_15934, STS_16339, CECR2_14975, FOXC2_717, MYLK3_15685, TEAD3_9799, CARD11_14903, PKNOX2_6459, PIK3C2A_15866, ZSCAN5A_13192, ARPC2_14728, GTF2IRD1_11382, ZBTB46_7521, PPARD_2104, ZNF735_12579, CCDC146_14925, TNFRSF1B_16454, CELF4_14978, GABARAPL2_15280, UBE2F_16494, KLF10_1334, ZNF282_3498, LOC284865_16946, BARX1_149, ZBTB46_3102, HIRA_10686, TBX2_11989, ILK_15392, INS_15434, NCOA5_15742, EMX1_4999, MEMO1_15625, ZNF628_8418, NFKB1_6175, XXbac-B562F10.12_16968, SUZ12_7045, STS_16340, ZIC1_9981, HES2_10679, NEUROD2_1701, SCXA_2370, RORB_2299, NR6A1_6330, ZNF587B_12479, DENND4C_17230, NOTCH1_6259, LCP2_15537, NEURL1_16746, ZNF395_8048, LEUTX_9325, DSTN_15155, CNOT10_15017, RAD51D_16008, SIX5_6832, CNOT10_15014, NLK_15757, SMCO1_16275, PRDM11_13009, DPY30_15150, SNAP29_16291, CIC_323, MORC3_15633, NABP2_15721, ILF3_5652, NR2F2_16812, NODAL_15767, TSPAN14_16490, PMS2P2_17162, KLF16_1347, IRX5_11492, PDX1_1996, ZNF592_3936, PAX9_1974, CCKBR_14931, QSER1_15983, CTD-2574D22.6_17268, DMBX1_4882, CTD-2515O10.6_17286, PHF10_15847, LOC100101148_17033, GGT3P_16852, FOXD4L4_17253, SCXB_2371, FOXI3_11324, BRPF1_4645, NPAS1_6269, UPF1_16539, FOXD4L6_17239, SRCAP_6996, PMS2P7_17152, RAB5C_15998, KAT5_15472, RSBN1L_16113, PTPN12_15939, MESDC1_16799, SRF_7003, SVEP1_16362, THAP7_9829, TSHZ2_7349, EBF4_4961, ZNF317_7947, POU3F1_2075, ZNF333_10113, KIAA0232_15486, PTK7_15935, STX1A_17091, EBF4_542, CUL5_15065, NFKBIE_10548, AIFM3_14660, IRX6_1276, ZBTB20_10865, ARHGEF26_14707, CENPB_8956, SCMH1_13037, TERF2_12012, DPY30_15149, INO80B_15405, ASCL3_8882, ZNF131_12218, AP2B1_14690, PRDM12_2126, QPRT_15976, RBBP7_16044, ARNTL_11088, SNORA14A_17202, ZBTB10_3040, C16orf92_14857, TANGO2_16921, TRIM71_16479, TANGO2_16931, CHRAC1_15000, ARHGEF7_14711, NSUN5P1_17181, SAP130_16139, BECN1_14800, SBK3_16838, FES_15215, SHOX2_6812, LINC00896_16953, LHX8_5842, PHF10_15850, QPRT_15971, EGR1_548, SDHD_16155, ZNF281_7915, BARX1_150, CREM_11190, LRRC74B_16978, ZFP62_7609, TEAD3_12009, APITD1_16712, CNTFR_15029, FES_15211, RNF168_16105, ZNF112_10002, RSBN1_16120, MAT2A_15605, NR2F2_16810, CBL_256, ZFPM2_3209, MEMO1_15624, YLPM1_16638, FOXO6_5204, TRIM71_16478, MSANTD3_9388, SMARCD3_16255, MAP2K7_15574, ABHD11-AS1_17096, KLF15_1346, ETF1_9065, ZBTB40_3090, NSD1_15781, ZG16_16678, E2F3_521, DPY30_15145, FDPSP2_17210, PHF19_11748, ANKRD13B_14672, DDX3X_15105, ZNF575_8320, ASF1A_14742, ATXN7L3_14785, GREGoR_17319, NSUN5P2_17026, BRD8_14834, SPDYE5_17188, PRRC2B_15920, ASCL3_11092, BARD1_14787, NFIX_1753, ZNF699_8507, CDX1_283, SPDYE5_17192, RUVBL2_16128, G3BP2_15270, SCRT1_2366, SFPQ_16214, MORF4L1_16793, IAPP_15383, DGCR9_16867, TGIF2_2816, MORF4L1_16792, POR_15890, NCF1C_17130, HMGN2_5480, BRD8_14839, ATN1_4550, CIZ1_4747, C6orf62_14893, NDEL1_15747, MYBPHL_15651, KLF16_5767, MTA1_6015, ZBTB7A_3113, ZCCHC11_3137, ASPHD1_14750, UBFD1_16502, MYH6_15658, LITAF_12745, CARD11_14904, LINC00896_16951, KLF10_5754, SCRT1_6785, FLVCR1_15228, TAOK2_16395, MESP2_1536, ZNF532_3820, SMARCD1_16242, GBX2_847, PTPN12_15941, TAOK2_16397, TFEB_10858, ELF2_4979, SLC52A1_16234, SQLE_16319, GREGoR_17318, SOX18_11926, ATMIN_11104, NR2F2_16809, CTD-2574D22.6_17260, DPF3_4921, ATP10D_14762, BRD2_14825, FOSL2_703, MTA1_1595, GTF2IP4_17079, ATP6V0D1_14774, COMT_16899, ARIH2_14718, ASF1A_14741, CCKBR_14933, TBX1_7102, MYL4_15671, ZNF592_8355, ZBTB12_3043, RAB2A_15987, HMX1_11419, NFE4_6160, CNOT8_336, TIGD5_2860, MCRS1_15611, MYH6_15665, ZC3H7A_16673, DGCR6_16855, WHSC1_12102, DTX2P1-UPK3BP1-PMS2P11_17223, HAND1_940, SLC2A4RG_2426, MYO1C_15704, SNAP29_16290, FOXF1_5155, YEATS4_16630, MORF4L1_16782, STRA13_16830, TMEM63B_16450, ZNF653_4020, ZNF438_8110, SRCAP_6995, ZFHX3_7578, HOXD13_11457, DLG5_15131, ITGB8_15450, ZNHIT1_16689, INO80B_15406, GREGoR_17320, DOC2A_15133, SMARCC1_6878, BNC2_4628, PPAP2B_16723, SRRM3_16324, C4orf19_14881, MSLN_6010, GPR87_15334, NRP1_15776, CRTC3_4802, ZRANB2_16699, SATB1_2352, FARS2_15187, PRRT2_15926, CTD-2515O10.6_17283, VPS4A_16569, MDH2_15617, MXI1_1619, UCN3_16523, ACTL6A_14611, MAFB_5890, SPDYE8P_17054, CGGBP1_10623, RIMS4_16094, DGCR11_16876, GSC2_899, ZC3H7A_16669, KIFAP3_15517, CTD-2574D22.6_17263, MAFG_5894, MAFK_11558, GABARAPL2_15277, GDF11_15289, LAMA5_15528, ZFHX2_3154, NEURL1_16751, UNCX_2957, ATP6V0D1_14775, CBFA2T3_250, NSD1_15782, SCXA_9663, TMEM219_16434, FOXD4L6_17237\n",
      "2895\n"
     ]
    }
   ],
   "source": [
    "print(len(set(engreitz_extra_nof).intersection(hon_extra, huangfu_extra)))\n",
    "print(len(set(gersbach_extra_nof).intersection(hon_extra, huangfu_extra)))\n",
    "print(len(set(hon_extra).intersection(huangfu_extra) - set(engreitz_extra_nof).union(gersbach_extra_nof)))\n",
    "\n",
    "gers_miss = set(hon_extra).intersection(huangfu_extra, engreitz_extra_nof) - set(gersbach_extra_nof)\n",
    "print(\", \".join(set(huangfu_guide_ref[huangfu_guide_ref['sequence'].isin(gers_miss)]['id'])))\n",
    "print(len(gers_miss))\n",
    "hon_guide_ref[hon_guide_ref['protospacer_upper'].isin(gers_miss)].to_csv(local_path + \"gersbach_missing.csv\")\n",
    "gers_xtra = set(gersbach_extra_nof) - set(hon_extra).intersection(huangfu_extra, engreitz_extra_nof)\n",
    "print(\", \".join(set(gersbach_guide_ref[gersbach_guide_ref['reverse_compliment'].isin(gers_xtra)]['target_gene_name'])))\n",
    "print(len(gers_xtra))\n",
    "gersbach_guide_ref[gersbach_guide_ref['reverse_compliment'].isin(gers_xtra)].to_csv(local_path + \"gersbach_extra.csv\")\n",
    "\n",
    "\n",
    "engr_miss = set(hon_extra).intersection(huangfu_extra, gersbach_extra_nof) - set(engreitz_extra_nof)\n",
    "print(\", \".join(set(huangfu_guide_ref[huangfu_guide_ref['sequence'].isin(engr_miss)]['id'])))\n",
    "print(len(engr_miss))\n",
    "engr_xtra = set(engreitz_extra_nof) - set(hon_extra).intersection(huangfu_extra, gersbach_extra_nof) \n",
    "print(\", \".join(set(engreitz_guide_ref[engreitz_guide_ref['guide_sequence'].isin(engr_xtra)]['guide_name'])))\n",
    "print(len(engr_xtra))\n",
    "engreitz_guide_ref[engreitz_guide_ref['guide_sequence'].isin(engr_xtra)].to_csv(local_path + \"engreitz_extra.csv\")"
   ]
  },
  {
   "cell_type": "code",
   "execution_count": 81,
   "metadata": {},
   "outputs": [
    {
     "name": "stdout",
     "output_type": "stream",
     "text": [
      "['GAGTGGCCGGTCCAGAGCTG', 'GGGATCAAGGCGAGAGGATC', 'GAAGGCGAGAGGATCCGGCA']\n",
      "1149\n",
      "7\n",
      "7\n",
      "1149\n"
     ]
    }
   ],
   "source": [
    "# Which of these are present in the \"target_genes.csv\" file?\n",
    "all_targeting_photosp = targets.iloc[:, [5,6,7,8,9,10]].values.tolist()\n",
    "\n",
    "def flatten_list(nested_list):\n",
    "    flattened = []\n",
    "    for item in nested_list:\n",
    "        if isinstance(item, list):\n",
    "            flattened.extend(flatten_list(item))\n",
    "        else:\n",
    "            flattened.append(item)\n",
    "    return flattened\n",
    "\n",
    "all_targeting_photosp = flatten_list(all_targeting_photosp)\n",
    "all_targeting_photosp = [item.upper() for item in all_targeting_photosp]\n",
    "print(all_targeting_photosp[:3])\n",
    "\n",
    "print(len(set(gers_miss).intersection(set(all_targeting_photosp))))\n",
    "print(len(set(gers_xtra).intersection(set(all_targeting_photosp))))\n",
    "print(len(set(engr_miss).intersection(set(all_targeting_photosp))))\n",
    "print(len(set(engr_xtra).intersection(set(all_targeting_photosp))))"
   ]
  },
  {
   "cell_type": "markdown",
   "metadata": {},
   "source": [
    "# Take the union across everything and merge into one file, including the mismatches, based on sequence"
   ]
  },
  {
   "cell_type": "code",
   "execution_count": 82,
   "metadata": {},
   "outputs": [],
   "source": [
    "# Give columns unified names; let the file be 5' in the protospacer column, with a 3' reverse compliment column\n",
    "hon_new_colnames = ['id_hon', 'protospacer_mixed', 'intended_target_name_hon', 'type', 'genomic_element', 'reverse_compliment', 'protospacer']\n",
    "huangfu_new_colnames = ['id_huangfu', 'name', 'read', 'pattern', 'protospacer', 'feature_type', 'intended_target_name_huangfu', 'type']\n",
    "gersbach_new_colnames = ['id_gersbach', 'name', 'read', 'pattern', 'reverse_compliment', 'feature_type', 'intended_target_name_gersbach', 'type', 'protospacer']\n",
    "engreitz_new_colnames = ['id_engreitz', 'prefix', 'protospacer', 'suffix', 'intended_target_name_engreitz', 'type']\n",
    "\n",
    "hon_guide_ref_upd = hon_guide_ref\n",
    "hon_guide_ref_upd.columns = hon_new_colnames\n",
    "\n",
    "huangfu_guide_ref_upd = huangfu_guide_ref\n",
    "huangfu_guide_ref_upd.columns = huangfu_new_colnames\n",
    "\n",
    "gersbach_guide_ref_upd = gersbach_guide_ref\n",
    "gersbach_guide_ref_upd.columns = gersbach_new_colnames\n",
    "\n",
    "engreitz_guide_ref_upd = engreitz_guide_ref\n",
    "engreitz_guide_ref_upd.columns = engreitz_new_colnames"
   ]
  },
  {
   "cell_type": "code",
   "execution_count": 83,
   "metadata": {},
   "outputs": [],
   "source": [
    "# Merge\n",
    "merged = pd.merge(\n",
    "    hon_guide_ref_upd[['id_hon', 'protospacer', 'type', 'intended_target_name_hon', 'reverse_compliment', 'genomic_element']],\n",
    "    gersbach_guide_ref_upd[['id_gersbach', 'protospacer', 'type', 'intended_target_name_gersbach', 'reverse_compliment']],\n",
    "    on=[\"protospacer\", \"type\", \"reverse_compliment\"],\n",
    "    how=\"outer\",\n",
    ")\n",
    "merged = pd.merge(\n",
    "    merged,\n",
    "    huangfu_guide_ref_upd[['id_huangfu', 'protospacer', 'type', 'intended_target_name_huangfu']],\n",
    "    on=[\"protospacer\", \"type\"],\n",
    "    how=\"outer\",\n",
    ")\n",
    "merged = pd.merge(\n",
    "    merged,\n",
    "    engreitz_guide_ref_upd[['id_engreitz', 'protospacer', 'type', 'intended_target_name_engreitz']],\n",
    "    on=[\"protospacer\", \"type\"],\n",
    "    how=\"outer\",\n",
    ")\n",
    "\n",
    "merged['missing_count'] = merged.isnull().sum(axis=1)\n",
    "merged_sorted = merged.sort_values(by='missing_count')\n",
    "merged_sorted = merged_sorted.drop('missing_count', axis=1)\n",
    "merged_sorted.head()\n",
    "\n",
    "merged_sorted.to_csv(local_path + \"outer_merged_file.csv\", index = False, header = True)"
   ]
  },
  {
   "cell_type": "code",
   "execution_count": null,
   "metadata": {},
   "outputs": [
    {
     "name": "stdout",
     "output_type": "stream",
     "text": [
      "(2592, 9)\n",
      "(922, 6)\n",
      "922\n",
      "       id_gersbach          protospacer       type  \\\n",
      "1253       NR2F2.2  GAAAACCGCCAACAACTAT  targeting   \n",
      "1279  IL6ST_P1P2.3  GAAGGATCTGACAGTGTTC  targeting   \n",
      "1278   YEATS4_P1P2  GAAGGAGGGCGAGTTACTT  targeting   \n",
      "1277   EPC2_P1P2.5  GAAGGAGGAGGAATCGGTA  targeting   \n",
      "1276  GPR78_P1P2.2  GAAGGAAAGATACAGTGTT  targeting   \n",
      "\n",
      "     intended_target_name_gersbach   reverse_compliment   id_engreitz  \\\n",
      "1253                         NR2F2  ATAGTTGTTGGCGGTTTTC   NR2F2_16801   \n",
      "1279                         IL6ST  GAACACTGTCAGATCCTTC   IL6ST_15386   \n",
      "1278                        YEATS4  AAGTAACTCGCCCTCCTTC  YEATS4_16626   \n",
      "1277                          EPC2  TACCGATTCCTCCTCCTTC    EPC2_15173   \n",
      "1276                         GPR78  AACACTGTATCTTTCCTTC   GPR78_15325   \n",
      "\n",
      "     intended_target_name_engreitz  \n",
      "1253                         NR2F2  \n",
      "1279                         IL6ST  \n",
      "1278                        YEATS4  \n",
      "1277                          EPC2  \n",
      "1276                         GPR78  \n",
      "(2592, 7)\n"
     ]
    }
   ],
   "source": [
    "# Also create separate Pool F and Pool A-D files\n",
    "\n",
    "### POOL F ###\n",
    "gersbach_guide_ref_upd_pf = gersbach_guide_ref_upd[gersbach_guide_ref_upd['protospacer'].isin(pool_f['sgRNA protospacer sequence'])]\n",
    "print(gersbach_guide_ref_upd_pf.shape)\n",
    "engreitz_guide_ref_upd_pf = engreitz_guide_ref_upd[engreitz_guide_ref_upd['protospacer'].isin(pool_f['sgRNA protospacer sequence'])]\n",
    "print(engreitz_guide_ref_upd_pf.shape)\n",
    "print(len(set(gersbach_guide_ref_upd_pf['protospacer']).intersection(engreitz_guide_ref_upd_pf['protospacer'])))  # All Jesse's pool F guides are covered in Gersbach's\n",
    "\n",
    "merged_poolf = pd.merge(\n",
    "    gersbach_guide_ref_upd_pf[['id_gersbach', 'protospacer', 'type', 'intended_target_name_gersbach', 'reverse_compliment']],\n",
    "    engreitz_guide_ref_upd_pf[['id_engreitz', 'protospacer', 'type', 'intended_target_name_engreitz']],\n",
    "    left_on=[\"protospacer\", \"type\"],\n",
    "    right_on=[\"protospacer\", \"type\"],\n",
    "    how=\"outer\"\n",
    ")\n",
    "\n",
    "\n",
    "merged_poolf['missing_count'] = merged_poolf.isnull().sum(axis=1)\n",
    "merged_poolf_sorted = merged_poolf.sort_values(by='missing_count')\n",
    "merged_poolf_sorted = merged_poolf_sorted.drop('missing_count', axis=1)\n",
    "merged_poolf_sorted.head()\n",
    "\n",
    "print(merged_poolf_sorted.head())\n",
    "print(merged_poolf_sorted.shape)\n",
    "\n",
    "merged_poolf_sorted.to_csv(local_path + \"outer_merged_file_poolf.csv\", index = False, header = True)"
   ]
  },
  {
   "cell_type": "code",
   "execution_count": 98,
   "metadata": {},
   "outputs": [
    {
     "name": "stdout",
     "output_type": "stream",
     "text": [
      "(17034, 9)\n",
      "(14442, 9)\n",
      "(17017, 6)\n",
      "(16095, 6)\n",
      "                           id_hon           protospacer              type  \\\n",
      "4340   TFEC_-_115670779.23-P1P2-1  GCATATGCACCATGCCAGAA         targeting   \n",
      "10050  NR2C1_-_95467292.23-P1P2-2  GGATGTGGGATCGAGATTCA         targeting   \n",
      "17346   NANOG_+_7942459.23-P1P2-2  GTTTTTCCATTATAACTTGG         targeting   \n",
      "17347                     OR8B3-5  GTTTTTGTCTTCAAAAATCT  negative_control   \n",
      "8065   ZNF48_+_30406782.23-P1P2-1  GCTCCGCGCCAAGCCGGGAG         targeting   \n",
      "\n",
      "      intended_target_name_hon    reverse_compliment genomic_element  \\\n",
      "4340                      TFEC  TTCTGGCATGGTGCATATGC        promoter   \n",
      "10050                    NR2C1  TGAATCTCGATCCCACATCC        promoter   \n",
      "17346                    NANOG  CCAAGTTATAATGGAAAAAC        promoter   \n",
      "17347                    OR8B3  AGATTTTTGAAGACAAAAAC        promoter   \n",
      "8065                     ZNF48  CTCCCGGCTTGGCGCGGAGC        promoter   \n",
      "\n",
      "                      id_gersbach intended_target_name_gersbach id_huangfu  \\\n",
      "4340   TFEC_-_115670779.23-P1P2-1                          TFEC     TFEC_1   \n",
      "10050  NR2C1_-_95467292.23-P1P2-2                         NR2C1    NR2C1_4   \n",
      "17346   NANOG_+_7942459.23-P1P2-2                         NANOG    NANOG_6   \n",
      "17347                     OR8B3-5                       OR8B3-5    OR8B3_5   \n",
      "8065   ZNF48_+_30406782.23-P1P2-1                         ZNF48    ZNF48_3   \n",
      "\n",
      "      intended_target_name_huangfu  id_engreitz intended_target_name_engreitz  \n",
      "4340                          TFEC    TFEC_2809                          TFEC  \n",
      "10050                        NR2C1   NR2C1_6298                         NR2C1  \n",
      "17346                        NANOG  NANOG_11635                         NANOG  \n",
      "17347                        OR8B3  OR8B3_13740                         OR8B3  \n",
      "8065                         ZNF48   ZNF48_8159                         ZNF48  \n",
      "(17364, 12)\n"
     ]
    }
   ],
   "source": [
    "### POOL A-D ###\n",
    "gersbach_guide_ref_upd_pad = gersbach_guide_ref_upd[~gersbach_guide_ref_upd['protospacer'].isin(pool_f['sgRNA protospacer sequence'])]\n",
    "print(gersbach_guide_ref_upd.shape)\n",
    "print(gersbach_guide_ref_upd_pad.shape)\n",
    "engreitz_guide_ref_upd_pad = engreitz_guide_ref_upd[~engreitz_guide_ref_upd['protospacer'].isin(pool_f['sgRNA protospacer sequence'])]\n",
    "print(engreitz_guide_ref_upd.shape)\n",
    "print(engreitz_guide_ref_upd_pad.shape)\n",
    "\n",
    "merged_poolad = pd.merge(\n",
    "    hon_guide_ref_upd[['id_hon', 'protospacer', 'type', 'intended_target_name_hon', 'reverse_compliment', 'genomic_element']],\n",
    "    gersbach_guide_ref_upd_pad[['id_gersbach', 'protospacer', 'type', 'intended_target_name_gersbach', 'reverse_compliment']],\n",
    "    on=[\"protospacer\", \"type\", \"reverse_compliment\"],\n",
    "    how=\"outer\",\n",
    ")\n",
    "merged_poolad = pd.merge(\n",
    "    merged_poolad,\n",
    "    huangfu_guide_ref_upd[['id_huangfu', 'protospacer', 'type', 'intended_target_name_huangfu']],\n",
    "    on=[\"protospacer\", \"type\"],\n",
    "    how=\"outer\",\n",
    ")\n",
    "merged_poolad = pd.merge(\n",
    "    merged_poolad,\n",
    "    engreitz_guide_ref_upd_pad[['id_engreitz', 'protospacer', 'type', 'intended_target_name_engreitz']],\n",
    "    left_on=[\"protospacer\", \"type\"],\n",
    "    right_on=[\"protospacer\", \"type\"],\n",
    "    how=\"outer\"\n",
    ")\n",
    "\n",
    "merged_poolad['missing_count'] = merged_poolad.isnull().sum(axis=1)\n",
    "merged_poolad_sorted = merged_poolad.sort_values(by='missing_count')\n",
    "merged_poolad_sorted = merged_poolad_sorted.drop('missing_count', axis=1)\n",
    "merged_poolad_sorted.head()\n",
    "\n",
    "print(merged_poolad_sorted.head())\n",
    "print(merged_poolad_sorted.shape)\n",
    "\n",
    "merged_poolad_sorted.to_csv(local_path + \"outer_merged_file_poolabcd.csv\", index = False, header = True)"
   ]
  }
 ],
 "metadata": {
  "kernelspec": {
   "display_name": "sara_env",
   "language": "python",
   "name": "python3"
  },
  "language_info": {
   "codemirror_mode": {
    "name": "ipython",
    "version": 3
   },
   "file_extension": ".py",
   "mimetype": "text/x-python",
   "name": "python",
   "nbconvert_exporter": "python",
   "pygments_lexer": "ipython3",
   "version": "3.13.2"
  }
 },
 "nbformat": 4,
 "nbformat_minor": 2
}
