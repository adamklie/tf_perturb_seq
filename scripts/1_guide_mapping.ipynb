{
 "cells": [
  {
   "cell_type": "markdown",
   "metadata": {},
   "source": [
    "# Set-up"
   ]
  },
  {
   "cell_type": "code",
   "execution_count": 1,
   "metadata": {},
   "outputs": [
    {
     "name": "stdout",
     "output_type": "stream",
     "text": [
      "The history saving thread hit an unexpected error (DatabaseError('database disk image is malformed')).History will not be written to the database.\n"
     ]
    }
   ],
   "source": [
    "# imports\n",
    "import pandas as pd"
   ]
  },
  {
   "cell_type": "code",
   "execution_count": 2,
   "metadata": {},
   "outputs": [],
   "source": [
    "# Paths\n",
    "path_huanfu_guide_ref = \"/cellar/users/aklie/data/datasets/tf_perturb_seq/Huangfu_HUES8-embryonic-stemcell-differentiation_TF-Perturb-seq/Perturbation_information/ref_feature.csv\"\n",
    "path_hon_guide_ref = \"/cellar/users/aklie/data/datasets/tf_perturb_seq/Hon_WTC11-cardiomyocyte-differentiation_TF-Perturb-seq/Perturbation_information/sgRNA_index_dacc_annot_reference.csv\""
   ]
  },
  {
   "cell_type": "markdown",
   "metadata": {},
   "source": [
    "# Create master guide reference"
   ]
  },
  {
   "cell_type": "code",
   "execution_count": null,
   "metadata": {},
   "outputs": [
    {
     "data": {
      "text/plain": [
       "14358"
      ]
     },
     "execution_count": 3,
     "metadata": {},
     "output_type": "execute_result"
    }
   ],
   "source": [
    "# Read Huangfu lab guide reference\n",
    "huangfu_guide_ref = pd.read_csv(path_huanfu_guide_ref)\n",
    "\n",
    "# Read Hon lab guide reference\n",
    "hon_guide_ref = pd.read_csv(path_hon_guide_ref, sep=\"\\t\")\n",
    "hon_guide_ref[\"protospacer_upper\"] = hon_guide_ref[\"protospacer\"].str.upper()  # create protospacer_upper column\n",
    "\n",
    "# How many  map\n",
    "hon_guide_ref[\"protospacer\"].str.upper().isin(huangfu_guide_ref[\"sequence\"]).sum()"
   ]
  },
  {
   "cell_type": "code",
   "execution_count": null,
   "metadata": {},
   "outputs": [],
   "source": [
    "# merge\n",
    "ref = pd.merge(\n",
    "    hon_guide_ref,\n",
    "    huangfu_guide_ref,\n",
    "    left_on=\"protospacer_upper\",\n",
    "    right_on=\"sequence\",\n",
    "    how=\"inner\",\n",
    ")\n",
    "\n",
    "# clean\n",
    "ref_clean = ref[list(hon_guide_ref.columns) + [\"id\", \"name\"]]\n",
    "ref_clean = ref_clean.rename(columns={\"id\": \"Huangfu_id\", \"name\": \"Huangfu_name\"})\n",
    "ref_clean = ref_clean.drop(columns=[\"protospacer_upper\"])\n",
    "\n",
    "# save\n",
    "ref_clean.to_csv(\n",
    "    \"/cellar/users/aklie/data/datasets/tf_perturb_seq/ref/sgRNA_id_master.tsv\",\n",
    "    sep=\"\\t\",\n",
    "    index=False,\n",
    "    header=True,\n",
    ")"
   ]
  },
  {
   "cell_type": "markdown",
   "metadata": {},
   "source": [
    "# DONE!"
   ]
  },
  {
   "cell_type": "markdown",
   "metadata": {},
   "source": [
    "---"
   ]
  }
 ],
 "metadata": {
  "kernelspec": {
   "display_name": "Python 3.9 scverse-lite",
   "language": "python",
   "name": "scverse-lite-py39"
  },
  "language_info": {
   "codemirror_mode": {
    "name": "ipython",
    "version": 3
   },
   "file_extension": ".py",
   "mimetype": "text/x-python",
   "name": "python",
   "nbconvert_exporter": "python",
   "pygments_lexer": "ipython3",
   "version": "3.9.18"
  }
 },
 "nbformat": 4,
 "nbformat_minor": 2
}
