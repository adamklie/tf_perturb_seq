





<!DOCTYPE html>
<html
  lang="en"
  
  data-color-mode="auto" data-light-theme="light" data-dark-theme="dark"
  data-a11y-animated-images="system" data-a11y-link-underlines="true"
  
  >




  <head>
    <meta charset="utf-8">
  <link rel="dns-prefetch" href="https://github.githubassets.com">
  <link rel="dns-prefetch" href="https://avatars.githubusercontent.com">
  <link rel="dns-prefetch" href="https://github-cloud.s3.amazonaws.com">
  <link rel="dns-prefetch" href="https://user-images.githubusercontent.com/">
  <link rel="preconnect" href="https://github.githubassets.com" crossorigin>
  <link rel="preconnect" href="https://avatars.githubusercontent.com">

  


  <link crossorigin="anonymous" media="all" rel="stylesheet" href="https://github.githubassets.com/assets/light-44e67b0cd5d5.css" /><link crossorigin="anonymous" media="all" rel="stylesheet" href="https://github.githubassets.com/assets/light_high_contrast-b51c2fae25e8.css" /><link crossorigin="anonymous" media="all" rel="stylesheet" href="https://github.githubassets.com/assets/dark-cb035ed575b8.css" /><link crossorigin="anonymous" media="all" rel="stylesheet" href="https://github.githubassets.com/assets/dark_high_contrast-99e9b1169976.css" /><link data-color-theme="light" crossorigin="anonymous" media="all" rel="stylesheet" data-href="https://github.githubassets.com/assets/light-44e67b0cd5d5.css" /><link data-color-theme="light_high_contrast" crossorigin="anonymous" media="all" rel="stylesheet" data-href="https://github.githubassets.com/assets/light_high_contrast-b51c2fae25e8.css" /><link data-color-theme="light_colorblind" crossorigin="anonymous" media="all" rel="stylesheet" data-href="https://github.githubassets.com/assets/light_colorblind-dadcba82130c.css" /><link data-color-theme="light_colorblind_high_contrast" crossorigin="anonymous" media="all" rel="stylesheet" data-href="https://github.githubassets.com/assets/light_colorblind_high_contrast-cdc36145225e.css" /><link data-color-theme="light_tritanopia" crossorigin="anonymous" media="all" rel="stylesheet" data-href="https://github.githubassets.com/assets/light_tritanopia-0ca195e3b5f3.css" /><link data-color-theme="light_tritanopia_high_contrast" crossorigin="anonymous" media="all" rel="stylesheet" data-href="https://github.githubassets.com/assets/light_tritanopia_high_contrast-f9fb5556a83f.css" /><link data-color-theme="dark" crossorigin="anonymous" media="all" rel="stylesheet" data-href="https://github.githubassets.com/assets/dark-cb035ed575b8.css" /><link data-color-theme="dark_high_contrast" crossorigin="anonymous" media="all" rel="stylesheet" data-href="https://github.githubassets.com/assets/dark_high_contrast-99e9b1169976.css" /><link data-color-theme="dark_colorblind" crossorigin="anonymous" media="all" rel="stylesheet" data-href="https://github.githubassets.com/assets/dark_colorblind-9541c4141757.css" /><link data-color-theme="dark_colorblind_high_contrast" crossorigin="anonymous" media="all" rel="stylesheet" data-href="https://github.githubassets.com/assets/dark_colorblind_high_contrast-bc604fc65912.css" /><link data-color-theme="dark_tritanopia" crossorigin="anonymous" media="all" rel="stylesheet" data-href="https://github.githubassets.com/assets/dark_tritanopia-384776200fd7.css" /><link data-color-theme="dark_tritanopia_high_contrast" crossorigin="anonymous" media="all" rel="stylesheet" data-href="https://github.githubassets.com/assets/dark_tritanopia_high_contrast-489c70dedd0a.css" /><link data-color-theme="dark_dimmed" crossorigin="anonymous" media="all" rel="stylesheet" data-href="https://github.githubassets.com/assets/dark_dimmed-1545a2e9e540.css" /><link data-color-theme="dark_dimmed_high_contrast" crossorigin="anonymous" media="all" rel="stylesheet" data-href="https://github.githubassets.com/assets/dark_dimmed_high_contrast-4c1792a987c3.css" />

  <style type="text/css">
    :root {
      --tab-size-preference: 4;
    }

    pre, code {
      tab-size: var(--tab-size-preference);
    }
  </style>

    <link crossorigin="anonymous" media="all" rel="stylesheet" href="https://github.githubassets.com/assets/primer-primitives-15839d47b75d.css" />
    <link crossorigin="anonymous" media="all" rel="stylesheet" href="https://github.githubassets.com/assets/primer-a5c85403da8c.css" />
    <link crossorigin="anonymous" media="all" rel="stylesheet" href="https://github.githubassets.com/assets/global-4d11e88b2383.css" />
    <link crossorigin="anonymous" media="all" rel="stylesheet" href="https://github.githubassets.com/assets/github-7bf1881153e4.css" />
  <link crossorigin="anonymous" media="all" rel="stylesheet" href="https://github.githubassets.com/assets/repository-5d735668c600.css" />
<link crossorigin="anonymous" media="all" rel="stylesheet" href="https://github.githubassets.com/assets/code-9c9b8dc61e74.css" />

  

  <script type="application/json" id="client-env">{"locale":"en","featureFlags":["alternate_user_config_repo","api_insights_show_missing_data_banner","attestations_filtering","attestations_sorting","billing_unfiltered_discounts","client_version_header","codespaces_prebuild_region_target_update","contentful_lp_footnotes","copilot_agent_cli_public_preview","copilot_agent_tasks_btn_code_nav","copilot_agent_tasks_btn_code_view","copilot_agent_tasks_btn_code_view_lines","copilot_api_agentic_issue_marshal_yaml","copilot_api_draft_issues_single_issue_create_with_bulk_job","copilot_api_github_draft_update_issue_skill","copilot_chat_attach_multiple_images","copilot_chat_file_redirect","copilot_chat_reduce_quota_checks","copilot_chat_search_bar_redirect","copilot_chat_selection_attachments","copilot_chat_vision_in_claude","copilot_chat_vision_skip_thread_create","copilot_custom_copilots","copilot_custom_copilots_feature_preview","copilot_duplicate_thread","copilot_extensions_deprecation_notice","copilot_features_raycast_logo","copilot_file_block_ref_matching","copilot_free_to_paid_telem","copilot_ftp_hyperspace_upgrade_prompt","copilot_ftp_settings_upgrade","copilot_ftp_upgrade_to_pro_from_models","copilot_ftp_your_copilot_settings","copilot_generate_commit_message_dry_regenerate","copilot_immersive_structured_model_picker","copilot_immersive_task_within_chat_thread","copilot_insights_column_chart_axis_legibility_fix","copilot_no_floating_button","copilot_read_shared_conversation","copilot_spaces_as_attachments","copilot_spaces_ga","copilot_spark_loading_webgl","copilot_spark_progressive_error_handling","copilot_spark_read_iteration_history_from_git_v2","copilot_spark_single_user_iteration","copilot_spark_use_billing_headers","copilot_spark_write_iteration_history_to_git","copilot_stable_conversation_view","copilot_workbench_agent_seed_tool","copilot_workbench_cache","copilot_workbench_connection_reload_banner","copilot_workbench_preview_analytics","copilot_workbench_refresh_on_wsod","copilot_workbench_skip_repo_on_codespace","copilot_workbench_use_single_prompt","direct_to_salesforce","dotcom_chat_client_side_skills","failbot_report_error_react_apps_on_page","ghost_pilot_confidence_truncation_25","ghost_pilot_confidence_truncation_40","global_search_multi_orgs","hpc_improve_dom_insertion_observer","inp_reduced_threshold","insert_before_patch","issue_fields_report_usage","issues_copilot_cross_repo_assign","issues_react_blur_item_picker_on_close","issues_react_bots_timeline_pagination","issues_react_prohibit_title_fallback","issues_react_remove_placeholders","issues_sticky_sidebar","kb_convert_to_space","lifecycle_label_name_updates","link_contact_sales_swp_marketo","marketing_pages_search_explore_provider","mcp_registry_install","memex_mwl_filter_field_delimiter","migrate_toasts_to_banners_web_notifications","new_traffic_page_banner","pinned_issue_fields","primer_react_segmented_control_tooltip","primer_react_unified_portal_root","record_sso_banner_metrics","ref_selector_create_tag_dialog","releases_update_ref_selector","remove_child_patch","repos_insights_remove_new_url","sample_network_conn_type","scheduled_reminders_updated_limits","site_homepage_collaborate_video","site_homepage_contentful","site_msbuild_webgl_hero","spark_fix_rename","spark_force_push_after_checkout","spark_kv_encocoded_keys","spark_show_data_access_on_publish","spark_sync_repository_after_iteration","viewscreen_sandbox","webp_support","workbench_store_readonly"],"copilotApiOverrideUrl":"https://api.githubcopilot.com"}</script>
<script crossorigin="anonymous" type="application/javascript" src="https://github.githubassets.com/assets/high-contrast-cookie-f3788027bd8d.js"></script>
<script crossorigin="anonymous" type="application/javascript" src="https://github.githubassets.com/assets/wp-runtime-e1b72b1bfa46.js" defer="defer"></script>
<script crossorigin="anonymous" type="application/javascript" src="https://github.githubassets.com/assets/vendors-node_modules_oddbird_popover-polyfill_dist_popover-fn_js-468bf7cab607.js" defer="defer"></script>
<script crossorigin="anonymous" type="application/javascript" src="https://github.githubassets.com/assets/vendors-node_modules_stacktrace-parser_dist_stack-trace-parser_esm_js-node_modules_github_bro-2f4e04-280c10ec004d.js" defer="defer"></script>
<script crossorigin="anonymous" type="application/javascript" src="https://github.githubassets.com/assets/environment-b4e74adb6411.js" defer="defer"></script>
<script crossorigin="anonymous" type="application/javascript" src="https://github.githubassets.com/assets/vendors-node_modules_primer_behaviors_dist_esm_index_mjs-3eee64e5ddf0.js" defer="defer"></script>
<script crossorigin="anonymous" type="application/javascript" src="https://github.githubassets.com/assets/vendors-node_modules_github_selector-observer_dist_index_esm_js-9ab93471824e.js" defer="defer"></script>
<script crossorigin="anonymous" type="application/javascript" src="https://github.githubassets.com/assets/vendors-node_modules_github_relative-time-element_dist_index_js-c98257dc79a7.js" defer="defer"></script>
<script crossorigin="anonymous" type="application/javascript" src="https://github.githubassets.com/assets/vendors-node_modules_github_auto-complete-element_dist_index_js-node_modules_github_catalyst_-0d7d60-ad3a87b2f0eb.js" defer="defer"></script>
<script crossorigin="anonymous" type="application/javascript" src="https://github.githubassets.com/assets/vendors-node_modules_github_text-expander-element_dist_index_js-754f5b5e9e7e.js" defer="defer"></script>
<script crossorigin="anonymous" type="application/javascript" src="https://github.githubassets.com/assets/vendors-node_modules_github_filter-input-element_dist_index_js-node_modules_github_remote-inp-665e70-ac788066c220.js" defer="defer"></script>
<script crossorigin="anonymous" type="application/javascript" src="https://github.githubassets.com/assets/vendors-node_modules_github_markdown-toolbar-element_dist_index_js-d41270eb61be.js" defer="defer"></script>
<script crossorigin="anonymous" type="application/javascript" src="https://github.githubassets.com/assets/vendors-node_modules_github_file-attachment-element_dist_index_js-node_modules_primer_view-co-777ce2-9ec8c103bf42.js" defer="defer"></script>
<script crossorigin="anonymous" type="application/javascript" src="https://github.githubassets.com/assets/github-elements-9e1d42c09c62.js" defer="defer"></script>
<script crossorigin="anonymous" type="application/javascript" src="https://github.githubassets.com/assets/element-registry-f6cb2ad572e8.js" defer="defer"></script>
<script crossorigin="anonymous" type="application/javascript" src="https://github.githubassets.com/assets/vendors-node_modules_braintree_browser-detection_dist_browser-detection_js-node_modules_githu-bb80ec-f11c694928ba.js" defer="defer"></script>
<script crossorigin="anonymous" type="application/javascript" src="https://github.githubassets.com/assets/vendors-node_modules_lit-html_lit-html_js-9012bef51135.js" defer="defer"></script>
<script crossorigin="anonymous" type="application/javascript" src="https://github.githubassets.com/assets/vendors-node_modules_github_mini-throttle_dist_index_js-node_modules_morphdom_dist_morphdom-e-c1896e-ba47f43192a8.js" defer="defer"></script>
<script crossorigin="anonymous" type="application/javascript" src="https://github.githubassets.com/assets/vendors-node_modules_github_remote-form_dist_index_js-node_modules_delegated-events_dist_inde-893f9f-9ba0881c72fb.js" defer="defer"></script>
<script crossorigin="anonymous" type="application/javascript" src="https://github.githubassets.com/assets/vendors-node_modules_github_turbo_dist_turbo_es2017-esm_js-8eb9b2209bcd.js" defer="defer"></script>
<script crossorigin="anonymous" type="application/javascript" src="https://github.githubassets.com/assets/vendors-node_modules_github_hotkey_dist_index_js-node_modules_github_hydro-analytics-client_d-dd3ec8-1f3d5f90de2b.js" defer="defer"></script>
<script crossorigin="anonymous" type="application/javascript" src="https://github.githubassets.com/assets/vendors-node_modules_github_quote-selection_dist_index_js-node_modules_github_session-resume_-31b9f3-9021ed20220b.js" defer="defer"></script>
<script crossorigin="anonymous" type="application/javascript" src="https://github.githubassets.com/assets/packages_document-metadata_document-metadata_ts-packages_failbot_failbot_ts-06156f7d8d1a.js" defer="defer"></script>
<script crossorigin="anonymous" type="application/javascript" src="https://github.githubassets.com/assets/packages_updatable-content_updatable-content_ts-38f5e2f7c2a7.js" defer="defer"></script>
<script crossorigin="anonymous" type="application/javascript" src="https://github.githubassets.com/assets/app_assets_modules_github_behaviors_ajax-error_ts-app_assets_modules_github_behaviors_details-6493f1-cecb020e2bb7.js" defer="defer"></script>
<script crossorigin="anonymous" type="application/javascript" src="https://github.githubassets.com/assets/app_assets_modules_github_behaviors_task-list_ts-app_assets_modules_github_throttled-input_ts-047775-cfe8770908d1.js" defer="defer"></script>
<script crossorigin="anonymous" type="application/javascript" src="https://github.githubassets.com/assets/app_assets_modules_github_behaviors_commenting_edit_ts-app_assets_modules_github_behaviors_ht-83c235-d8c5bfe37d1d.js" defer="defer"></script>
<script crossorigin="anonymous" type="application/javascript" src="https://github.githubassets.com/assets/behaviors-d431b500aedc.js" defer="defer"></script>
<script crossorigin="anonymous" type="application/javascript" src="https://github.githubassets.com/assets/vendors-node_modules_delegated-events_dist_index_js-node_modules_github_catalyst_lib_index_js-ef6d0f-20d6767cecc0.js" defer="defer"></script>
<script crossorigin="anonymous" type="application/javascript" src="https://github.githubassets.com/assets/notifications-global-d89a4ddd4532.js" defer="defer"></script>
<script crossorigin="anonymous" type="application/javascript" src="https://github.githubassets.com/assets/vendors-node_modules_github_mini-throttle_dist_index_js-node_modules_github_catalyst_lib_inde-96937f-70732ff56a20.js" defer="defer"></script>
<script crossorigin="anonymous" type="application/javascript" src="https://github.githubassets.com/assets/code-menu-614eb4e0c016.js" defer="defer"></script>
  
  <script crossorigin="anonymous" type="application/javascript" src="https://github.githubassets.com/assets/primer-react-10977e218f81.js" defer="defer"></script>
<script crossorigin="anonymous" type="application/javascript" src="https://github.githubassets.com/assets/react-lib-25ef56e89e94.js" defer="defer"></script>
<script crossorigin="anonymous" type="application/javascript" src="https://github.githubassets.com/assets/react-core-26c9e2751844.js" defer="defer"></script>
<script crossorigin="anonymous" type="application/javascript" src="https://github.githubassets.com/assets/octicons-react-dfcd3f5e8531.js" defer="defer"></script>
<script crossorigin="anonymous" type="application/javascript" src="https://github.githubassets.com/assets/vendors-node_modules_emotion_is-prop-valid_dist_emotion-is-prop-valid_esm_js-node_modules_emo-825c28-40ea79f3efc5.js" defer="defer"></script>
<script crossorigin="anonymous" type="application/javascript" src="https://github.githubassets.com/assets/vendors-node_modules_github_mini-throttle_dist_index_js-node_modules_github_hydro-analytics-c-c228f9-e9af1d9bff76.js" defer="defer"></script>
<script crossorigin="anonymous" type="application/javascript" src="https://github.githubassets.com/assets/vendors-node_modules_tanstack_query-core_build_modern_mutation_js-node_modules_tanstack_query-9bf7e4-2246c69bea10.js" defer="defer"></script>
<script crossorigin="anonymous" type="application/javascript" src="https://github.githubassets.com/assets/vendors-node_modules_swc_helpers_esm__class_private_method_get_js-node_modules_swc_helpers_es-d6b1a6-13297632eddc.js" defer="defer"></script>
<script crossorigin="anonymous" type="application/javascript" src="https://github.githubassets.com/assets/vendors-node_modules_dompurify_dist_purify_es_mjs-0294cfa498e7.js" defer="defer"></script>
<script crossorigin="anonymous" type="application/javascript" src="https://github.githubassets.com/assets/vendors-node_modules_tanstack_query-core_build_modern_queryObserver_js-node_modules_tanstack_-defd52-11d852a5a988.js" defer="defer"></script>
<script crossorigin="anonymous" type="application/javascript" src="https://github.githubassets.com/assets/vendors-node_modules_lodash-es__Stack_js-node_modules_lodash-es__Uint8Array_js-node_modules_l-4faaa6-fa61bd48d446.js" defer="defer"></script>
<script crossorigin="anonymous" type="application/javascript" src="https://github.githubassets.com/assets/vendors-node_modules_github_hydro-analytics-client_dist_analytics-client_js-node_modules_gith-c7919d-70dcea79f7a9.js" defer="defer"></script>
<script crossorigin="anonymous" type="application/javascript" src="https://github.githubassets.com/assets/vendors-node_modules_tanstack_react-virtual_dist_esm_index_js-3274b1ed347f.js" defer="defer"></script>
<script crossorigin="anonymous" type="application/javascript" src="https://github.githubassets.com/assets/vendors-node_modules_github_mini-throttle_dist_decorators_js-node_modules_accname_dist_access-690142-387fd2fa9b38.js" defer="defer"></script>
<script crossorigin="anonymous" type="application/javascript" src="https://github.githubassets.com/assets/vendors-node_modules_github_catalyst_lib_index_js-node_modules_swc_helpers_esm__class_static_-5988f51-502ec131d853.js" defer="defer"></script>
<script crossorigin="anonymous" type="application/javascript" src="https://github.githubassets.com/assets/vendors-node_modules_fzy_js_index_js-node_modules_react-reverse-portal_dist_web_index_js-node-c4b5eb-8970ace19c3f.js" defer="defer"></script>
<script crossorigin="anonymous" type="application/javascript" src="https://github.githubassets.com/assets/packages_paths_index_ts-9cb6d4845705.js" defer="defer"></script>
<script crossorigin="anonymous" type="application/javascript" src="https://github.githubassets.com/assets/packages_history_history_ts-packages_promise-with-resolvers-polyfill_promise-with-resolvers-p-2cdd04-a13a722d5075.js" defer="defer"></script>
<script crossorigin="anonymous" type="application/javascript" src="https://github.githubassets.com/assets/packages_ref-selector_RefSelector_tsx-2f8fde06e843.js" defer="defer"></script>
<script crossorigin="anonymous" type="application/javascript" src="https://github.githubassets.com/assets/packages_copilot-chat_utils_copilot-local-storage_ts-e7ffe5e6dab8.js" defer="defer"></script>
<script crossorigin="anonymous" type="application/javascript" src="https://github.githubassets.com/assets/packages_copilot-chat_components_tracing_TraceProvider_tsx-5e95ec9d25bd.js" defer="defer"></script>
<script crossorigin="anonymous" type="application/javascript" src="https://github.githubassets.com/assets/packages_copilot-chat_utils_CopilotChatContext_tsx-9c4674f4b9c8.js" defer="defer"></script>
<script crossorigin="anonymous" type="application/javascript" src="https://github.githubassets.com/assets/packages_commit-attribution_index_ts-packages_commit-checks-status_index_ts-packages_current--18e2dc-36936e806be4.js" defer="defer"></script>
<script crossorigin="anonymous" type="application/javascript" src="https://github.githubassets.com/assets/packages_code-view-shared_hooks_use-canonical-object_ts-packages_code-view-shared_hooks_use-f-37800a-6f5a62ccae0e.js" defer="defer"></script>
<script crossorigin="anonymous" type="application/javascript" src="https://github.githubassets.com/assets/packages_app-uuid_app-uuid_ts-packages_repos-file-tree-view_repos-file-tree-view_ts-0977800e9d2d.js" defer="defer"></script>
<script crossorigin="anonymous" type="application/javascript" src="https://github.githubassets.com/assets/app_assets_modules_react-code-view_utilities_lines_ts-1f026aed255e.js" defer="defer"></script>
<script crossorigin="anonymous" type="application/javascript" src="https://github.githubassets.com/assets/packages_code-view-shared_utilities_web-worker_ts-packages_code-view-shared_worker-jobs_debou-a85645-b1eb8311b77e.js" defer="defer"></script>
<script crossorigin="anonymous" type="application/javascript" src="https://github.githubassets.com/assets/react-code-view-56deb4505cd8.js" defer="defer"></script>
<link crossorigin="anonymous" media="all" rel="stylesheet" href="https://github.githubassets.com/assets/primer-react.3d66a64c5878cc361e85.module.css" />
<link crossorigin="anonymous" media="all" rel="stylesheet" href="https://github.githubassets.com/assets/react-code-view.04c2faa8128f67bb12f8.module.css" />

  <script crossorigin="anonymous" type="application/javascript" src="https://github.githubassets.com/assets/packages_notifications-subscriptions-menu_entry_ts-packages_promise-with-resolvers-polyfill_p-15cb60-ec503dc0b588.js" defer="defer"></script>
<script crossorigin="anonymous" type="application/javascript" src="https://github.githubassets.com/assets/notifications-subscriptions-menu-c28df4f8626e.js" defer="defer"></script>
<link crossorigin="anonymous" media="all" rel="stylesheet" href="https://github.githubassets.com/assets/primer-react.3d66a64c5878cc361e85.module.css" />
<link crossorigin="anonymous" media="all" rel="stylesheet" href="https://github.githubassets.com/assets/notifications-subscriptions-menu.bab8822ac328fb95c70d.module.css" />


  <title>cNMF_benchmarking/cNMF_benchmarking_pipeline/Plotting/JupterNote_Version/cNMF_k_selection.ipynb at main · EngreitzLab/cNMF_benchmarking · GitHub</title>



  <meta name="route-pattern" content="/:user_id/:repository/blob/*name(/*path)" data-turbo-transient>
  <meta name="route-controller" content="blob" data-turbo-transient>
  <meta name="route-action" content="show" data-turbo-transient>
  <meta name="fetch-nonce" content="v2:ecaa9fc6-6580-3d2c-5586-9d7e7636080a">

    
  <meta name="current-catalog-service-hash" content="f3abb0cc802f3d7b95fc8762b94bdcb13bf39634c40c357301c4aa1d67a256fb">


  <meta name="request-id" content="AE42:2D9B40:3088039:42BCECF:68FA34D7" data-pjax-transient="true"/><meta name="html-safe-nonce" content="6fbf3722bd4d7993a729862747f0e8a646c544591179402a500280bb1041607f" data-pjax-transient="true"/><meta name="visitor-payload" content="eyJyZWZlcnJlciI6IiIsInJlcXVlc3RfaWQiOiJBRTQyOjJEOUI0MDozMDg4MDM5OjQyQkNFQ0Y6NjhGQTM0RDciLCJ2aXNpdG9yX2lkIjoiMTcxNjc3NTQzNDQ0MTA3Nzk3NSIsInJlZ2lvbl9lZGdlIjoiaWFkIiwicmVnaW9uX3JlbmRlciI6ImlhZCJ9" data-pjax-transient="true"/><meta name="visitor-hmac" content="fddb8e1f4cac2ae35fb09c60ac1cbffeb2577976b06666b890460e83935ed3af" data-pjax-transient="true"/>


    <meta name="hovercard-subject-tag" content="repository:1033508772" data-turbo-transient>


  <meta name="github-keyboard-shortcuts" content="repository,source-code,file-tree,copilot" data-turbo-transient="true" />
  

  <meta name="selected-link" value="repo_source" data-turbo-transient>
  <link rel="assets" href="https://github.githubassets.com/">

    <meta name="google-site-verification" content="Apib7-x98H0j5cPqHWwSMm6dNU4GmODRoqxLiDzdx9I">

<meta name="octolytics-url" content="https://collector.github.com/github/collect" />

  <meta name="analytics-location" content="/&lt;user-name&gt;/&lt;repo-name&gt;/blob/show" data-turbo-transient="true" />

  




    <meta name="user-login" content="">

  

    <meta name="viewport" content="width=device-width">

    

      <meta name="description" content="Contribute to EngreitzLab/cNMF_benchmarking development by creating an account on GitHub.">

      <link rel="search" type="application/opensearchdescription+xml" href="/opensearch.xml" title="GitHub">

    <link rel="fluid-icon" href="https://github.com/fluidicon.png" title="GitHub">
    <meta property="fb:app_id" content="1401488693436528">
    <meta name="apple-itunes-app" content="app-id=1477376905, app-argument=https://github.com/EngreitzLab/cNMF_benchmarking/blob/main/cNMF_benchmarking_pipeline/Plotting/JupterNote_Version/cNMF_k_selection.ipynb" />

      <meta name="twitter:image" content="https://opengraph.githubassets.com/cd46e3e71341791cc3b5d549d25480bcf8ebfd93a4360dcecf649cf9bd4091dc/EngreitzLab/cNMF_benchmarking" /><meta name="twitter:site" content="@github" /><meta name="twitter:card" content="summary_large_image" /><meta name="twitter:title" content="cNMF_benchmarking/cNMF_benchmarking_pipeline/Plotting/JupterNote_Version/cNMF_k_selection.ipynb at main · EngreitzLab/cNMF_benchmarking" /><meta name="twitter:description" content="Contribute to EngreitzLab/cNMF_benchmarking development by creating an account on GitHub." />
  <meta property="og:image" content="https://opengraph.githubassets.com/cd46e3e71341791cc3b5d549d25480bcf8ebfd93a4360dcecf649cf9bd4091dc/EngreitzLab/cNMF_benchmarking" /><meta property="og:image:alt" content="Contribute to EngreitzLab/cNMF_benchmarking development by creating an account on GitHub." /><meta property="og:image:width" content="1200" /><meta property="og:image:height" content="600" /><meta property="og:site_name" content="GitHub" /><meta property="og:type" content="object" /><meta property="og:title" content="cNMF_benchmarking/cNMF_benchmarking_pipeline/Plotting/JupterNote_Version/cNMF_k_selection.ipynb at main · EngreitzLab/cNMF_benchmarking" /><meta property="og:url" content="https://github.com/EngreitzLab/cNMF_benchmarking/blob/main/cNMF_benchmarking_pipeline/Plotting/JupterNote_Version/cNMF_k_selection.ipynb" /><meta property="og:description" content="Contribute to EngreitzLab/cNMF_benchmarking development by creating an account on GitHub." />
  




      <meta name="hostname" content="github.com">



        <meta name="expected-hostname" content="github.com">


  <meta http-equiv="x-pjax-version" content="ce04206686080f43d0cff45ec43abb0fc8ccac67ca6227f8208d9f6d23ed0bf0" data-turbo-track="reload">
  <meta http-equiv="x-pjax-csp-version" content="c922ef32c4ab94f8b870c62883f3e41755ec705db76ec4efb0d343458f1e28c7" data-turbo-track="reload">
  <meta http-equiv="x-pjax-css-version" content="0dc743cd5a6b5ca18dd20307bc7dfd212d2ced65c9da72fb83c0e0f0e41596a5" data-turbo-track="reload">
  <meta http-equiv="x-pjax-js-version" content="d0e46fb5d45f7f6bd0a26f0fb8627d043693502510938fa7979ef1db2cf40a4a" data-turbo-track="reload">

  <meta name="turbo-cache-control" content="no-preview" data-turbo-transient="">

      <meta name="turbo-cache-control" content="no-cache" data-turbo-transient>

    <meta data-hydrostats="publish">

  <meta name="go-import" content="github.com/EngreitzLab/cNMF_benchmarking git https://github.com/EngreitzLab/cNMF_benchmarking.git">

  <meta name="octolytics-dimension-user_id" content="58485330" /><meta name="octolytics-dimension-user_login" content="EngreitzLab" /><meta name="octolytics-dimension-repository_id" content="1033508772" /><meta name="octolytics-dimension-repository_nwo" content="EngreitzLab/cNMF_benchmarking" /><meta name="octolytics-dimension-repository_public" content="true" /><meta name="octolytics-dimension-repository_is_fork" content="false" /><meta name="octolytics-dimension-repository_network_root_id" content="1033508772" /><meta name="octolytics-dimension-repository_network_root_nwo" content="EngreitzLab/cNMF_benchmarking" />



    

    <meta name="turbo-body-classes" content="logged-out env-production page-responsive">


  <meta name="browser-stats-url" content="https://api.github.com/_private/browser/stats">

  <meta name="browser-errors-url" content="https://api.github.com/_private/browser/errors">

  <meta name="release" content="423cf4b732af50f4b2120854e6b090ccd355cc68">
  <meta name="ui-target" content="full">

  <link rel="mask-icon" href="https://github.githubassets.com/assets/pinned-octocat-093da3e6fa40.svg" color="#000000">
  <link rel="alternate icon" class="js-site-favicon" type="image/png" href="https://github.githubassets.com/favicons/favicon.png">
  <link rel="icon" class="js-site-favicon" type="image/svg+xml" href="https://github.githubassets.com/favicons/favicon.svg" data-base-href="https://github.githubassets.com/favicons/favicon">

<meta name="theme-color" content="#1e2327">
<meta name="color-scheme" content="light dark" />


  <link rel="manifest" href="/manifest.json" crossOrigin="use-credentials">

  </head>

  <body class="logged-out env-production page-responsive" style="word-wrap: break-word;">
    <div data-turbo-body class="logged-out env-production page-responsive" style="word-wrap: break-word;">
      



    <div class="position-relative header-wrapper js-header-wrapper ">
      <a href="#start-of-content" data-skip-target-assigned="false" class="px-2 py-4 color-bg-accent-emphasis color-fg-on-emphasis show-on-focus js-skip-to-content">Skip to content</a>

      <span data-view-component="true" class="progress-pjax-loader Progress position-fixed width-full">
    <span style="width: 0%;" data-view-component="true" class="Progress-item progress-pjax-loader-bar left-0 top-0 color-bg-accent-emphasis"></span>
</span>      
      
      <link crossorigin="anonymous" media="all" rel="stylesheet" href="https://github.githubassets.com/assets/primer-react.3d66a64c5878cc361e85.module.css" />
<link crossorigin="anonymous" media="all" rel="stylesheet" href="https://github.githubassets.com/assets/keyboard-shortcuts-dialog.2de9c7d6456a311fce49.module.css" />

<react-partial
  partial-name="keyboard-shortcuts-dialog"
  data-ssr="false"
  data-attempted-ssr="false"
  data-react-profiling="false"
>
  
  <script type="application/json" data-target="react-partial.embeddedData">{"props":{"docsUrl":"https://docs.github.com/get-started/accessibility/keyboard-shortcuts"}}</script>
  <div data-target="react-partial.reactRoot"></div>
</react-partial>





      

          

              
<script crossorigin="anonymous" type="application/javascript" src="https://github.githubassets.com/assets/vendors-node_modules_gsap_index_js-6265bea06e74.js" defer="defer"></script>
<script crossorigin="anonymous" type="application/javascript" src="https://github.githubassets.com/assets/vendors-node_modules_github_remote-form_dist_index_js-node_modules_delegated-events_dist_inde-94fd67-dc050877d1bf.js" defer="defer"></script>
<script crossorigin="anonymous" type="application/javascript" src="https://github.githubassets.com/assets/sessions-917229b8a853.js" defer="defer"></script>

<header class="HeaderMktg header-logged-out js-details-container js-header Details f4 py-3" role="banner" data-is-top="true" data-color-mode=light data-light-theme=light data-dark-theme=dark>
  <h2 class="sr-only">Navigation Menu</h2>

  <button type="button" class="HeaderMktg-backdrop d-lg-none border-0 position-fixed top-0 left-0 width-full height-full js-details-target" aria-label="Toggle navigation">
    <span class="d-none">Toggle navigation</span>
  </button>

  <div class="d-flex flex-column flex-lg-row flex-items-center px-3 px-md-4 px-lg-5 height-full position-relative z-1">
    <div class="d-flex flex-justify-between flex-items-center width-full width-lg-auto">
      <div class="flex-1">
        <button aria-label="Toggle navigation" aria-expanded="false" type="button" data-view-component="true" class="js-details-target js-nav-padding-recalculate js-header-menu-toggle Button--link Button--medium Button d-lg-none color-fg-inherit p-1">  <span class="Button-content">
    <span class="Button-label"><div class="HeaderMenu-toggle-bar rounded my-1"></div>
            <div class="HeaderMenu-toggle-bar rounded my-1"></div>
            <div class="HeaderMenu-toggle-bar rounded my-1"></div></span>
  </span>
</button>
      </div>

      <a class="mr-lg-3 color-fg-inherit flex-order-2 js-prevent-focus-on-mobile-nav"
        href="/"
        aria-label="Homepage"
        data-analytics-event="{&quot;category&quot;:&quot;Marketing nav&quot;,&quot;action&quot;:&quot;click to go to homepage&quot;,&quot;label&quot;:&quot;ref_page:Marketing;ref_cta:Logomark;ref_loc:Header&quot;}">
        <svg height="32" aria-hidden="true" viewBox="0 0 24 24" version="1.1" width="32" data-view-component="true" class="octicon octicon-mark-github">
    <path d="M12 1C5.923 1 1 5.923 1 12c0 4.867 3.149 8.979 7.521 10.436.55.096.756-.233.756-.522 0-.262-.013-1.128-.013-2.049-2.764.509-3.479-.674-3.699-1.292-.124-.317-.66-1.293-1.127-1.554-.385-.207-.936-.715-.014-.729.866-.014 1.485.797 1.691 1.128.99 1.663 2.571 1.196 3.204.907.096-.715.385-1.196.701-1.471-2.448-.275-5.005-1.224-5.005-5.432 0-1.196.426-2.186 1.128-2.956-.111-.275-.496-1.402.11-2.915 0 0 .921-.288 3.024 1.128a10.193 10.193 0 0 1 2.75-.371c.936 0 1.871.123 2.75.371 2.104-1.43 3.025-1.128 3.025-1.128.605 1.513.221 2.64.111 2.915.701.77 1.127 1.747 1.127 2.956 0 4.222-2.571 5.157-5.019 5.432.399.344.743 1.004.743 2.035 0 1.471-.014 2.654-.014 3.025 0 .289.206.632.756.522C19.851 20.979 23 16.854 23 12c0-6.077-4.922-11-11-11Z"></path>
</svg>
      </a>

      <div class="d-flex flex-1 flex-order-2 text-right d-lg-none gap-2 flex-justify-end">
          <a
            href="/login?return_to=https%3A%2F%2Fgithub.com%2FEngreitzLab%2FcNMF_benchmarking%2Fblob%2Fmain%2FcNMF_benchmarking_pipeline%2FPlotting%2FJupterNote_Version%2FcNMF_k_selection.ipynb"
            class="HeaderMenu-link HeaderMenu-button d-inline-flex f5 no-underline border color-border-default rounded-2 px-2 py-1 color-fg-inherit js-prevent-focus-on-mobile-nav"
            data-hydro-click="{&quot;event_type&quot;:&quot;authentication.click&quot;,&quot;payload&quot;:{&quot;location_in_page&quot;:&quot;site header menu&quot;,&quot;repository_id&quot;:null,&quot;auth_type&quot;:&quot;SIGN_UP&quot;,&quot;originating_url&quot;:&quot;https://github.com/EngreitzLab/cNMF_benchmarking/blob/main/cNMF_benchmarking_pipeline/Plotting/JupterNote_Version/cNMF_k_selection.ipynb&quot;,&quot;user_id&quot;:null}}" data-hydro-click-hmac="f5963f903abb8edb114a405d53e3d00c375aeb947001145aad8418ee351c79cd"
            data-analytics-event="{&quot;category&quot;:&quot;Marketing nav&quot;,&quot;action&quot;:&quot;click to Sign in&quot;,&quot;label&quot;:&quot;ref_page:Marketing;ref_cta:Sign in;ref_loc:Header&quot;}"
          >
            Sign in
          </a>
              <div class="AppHeader-appearanceSettings">
    <react-partial-anchor>
      <button data-target="react-partial-anchor.anchor" id="icon-button-d06aee41-e9a4-4efc-b5ce-ae32e6aacdb3" aria-labelledby="tooltip-08896c25-e7bc-4a87-8ca3-62cfbfd686b8" type="button" disabled="disabled" data-view-component="true" class="Button Button--iconOnly Button--invisible Button--medium AppHeader-button HeaderMenu-link border cursor-wait">  <svg aria-hidden="true" height="16" viewBox="0 0 16 16" version="1.1" width="16" data-view-component="true" class="octicon octicon-sliders Button-visual">
    <path d="M15 2.75a.75.75 0 0 1-.75.75h-4a.75.75 0 0 1 0-1.5h4a.75.75 0 0 1 .75.75Zm-8.5.75v1.25a.75.75 0 0 0 1.5 0v-4a.75.75 0 0 0-1.5 0V2H1.75a.75.75 0 0 0 0 1.5H6.5Zm1.25 5.25a.75.75 0 0 0 0-1.5h-6a.75.75 0 0 0 0 1.5h6ZM15 8a.75.75 0 0 1-.75.75H11.5V10a.75.75 0 1 1-1.5 0V6a.75.75 0 0 1 1.5 0v1.25h2.75A.75.75 0 0 1 15 8Zm-9 5.25v-2a.75.75 0 0 0-1.5 0v1.25H1.75a.75.75 0 0 0 0 1.5H4.5v1.25a.75.75 0 0 0 1.5 0v-2Zm9 0a.75.75 0 0 1-.75.75h-6a.75.75 0 0 1 0-1.5h6a.75.75 0 0 1 .75.75Z"></path>
</svg>
</button><tool-tip id="tooltip-08896c25-e7bc-4a87-8ca3-62cfbfd686b8" for="icon-button-d06aee41-e9a4-4efc-b5ce-ae32e6aacdb3" popover="manual" data-direction="s" data-type="label" data-view-component="true" class="sr-only position-absolute">Appearance settings</tool-tip>

      <template data-target="react-partial-anchor.template">
        <link crossorigin="anonymous" media="all" rel="stylesheet" href="https://github.githubassets.com/assets/primer-react.3d66a64c5878cc361e85.module.css" />
<link crossorigin="anonymous" media="all" rel="stylesheet" href="https://github.githubassets.com/assets/appearance-settings.6c63a6de228d6520804d.module.css" />

<react-partial
  partial-name="appearance-settings"
  data-ssr="false"
  data-attempted-ssr="false"
  data-react-profiling="false"
>
  
  <script type="application/json" data-target="react-partial.embeddedData">{"props":{}}</script>
  <div data-target="react-partial.reactRoot"></div>
</react-partial>


      </template>
    </react-partial-anchor>
  </div>

      </div>
    </div>


    <div class="HeaderMenu js-header-menu height-fit position-lg-relative d-lg-flex flex-column flex-auto top-0">
      <div class="HeaderMenu-wrapper d-flex flex-column flex-self-start flex-lg-row flex-auto rounded rounded-lg-0">
            <nav class="HeaderMenu-nav" aria-label="Global">
              <ul class="d-lg-flex list-style-none">
                  <li class="HeaderMenu-item position-relative flex-wrap flex-justify-between flex-items-center d-block d-lg-flex flex-lg-nowrap flex-lg-items-center js-details-container js-header-menu-item">
      <button type="button" class="HeaderMenu-link border-0 width-full width-lg-auto px-0 px-lg-2 py-lg-2 no-wrap d-flex flex-items-center flex-justify-between js-details-target" aria-expanded="false">
        Platform
        <svg opacity="0.5" aria-hidden="true" height="16" viewBox="0 0 16 16" version="1.1" width="16" data-view-component="true" class="octicon octicon-chevron-down HeaderMenu-icon ml-1">
    <path d="M12.78 5.22a.749.749 0 0 1 0 1.06l-4.25 4.25a.749.749 0 0 1-1.06 0L3.22 6.28a.749.749 0 1 1 1.06-1.06L8 8.939l3.72-3.719a.749.749 0 0 1 1.06 0Z"></path>
</svg>
      </button>

      <div class="HeaderMenu-dropdown dropdown-menu rounded m-0 p-0 pt-2 pt-lg-4 position-relative position-lg-absolute left-0 left-lg-n3 dropdown-menu-wide">
        <div class="d-lg-flex dropdown-menu-wide">
            <div class="HeaderMenu-column px-lg-4">
                <div class="">

                  <ul class="list-style-none f5" >
                      <li>
  <a class="HeaderMenu-dropdown-link d-block no-underline position-relative py-2 Link--secondary d-flex flex-items-center Link--has-description mb-lg-3" data-analytics-event="{&quot;location&quot;:&quot;navbar&quot;,&quot;action&quot;:&quot;github_copilot&quot;,&quot;context&quot;:&quot;platform&quot;,&quot;tag&quot;:&quot;link&quot;,&quot;label&quot;:&quot;github_copilot_link_platform_navbar&quot;}" href="https://github.com/features/copilot">
      <svg aria-hidden="true" height="24" viewBox="0 0 24 24" version="1.1" width="24" data-view-component="true" class="octicon octicon-copilot color-fg-subtle mr-3">
    <path d="M23.922 16.992c-.861 1.495-5.859 5.023-11.922 5.023-6.063 0-11.061-3.528-11.922-5.023A.641.641 0 0 1 0 16.736v-2.869a.841.841 0 0 1 .053-.22c.372-.935 1.347-2.292 2.605-2.656.167-.429.414-1.055.644-1.517a10.195 10.195 0 0 1-.052-1.086c0-1.331.282-2.499 1.132-3.368.397-.406.89-.717 1.474-.952 1.399-1.136 3.392-2.093 6.122-2.093 2.731 0 4.767.957 6.166 2.093.584.235 1.077.546 1.474.952.85.869 1.132 2.037 1.132 3.368 0 .368-.014.733-.052 1.086.23.462.477 1.088.644 1.517 1.258.364 2.233 1.721 2.605 2.656a.832.832 0 0 1 .053.22v2.869a.641.641 0 0 1-.078.256ZM12.172 11h-.344a4.323 4.323 0 0 1-.355.508C10.703 12.455 9.555 13 7.965 13c-1.725 0-2.989-.359-3.782-1.259a2.005 2.005 0 0 1-.085-.104L4 11.741v6.585c1.435.779 4.514 2.179 8 2.179 3.486 0 6.565-1.4 8-2.179v-6.585l-.098-.104s-.033.045-.085.104c-.793.9-2.057 1.259-3.782 1.259-1.59 0-2.738-.545-3.508-1.492a4.323 4.323 0 0 1-.355-.508h-.016.016Zm.641-2.935c.136 1.057.403 1.913.878 2.497.442.544 1.134.938 2.344.938 1.573 0 2.292-.337 2.657-.751.384-.435.558-1.15.558-2.361 0-1.14-.243-1.847-.705-2.319-.477-.488-1.319-.862-2.824-1.025-1.487-.161-2.192.138-2.533.529-.269.307-.437.808-.438 1.578v.021c0 .265.021.562.063.893Zm-1.626 0c.042-.331.063-.628.063-.894v-.02c-.001-.77-.169-1.271-.438-1.578-.341-.391-1.046-.69-2.533-.529-1.505.163-2.347.537-2.824 1.025-.462.472-.705 1.179-.705 2.319 0 1.211.175 1.926.558 2.361.365.414 1.084.751 2.657.751 1.21 0 1.902-.394 2.344-.938.475-.584.742-1.44.878-2.497Z"></path><path d="M14.5 14.25a1 1 0 0 1 1 1v2a1 1 0 0 1-2 0v-2a1 1 0 0 1 1-1Zm-5 0a1 1 0 0 1 1 1v2a1 1 0 0 1-2 0v-2a1 1 0 0 1 1-1Z"></path>
</svg>
      <div>
        <div class="color-fg-default h4">
          GitHub Copilot

        </div>

        Write better code with AI
      </div>

    
</a></li>

                      <li>
  <a class="HeaderMenu-dropdown-link d-block no-underline position-relative py-2 Link--secondary d-flex flex-items-center Link--has-description mb-lg-3" data-analytics-event="{&quot;location&quot;:&quot;navbar&quot;,&quot;action&quot;:&quot;github_spark&quot;,&quot;context&quot;:&quot;platform&quot;,&quot;tag&quot;:&quot;link&quot;,&quot;label&quot;:&quot;github_spark_link_platform_navbar&quot;}" href="https://github.com/features/spark">
      <svg aria-hidden="true" height="24" viewBox="0 0 24 24" version="1.1" width="24" data-view-component="true" class="octicon octicon-sparkle-fill color-fg-subtle mr-3">
    <path d="M11.296 1.924c.24-.656 1.168-.656 1.408 0l.717 1.958a11.25 11.25 0 0 0 6.697 6.697l1.958.717c.657.24.657 1.168 0 1.408l-1.958.717a11.25 11.25 0 0 0-6.697 6.697l-.717 1.958c-.24.657-1.168.657-1.408 0l-.717-1.958a11.25 11.25 0 0 0-6.697-6.697l-1.958-.717c-.656-.24-.656-1.168 0-1.408l1.958-.717a11.25 11.25 0 0 0 6.697-6.697l.717-1.958Z"></path>
</svg>
      <div>
        <div class="color-fg-default h4">
          GitHub Spark

            <span class="HeaderMenu-label">
              New
            </span>
        </div>

        Build and deploy intelligent apps
      </div>

    
</a></li>

                      <li>
  <a class="HeaderMenu-dropdown-link d-block no-underline position-relative py-2 Link--secondary d-flex flex-items-center Link--has-description mb-lg-3" data-analytics-event="{&quot;location&quot;:&quot;navbar&quot;,&quot;action&quot;:&quot;github_models&quot;,&quot;context&quot;:&quot;platform&quot;,&quot;tag&quot;:&quot;link&quot;,&quot;label&quot;:&quot;github_models_link_platform_navbar&quot;}" href="https://github.com/features/models">
      <svg aria-hidden="true" height="24" viewBox="0 0 24 24" version="1.1" width="24" data-view-component="true" class="octicon octicon-ai-model color-fg-subtle mr-3">
    <path d="M19.375 8.5a3.25 3.25 0 1 1-3.163 4h-3a3.252 3.252 0 0 1-4.443 2.509L7.214 17.76a3.25 3.25 0 1 1-1.342-.674l1.672-2.957A3.238 3.238 0 0 1 6.75 12c0-.907.371-1.727.97-2.316L6.117 6.846A3.253 3.253 0 0 1 1.875 3.75a3.25 3.25 0 1 1 5.526 2.32l1.603 2.836A3.25 3.25 0 0 1 13.093 11h3.119a3.252 3.252 0 0 1 3.163-2.5ZM10 10.25a1.75 1.75 0 1 0-.001 3.499A1.75 1.75 0 0 0 10 10.25ZM5.125 2a1.75 1.75 0 1 0 0 3.5 1.75 1.75 0 0 0 0-3.5Zm12.5 9.75a1.75 1.75 0 1 0 3.5 0 1.75 1.75 0 0 0-3.5 0Zm-14.25 8.5a1.75 1.75 0 1 0 3.501-.001 1.75 1.75 0 0 0-3.501.001Z"></path>
</svg>
      <div>
        <div class="color-fg-default h4">
          GitHub Models

            <span class="HeaderMenu-label">
              New
            </span>
        </div>

        Manage and compare prompts
      </div>

    
</a></li>

                      <li>
  <a class="HeaderMenu-dropdown-link d-block no-underline position-relative py-2 Link--secondary d-flex flex-items-center Link--has-description mb-lg-3" data-analytics-event="{&quot;location&quot;:&quot;navbar&quot;,&quot;action&quot;:&quot;github_advanced_security&quot;,&quot;context&quot;:&quot;platform&quot;,&quot;tag&quot;:&quot;link&quot;,&quot;label&quot;:&quot;github_advanced_security_link_platform_navbar&quot;}" href="https://github.com/security/advanced-security">
      <svg aria-hidden="true" height="24" viewBox="0 0 24 24" version="1.1" width="24" data-view-component="true" class="octicon octicon-shield-check color-fg-subtle mr-3">
    <path d="M16.53 9.78a.75.75 0 0 0-1.06-1.06L11 13.19l-1.97-1.97a.75.75 0 0 0-1.06 1.06l2.5 2.5a.75.75 0 0 0 1.06 0l5-5Z"></path><path d="m12.54.637 8.25 2.675A1.75 1.75 0 0 1 22 4.976V10c0 6.19-3.771 10.704-9.401 12.83a1.704 1.704 0 0 1-1.198 0C5.77 20.705 2 16.19 2 10V4.976c0-.758.489-1.43 1.21-1.664L11.46.637a1.748 1.748 0 0 1 1.08 0Zm-.617 1.426-8.25 2.676a.249.249 0 0 0-.173.237V10c0 5.46 3.28 9.483 8.43 11.426a.199.199 0 0 0 .14 0C17.22 19.483 20.5 15.461 20.5 10V4.976a.25.25 0 0 0-.173-.237l-8.25-2.676a.253.253 0 0 0-.154 0Z"></path>
</svg>
      <div>
        <div class="color-fg-default h4">
          GitHub Advanced Security

        </div>

        Find and fix vulnerabilities
      </div>

    
</a></li>

                      <li>
  <a class="HeaderMenu-dropdown-link d-block no-underline position-relative py-2 Link--secondary d-flex flex-items-center Link--has-description" data-analytics-event="{&quot;location&quot;:&quot;navbar&quot;,&quot;action&quot;:&quot;actions&quot;,&quot;context&quot;:&quot;platform&quot;,&quot;tag&quot;:&quot;link&quot;,&quot;label&quot;:&quot;actions_link_platform_navbar&quot;}" href="https://github.com/features/actions">
      <svg aria-hidden="true" height="24" viewBox="0 0 24 24" version="1.1" width="24" data-view-component="true" class="octicon octicon-workflow color-fg-subtle mr-3">
    <path d="M1 3a2 2 0 0 1 2-2h6.5a2 2 0 0 1 2 2v6.5a2 2 0 0 1-2 2H7v4.063C7 16.355 7.644 17 8.438 17H12.5v-2.5a2 2 0 0 1 2-2H21a2 2 0 0 1 2 2V21a2 2 0 0 1-2 2h-6.5a2 2 0 0 1-2-2v-2.5H8.437A2.939 2.939 0 0 1 5.5 15.562V11.5H3a2 2 0 0 1-2-2Zm2-.5a.5.5 0 0 0-.5.5v6.5a.5.5 0 0 0 .5.5h6.5a.5.5 0 0 0 .5-.5V3a.5.5 0 0 0-.5-.5ZM14.5 14a.5.5 0 0 0-.5.5V21a.5.5 0 0 0 .5.5H21a.5.5 0 0 0 .5-.5v-6.5a.5.5 0 0 0-.5-.5Z"></path>
</svg>
      <div>
        <div class="color-fg-default h4">
          Actions

        </div>

        Automate any workflow
      </div>

    
</a></li>

                  </ul>
                </div>
            </div>
            <div class="HeaderMenu-column px-lg-4 pb-3 pb-lg-0 border-lg-right">
                <div class="border-bottom border-lg-bottom-0 pb-lg-0 pb-3">

                  <ul class="list-style-none f5" >
                      <li>
  <a class="HeaderMenu-dropdown-link d-block no-underline position-relative py-2 Link--secondary d-flex flex-items-center Link--has-description mb-lg-3" data-analytics-event="{&quot;location&quot;:&quot;navbar&quot;,&quot;action&quot;:&quot;codespaces&quot;,&quot;context&quot;:&quot;platform&quot;,&quot;tag&quot;:&quot;link&quot;,&quot;label&quot;:&quot;codespaces_link_platform_navbar&quot;}" href="https://github.com/features/codespaces">
      <svg aria-hidden="true" height="24" viewBox="0 0 24 24" version="1.1" width="24" data-view-component="true" class="octicon octicon-codespaces color-fg-subtle mr-3">
    <path d="M3.5 3.75C3.5 2.784 4.284 2 5.25 2h13.5c.966 0 1.75.784 1.75 1.75v7.5A1.75 1.75 0 0 1 18.75 13H5.25a1.75 1.75 0 0 1-1.75-1.75Zm-2 12c0-.966.784-1.75 1.75-1.75h17.5c.966 0 1.75.784 1.75 1.75v4a1.75 1.75 0 0 1-1.75 1.75H3.25a1.75 1.75 0 0 1-1.75-1.75ZM5.25 3.5a.25.25 0 0 0-.25.25v7.5c0 .138.112.25.25.25h13.5a.25.25 0 0 0 .25-.25v-7.5a.25.25 0 0 0-.25-.25Zm-2 12a.25.25 0 0 0-.25.25v4c0 .138.112.25.25.25h17.5a.25.25 0 0 0 .25-.25v-4a.25.25 0 0 0-.25-.25Z"></path><path d="M10 17.75a.75.75 0 0 1 .75-.75h6.5a.75.75 0 0 1 0 1.5h-6.5a.75.75 0 0 1-.75-.75Zm-4 0a.75.75 0 0 1 .75-.75h.5a.75.75 0 0 1 0 1.5h-.5a.75.75 0 0 1-.75-.75Z"></path>
</svg>
      <div>
        <div class="color-fg-default h4">
          Codespaces

        </div>

        Instant dev environments
      </div>

    
</a></li>

                      <li>
  <a class="HeaderMenu-dropdown-link d-block no-underline position-relative py-2 Link--secondary d-flex flex-items-center Link--has-description mb-lg-3" data-analytics-event="{&quot;location&quot;:&quot;navbar&quot;,&quot;action&quot;:&quot;issues&quot;,&quot;context&quot;:&quot;platform&quot;,&quot;tag&quot;:&quot;link&quot;,&quot;label&quot;:&quot;issues_link_platform_navbar&quot;}" href="https://github.com/features/issues">
      <svg aria-hidden="true" height="24" viewBox="0 0 24 24" version="1.1" width="24" data-view-component="true" class="octicon octicon-issue-opened color-fg-subtle mr-3">
    <path d="M12 1c6.075 0 11 4.925 11 11s-4.925 11-11 11S1 18.075 1 12 5.925 1 12 1ZM2.5 12a9.5 9.5 0 0 0 9.5 9.5 9.5 9.5 0 0 0 9.5-9.5A9.5 9.5 0 0 0 12 2.5 9.5 9.5 0 0 0 2.5 12Zm9.5 2a2 2 0 1 1-.001-3.999A2 2 0 0 1 12 14Z"></path>
</svg>
      <div>
        <div class="color-fg-default h4">
          Issues

        </div>

        Plan and track work
      </div>

    
</a></li>

                      <li>
  <a class="HeaderMenu-dropdown-link d-block no-underline position-relative py-2 Link--secondary d-flex flex-items-center Link--has-description mb-lg-3" data-analytics-event="{&quot;location&quot;:&quot;navbar&quot;,&quot;action&quot;:&quot;code_review&quot;,&quot;context&quot;:&quot;platform&quot;,&quot;tag&quot;:&quot;link&quot;,&quot;label&quot;:&quot;code_review_link_platform_navbar&quot;}" href="https://github.com/features/code-review">
      <svg aria-hidden="true" height="24" viewBox="0 0 24 24" version="1.1" width="24" data-view-component="true" class="octicon octicon-code-review color-fg-subtle mr-3">
    <path d="M10.3 6.74a.75.75 0 0 1-.04 1.06l-2.908 2.7 2.908 2.7a.75.75 0 1 1-1.02 1.1l-3.5-3.25a.75.75 0 0 1 0-1.1l3.5-3.25a.75.75 0 0 1 1.06.04Zm3.44 1.06a.75.75 0 1 1 1.02-1.1l3.5 3.25a.75.75 0 0 1 0 1.1l-3.5 3.25a.75.75 0 1 1-1.02-1.1l2.908-2.7-2.908-2.7Z"></path><path d="M1.5 4.25c0-.966.784-1.75 1.75-1.75h17.5c.966 0 1.75.784 1.75 1.75v12.5a1.75 1.75 0 0 1-1.75 1.75h-9.69l-3.573 3.573A1.458 1.458 0 0 1 5 21.043V18.5H3.25a1.75 1.75 0 0 1-1.75-1.75ZM3.25 4a.25.25 0 0 0-.25.25v12.5c0 .138.112.25.25.25h2.5a.75.75 0 0 1 .75.75v3.19l3.72-3.72a.749.749 0 0 1 .53-.22h10a.25.25 0 0 0 .25-.25V4.25a.25.25 0 0 0-.25-.25Z"></path>
</svg>
      <div>
        <div class="color-fg-default h4">
          Code Review

        </div>

        Manage code changes
      </div>

    
</a></li>

                      <li>
  <a class="HeaderMenu-dropdown-link d-block no-underline position-relative py-2 Link--secondary d-flex flex-items-center Link--has-description mb-lg-3" data-analytics-event="{&quot;location&quot;:&quot;navbar&quot;,&quot;action&quot;:&quot;discussions&quot;,&quot;context&quot;:&quot;platform&quot;,&quot;tag&quot;:&quot;link&quot;,&quot;label&quot;:&quot;discussions_link_platform_navbar&quot;}" href="https://github.com/features/discussions">
      <svg aria-hidden="true" height="24" viewBox="0 0 24 24" version="1.1" width="24" data-view-component="true" class="octicon octicon-comment-discussion color-fg-subtle mr-3">
    <path d="M1.75 1h12.5c.966 0 1.75.784 1.75 1.75v9.5A1.75 1.75 0 0 1 14.25 14H8.061l-2.574 2.573A1.458 1.458 0 0 1 3 15.543V14H1.75A1.75 1.75 0 0 1 0 12.25v-9.5C0 1.784.784 1 1.75 1ZM1.5 2.75v9.5c0 .138.112.25.25.25h2a.75.75 0 0 1 .75.75v2.19l2.72-2.72a.749.749 0 0 1 .53-.22h6.5a.25.25 0 0 0 .25-.25v-9.5a.25.25 0 0 0-.25-.25H1.75a.25.25 0 0 0-.25.25Z"></path><path d="M22.5 8.75a.25.25 0 0 0-.25-.25h-3.5a.75.75 0 0 1 0-1.5h3.5c.966 0 1.75.784 1.75 1.75v9.5A1.75 1.75 0 0 1 22.25 20H21v1.543a1.457 1.457 0 0 1-2.487 1.03L15.939 20H10.75A1.75 1.75 0 0 1 9 18.25v-1.465a.75.75 0 0 1 1.5 0v1.465c0 .138.112.25.25.25h5.5a.75.75 0 0 1 .53.22l2.72 2.72v-2.19a.75.75 0 0 1 .75-.75h2a.25.25 0 0 0 .25-.25v-9.5Z"></path>
</svg>
      <div>
        <div class="color-fg-default h4">
          Discussions

        </div>

        Collaborate outside of code
      </div>

    
</a></li>

                      <li>
  <a class="HeaderMenu-dropdown-link d-block no-underline position-relative py-2 Link--secondary d-flex flex-items-center Link--has-description" data-analytics-event="{&quot;location&quot;:&quot;navbar&quot;,&quot;action&quot;:&quot;code_search&quot;,&quot;context&quot;:&quot;platform&quot;,&quot;tag&quot;:&quot;link&quot;,&quot;label&quot;:&quot;code_search_link_platform_navbar&quot;}" href="https://github.com/features/code-search">
      <svg aria-hidden="true" height="24" viewBox="0 0 24 24" version="1.1" width="24" data-view-component="true" class="octicon octicon-code-square color-fg-subtle mr-3">
    <path d="M10.3 8.24a.75.75 0 0 1-.04 1.06L7.352 12l2.908 2.7a.75.75 0 1 1-1.02 1.1l-3.5-3.25a.75.75 0 0 1 0-1.1l3.5-3.25a.75.75 0 0 1 1.06.04Zm3.44 1.06a.75.75 0 1 1 1.02-1.1l3.5 3.25a.75.75 0 0 1 0 1.1l-3.5 3.25a.75.75 0 1 1-1.02-1.1l2.908-2.7-2.908-2.7Z"></path><path d="M2 3.75C2 2.784 2.784 2 3.75 2h16.5c.966 0 1.75.784 1.75 1.75v16.5A1.75 1.75 0 0 1 20.25 22H3.75A1.75 1.75 0 0 1 2 20.25Zm1.75-.25a.25.25 0 0 0-.25.25v16.5c0 .138.112.25.25.25h16.5a.25.25 0 0 0 .25-.25V3.75a.25.25 0 0 0-.25-.25Z"></path>
</svg>
      <div>
        <div class="color-fg-default h4">
          Code Search

        </div>

        Find more, search less
      </div>

    
</a></li>

                  </ul>
                </div>
            </div>
            <div class="HeaderMenu-column px-lg-4">
                <div class="border-bottom border-lg-bottom-0 pb-lg-0 mb-3 pb-3">

                      <span class="d-block h4 color-fg-default my-1" id="platform-explore-heading">Explore</span>

                  <ul class="list-style-none f5" aria-labelledby="platform-explore-heading">
                      <li>
  <a class="HeaderMenu-dropdown-link d-block no-underline position-relative py-2 Link--secondary" data-analytics-event="{&quot;location&quot;:&quot;navbar&quot;,&quot;action&quot;:&quot;why_github&quot;,&quot;context&quot;:&quot;platform&quot;,&quot;tag&quot;:&quot;link&quot;,&quot;label&quot;:&quot;why_github_link_platform_navbar&quot;}" href="https://github.com/why-github">
      Why GitHub

    
</a></li>

                      <li>
  <a class="HeaderMenu-dropdown-link d-block no-underline position-relative py-2 Link--secondary Link--external" target="_blank" data-analytics-event="{&quot;location&quot;:&quot;navbar&quot;,&quot;action&quot;:&quot;documentation&quot;,&quot;context&quot;:&quot;platform&quot;,&quot;tag&quot;:&quot;link&quot;,&quot;label&quot;:&quot;documentation_link_platform_navbar&quot;}" href="https://docs.github.com">
      Documentation

    <svg aria-hidden="true" height="16" viewBox="0 0 16 16" version="1.1" width="16" data-view-component="true" class="octicon octicon-link-external HeaderMenu-external-icon color-fg-subtle">
    <path d="M3.75 2h3.5a.75.75 0 0 1 0 1.5h-3.5a.25.25 0 0 0-.25.25v8.5c0 .138.112.25.25.25h8.5a.25.25 0 0 0 .25-.25v-3.5a.75.75 0 0 1 1.5 0v3.5A1.75 1.75 0 0 1 12.25 14h-8.5A1.75 1.75 0 0 1 2 12.25v-8.5C2 2.784 2.784 2 3.75 2Zm6.854-1h4.146a.25.25 0 0 1 .25.25v4.146a.25.25 0 0 1-.427.177L13.03 4.03 9.28 7.78a.751.751 0 0 1-1.042-.018.751.751 0 0 1-.018-1.042l3.75-3.75-1.543-1.543A.25.25 0 0 1 10.604 1Z"></path>
</svg>
</a></li>

                      <li>
  <a class="HeaderMenu-dropdown-link d-block no-underline position-relative py-2 Link--secondary Link--external" target="_blank" data-analytics-event="{&quot;location&quot;:&quot;navbar&quot;,&quot;action&quot;:&quot;github_skills&quot;,&quot;context&quot;:&quot;platform&quot;,&quot;tag&quot;:&quot;link&quot;,&quot;label&quot;:&quot;github_skills_link_platform_navbar&quot;}" href="https://skills.github.com">
      GitHub Skills

    <svg aria-hidden="true" height="16" viewBox="0 0 16 16" version="1.1" width="16" data-view-component="true" class="octicon octicon-link-external HeaderMenu-external-icon color-fg-subtle">
    <path d="M3.75 2h3.5a.75.75 0 0 1 0 1.5h-3.5a.25.25 0 0 0-.25.25v8.5c0 .138.112.25.25.25h8.5a.25.25 0 0 0 .25-.25v-3.5a.75.75 0 0 1 1.5 0v3.5A1.75 1.75 0 0 1 12.25 14h-8.5A1.75 1.75 0 0 1 2 12.25v-8.5C2 2.784 2.784 2 3.75 2Zm6.854-1h4.146a.25.25 0 0 1 .25.25v4.146a.25.25 0 0 1-.427.177L13.03 4.03 9.28 7.78a.751.751 0 0 1-1.042-.018.751.751 0 0 1-.018-1.042l3.75-3.75-1.543-1.543A.25.25 0 0 1 10.604 1Z"></path>
</svg>
</a></li>

                      <li>
  <a class="HeaderMenu-dropdown-link d-block no-underline position-relative py-2 Link--secondary Link--external" target="_blank" data-analytics-event="{&quot;location&quot;:&quot;navbar&quot;,&quot;action&quot;:&quot;blog&quot;,&quot;context&quot;:&quot;platform&quot;,&quot;tag&quot;:&quot;link&quot;,&quot;label&quot;:&quot;blog_link_platform_navbar&quot;}" href="https://github.blog">
      Blog

    <svg aria-hidden="true" height="16" viewBox="0 0 16 16" version="1.1" width="16" data-view-component="true" class="octicon octicon-link-external HeaderMenu-external-icon color-fg-subtle">
    <path d="M3.75 2h3.5a.75.75 0 0 1 0 1.5h-3.5a.25.25 0 0 0-.25.25v8.5c0 .138.112.25.25.25h8.5a.25.25 0 0 0 .25-.25v-3.5a.75.75 0 0 1 1.5 0v3.5A1.75 1.75 0 0 1 12.25 14h-8.5A1.75 1.75 0 0 1 2 12.25v-8.5C2 2.784 2.784 2 3.75 2Zm6.854-1h4.146a.25.25 0 0 1 .25.25v4.146a.25.25 0 0 1-.427.177L13.03 4.03 9.28 7.78a.751.751 0 0 1-1.042-.018.751.751 0 0 1-.018-1.042l3.75-3.75-1.543-1.543A.25.25 0 0 1 10.604 1Z"></path>
</svg>
</a></li>

                  </ul>
                </div>
                <div class="border-bottom border-lg-bottom-0 pb-lg-0 pb-3">

                      <span class="d-block h4 color-fg-default my-1" id="platform-integrations-heading">Integrations</span>

                  <ul class="list-style-none f5" aria-labelledby="platform-integrations-heading">
                      <li>
  <a class="HeaderMenu-dropdown-link d-block no-underline position-relative py-2 Link--secondary" data-analytics-event="{&quot;location&quot;:&quot;navbar&quot;,&quot;action&quot;:&quot;github_marketplace&quot;,&quot;context&quot;:&quot;platform&quot;,&quot;tag&quot;:&quot;link&quot;,&quot;label&quot;:&quot;github_marketplace_link_platform_navbar&quot;}" href="https://github.com/marketplace">
      GitHub Marketplace

    
</a></li>

                      <li>
  <a class="HeaderMenu-dropdown-link d-block no-underline position-relative py-2 Link--secondary" data-analytics-event="{&quot;location&quot;:&quot;navbar&quot;,&quot;action&quot;:&quot;mcp_registry&quot;,&quot;context&quot;:&quot;platform&quot;,&quot;tag&quot;:&quot;link&quot;,&quot;label&quot;:&quot;mcp_registry_link_platform_navbar&quot;}" href="https://github.com/mcp">
      MCP Registry

    
</a></li>

                  </ul>
                </div>
            </div>
        </div>

          <div class="HeaderMenu-trailing-link rounded-bottom-2 mt-lg-4 px-lg-4 py-4 py-lg-3 f5 text-semibold">
            <a data-analytics-event="{&quot;location&quot;:&quot;navbar&quot;,&quot;action&quot;:&quot;view_all_features&quot;,&quot;context&quot;:&quot;platform&quot;,&quot;tag&quot;:&quot;link&quot;,&quot;label&quot;:&quot;view_all_features_link_platform_navbar&quot;}" href="https://github.com/features">
              View all features
              <svg aria-hidden="true" height="16" viewBox="0 0 16 16" version="1.1" width="16" data-view-component="true" class="octicon octicon-chevron-right HeaderMenu-trailing-link-icon">
    <path d="M6.22 3.22a.75.75 0 0 1 1.06 0l4.25 4.25a.75.75 0 0 1 0 1.06l-4.25 4.25a.751.751 0 0 1-1.042-.018.751.751 0 0 1-.018-1.042L9.94 8 6.22 4.28a.75.75 0 0 1 0-1.06Z"></path>
</svg>
</a>          </div>
      </div>
</li>


                  <li class="HeaderMenu-item position-relative flex-wrap flex-justify-between flex-items-center d-block d-lg-flex flex-lg-nowrap flex-lg-items-center js-details-container js-header-menu-item">
      <button type="button" class="HeaderMenu-link border-0 width-full width-lg-auto px-0 px-lg-2 py-lg-2 no-wrap d-flex flex-items-center flex-justify-between js-details-target" aria-expanded="false">
        Solutions
        <svg opacity="0.5" aria-hidden="true" height="16" viewBox="0 0 16 16" version="1.1" width="16" data-view-component="true" class="octicon octicon-chevron-down HeaderMenu-icon ml-1">
    <path d="M12.78 5.22a.749.749 0 0 1 0 1.06l-4.25 4.25a.749.749 0 0 1-1.06 0L3.22 6.28a.749.749 0 1 1 1.06-1.06L8 8.939l3.72-3.719a.749.749 0 0 1 1.06 0Z"></path>
</svg>
      </button>

      <div class="HeaderMenu-dropdown dropdown-menu rounded m-0 p-0 pt-2 pt-lg-4 position-relative position-lg-absolute left-0 left-lg-n3 dropdown-menu-wide">
        <div class="d-lg-flex dropdown-menu-wide">
            <div class="HeaderMenu-column px-lg-4 pb-3 pb-lg-0 border-lg-right">
                <div class="border-bottom border-lg-bottom-0 pb-lg-0 pb-3">

                      <span class="d-block h4 color-fg-default my-1" id="solutions-by-company-size-heading">By company size</span>

                  <ul class="list-style-none f5" aria-labelledby="solutions-by-company-size-heading">
                      <li>
  <a class="HeaderMenu-dropdown-link d-block no-underline position-relative py-2 Link--secondary" data-analytics-event="{&quot;location&quot;:&quot;navbar&quot;,&quot;action&quot;:&quot;enterprises&quot;,&quot;context&quot;:&quot;solutions&quot;,&quot;tag&quot;:&quot;link&quot;,&quot;label&quot;:&quot;enterprises_link_solutions_navbar&quot;}" href="https://github.com/enterprise">
      Enterprises

    
</a></li>

                      <li>
  <a class="HeaderMenu-dropdown-link d-block no-underline position-relative py-2 Link--secondary" data-analytics-event="{&quot;location&quot;:&quot;navbar&quot;,&quot;action&quot;:&quot;small_and_medium_teams&quot;,&quot;context&quot;:&quot;solutions&quot;,&quot;tag&quot;:&quot;link&quot;,&quot;label&quot;:&quot;small_and_medium_teams_link_solutions_navbar&quot;}" href="https://github.com/team">
      Small and medium teams

    
</a></li>

                      <li>
  <a class="HeaderMenu-dropdown-link d-block no-underline position-relative py-2 Link--secondary" data-analytics-event="{&quot;location&quot;:&quot;navbar&quot;,&quot;action&quot;:&quot;startups&quot;,&quot;context&quot;:&quot;solutions&quot;,&quot;tag&quot;:&quot;link&quot;,&quot;label&quot;:&quot;startups_link_solutions_navbar&quot;}" href="https://github.com/enterprise/startups">
      Startups

    
</a></li>

                      <li>
  <a class="HeaderMenu-dropdown-link d-block no-underline position-relative py-2 Link--secondary" data-analytics-event="{&quot;location&quot;:&quot;navbar&quot;,&quot;action&quot;:&quot;nonprofits&quot;,&quot;context&quot;:&quot;solutions&quot;,&quot;tag&quot;:&quot;link&quot;,&quot;label&quot;:&quot;nonprofits_link_solutions_navbar&quot;}" href="/solutions/industry/nonprofits">
      Nonprofits

    
</a></li>

                  </ul>
                </div>
            </div>
            <div class="HeaderMenu-column px-lg-4 pb-3 pb-lg-0 border-lg-right">
                <div class="border-bottom border-lg-bottom-0 pb-lg-0 pb-3">

                      <span class="d-block h4 color-fg-default my-1" id="solutions-by-use-case-heading">By use case</span>

                  <ul class="list-style-none f5" aria-labelledby="solutions-by-use-case-heading">
                      <li>
  <a class="HeaderMenu-dropdown-link d-block no-underline position-relative py-2 Link--secondary" data-analytics-event="{&quot;location&quot;:&quot;navbar&quot;,&quot;action&quot;:&quot;app_modernization&quot;,&quot;context&quot;:&quot;solutions&quot;,&quot;tag&quot;:&quot;link&quot;,&quot;label&quot;:&quot;app_modernization_link_solutions_navbar&quot;}" href="/solutions/use-case/app-modernization">
      App Modernization

    
</a></li>

                      <li>
  <a class="HeaderMenu-dropdown-link d-block no-underline position-relative py-2 Link--secondary" data-analytics-event="{&quot;location&quot;:&quot;navbar&quot;,&quot;action&quot;:&quot;devsecops&quot;,&quot;context&quot;:&quot;solutions&quot;,&quot;tag&quot;:&quot;link&quot;,&quot;label&quot;:&quot;devsecops_link_solutions_navbar&quot;}" href="/solutions/use-case/devsecops">
      DevSecOps

    
</a></li>

                      <li>
  <a class="HeaderMenu-dropdown-link d-block no-underline position-relative py-2 Link--secondary" data-analytics-event="{&quot;location&quot;:&quot;navbar&quot;,&quot;action&quot;:&quot;devops&quot;,&quot;context&quot;:&quot;solutions&quot;,&quot;tag&quot;:&quot;link&quot;,&quot;label&quot;:&quot;devops_link_solutions_navbar&quot;}" href="/solutions/use-case/devops">
      DevOps

    
</a></li>

                      <li>
  <a class="HeaderMenu-dropdown-link d-block no-underline position-relative py-2 Link--secondary" data-analytics-event="{&quot;location&quot;:&quot;navbar&quot;,&quot;action&quot;:&quot;ci_cd&quot;,&quot;context&quot;:&quot;solutions&quot;,&quot;tag&quot;:&quot;link&quot;,&quot;label&quot;:&quot;ci_cd_link_solutions_navbar&quot;}" href="/solutions/use-case/ci-cd">
      CI/CD

    
</a></li>

                      <li>
  <a class="HeaderMenu-dropdown-link d-block no-underline position-relative py-2 Link--secondary" data-analytics-event="{&quot;location&quot;:&quot;navbar&quot;,&quot;action&quot;:&quot;view_all_use_cases&quot;,&quot;context&quot;:&quot;solutions&quot;,&quot;tag&quot;:&quot;link&quot;,&quot;label&quot;:&quot;view_all_use_cases_link_solutions_navbar&quot;}" href="/solutions/use-case">
      View all use cases

    
</a></li>

                  </ul>
                </div>
            </div>
            <div class="HeaderMenu-column px-lg-4">
                <div class="border-bottom border-lg-bottom-0 pb-lg-0 pb-3">

                      <span class="d-block h4 color-fg-default my-1" id="solutions-by-industry-heading">By industry</span>

                  <ul class="list-style-none f5" aria-labelledby="solutions-by-industry-heading">
                      <li>
  <a class="HeaderMenu-dropdown-link d-block no-underline position-relative py-2 Link--secondary" data-analytics-event="{&quot;location&quot;:&quot;navbar&quot;,&quot;action&quot;:&quot;healthcare&quot;,&quot;context&quot;:&quot;solutions&quot;,&quot;tag&quot;:&quot;link&quot;,&quot;label&quot;:&quot;healthcare_link_solutions_navbar&quot;}" href="/solutions/industry/healthcare">
      Healthcare

    
</a></li>

                      <li>
  <a class="HeaderMenu-dropdown-link d-block no-underline position-relative py-2 Link--secondary" data-analytics-event="{&quot;location&quot;:&quot;navbar&quot;,&quot;action&quot;:&quot;financial_services&quot;,&quot;context&quot;:&quot;solutions&quot;,&quot;tag&quot;:&quot;link&quot;,&quot;label&quot;:&quot;financial_services_link_solutions_navbar&quot;}" href="/solutions/industry/financial-services">
      Financial services

    
</a></li>

                      <li>
  <a class="HeaderMenu-dropdown-link d-block no-underline position-relative py-2 Link--secondary" data-analytics-event="{&quot;location&quot;:&quot;navbar&quot;,&quot;action&quot;:&quot;manufacturing&quot;,&quot;context&quot;:&quot;solutions&quot;,&quot;tag&quot;:&quot;link&quot;,&quot;label&quot;:&quot;manufacturing_link_solutions_navbar&quot;}" href="/solutions/industry/manufacturing">
      Manufacturing

    
</a></li>

                      <li>
  <a class="HeaderMenu-dropdown-link d-block no-underline position-relative py-2 Link--secondary" data-analytics-event="{&quot;location&quot;:&quot;navbar&quot;,&quot;action&quot;:&quot;government&quot;,&quot;context&quot;:&quot;solutions&quot;,&quot;tag&quot;:&quot;link&quot;,&quot;label&quot;:&quot;government_link_solutions_navbar&quot;}" href="/solutions/industry/government">
      Government

    
</a></li>

                      <li>
  <a class="HeaderMenu-dropdown-link d-block no-underline position-relative py-2 Link--secondary" data-analytics-event="{&quot;location&quot;:&quot;navbar&quot;,&quot;action&quot;:&quot;view_all_industries&quot;,&quot;context&quot;:&quot;solutions&quot;,&quot;tag&quot;:&quot;link&quot;,&quot;label&quot;:&quot;view_all_industries_link_solutions_navbar&quot;}" href="/solutions/industry">
      View all industries

    
</a></li>

                  </ul>
                </div>
            </div>
        </div>

          <div class="HeaderMenu-trailing-link rounded-bottom-2 mt-lg-4 px-lg-4 py-4 py-lg-3 f5 text-semibold">
            <a data-analytics-event="{&quot;location&quot;:&quot;navbar&quot;,&quot;action&quot;:&quot;view_all_solutions&quot;,&quot;context&quot;:&quot;solutions&quot;,&quot;tag&quot;:&quot;link&quot;,&quot;label&quot;:&quot;view_all_solutions_link_solutions_navbar&quot;}" href="/solutions">
              View all solutions
              <svg aria-hidden="true" height="16" viewBox="0 0 16 16" version="1.1" width="16" data-view-component="true" class="octicon octicon-chevron-right HeaderMenu-trailing-link-icon">
    <path d="M6.22 3.22a.75.75 0 0 1 1.06 0l4.25 4.25a.75.75 0 0 1 0 1.06l-4.25 4.25a.751.751 0 0 1-1.042-.018.751.751 0 0 1-.018-1.042L9.94 8 6.22 4.28a.75.75 0 0 1 0-1.06Z"></path>
</svg>
</a>          </div>
      </div>
</li>


                  <li class="HeaderMenu-item position-relative flex-wrap flex-justify-between flex-items-center d-block d-lg-flex flex-lg-nowrap flex-lg-items-center js-details-container js-header-menu-item">
      <button type="button" class="HeaderMenu-link border-0 width-full width-lg-auto px-0 px-lg-2 py-lg-2 no-wrap d-flex flex-items-center flex-justify-between js-details-target" aria-expanded="false">
        Resources
        <svg opacity="0.5" aria-hidden="true" height="16" viewBox="0 0 16 16" version="1.1" width="16" data-view-component="true" class="octicon octicon-chevron-down HeaderMenu-icon ml-1">
    <path d="M12.78 5.22a.749.749 0 0 1 0 1.06l-4.25 4.25a.749.749 0 0 1-1.06 0L3.22 6.28a.749.749 0 1 1 1.06-1.06L8 8.939l3.72-3.719a.749.749 0 0 1 1.06 0Z"></path>
</svg>
      </button>

      <div class="HeaderMenu-dropdown dropdown-menu rounded m-0 p-0 pt-2 pt-lg-4 position-relative position-lg-absolute left-0 left-lg-n3 pb-2 pb-lg-4 dropdown-menu-wide">
        <div class="d-lg-flex dropdown-menu-wide">
            <div class="HeaderMenu-column px-lg-4 pb-3 pb-lg-0 border-lg-right">
                <div class="border-bottom border-lg-bottom-0 pb-lg-0 pb-3">

                      <span class="d-block h4 color-fg-default my-1" id="resources-topics-heading">Topics</span>

                  <ul class="list-style-none f5" aria-labelledby="resources-topics-heading">
                      <li>
  <a class="HeaderMenu-dropdown-link d-block no-underline position-relative py-2 Link--secondary" data-analytics-event="{&quot;location&quot;:&quot;navbar&quot;,&quot;action&quot;:&quot;ai&quot;,&quot;context&quot;:&quot;resources&quot;,&quot;tag&quot;:&quot;link&quot;,&quot;label&quot;:&quot;ai_link_resources_navbar&quot;}" href="/resources/articles?topic=ai">
      AI

    
</a></li>

                      <li>
  <a class="HeaderMenu-dropdown-link d-block no-underline position-relative py-2 Link--secondary" data-analytics-event="{&quot;location&quot;:&quot;navbar&quot;,&quot;action&quot;:&quot;devops&quot;,&quot;context&quot;:&quot;resources&quot;,&quot;tag&quot;:&quot;link&quot;,&quot;label&quot;:&quot;devops_link_resources_navbar&quot;}" href="/resources/articles?topic=devops">
      DevOps

    
</a></li>

                      <li>
  <a class="HeaderMenu-dropdown-link d-block no-underline position-relative py-2 Link--secondary" data-analytics-event="{&quot;location&quot;:&quot;navbar&quot;,&quot;action&quot;:&quot;security&quot;,&quot;context&quot;:&quot;resources&quot;,&quot;tag&quot;:&quot;link&quot;,&quot;label&quot;:&quot;security_link_resources_navbar&quot;}" href="/resources/articles?topic=security">
      Security

    
</a></li>

                      <li>
  <a class="HeaderMenu-dropdown-link d-block no-underline position-relative py-2 Link--secondary" data-analytics-event="{&quot;location&quot;:&quot;navbar&quot;,&quot;action&quot;:&quot;software_development&quot;,&quot;context&quot;:&quot;resources&quot;,&quot;tag&quot;:&quot;link&quot;,&quot;label&quot;:&quot;software_development_link_resources_navbar&quot;}" href="/resources/articles?topic=software-development">
      Software Development

    
</a></li>

                      <li>
  <a class="HeaderMenu-dropdown-link d-block no-underline position-relative py-2 Link--secondary" data-analytics-event="{&quot;location&quot;:&quot;navbar&quot;,&quot;action&quot;:&quot;view_all&quot;,&quot;context&quot;:&quot;resources&quot;,&quot;tag&quot;:&quot;link&quot;,&quot;label&quot;:&quot;view_all_link_resources_navbar&quot;}" href="/resources/articles">
      View all

    
</a></li>

                  </ul>
                </div>
            </div>
            <div class="HeaderMenu-column px-lg-4">
                <div class="border-bottom border-lg-bottom-0 pb-lg-0 border-bottom-0">

                      <span class="d-block h4 color-fg-default my-1" id="resources-explore-heading">Explore</span>

                  <ul class="list-style-none f5" aria-labelledby="resources-explore-heading">
                      <li>
  <a class="HeaderMenu-dropdown-link d-block no-underline position-relative py-2 Link--secondary Link--external" target="_blank" data-analytics-event="{&quot;location&quot;:&quot;navbar&quot;,&quot;action&quot;:&quot;learning_pathways&quot;,&quot;context&quot;:&quot;resources&quot;,&quot;tag&quot;:&quot;link&quot;,&quot;label&quot;:&quot;learning_pathways_link_resources_navbar&quot;}" href="https://resources.github.com/learn/pathways">
      Learning Pathways

    <svg aria-hidden="true" height="16" viewBox="0 0 16 16" version="1.1" width="16" data-view-component="true" class="octicon octicon-link-external HeaderMenu-external-icon color-fg-subtle">
    <path d="M3.75 2h3.5a.75.75 0 0 1 0 1.5h-3.5a.25.25 0 0 0-.25.25v8.5c0 .138.112.25.25.25h8.5a.25.25 0 0 0 .25-.25v-3.5a.75.75 0 0 1 1.5 0v3.5A1.75 1.75 0 0 1 12.25 14h-8.5A1.75 1.75 0 0 1 2 12.25v-8.5C2 2.784 2.784 2 3.75 2Zm6.854-1h4.146a.25.25 0 0 1 .25.25v4.146a.25.25 0 0 1-.427.177L13.03 4.03 9.28 7.78a.751.751 0 0 1-1.042-.018.751.751 0 0 1-.018-1.042l3.75-3.75-1.543-1.543A.25.25 0 0 1 10.604 1Z"></path>
</svg>
</a></li>

                      <li>
  <a class="HeaderMenu-dropdown-link d-block no-underline position-relative py-2 Link--secondary" data-analytics-event="{&quot;location&quot;:&quot;navbar&quot;,&quot;action&quot;:&quot;events_amp_webinars&quot;,&quot;context&quot;:&quot;resources&quot;,&quot;tag&quot;:&quot;link&quot;,&quot;label&quot;:&quot;events_amp_webinars_link_resources_navbar&quot;}" href="https://github.com/resources/events">
      Events &amp; Webinars

    
</a></li>

                      <li>
  <a class="HeaderMenu-dropdown-link d-block no-underline position-relative py-2 Link--secondary" data-analytics-event="{&quot;location&quot;:&quot;navbar&quot;,&quot;action&quot;:&quot;ebooks_amp_whitepapers&quot;,&quot;context&quot;:&quot;resources&quot;,&quot;tag&quot;:&quot;link&quot;,&quot;label&quot;:&quot;ebooks_amp_whitepapers_link_resources_navbar&quot;}" href="https://github.com/resources/whitepapers">
      Ebooks &amp; Whitepapers

    
</a></li>

                      <li>
  <a class="HeaderMenu-dropdown-link d-block no-underline position-relative py-2 Link--secondary" data-analytics-event="{&quot;location&quot;:&quot;navbar&quot;,&quot;action&quot;:&quot;customer_stories&quot;,&quot;context&quot;:&quot;resources&quot;,&quot;tag&quot;:&quot;link&quot;,&quot;label&quot;:&quot;customer_stories_link_resources_navbar&quot;}" href="https://github.com/customer-stories">
      Customer Stories

    
</a></li>

                      <li>
  <a class="HeaderMenu-dropdown-link d-block no-underline position-relative py-2 Link--secondary" data-analytics-event="{&quot;location&quot;:&quot;navbar&quot;,&quot;action&quot;:&quot;partners&quot;,&quot;context&quot;:&quot;resources&quot;,&quot;tag&quot;:&quot;link&quot;,&quot;label&quot;:&quot;partners_link_resources_navbar&quot;}" href="https://github.com/partners">
      Partners

    
</a></li>

                      <li>
  <a class="HeaderMenu-dropdown-link d-block no-underline position-relative py-2 Link--secondary" data-analytics-event="{&quot;location&quot;:&quot;navbar&quot;,&quot;action&quot;:&quot;executive_insights&quot;,&quot;context&quot;:&quot;resources&quot;,&quot;tag&quot;:&quot;link&quot;,&quot;label&quot;:&quot;executive_insights_link_resources_navbar&quot;}" href="https://github.com/solutions/executive-insights">
      Executive Insights

    
</a></li>

                  </ul>
                </div>
            </div>
        </div>

      </div>
</li>


                  <li class="HeaderMenu-item position-relative flex-wrap flex-justify-between flex-items-center d-block d-lg-flex flex-lg-nowrap flex-lg-items-center js-details-container js-header-menu-item">
      <button type="button" class="HeaderMenu-link border-0 width-full width-lg-auto px-0 px-lg-2 py-lg-2 no-wrap d-flex flex-items-center flex-justify-between js-details-target" aria-expanded="false">
        Open Source
        <svg opacity="0.5" aria-hidden="true" height="16" viewBox="0 0 16 16" version="1.1" width="16" data-view-component="true" class="octicon octicon-chevron-down HeaderMenu-icon ml-1">
    <path d="M12.78 5.22a.749.749 0 0 1 0 1.06l-4.25 4.25a.749.749 0 0 1-1.06 0L3.22 6.28a.749.749 0 1 1 1.06-1.06L8 8.939l3.72-3.719a.749.749 0 0 1 1.06 0Z"></path>
</svg>
      </button>

      <div class="HeaderMenu-dropdown dropdown-menu rounded m-0 p-0 pt-2 pt-lg-4 position-relative position-lg-absolute left-0 left-lg-n3 pb-2 pb-lg-4">
        <div class="d-lg-flex dropdown-menu-wide">
            <div class="HeaderMenu-column px-lg-4">
                <div class="border-bottom mb-3 mb-lg-3 pb-3">

                  <ul class="list-style-none f5" >
                      <li>
  <a class="HeaderMenu-dropdown-link d-block no-underline position-relative py-2 Link--secondary d-flex flex-items-center Link--has-description" data-analytics-event="{&quot;location&quot;:&quot;navbar&quot;,&quot;action&quot;:&quot;github_sponsors&quot;,&quot;context&quot;:&quot;open_source&quot;,&quot;tag&quot;:&quot;link&quot;,&quot;label&quot;:&quot;github_sponsors_link_open_source_navbar&quot;}" href="/sponsors">
      
      <div>
        <div class="color-fg-default h4">
          GitHub Sponsors

        </div>

        Fund open source developers
      </div>

    
</a></li>

                  </ul>
                </div>
                <div class="border-bottom mb-3 mb-lg-3 pb-3">

                  <ul class="list-style-none f5" >
                      <li>
  <a class="HeaderMenu-dropdown-link d-block no-underline position-relative py-2 Link--secondary d-flex flex-items-center Link--has-description" data-analytics-event="{&quot;location&quot;:&quot;navbar&quot;,&quot;action&quot;:&quot;the_readme_project&quot;,&quot;context&quot;:&quot;open_source&quot;,&quot;tag&quot;:&quot;link&quot;,&quot;label&quot;:&quot;the_readme_project_link_open_source_navbar&quot;}" href="https://github.com/readme">
      
      <div>
        <div class="color-fg-default h4">
          The ReadME Project

        </div>

        GitHub community articles
      </div>

    
</a></li>

                  </ul>
                </div>
                <div class="border-bottom border-bottom-0">

                      <span class="d-block h4 color-fg-default my-1" id="open-source-repositories-heading">Repositories</span>

                  <ul class="list-style-none f5" aria-labelledby="open-source-repositories-heading">
                      <li>
  <a class="HeaderMenu-dropdown-link d-block no-underline position-relative py-2 Link--secondary" data-analytics-event="{&quot;location&quot;:&quot;navbar&quot;,&quot;action&quot;:&quot;topics&quot;,&quot;context&quot;:&quot;open_source&quot;,&quot;tag&quot;:&quot;link&quot;,&quot;label&quot;:&quot;topics_link_open_source_navbar&quot;}" href="https://github.com/topics">
      Topics

    
</a></li>

                      <li>
  <a class="HeaderMenu-dropdown-link d-block no-underline position-relative py-2 Link--secondary" data-analytics-event="{&quot;location&quot;:&quot;navbar&quot;,&quot;action&quot;:&quot;trending&quot;,&quot;context&quot;:&quot;open_source&quot;,&quot;tag&quot;:&quot;link&quot;,&quot;label&quot;:&quot;trending_link_open_source_navbar&quot;}" href="https://github.com/trending">
      Trending

    
</a></li>

                      <li>
  <a class="HeaderMenu-dropdown-link d-block no-underline position-relative py-2 Link--secondary" data-analytics-event="{&quot;location&quot;:&quot;navbar&quot;,&quot;action&quot;:&quot;collections&quot;,&quot;context&quot;:&quot;open_source&quot;,&quot;tag&quot;:&quot;link&quot;,&quot;label&quot;:&quot;collections_link_open_source_navbar&quot;}" href="https://github.com/collections">
      Collections

    
</a></li>

                  </ul>
                </div>
            </div>
        </div>

      </div>
</li>


                  <li class="HeaderMenu-item position-relative flex-wrap flex-justify-between flex-items-center d-block d-lg-flex flex-lg-nowrap flex-lg-items-center js-details-container js-header-menu-item">
      <button type="button" class="HeaderMenu-link border-0 width-full width-lg-auto px-0 px-lg-2 py-lg-2 no-wrap d-flex flex-items-center flex-justify-between js-details-target" aria-expanded="false">
        Enterprise
        <svg opacity="0.5" aria-hidden="true" height="16" viewBox="0 0 16 16" version="1.1" width="16" data-view-component="true" class="octicon octicon-chevron-down HeaderMenu-icon ml-1">
    <path d="M12.78 5.22a.749.749 0 0 1 0 1.06l-4.25 4.25a.749.749 0 0 1-1.06 0L3.22 6.28a.749.749 0 1 1 1.06-1.06L8 8.939l3.72-3.719a.749.749 0 0 1 1.06 0Z"></path>
</svg>
      </button>

      <div class="HeaderMenu-dropdown dropdown-menu rounded m-0 p-0 pt-2 pt-lg-4 position-relative position-lg-absolute left-0 left-lg-n3 pb-2 pb-lg-4">
        <div class="d-lg-flex dropdown-menu-wide">
            <div class="HeaderMenu-column px-lg-4">
                <div class="border-bottom mb-3 mb-lg-3 pb-3">

                  <ul class="list-style-none f5" >
                      <li>
  <a class="HeaderMenu-dropdown-link d-block no-underline position-relative py-2 Link--secondary d-flex flex-items-center Link--has-description" data-analytics-event="{&quot;location&quot;:&quot;navbar&quot;,&quot;action&quot;:&quot;enterprise_platform&quot;,&quot;context&quot;:&quot;enterprise&quot;,&quot;tag&quot;:&quot;link&quot;,&quot;label&quot;:&quot;enterprise_platform_link_enterprise_navbar&quot;}" href="/enterprise">
      <svg aria-hidden="true" height="24" viewBox="0 0 24 24" version="1.1" width="24" data-view-component="true" class="octicon octicon-stack color-fg-subtle mr-3">
    <path d="M11.063 1.456a1.749 1.749 0 0 1 1.874 0l8.383 5.316a1.751 1.751 0 0 1 0 2.956l-8.383 5.316a1.749 1.749 0 0 1-1.874 0L2.68 9.728a1.751 1.751 0 0 1 0-2.956Zm1.071 1.267a.25.25 0 0 0-.268 0L3.483 8.039a.25.25 0 0 0 0 .422l8.383 5.316a.25.25 0 0 0 .268 0l8.383-5.316a.25.25 0 0 0 0-.422Z"></path><path d="M1.867 12.324a.75.75 0 0 1 1.035-.232l8.964 5.685a.25.25 0 0 0 .268 0l8.964-5.685a.75.75 0 0 1 .804 1.267l-8.965 5.685a1.749 1.749 0 0 1-1.874 0l-8.965-5.685a.75.75 0 0 1-.231-1.035Z"></path><path d="M1.867 16.324a.75.75 0 0 1 1.035-.232l8.964 5.685a.25.25 0 0 0 .268 0l8.964-5.685a.75.75 0 0 1 .804 1.267l-8.965 5.685a1.749 1.749 0 0 1-1.874 0l-8.965-5.685a.75.75 0 0 1-.231-1.035Z"></path>
</svg>
      <div>
        <div class="color-fg-default h4">
          Enterprise platform

        </div>

        AI-powered developer platform
      </div>

    
</a></li>

                  </ul>
                </div>
                <div class="border-bottom border-bottom-0">

                      <span class="d-block h4 color-fg-default my-1" id="enterprise-available-add-ons-heading">Available add-ons</span>

                  <ul class="list-style-none f5" aria-labelledby="enterprise-available-add-ons-heading">
                      <li>
  <a class="HeaderMenu-dropdown-link d-block no-underline position-relative py-2 Link--secondary d-flex flex-items-center Link--has-description mb-lg-3" data-analytics-event="{&quot;location&quot;:&quot;navbar&quot;,&quot;action&quot;:&quot;github_advanced_security&quot;,&quot;context&quot;:&quot;enterprise&quot;,&quot;tag&quot;:&quot;link&quot;,&quot;label&quot;:&quot;github_advanced_security_link_enterprise_navbar&quot;}" href="https://github.com/security/advanced-security">
      <svg aria-hidden="true" height="24" viewBox="0 0 24 24" version="1.1" width="24" data-view-component="true" class="octicon octicon-shield-check color-fg-subtle mr-3">
    <path d="M16.53 9.78a.75.75 0 0 0-1.06-1.06L11 13.19l-1.97-1.97a.75.75 0 0 0-1.06 1.06l2.5 2.5a.75.75 0 0 0 1.06 0l5-5Z"></path><path d="m12.54.637 8.25 2.675A1.75 1.75 0 0 1 22 4.976V10c0 6.19-3.771 10.704-9.401 12.83a1.704 1.704 0 0 1-1.198 0C5.77 20.705 2 16.19 2 10V4.976c0-.758.489-1.43 1.21-1.664L11.46.637a1.748 1.748 0 0 1 1.08 0Zm-.617 1.426-8.25 2.676a.249.249 0 0 0-.173.237V10c0 5.46 3.28 9.483 8.43 11.426a.199.199 0 0 0 .14 0C17.22 19.483 20.5 15.461 20.5 10V4.976a.25.25 0 0 0-.173-.237l-8.25-2.676a.253.253 0 0 0-.154 0Z"></path>
</svg>
      <div>
        <div class="color-fg-default h4">
          GitHub Advanced Security

        </div>

        Enterprise-grade security features
      </div>

    
</a></li>

                      <li>
  <a class="HeaderMenu-dropdown-link d-block no-underline position-relative py-2 Link--secondary d-flex flex-items-center Link--has-description mb-lg-3" data-analytics-event="{&quot;location&quot;:&quot;navbar&quot;,&quot;action&quot;:&quot;copilot_for_business&quot;,&quot;context&quot;:&quot;enterprise&quot;,&quot;tag&quot;:&quot;link&quot;,&quot;label&quot;:&quot;copilot_for_business_link_enterprise_navbar&quot;}" href="/features/copilot/copilot-business">
      <svg aria-hidden="true" height="24" viewBox="0 0 24 24" version="1.1" width="24" data-view-component="true" class="octicon octicon-copilot color-fg-subtle mr-3">
    <path d="M23.922 16.992c-.861 1.495-5.859 5.023-11.922 5.023-6.063 0-11.061-3.528-11.922-5.023A.641.641 0 0 1 0 16.736v-2.869a.841.841 0 0 1 .053-.22c.372-.935 1.347-2.292 2.605-2.656.167-.429.414-1.055.644-1.517a10.195 10.195 0 0 1-.052-1.086c0-1.331.282-2.499 1.132-3.368.397-.406.89-.717 1.474-.952 1.399-1.136 3.392-2.093 6.122-2.093 2.731 0 4.767.957 6.166 2.093.584.235 1.077.546 1.474.952.85.869 1.132 2.037 1.132 3.368 0 .368-.014.733-.052 1.086.23.462.477 1.088.644 1.517 1.258.364 2.233 1.721 2.605 2.656a.832.832 0 0 1 .053.22v2.869a.641.641 0 0 1-.078.256ZM12.172 11h-.344a4.323 4.323 0 0 1-.355.508C10.703 12.455 9.555 13 7.965 13c-1.725 0-2.989-.359-3.782-1.259a2.005 2.005 0 0 1-.085-.104L4 11.741v6.585c1.435.779 4.514 2.179 8 2.179 3.486 0 6.565-1.4 8-2.179v-6.585l-.098-.104s-.033.045-.085.104c-.793.9-2.057 1.259-3.782 1.259-1.59 0-2.738-.545-3.508-1.492a4.323 4.323 0 0 1-.355-.508h-.016.016Zm.641-2.935c.136 1.057.403 1.913.878 2.497.442.544 1.134.938 2.344.938 1.573 0 2.292-.337 2.657-.751.384-.435.558-1.15.558-2.361 0-1.14-.243-1.847-.705-2.319-.477-.488-1.319-.862-2.824-1.025-1.487-.161-2.192.138-2.533.529-.269.307-.437.808-.438 1.578v.021c0 .265.021.562.063.893Zm-1.626 0c.042-.331.063-.628.063-.894v-.02c-.001-.77-.169-1.271-.438-1.578-.341-.391-1.046-.69-2.533-.529-1.505.163-2.347.537-2.824 1.025-.462.472-.705 1.179-.705 2.319 0 1.211.175 1.926.558 2.361.365.414 1.084.751 2.657.751 1.21 0 1.902-.394 2.344-.938.475-.584.742-1.44.878-2.497Z"></path><path d="M14.5 14.25a1 1 0 0 1 1 1v2a1 1 0 0 1-2 0v-2a1 1 0 0 1 1-1Zm-5 0a1 1 0 0 1 1 1v2a1 1 0 0 1-2 0v-2a1 1 0 0 1 1-1Z"></path>
</svg>
      <div>
        <div class="color-fg-default h4">
          Copilot for business

        </div>

        Enterprise-grade AI features
      </div>

    
</a></li>

                      <li>
  <a class="HeaderMenu-dropdown-link d-block no-underline position-relative py-2 Link--secondary d-flex flex-items-center Link--has-description" data-analytics-event="{&quot;location&quot;:&quot;navbar&quot;,&quot;action&quot;:&quot;premium_support&quot;,&quot;context&quot;:&quot;enterprise&quot;,&quot;tag&quot;:&quot;link&quot;,&quot;label&quot;:&quot;premium_support_link_enterprise_navbar&quot;}" href="/premium-support">
      <svg aria-hidden="true" height="24" viewBox="0 0 24 24" version="1.1" width="24" data-view-component="true" class="octicon octicon-comment-discussion color-fg-subtle mr-3">
    <path d="M1.75 1h12.5c.966 0 1.75.784 1.75 1.75v9.5A1.75 1.75 0 0 1 14.25 14H8.061l-2.574 2.573A1.458 1.458 0 0 1 3 15.543V14H1.75A1.75 1.75 0 0 1 0 12.25v-9.5C0 1.784.784 1 1.75 1ZM1.5 2.75v9.5c0 .138.112.25.25.25h2a.75.75 0 0 1 .75.75v2.19l2.72-2.72a.749.749 0 0 1 .53-.22h6.5a.25.25 0 0 0 .25-.25v-9.5a.25.25 0 0 0-.25-.25H1.75a.25.25 0 0 0-.25.25Z"></path><path d="M22.5 8.75a.25.25 0 0 0-.25-.25h-3.5a.75.75 0 0 1 0-1.5h3.5c.966 0 1.75.784 1.75 1.75v9.5A1.75 1.75 0 0 1 22.25 20H21v1.543a1.457 1.457 0 0 1-2.487 1.03L15.939 20H10.75A1.75 1.75 0 0 1 9 18.25v-1.465a.75.75 0 0 1 1.5 0v1.465c0 .138.112.25.25.25h5.5a.75.75 0 0 1 .53.22l2.72 2.72v-2.19a.75.75 0 0 1 .75-.75h2a.25.25 0 0 0 .25-.25v-9.5Z"></path>
</svg>
      <div>
        <div class="color-fg-default h4">
          Premium Support

        </div>

        Enterprise-grade 24/7 support
      </div>

    
</a></li>

                  </ul>
                </div>
            </div>
        </div>

      </div>
</li>


                  <li class="HeaderMenu-item position-relative flex-wrap flex-justify-between flex-items-center d-block d-lg-flex flex-lg-nowrap flex-lg-items-center js-details-container js-header-menu-item">
    <a class="HeaderMenu-link no-underline px-0 px-lg-2 py-3 py-lg-2 d-block d-lg-inline-block" data-analytics-event="{&quot;location&quot;:&quot;navbar&quot;,&quot;action&quot;:&quot;platform&quot;,&quot;context&quot;:&quot;global&quot;,&quot;tag&quot;:&quot;link&quot;,&quot;label&quot;:&quot;platform_link_global_navbar&quot;}" href="https://github.com/pricing">Pricing</a>
</li>

              </ul>
            </nav>

        <div class="d-flex flex-column flex-lg-row width-full flex-justify-end flex-lg-items-center text-center mt-3 mt-lg-0 text-lg-left ml-lg-3">
                


<qbsearch-input class="search-input" data-scope="repo:EngreitzLab/cNMF_benchmarking" data-custom-scopes-path="/search/custom_scopes" data-delete-custom-scopes-csrf="4-mkO94gWULGlVek8Vqs-5GjNNnd-k5xhWKG0E1xKsvE7520tKWca5CD4hrt8HGeRUeYh0xOb6-a0g8VbfFNjQ" data-max-custom-scopes="10" data-header-redesign-enabled="false" data-initial-value="" data-blackbird-suggestions-path="/search/suggestions" data-jump-to-suggestions-path="/_graphql/GetSuggestedNavigationDestinations" data-current-repository="EngreitzLab/cNMF_benchmarking" data-current-org="EngreitzLab" data-current-owner="" data-logged-in="false" data-copilot-chat-enabled="false" data-nl-search-enabled="false" data-retain-scroll-position="true">
  <div
    class="search-input-container search-with-dialog position-relative d-flex flex-row flex-items-center mr-4 rounded"
    data-action="click:qbsearch-input#searchInputContainerClicked"
  >
      <button
        type="button"
        class="header-search-button placeholder  input-button form-control d-flex flex-1 flex-self-stretch flex-items-center no-wrap width-full py-0 pl-2 pr-0 text-left border-0 box-shadow-none"
        data-target="qbsearch-input.inputButton"
        aria-label="Search or jump to…"
        aria-haspopup="dialog"
        placeholder="Search or jump to..."
        data-hotkey=s,/
        autocapitalize="off"
        data-analytics-event="{&quot;location&quot;:&quot;navbar&quot;,&quot;action&quot;:&quot;searchbar&quot;,&quot;context&quot;:&quot;global&quot;,&quot;tag&quot;:&quot;input&quot;,&quot;label&quot;:&quot;searchbar_input_global_navbar&quot;}"
        data-action="click:qbsearch-input#handleExpand"
      >
        <div class="mr-2 color-fg-muted">
          <svg aria-hidden="true" height="16" viewBox="0 0 16 16" version="1.1" width="16" data-view-component="true" class="octicon octicon-search">
    <path d="M10.68 11.74a6 6 0 0 1-7.922-8.982 6 6 0 0 1 8.982 7.922l3.04 3.04a.749.749 0 0 1-.326 1.275.749.749 0 0 1-.734-.215ZM11.5 7a4.499 4.499 0 1 0-8.997 0A4.499 4.499 0 0 0 11.5 7Z"></path>
</svg>
        </div>
        <span class="flex-1" data-target="qbsearch-input.inputButtonText">Search or jump to...</span>
          <div class="d-flex" data-target="qbsearch-input.hotkeyIndicator">
            <svg xmlns="http://www.w3.org/2000/svg" width="22" height="20" aria-hidden="true" class="mr-1"><path fill="none" stroke="#979A9C" opacity=".4" d="M3.5.5h12c1.7 0 3 1.3 3 3v13c0 1.7-1.3 3-3 3h-12c-1.7 0-3-1.3-3-3v-13c0-1.7 1.3-3 3-3z"></path><path fill="#979A9C" d="M11.8 6L8 15.1h-.9L10.8 6h1z"></path></svg>
          </div>
      </button>

    <input type="hidden" name="type" class="js-site-search-type-field">

    
<div class="Overlay--hidden " data-modal-dialog-overlay>
  <modal-dialog data-action="close:qbsearch-input#handleClose cancel:qbsearch-input#handleClose" data-target="qbsearch-input.searchSuggestionsDialog" role="dialog" id="search-suggestions-dialog" aria-modal="true" aria-labelledby="search-suggestions-dialog-header" data-view-component="true" class="Overlay Overlay--width-large Overlay--height-auto">
      <h1 id="search-suggestions-dialog-header" class="sr-only">Search code, repositories, users, issues, pull requests...</h1>
    <div class="Overlay-body Overlay-body--paddingNone">
      
          <div data-view-component="true">        <div class="search-suggestions position-fixed width-full color-shadow-large border color-fg-default color-bg-default overflow-hidden d-flex flex-column query-builder-container"
          style="border-radius: 12px;"
          data-target="qbsearch-input.queryBuilderContainer"
          hidden
        >
          <!-- '"` --><!-- </textarea></xmp> --></option></form><form id="query-builder-test-form" action="" accept-charset="UTF-8" method="get">
  <query-builder data-target="qbsearch-input.queryBuilder" id="query-builder-query-builder-test" data-filter-key=":" data-view-component="true" class="QueryBuilder search-query-builder">
    <div class="FormControl FormControl--fullWidth">
      <label id="query-builder-test-label" for="query-builder-test" class="FormControl-label sr-only">
        Search
      </label>
      <div
        class="QueryBuilder-StyledInput width-fit "
        data-target="query-builder.styledInput"
      >
          <span id="query-builder-test-leadingvisual-wrap" class="FormControl-input-leadingVisualWrap QueryBuilder-leadingVisualWrap">
            <svg aria-hidden="true" height="16" viewBox="0 0 16 16" version="1.1" width="16" data-view-component="true" class="octicon octicon-search FormControl-input-leadingVisual">
    <path d="M10.68 11.74a6 6 0 0 1-7.922-8.982 6 6 0 0 1 8.982 7.922l3.04 3.04a.749.749 0 0 1-.326 1.275.749.749 0 0 1-.734-.215ZM11.5 7a4.499 4.499 0 1 0-8.997 0A4.499 4.499 0 0 0 11.5 7Z"></path>
</svg>
          </span>
        <div data-target="query-builder.styledInputContainer" class="QueryBuilder-StyledInputContainer">
          <div
            aria-hidden="true"
            class="QueryBuilder-StyledInputContent"
            data-target="query-builder.styledInputContent"
          ></div>
          <div class="QueryBuilder-InputWrapper">
            <div aria-hidden="true" class="QueryBuilder-Sizer" data-target="query-builder.sizer"></div>
            <input id="query-builder-test" name="query-builder-test" value="" autocomplete="off" type="text" role="combobox" spellcheck="false" aria-expanded="false" aria-describedby="validation-24222b29-b169-4116-8cf6-9ba8d5159e38" data-target="query-builder.input" data-action="
          input:query-builder#inputChange
          blur:query-builder#inputBlur
          keydown:query-builder#inputKeydown
          focus:query-builder#inputFocus
        " data-view-component="true" class="FormControl-input QueryBuilder-Input FormControl-medium" />
          </div>
        </div>
          <span class="sr-only" id="query-builder-test-clear">Clear</span>
          <button role="button" id="query-builder-test-clear-button" aria-labelledby="query-builder-test-clear query-builder-test-label" data-target="query-builder.clearButton" data-action="
                click:query-builder#clear
                focus:query-builder#clearButtonFocus
                blur:query-builder#clearButtonBlur
              " variant="small" hidden="hidden" type="button" data-view-component="true" class="Button Button--iconOnly Button--invisible Button--medium mr-1 px-2 py-0 d-flex flex-items-center rounded-1 color-fg-muted">  <svg aria-hidden="true" height="16" viewBox="0 0 16 16" version="1.1" width="16" data-view-component="true" class="octicon octicon-x-circle-fill Button-visual">
    <path d="M2.343 13.657A8 8 0 1 1 13.658 2.343 8 8 0 0 1 2.343 13.657ZM6.03 4.97a.751.751 0 0 0-1.042.018.751.751 0 0 0-.018 1.042L6.94 8 4.97 9.97a.749.749 0 0 0 .326 1.275.749.749 0 0 0 .734-.215L8 9.06l1.97 1.97a.749.749 0 0 0 1.275-.326.749.749 0 0 0-.215-.734L9.06 8l1.97-1.97a.749.749 0 0 0-.326-1.275.749.749 0 0 0-.734.215L8 6.94Z"></path>
</svg>
</button>

      </div>
      <template id="search-icon">
  <svg aria-hidden="true" height="16" viewBox="0 0 16 16" version="1.1" width="16" data-view-component="true" class="octicon octicon-search">
    <path d="M10.68 11.74a6 6 0 0 1-7.922-8.982 6 6 0 0 1 8.982 7.922l3.04 3.04a.749.749 0 0 1-.326 1.275.749.749 0 0 1-.734-.215ZM11.5 7a4.499 4.499 0 1 0-8.997 0A4.499 4.499 0 0 0 11.5 7Z"></path>
</svg>
</template>

<template id="code-icon">
  <svg aria-hidden="true" height="16" viewBox="0 0 16 16" version="1.1" width="16" data-view-component="true" class="octicon octicon-code">
    <path d="m11.28 3.22 4.25 4.25a.75.75 0 0 1 0 1.06l-4.25 4.25a.749.749 0 0 1-1.275-.326.749.749 0 0 1 .215-.734L13.94 8l-3.72-3.72a.749.749 0 0 1 .326-1.275.749.749 0 0 1 .734.215Zm-6.56 0a.751.751 0 0 1 1.042.018.751.751 0 0 1 .018 1.042L2.06 8l3.72 3.72a.749.749 0 0 1-.326 1.275.749.749 0 0 1-.734-.215L.47 8.53a.75.75 0 0 1 0-1.06Z"></path>
</svg>
</template>

<template id="file-code-icon">
  <svg aria-hidden="true" height="16" viewBox="0 0 16 16" version="1.1" width="16" data-view-component="true" class="octicon octicon-file-code">
    <path d="M4 1.75C4 .784 4.784 0 5.75 0h5.586c.464 0 .909.184 1.237.513l2.914 2.914c.329.328.513.773.513 1.237v8.586A1.75 1.75 0 0 1 14.25 15h-9a.75.75 0 0 1 0-1.5h9a.25.25 0 0 0 .25-.25V6h-2.75A1.75 1.75 0 0 1 10 4.25V1.5H5.75a.25.25 0 0 0-.25.25v2.5a.75.75 0 0 1-1.5 0Zm1.72 4.97a.75.75 0 0 1 1.06 0l2 2a.75.75 0 0 1 0 1.06l-2 2a.749.749 0 0 1-1.275-.326.749.749 0 0 1 .215-.734l1.47-1.47-1.47-1.47a.75.75 0 0 1 0-1.06ZM3.28 7.78 1.81 9.25l1.47 1.47a.751.751 0 0 1-.018 1.042.751.751 0 0 1-1.042.018l-2-2a.75.75 0 0 1 0-1.06l2-2a.751.751 0 0 1 1.042.018.751.751 0 0 1 .018 1.042Zm8.22-6.218V4.25c0 .138.112.25.25.25h2.688l-.011-.013-2.914-2.914-.013-.011Z"></path>
</svg>
</template>

<template id="history-icon">
  <svg aria-hidden="true" height="16" viewBox="0 0 16 16" version="1.1" width="16" data-view-component="true" class="octicon octicon-history">
    <path d="m.427 1.927 1.215 1.215a8.002 8.002 0 1 1-1.6 5.685.75.75 0 1 1 1.493-.154 6.5 6.5 0 1 0 1.18-4.458l1.358 1.358A.25.25 0 0 1 3.896 6H.25A.25.25 0 0 1 0 5.75V2.104a.25.25 0 0 1 .427-.177ZM7.75 4a.75.75 0 0 1 .75.75v2.992l2.028.812a.75.75 0 0 1-.557 1.392l-2.5-1A.751.751 0 0 1 7 8.25v-3.5A.75.75 0 0 1 7.75 4Z"></path>
</svg>
</template>

<template id="repo-icon">
  <svg aria-hidden="true" height="16" viewBox="0 0 16 16" version="1.1" width="16" data-view-component="true" class="octicon octicon-repo">
    <path d="M2 2.5A2.5 2.5 0 0 1 4.5 0h8.75a.75.75 0 0 1 .75.75v12.5a.75.75 0 0 1-.75.75h-2.5a.75.75 0 0 1 0-1.5h1.75v-2h-8a1 1 0 0 0-.714 1.7.75.75 0 1 1-1.072 1.05A2.495 2.495 0 0 1 2 11.5Zm10.5-1h-8a1 1 0 0 0-1 1v6.708A2.486 2.486 0 0 1 4.5 9h8ZM5 12.25a.25.25 0 0 1 .25-.25h3.5a.25.25 0 0 1 .25.25v3.25a.25.25 0 0 1-.4.2l-1.45-1.087a.249.249 0 0 0-.3 0L5.4 15.7a.25.25 0 0 1-.4-.2Z"></path>
</svg>
</template>

<template id="bookmark-icon">
  <svg aria-hidden="true" height="16" viewBox="0 0 16 16" version="1.1" width="16" data-view-component="true" class="octicon octicon-bookmark">
    <path d="M3 2.75C3 1.784 3.784 1 4.75 1h6.5c.966 0 1.75.784 1.75 1.75v11.5a.75.75 0 0 1-1.227.579L8 11.722l-3.773 3.107A.751.751 0 0 1 3 14.25Zm1.75-.25a.25.25 0 0 0-.25.25v9.91l3.023-2.489a.75.75 0 0 1 .954 0l3.023 2.49V2.75a.25.25 0 0 0-.25-.25Z"></path>
</svg>
</template>

<template id="plus-circle-icon">
  <svg aria-hidden="true" height="16" viewBox="0 0 16 16" version="1.1" width="16" data-view-component="true" class="octicon octicon-plus-circle">
    <path d="M8 0a8 8 0 1 1 0 16A8 8 0 0 1 8 0ZM1.5 8a6.5 6.5 0 1 0 13 0 6.5 6.5 0 0 0-13 0Zm7.25-3.25v2.5h2.5a.75.75 0 0 1 0 1.5h-2.5v2.5a.75.75 0 0 1-1.5 0v-2.5h-2.5a.75.75 0 0 1 0-1.5h2.5v-2.5a.75.75 0 0 1 1.5 0Z"></path>
</svg>
</template>

<template id="circle-icon">
  <svg aria-hidden="true" height="16" viewBox="0 0 16 16" version="1.1" width="16" data-view-component="true" class="octicon octicon-dot-fill">
    <path d="M8 4a4 4 0 1 1 0 8 4 4 0 0 1 0-8Z"></path>
</svg>
</template>

<template id="trash-icon">
  <svg aria-hidden="true" height="16" viewBox="0 0 16 16" version="1.1" width="16" data-view-component="true" class="octicon octicon-trash">
    <path d="M11 1.75V3h2.25a.75.75 0 0 1 0 1.5H2.75a.75.75 0 0 1 0-1.5H5V1.75C5 .784 5.784 0 6.75 0h2.5C10.216 0 11 .784 11 1.75ZM4.496 6.675l.66 6.6a.25.25 0 0 0 .249.225h5.19a.25.25 0 0 0 .249-.225l.66-6.6a.75.75 0 0 1 1.492.149l-.66 6.6A1.748 1.748 0 0 1 10.595 15h-5.19a1.75 1.75 0 0 1-1.741-1.575l-.66-6.6a.75.75 0 1 1 1.492-.15ZM6.5 1.75V3h3V1.75a.25.25 0 0 0-.25-.25h-2.5a.25.25 0 0 0-.25.25Z"></path>
</svg>
</template>

<template id="team-icon">
  <svg aria-hidden="true" height="16" viewBox="0 0 16 16" version="1.1" width="16" data-view-component="true" class="octicon octicon-people">
    <path d="M2 5.5a3.5 3.5 0 1 1 5.898 2.549 5.508 5.508 0 0 1 3.034 4.084.75.75 0 1 1-1.482.235 4 4 0 0 0-7.9 0 .75.75 0 0 1-1.482-.236A5.507 5.507 0 0 1 3.102 8.05 3.493 3.493 0 0 1 2 5.5ZM11 4a3.001 3.001 0 0 1 2.22 5.018 5.01 5.01 0 0 1 2.56 3.012.749.749 0 0 1-.885.954.752.752 0 0 1-.549-.514 3.507 3.507 0 0 0-2.522-2.372.75.75 0 0 1-.574-.73v-.352a.75.75 0 0 1 .416-.672A1.5 1.5 0 0 0 11 5.5.75.75 0 0 1 11 4Zm-5.5-.5a2 2 0 1 0-.001 3.999A2 2 0 0 0 5.5 3.5Z"></path>
</svg>
</template>

<template id="project-icon">
  <svg aria-hidden="true" height="16" viewBox="0 0 16 16" version="1.1" width="16" data-view-component="true" class="octicon octicon-project">
    <path d="M1.75 0h12.5C15.216 0 16 .784 16 1.75v12.5A1.75 1.75 0 0 1 14.25 16H1.75A1.75 1.75 0 0 1 0 14.25V1.75C0 .784.784 0 1.75 0ZM1.5 1.75v12.5c0 .138.112.25.25.25h12.5a.25.25 0 0 0 .25-.25V1.75a.25.25 0 0 0-.25-.25H1.75a.25.25 0 0 0-.25.25ZM11.75 3a.75.75 0 0 1 .75.75v7.5a.75.75 0 0 1-1.5 0v-7.5a.75.75 0 0 1 .75-.75Zm-8.25.75a.75.75 0 0 1 1.5 0v5.5a.75.75 0 0 1-1.5 0ZM8 3a.75.75 0 0 1 .75.75v3.5a.75.75 0 0 1-1.5 0v-3.5A.75.75 0 0 1 8 3Z"></path>
</svg>
</template>

<template id="pencil-icon">
  <svg aria-hidden="true" height="16" viewBox="0 0 16 16" version="1.1" width="16" data-view-component="true" class="octicon octicon-pencil">
    <path d="M11.013 1.427a1.75 1.75 0 0 1 2.474 0l1.086 1.086a1.75 1.75 0 0 1 0 2.474l-8.61 8.61c-.21.21-.47.364-.756.445l-3.251.93a.75.75 0 0 1-.927-.928l.929-3.25c.081-.286.235-.547.445-.758l8.61-8.61Zm.176 4.823L9.75 4.81l-6.286 6.287a.253.253 0 0 0-.064.108l-.558 1.953 1.953-.558a.253.253 0 0 0 .108-.064Zm1.238-3.763a.25.25 0 0 0-.354 0L10.811 3.75l1.439 1.44 1.263-1.263a.25.25 0 0 0 0-.354Z"></path>
</svg>
</template>

<template id="copilot-icon">
  <svg aria-hidden="true" height="16" viewBox="0 0 16 16" version="1.1" width="16" data-view-component="true" class="octicon octicon-copilot">
    <path d="M7.998 15.035c-4.562 0-7.873-2.914-7.998-3.749V9.338c.085-.628.677-1.686 1.588-2.065.013-.07.024-.143.036-.218.029-.183.06-.384.126-.612-.201-.508-.254-1.084-.254-1.656 0-.87.128-1.769.693-2.484.579-.733 1.494-1.124 2.724-1.261 1.206-.134 2.262.034 2.944.765.05.053.096.108.139.165.044-.057.094-.112.143-.165.682-.731 1.738-.899 2.944-.765 1.23.137 2.145.528 2.724 1.261.566.715.693 1.614.693 2.484 0 .572-.053 1.148-.254 1.656.066.228.098.429.126.612.012.076.024.148.037.218.924.385 1.522 1.471 1.591 2.095v1.872c0 .766-3.351 3.795-8.002 3.795Zm0-1.485c2.28 0 4.584-1.11 5.002-1.433V7.862l-.023-.116c-.49.21-1.075.291-1.727.291-1.146 0-2.059-.327-2.71-.991A3.222 3.222 0 0 1 8 6.303a3.24 3.24 0 0 1-.544.743c-.65.664-1.563.991-2.71.991-.652 0-1.236-.081-1.727-.291l-.023.116v4.255c.419.323 2.722 1.433 5.002 1.433ZM6.762 2.83c-.193-.206-.637-.413-1.682-.297-1.019.113-1.479.404-1.713.7-.247.312-.369.789-.369 1.554 0 .793.129 1.171.308 1.371.162.181.519.379 1.442.379.853 0 1.339-.235 1.638-.54.315-.322.527-.827.617-1.553.117-.935-.037-1.395-.241-1.614Zm4.155-.297c-1.044-.116-1.488.091-1.681.297-.204.219-.359.679-.242 1.614.091.726.303 1.231.618 1.553.299.305.784.54 1.638.54.922 0 1.28-.198 1.442-.379.179-.2.308-.578.308-1.371 0-.765-.123-1.242-.37-1.554-.233-.296-.693-.587-1.713-.7Z"></path><path d="M6.25 9.037a.75.75 0 0 1 .75.75v1.501a.75.75 0 0 1-1.5 0V9.787a.75.75 0 0 1 .75-.75Zm4.25.75v1.501a.75.75 0 0 1-1.5 0V9.787a.75.75 0 0 1 1.5 0Z"></path>
</svg>
</template>

<template id="copilot-error-icon">
  <svg aria-hidden="true" height="16" viewBox="0 0 16 16" version="1.1" width="16" data-view-component="true" class="octicon octicon-copilot-error">
    <path d="M16 11.24c0 .112-.072.274-.21.467L13 9.688V7.862l-.023-.116c-.49.21-1.075.291-1.727.291-.198 0-.388-.009-.571-.029L6.833 5.226a4.01 4.01 0 0 0 .17-.782c.117-.935-.037-1.395-.241-1.614-.193-.206-.637-.413-1.682-.297-.683.076-1.115.231-1.395.415l-1.257-.91c.579-.564 1.413-.877 2.485-.996 1.206-.134 2.262.034 2.944.765.05.053.096.108.139.165.044-.057.094-.112.143-.165.682-.731 1.738-.899 2.944-.765 1.23.137 2.145.528 2.724 1.261.566.715.693 1.614.693 2.484 0 .572-.053 1.148-.254 1.656.066.228.098.429.126.612.012.076.024.148.037.218.924.385 1.522 1.471 1.591 2.095Zm-5.083-8.707c-1.044-.116-1.488.091-1.681.297-.204.219-.359.679-.242 1.614.091.726.303 1.231.618 1.553.299.305.784.54 1.638.54.922 0 1.28-.198 1.442-.379.179-.2.308-.578.308-1.371 0-.765-.123-1.242-.37-1.554-.233-.296-.693-.587-1.713-.7Zm2.511 11.074c-1.393.776-3.272 1.428-5.43 1.428-4.562 0-7.873-2.914-7.998-3.749V9.338c.085-.628.677-1.686 1.588-2.065.013-.07.024-.143.036-.218.029-.183.06-.384.126-.612-.18-.455-.241-.963-.252-1.475L.31 4.107A.747.747 0 0 1 0 3.509V3.49a.748.748 0 0 1 .625-.73c.156-.026.306.047.435.139l14.667 10.578a.592.592 0 0 1 .227.264.752.752 0 0 1 .046.249v.022a.75.75 0 0 1-1.19.596Zm-1.367-.991L5.635 7.964a5.128 5.128 0 0 1-.889.073c-.652 0-1.236-.081-1.727-.291l-.023.116v4.255c.419.323 2.722 1.433 5.002 1.433 1.539 0 3.089-.505 4.063-.934Z"></path>
</svg>
</template>

<template id="workflow-icon">
  <svg aria-hidden="true" height="16" viewBox="0 0 16 16" version="1.1" width="16" data-view-component="true" class="octicon octicon-workflow">
    <path d="M0 1.75C0 .784.784 0 1.75 0h3.5C6.216 0 7 .784 7 1.75v3.5A1.75 1.75 0 0 1 5.25 7H4v4a1 1 0 0 0 1 1h4v-1.25C9 9.784 9.784 9 10.75 9h3.5c.966 0 1.75.784 1.75 1.75v3.5A1.75 1.75 0 0 1 14.25 16h-3.5A1.75 1.75 0 0 1 9 14.25v-.75H5A2.5 2.5 0 0 1 2.5 11V7h-.75A1.75 1.75 0 0 1 0 5.25Zm1.75-.25a.25.25 0 0 0-.25.25v3.5c0 .138.112.25.25.25h3.5a.25.25 0 0 0 .25-.25v-3.5a.25.25 0 0 0-.25-.25Zm9 9a.25.25 0 0 0-.25.25v3.5c0 .138.112.25.25.25h3.5a.25.25 0 0 0 .25-.25v-3.5a.25.25 0 0 0-.25-.25Z"></path>
</svg>
</template>

<template id="book-icon">
  <svg aria-hidden="true" height="16" viewBox="0 0 16 16" version="1.1" width="16" data-view-component="true" class="octicon octicon-book">
    <path d="M0 1.75A.75.75 0 0 1 .75 1h4.253c1.227 0 2.317.59 3 1.501A3.743 3.743 0 0 1 11.006 1h4.245a.75.75 0 0 1 .75.75v10.5a.75.75 0 0 1-.75.75h-4.507a2.25 2.25 0 0 0-1.591.659l-.622.621a.75.75 0 0 1-1.06 0l-.622-.621A2.25 2.25 0 0 0 5.258 13H.75a.75.75 0 0 1-.75-.75Zm7.251 10.324.004-5.073-.002-2.253A2.25 2.25 0 0 0 5.003 2.5H1.5v9h3.757a3.75 3.75 0 0 1 1.994.574ZM8.755 4.75l-.004 7.322a3.752 3.752 0 0 1 1.992-.572H14.5v-9h-3.495a2.25 2.25 0 0 0-2.25 2.25Z"></path>
</svg>
</template>

<template id="code-review-icon">
  <svg aria-hidden="true" height="16" viewBox="0 0 16 16" version="1.1" width="16" data-view-component="true" class="octicon octicon-code-review">
    <path d="M1.75 1h12.5c.966 0 1.75.784 1.75 1.75v8.5A1.75 1.75 0 0 1 14.25 13H8.061l-2.574 2.573A1.458 1.458 0 0 1 3 14.543V13H1.75A1.75 1.75 0 0 1 0 11.25v-8.5C0 1.784.784 1 1.75 1ZM1.5 2.75v8.5c0 .138.112.25.25.25h2a.75.75 0 0 1 .75.75v2.19l2.72-2.72a.749.749 0 0 1 .53-.22h6.5a.25.25 0 0 0 .25-.25v-8.5a.25.25 0 0 0-.25-.25H1.75a.25.25 0 0 0-.25.25Zm5.28 1.72a.75.75 0 0 1 0 1.06L5.31 7l1.47 1.47a.751.751 0 0 1-.018 1.042.751.751 0 0 1-1.042.018l-2-2a.75.75 0 0 1 0-1.06l2-2a.75.75 0 0 1 1.06 0Zm2.44 0a.75.75 0 0 1 1.06 0l2 2a.75.75 0 0 1 0 1.06l-2 2a.751.751 0 0 1-1.042-.018.751.751 0 0 1-.018-1.042L10.69 7 9.22 5.53a.75.75 0 0 1 0-1.06Z"></path>
</svg>
</template>

<template id="codespaces-icon">
  <svg aria-hidden="true" height="16" viewBox="0 0 16 16" version="1.1" width="16" data-view-component="true" class="octicon octicon-codespaces">
    <path d="M0 11.25c0-.966.784-1.75 1.75-1.75h12.5c.966 0 1.75.784 1.75 1.75v3A1.75 1.75 0 0 1 14.25 16H1.75A1.75 1.75 0 0 1 0 14.25Zm2-9.5C2 .784 2.784 0 3.75 0h8.5C13.216 0 14 .784 14 1.75v5a1.75 1.75 0 0 1-1.75 1.75h-8.5A1.75 1.75 0 0 1 2 6.75Zm1.75-.25a.25.25 0 0 0-.25.25v5c0 .138.112.25.25.25h8.5a.25.25 0 0 0 .25-.25v-5a.25.25 0 0 0-.25-.25Zm-2 9.5a.25.25 0 0 0-.25.25v3c0 .138.112.25.25.25h12.5a.25.25 0 0 0 .25-.25v-3a.25.25 0 0 0-.25-.25Z"></path><path d="M7 12.75a.75.75 0 0 1 .75-.75h4.5a.75.75 0 0 1 0 1.5h-4.5a.75.75 0 0 1-.75-.75Zm-4 0a.75.75 0 0 1 .75-.75h.5a.75.75 0 0 1 0 1.5h-.5a.75.75 0 0 1-.75-.75Z"></path>
</svg>
</template>

<template id="comment-icon">
  <svg aria-hidden="true" height="16" viewBox="0 0 16 16" version="1.1" width="16" data-view-component="true" class="octicon octicon-comment">
    <path d="M1 2.75C1 1.784 1.784 1 2.75 1h10.5c.966 0 1.75.784 1.75 1.75v7.5A1.75 1.75 0 0 1 13.25 12H9.06l-2.573 2.573A1.458 1.458 0 0 1 4 13.543V12H2.75A1.75 1.75 0 0 1 1 10.25Zm1.75-.25a.25.25 0 0 0-.25.25v7.5c0 .138.112.25.25.25h2a.75.75 0 0 1 .75.75v2.19l2.72-2.72a.749.749 0 0 1 .53-.22h4.5a.25.25 0 0 0 .25-.25v-7.5a.25.25 0 0 0-.25-.25Z"></path>
</svg>
</template>

<template id="comment-discussion-icon">
  <svg aria-hidden="true" height="16" viewBox="0 0 16 16" version="1.1" width="16" data-view-component="true" class="octicon octicon-comment-discussion">
    <path d="M1.75 1h8.5c.966 0 1.75.784 1.75 1.75v5.5A1.75 1.75 0 0 1 10.25 10H7.061l-2.574 2.573A1.458 1.458 0 0 1 2 11.543V10h-.25A1.75 1.75 0 0 1 0 8.25v-5.5C0 1.784.784 1 1.75 1ZM1.5 2.75v5.5c0 .138.112.25.25.25h1a.75.75 0 0 1 .75.75v2.19l2.72-2.72a.749.749 0 0 1 .53-.22h3.5a.25.25 0 0 0 .25-.25v-5.5a.25.25 0 0 0-.25-.25h-8.5a.25.25 0 0 0-.25.25Zm13 2a.25.25 0 0 0-.25-.25h-.5a.75.75 0 0 1 0-1.5h.5c.966 0 1.75.784 1.75 1.75v5.5A1.75 1.75 0 0 1 14.25 12H14v1.543a1.458 1.458 0 0 1-2.487 1.03L9.22 12.28a.749.749 0 0 1 .326-1.275.749.749 0 0 1 .734.215l2.22 2.22v-2.19a.75.75 0 0 1 .75-.75h1a.25.25 0 0 0 .25-.25Z"></path>
</svg>
</template>

<template id="organization-icon">
  <svg aria-hidden="true" height="16" viewBox="0 0 16 16" version="1.1" width="16" data-view-component="true" class="octicon octicon-organization">
    <path d="M1.75 16A1.75 1.75 0 0 1 0 14.25V1.75C0 .784.784 0 1.75 0h8.5C11.216 0 12 .784 12 1.75v12.5c0 .085-.006.168-.018.25h2.268a.25.25 0 0 0 .25-.25V8.285a.25.25 0 0 0-.111-.208l-1.055-.703a.749.749 0 1 1 .832-1.248l1.055.703c.487.325.779.871.779 1.456v5.965A1.75 1.75 0 0 1 14.25 16h-3.5a.766.766 0 0 1-.197-.026c-.099.017-.2.026-.303.026h-3a.75.75 0 0 1-.75-.75V14h-1v1.25a.75.75 0 0 1-.75.75Zm-.25-1.75c0 .138.112.25.25.25H4v-1.25a.75.75 0 0 1 .75-.75h2.5a.75.75 0 0 1 .75.75v1.25h2.25a.25.25 0 0 0 .25-.25V1.75a.25.25 0 0 0-.25-.25h-8.5a.25.25 0 0 0-.25.25ZM3.75 6h.5a.75.75 0 0 1 0 1.5h-.5a.75.75 0 0 1 0-1.5ZM3 3.75A.75.75 0 0 1 3.75 3h.5a.75.75 0 0 1 0 1.5h-.5A.75.75 0 0 1 3 3.75Zm4 3A.75.75 0 0 1 7.75 6h.5a.75.75 0 0 1 0 1.5h-.5A.75.75 0 0 1 7 6.75ZM7.75 3h.5a.75.75 0 0 1 0 1.5h-.5a.75.75 0 0 1 0-1.5ZM3 9.75A.75.75 0 0 1 3.75 9h.5a.75.75 0 0 1 0 1.5h-.5A.75.75 0 0 1 3 9.75ZM7.75 9h.5a.75.75 0 0 1 0 1.5h-.5a.75.75 0 0 1 0-1.5Z"></path>
</svg>
</template>

<template id="rocket-icon">
  <svg aria-hidden="true" height="16" viewBox="0 0 16 16" version="1.1" width="16" data-view-component="true" class="octicon octicon-rocket">
    <path d="M14.064 0h.186C15.216 0 16 .784 16 1.75v.186a8.752 8.752 0 0 1-2.564 6.186l-.458.459c-.314.314-.641.616-.979.904v3.207c0 .608-.315 1.172-.833 1.49l-2.774 1.707a.749.749 0 0 1-1.11-.418l-.954-3.102a1.214 1.214 0 0 1-.145-.125L3.754 9.816a1.218 1.218 0 0 1-.124-.145L.528 8.717a.749.749 0 0 1-.418-1.11l1.71-2.774A1.748 1.748 0 0 1 3.31 4h3.204c.288-.338.59-.665.904-.979l.459-.458A8.749 8.749 0 0 1 14.064 0ZM8.938 3.623h-.002l-.458.458c-.76.76-1.437 1.598-2.02 2.5l-1.5 2.317 2.143 2.143 2.317-1.5c.902-.583 1.74-1.26 2.499-2.02l.459-.458a7.25 7.25 0 0 0 2.123-5.127V1.75a.25.25 0 0 0-.25-.25h-.186a7.249 7.249 0 0 0-5.125 2.123ZM3.56 14.56c-.732.732-2.334 1.045-3.005 1.148a.234.234 0 0 1-.201-.064.234.234 0 0 1-.064-.201c.103-.671.416-2.273 1.15-3.003a1.502 1.502 0 1 1 2.12 2.12Zm6.94-3.935c-.088.06-.177.118-.266.175l-2.35 1.521.548 1.783 1.949-1.2a.25.25 0 0 0 .119-.213ZM3.678 8.116 5.2 5.766c.058-.09.117-.178.176-.266H3.309a.25.25 0 0 0-.213.119l-1.2 1.95ZM12 5a1 1 0 1 1-2 0 1 1 0 0 1 2 0Z"></path>
</svg>
</template>

<template id="shield-check-icon">
  <svg aria-hidden="true" height="16" viewBox="0 0 16 16" version="1.1" width="16" data-view-component="true" class="octicon octicon-shield-check">
    <path d="m8.533.133 5.25 1.68A1.75 1.75 0 0 1 15 3.48V7c0 1.566-.32 3.182-1.303 4.682-.983 1.498-2.585 2.813-5.032 3.855a1.697 1.697 0 0 1-1.33 0c-2.447-1.042-4.049-2.357-5.032-3.855C1.32 10.182 1 8.566 1 7V3.48a1.75 1.75 0 0 1 1.217-1.667l5.25-1.68a1.748 1.748 0 0 1 1.066 0Zm-.61 1.429.001.001-5.25 1.68a.251.251 0 0 0-.174.237V7c0 1.36.275 2.666 1.057 3.859.784 1.194 2.121 2.342 4.366 3.298a.196.196 0 0 0 .154 0c2.245-.957 3.582-2.103 4.366-3.297C13.225 9.666 13.5 8.358 13.5 7V3.48a.25.25 0 0 0-.174-.238l-5.25-1.68a.25.25 0 0 0-.153 0ZM11.28 6.28l-3.5 3.5a.75.75 0 0 1-1.06 0l-1.5-1.5a.749.749 0 0 1 .326-1.275.749.749 0 0 1 .734.215l.97.97 2.97-2.97a.751.751 0 0 1 1.042.018.751.751 0 0 1 .018 1.042Z"></path>
</svg>
</template>

<template id="heart-icon">
  <svg aria-hidden="true" height="16" viewBox="0 0 16 16" version="1.1" width="16" data-view-component="true" class="octicon octicon-heart">
    <path d="m8 14.25.345.666a.75.75 0 0 1-.69 0l-.008-.004-.018-.01a7.152 7.152 0 0 1-.31-.17 22.055 22.055 0 0 1-3.434-2.414C2.045 10.731 0 8.35 0 5.5 0 2.836 2.086 1 4.25 1 5.797 1 7.153 1.802 8 3.02 8.847 1.802 10.203 1 11.75 1 13.914 1 16 2.836 16 5.5c0 2.85-2.045 5.231-3.885 6.818a22.066 22.066 0 0 1-3.744 2.584l-.018.01-.006.003h-.002ZM4.25 2.5c-1.336 0-2.75 1.164-2.75 3 0 2.15 1.58 4.144 3.365 5.682A20.58 20.58 0 0 0 8 13.393a20.58 20.58 0 0 0 3.135-2.211C12.92 9.644 14.5 7.65 14.5 5.5c0-1.836-1.414-3-2.75-3-1.373 0-2.609.986-3.029 2.456a.749.749 0 0 1-1.442 0C6.859 3.486 5.623 2.5 4.25 2.5Z"></path>
</svg>
</template>

<template id="server-icon">
  <svg aria-hidden="true" height="16" viewBox="0 0 16 16" version="1.1" width="16" data-view-component="true" class="octicon octicon-server">
    <path d="M1.75 1h12.5c.966 0 1.75.784 1.75 1.75v4c0 .372-.116.717-.314 1 .198.283.314.628.314 1v4a1.75 1.75 0 0 1-1.75 1.75H1.75A1.75 1.75 0 0 1 0 12.75v-4c0-.358.109-.707.314-1a1.739 1.739 0 0 1-.314-1v-4C0 1.784.784 1 1.75 1ZM1.5 2.75v4c0 .138.112.25.25.25h12.5a.25.25 0 0 0 .25-.25v-4a.25.25 0 0 0-.25-.25H1.75a.25.25 0 0 0-.25.25Zm.25 5.75a.25.25 0 0 0-.25.25v4c0 .138.112.25.25.25h12.5a.25.25 0 0 0 .25-.25v-4a.25.25 0 0 0-.25-.25ZM7 4.75A.75.75 0 0 1 7.75 4h4.5a.75.75 0 0 1 0 1.5h-4.5A.75.75 0 0 1 7 4.75ZM7.75 10h4.5a.75.75 0 0 1 0 1.5h-4.5a.75.75 0 0 1 0-1.5ZM3 4.75A.75.75 0 0 1 3.75 4h.5a.75.75 0 0 1 0 1.5h-.5A.75.75 0 0 1 3 4.75ZM3.75 10h.5a.75.75 0 0 1 0 1.5h-.5a.75.75 0 0 1 0-1.5Z"></path>
</svg>
</template>

<template id="globe-icon">
  <svg aria-hidden="true" height="16" viewBox="0 0 16 16" version="1.1" width="16" data-view-component="true" class="octicon octicon-globe">
    <path d="M8 0a8 8 0 1 1 0 16A8 8 0 0 1 8 0ZM5.78 8.75a9.64 9.64 0 0 0 1.363 4.177c.255.426.542.832.857 1.215.245-.296.551-.705.857-1.215A9.64 9.64 0 0 0 10.22 8.75Zm4.44-1.5a9.64 9.64 0 0 0-1.363-4.177c-.307-.51-.612-.919-.857-1.215a9.927 9.927 0 0 0-.857 1.215A9.64 9.64 0 0 0 5.78 7.25Zm-5.944 1.5H1.543a6.507 6.507 0 0 0 4.666 5.5c-.123-.181-.24-.365-.352-.552-.715-1.192-1.437-2.874-1.581-4.948Zm-2.733-1.5h2.733c.144-2.074.866-3.756 1.58-4.948.12-.197.237-.381.353-.552a6.507 6.507 0 0 0-4.666 5.5Zm10.181 1.5c-.144 2.074-.866 3.756-1.58 4.948-.12.197-.237.381-.353.552a6.507 6.507 0 0 0 4.666-5.5Zm2.733-1.5a6.507 6.507 0 0 0-4.666-5.5c.123.181.24.365.353.552.714 1.192 1.436 2.874 1.58 4.948Z"></path>
</svg>
</template>

<template id="issue-opened-icon">
  <svg aria-hidden="true" height="16" viewBox="0 0 16 16" version="1.1" width="16" data-view-component="true" class="octicon octicon-issue-opened">
    <path d="M8 9.5a1.5 1.5 0 1 0 0-3 1.5 1.5 0 0 0 0 3Z"></path><path d="M8 0a8 8 0 1 1 0 16A8 8 0 0 1 8 0ZM1.5 8a6.5 6.5 0 1 0 13 0 6.5 6.5 0 0 0-13 0Z"></path>
</svg>
</template>

<template id="device-mobile-icon">
  <svg aria-hidden="true" height="16" viewBox="0 0 16 16" version="1.1" width="16" data-view-component="true" class="octicon octicon-device-mobile">
    <path d="M3.75 0h8.5C13.216 0 14 .784 14 1.75v12.5A1.75 1.75 0 0 1 12.25 16h-8.5A1.75 1.75 0 0 1 2 14.25V1.75C2 .784 2.784 0 3.75 0ZM3.5 1.75v12.5c0 .138.112.25.25.25h8.5a.25.25 0 0 0 .25-.25V1.75a.25.25 0 0 0-.25-.25h-8.5a.25.25 0 0 0-.25.25ZM8 13a1 1 0 1 1 0-2 1 1 0 0 1 0 2Z"></path>
</svg>
</template>

<template id="package-icon">
  <svg aria-hidden="true" height="16" viewBox="0 0 16 16" version="1.1" width="16" data-view-component="true" class="octicon octicon-package">
    <path d="m8.878.392 5.25 3.045c.54.314.872.89.872 1.514v6.098a1.75 1.75 0 0 1-.872 1.514l-5.25 3.045a1.75 1.75 0 0 1-1.756 0l-5.25-3.045A1.75 1.75 0 0 1 1 11.049V4.951c0-.624.332-1.201.872-1.514L7.122.392a1.75 1.75 0 0 1 1.756 0ZM7.875 1.69l-4.63 2.685L8 7.133l4.755-2.758-4.63-2.685a.248.248 0 0 0-.25 0ZM2.5 5.677v5.372c0 .09.047.171.125.216l4.625 2.683V8.432Zm6.25 8.271 4.625-2.683a.25.25 0 0 0 .125-.216V5.677L8.75 8.432Z"></path>
</svg>
</template>

<template id="credit-card-icon">
  <svg aria-hidden="true" height="16" viewBox="0 0 16 16" version="1.1" width="16" data-view-component="true" class="octicon octicon-credit-card">
    <path d="M10.75 9a.75.75 0 0 0 0 1.5h1.5a.75.75 0 0 0 0-1.5h-1.5Z"></path><path d="M0 3.75C0 2.784.784 2 1.75 2h12.5c.966 0 1.75.784 1.75 1.75v8.5A1.75 1.75 0 0 1 14.25 14H1.75A1.75 1.75 0 0 1 0 12.25ZM14.5 6.5h-13v5.75c0 .138.112.25.25.25h12.5a.25.25 0 0 0 .25-.25Zm0-2.75a.25.25 0 0 0-.25-.25H1.75a.25.25 0 0 0-.25.25V5h13Z"></path>
</svg>
</template>

<template id="play-icon">
  <svg aria-hidden="true" height="16" viewBox="0 0 16 16" version="1.1" width="16" data-view-component="true" class="octicon octicon-play">
    <path d="M8 0a8 8 0 1 1 0 16A8 8 0 0 1 8 0ZM1.5 8a6.5 6.5 0 1 0 13 0 6.5 6.5 0 0 0-13 0Zm4.879-2.773 4.264 2.559a.25.25 0 0 1 0 .428l-4.264 2.559A.25.25 0 0 1 6 10.559V5.442a.25.25 0 0 1 .379-.215Z"></path>
</svg>
</template>

<template id="gift-icon">
  <svg aria-hidden="true" height="16" viewBox="0 0 16 16" version="1.1" width="16" data-view-component="true" class="octicon octicon-gift">
    <path d="M2 2.75A2.75 2.75 0 0 1 4.75 0c.983 0 1.873.42 2.57 1.232.268.318.497.668.68 1.042.183-.375.411-.725.68-1.044C9.376.42 10.266 0 11.25 0a2.75 2.75 0 0 1 2.45 4h.55c.966 0 1.75.784 1.75 1.75v2c0 .698-.409 1.301-1 1.582v4.918A1.75 1.75 0 0 1 13.25 16H2.75A1.75 1.75 0 0 1 1 14.25V9.332C.409 9.05 0 8.448 0 7.75v-2C0 4.784.784 4 1.75 4h.55c-.192-.375-.3-.8-.3-1.25ZM7.25 9.5H2.5v4.75c0 .138.112.25.25.25h4.5Zm1.5 0v5h4.5a.25.25 0 0 0 .25-.25V9.5Zm0-4V8h5.5a.25.25 0 0 0 .25-.25v-2a.25.25 0 0 0-.25-.25Zm-7 0a.25.25 0 0 0-.25.25v2c0 .138.112.25.25.25h5.5V5.5h-5.5Zm3-4a1.25 1.25 0 0 0 0 2.5h2.309c-.233-.818-.542-1.401-.878-1.793-.43-.502-.915-.707-1.431-.707ZM8.941 4h2.309a1.25 1.25 0 0 0 0-2.5c-.516 0-1 .205-1.43.707-.337.392-.646.975-.879 1.793Z"></path>
</svg>
</template>

<template id="code-square-icon">
  <svg aria-hidden="true" height="16" viewBox="0 0 16 16" version="1.1" width="16" data-view-component="true" class="octicon octicon-code-square">
    <path d="M0 1.75C0 .784.784 0 1.75 0h12.5C15.216 0 16 .784 16 1.75v12.5A1.75 1.75 0 0 1 14.25 16H1.75A1.75 1.75 0 0 1 0 14.25Zm1.75-.25a.25.25 0 0 0-.25.25v12.5c0 .138.112.25.25.25h12.5a.25.25 0 0 0 .25-.25V1.75a.25.25 0 0 0-.25-.25Zm7.47 3.97a.75.75 0 0 1 1.06 0l2 2a.75.75 0 0 1 0 1.06l-2 2a.749.749 0 0 1-1.275-.326.749.749 0 0 1 .215-.734L10.69 8 9.22 6.53a.75.75 0 0 1 0-1.06ZM6.78 6.53 5.31 8l1.47 1.47a.749.749 0 0 1-.326 1.275.749.749 0 0 1-.734-.215l-2-2a.75.75 0 0 1 0-1.06l2-2a.751.751 0 0 1 1.042.018.751.751 0 0 1 .018 1.042Z"></path>
</svg>
</template>

<template id="device-desktop-icon">
  <svg aria-hidden="true" height="16" viewBox="0 0 16 16" version="1.1" width="16" data-view-component="true" class="octicon octicon-device-desktop">
    <path d="M14.25 1c.966 0 1.75.784 1.75 1.75v7.5A1.75 1.75 0 0 1 14.25 12h-3.727c.099 1.041.52 1.872 1.292 2.757A.752.752 0 0 1 11.25 16h-6.5a.75.75 0 0 1-.565-1.243c.772-.885 1.192-1.716 1.292-2.757H1.75A1.75 1.75 0 0 1 0 10.25v-7.5C0 1.784.784 1 1.75 1ZM1.75 2.5a.25.25 0 0 0-.25.25v7.5c0 .138.112.25.25.25h12.5a.25.25 0 0 0 .25-.25v-7.5a.25.25 0 0 0-.25-.25ZM9.018 12H6.982a5.72 5.72 0 0 1-.765 2.5h3.566a5.72 5.72 0 0 1-.765-2.5Z"></path>
</svg>
</template>

        <div class="position-relative">
                <ul
                  role="listbox"
                  class="ActionListWrap QueryBuilder-ListWrap"
                  aria-label="Suggestions"
                  data-action="
                    combobox-commit:query-builder#comboboxCommit
                    mousedown:query-builder#resultsMousedown
                  "
                  data-target="query-builder.resultsList"
                  data-persist-list=false
                  id="query-builder-test-results"
                  tabindex="-1"
                ></ul>
        </div>
      <div class="FormControl-inlineValidation" id="validation-24222b29-b169-4116-8cf6-9ba8d5159e38" hidden="hidden">
        <span class="FormControl-inlineValidation--visual">
          <svg aria-hidden="true" height="12" viewBox="0 0 12 12" version="1.1" width="12" data-view-component="true" class="octicon octicon-alert-fill">
    <path d="M4.855.708c.5-.896 1.79-.896 2.29 0l4.675 8.351a1.312 1.312 0 0 1-1.146 1.954H1.33A1.313 1.313 0 0 1 .183 9.058ZM7 7V3H5v4Zm-1 3a1 1 0 1 0 0-2 1 1 0 0 0 0 2Z"></path>
</svg>
        </span>
        <span></span>
</div>    </div>
    <div data-target="query-builder.screenReaderFeedback" aria-live="polite" aria-atomic="true" class="sr-only"></div>
</query-builder></form>
          <div class="d-flex flex-row color-fg-muted px-3 text-small color-bg-default search-feedback-prompt">
            <a target="_blank" href="https://docs.github.com/search-github/github-code-search/understanding-github-code-search-syntax" data-view-component="true" class="Link color-fg-accent text-normal ml-2">Search syntax tips</a>            <div class="d-flex flex-1"></div>
          </div>
        </div>
</div>

    </div>
</modal-dialog></div>
  </div>
  <div data-action="click:qbsearch-input#retract" class="dark-backdrop position-fixed" hidden data-target="qbsearch-input.darkBackdrop"></div>
  <div class="color-fg-default">
    
<dialog-helper>
  <dialog data-target="qbsearch-input.feedbackDialog" data-action="close:qbsearch-input#handleDialogClose cancel:qbsearch-input#handleDialogClose" id="feedback-dialog" aria-modal="true" aria-labelledby="feedback-dialog-title" aria-describedby="feedback-dialog-description" data-view-component="true" class="Overlay Overlay-whenNarrow Overlay--size-medium Overlay--motion-scaleFade Overlay--disableScroll">
    <div data-view-component="true" class="Overlay-header">
  <div class="Overlay-headerContentWrap">
    <div class="Overlay-titleWrap">
      <h1 class="Overlay-title " id="feedback-dialog-title">
        Provide feedback
      </h1>
        
    </div>
    <div class="Overlay-actionWrap">
      <button data-close-dialog-id="feedback-dialog" aria-label="Close" aria-label="Close" type="button" data-view-component="true" class="close-button Overlay-closeButton"><svg aria-hidden="true" height="16" viewBox="0 0 16 16" version="1.1" width="16" data-view-component="true" class="octicon octicon-x">
    <path d="M3.72 3.72a.75.75 0 0 1 1.06 0L8 6.94l3.22-3.22a.749.749 0 0 1 1.275.326.749.749 0 0 1-.215.734L9.06 8l3.22 3.22a.749.749 0 0 1-.326 1.275.749.749 0 0 1-.734-.215L8 9.06l-3.22 3.22a.751.751 0 0 1-1.042-.018.751.751 0 0 1-.018-1.042L6.94 8 3.72 4.78a.75.75 0 0 1 0-1.06Z"></path>
</svg></button>
    </div>
  </div>
  
</div>
      <scrollable-region data-labelled-by="feedback-dialog-title">
        <div data-view-component="true" class="Overlay-body">        <!-- '"` --><!-- </textarea></xmp> --></option></form><form id="code-search-feedback-form" data-turbo="false" action="/search/feedback" accept-charset="UTF-8" method="post"><input type="hidden" data-csrf="true" name="authenticity_token" value="BQMBBOEwWAum2RS+iq4W4ychvOrjhXozxCuHYmlT6knixpzcGH1cxxZBZSWTv8VkZisXbmNCxfCm/NpsFBMlAA==" />
          <p>We read every piece of feedback, and take your input very seriously.</p>
          <textarea name="feedback" class="form-control width-full mb-2" style="height: 120px" id="feedback"></textarea>
          <input name="include_email" id="include_email" aria-label="Include my email address so I can be contacted" class="form-control mr-2" type="checkbox">
          <label for="include_email" style="font-weight: normal">Include my email address so I can be contacted</label>
</form></div>
      </scrollable-region>
      <div data-view-component="true" class="Overlay-footer Overlay-footer--alignEnd">          <button data-close-dialog-id="feedback-dialog" type="button" data-view-component="true" class="btn">    Cancel
</button>
          <button form="code-search-feedback-form" data-action="click:qbsearch-input#submitFeedback" type="submit" data-view-component="true" class="btn-primary btn">    Submit feedback
</button>
</div>
</dialog></dialog-helper>

    <custom-scopes data-target="qbsearch-input.customScopesManager">
    
<dialog-helper>
  <dialog data-target="custom-scopes.customScopesModalDialog" data-action="close:qbsearch-input#handleDialogClose cancel:qbsearch-input#handleDialogClose" id="custom-scopes-dialog" aria-modal="true" aria-labelledby="custom-scopes-dialog-title" aria-describedby="custom-scopes-dialog-description" data-view-component="true" class="Overlay Overlay-whenNarrow Overlay--size-medium Overlay--motion-scaleFade Overlay--disableScroll">
    <div data-view-component="true" class="Overlay-header Overlay-header--divided">
  <div class="Overlay-headerContentWrap">
    <div class="Overlay-titleWrap">
      <h1 class="Overlay-title " id="custom-scopes-dialog-title">
        Saved searches
      </h1>
        <h2 id="custom-scopes-dialog-description" class="Overlay-description">Use saved searches to filter your results more quickly</h2>
    </div>
    <div class="Overlay-actionWrap">
      <button data-close-dialog-id="custom-scopes-dialog" aria-label="Close" aria-label="Close" type="button" data-view-component="true" class="close-button Overlay-closeButton"><svg aria-hidden="true" height="16" viewBox="0 0 16 16" version="1.1" width="16" data-view-component="true" class="octicon octicon-x">
    <path d="M3.72 3.72a.75.75 0 0 1 1.06 0L8 6.94l3.22-3.22a.749.749 0 0 1 1.275.326.749.749 0 0 1-.215.734L9.06 8l3.22 3.22a.749.749 0 0 1-.326 1.275.749.749 0 0 1-.734-.215L8 9.06l-3.22 3.22a.751.751 0 0 1-1.042-.018.751.751 0 0 1-.018-1.042L6.94 8 3.72 4.78a.75.75 0 0 1 0-1.06Z"></path>
</svg></button>
    </div>
  </div>
  
</div>
      <scrollable-region data-labelled-by="custom-scopes-dialog-title">
        <div data-view-component="true" class="Overlay-body">        <div data-target="custom-scopes.customScopesModalDialogFlash"></div>

        <div hidden class="create-custom-scope-form" data-target="custom-scopes.createCustomScopeForm">
        <!-- '"` --><!-- </textarea></xmp> --></option></form><form id="custom-scopes-dialog-form" data-turbo="false" action="/search/custom_scopes" accept-charset="UTF-8" method="post"><input type="hidden" data-csrf="true" name="authenticity_token" value="h2Exo2/1H9RolZJ8JIuj3ADn7W558fjBYApNuNoLeyIZo1ZPbihCcUG51QXZAzgKjfKAfUHYm+oz/pgHeO9Hkg==" />
          <div data-target="custom-scopes.customScopesModalDialogFlash"></div>

          <input type="hidden" id="custom_scope_id" name="custom_scope_id" data-target="custom-scopes.customScopesIdField">

          <div class="form-group">
            <label for="custom_scope_name">Name</label>
            <auto-check src="/search/custom_scopes/check_name" required>
              <input
                type="text"
                name="custom_scope_name"
                id="custom_scope_name"
                data-target="custom-scopes.customScopesNameField"
                class="form-control"
                autocomplete="off"
                placeholder="github-ruby"
                required
                maxlength="50">
              <input type="hidden" data-csrf="true" value="4ORFhu10OQN1Sau5UnT0NpO+g+h4ncA0sHyZ0bRmMpjrDgU7EclkSJwBo0Vx877mZ5RXndZA8r/ZM873iuprRg==" />
            </auto-check>
          </div>

          <div class="form-group">
            <label for="custom_scope_query">Query</label>
            <input
              type="text"
              name="custom_scope_query"
              id="custom_scope_query"
              data-target="custom-scopes.customScopesQueryField"
              class="form-control"
              autocomplete="off"
              placeholder="(repo:mona/a OR repo:mona/b) AND lang:python"
              required
              maxlength="500">
          </div>

          <p class="text-small color-fg-muted">
            To see all available qualifiers, see our <a class="Link--inTextBlock" href="https://docs.github.com/search-github/github-code-search/understanding-github-code-search-syntax">documentation</a>.
          </p>
</form>        </div>

        <div data-target="custom-scopes.manageCustomScopesForm">
          <div data-target="custom-scopes.list"></div>
        </div>

</div>
      </scrollable-region>
      <div data-view-component="true" class="Overlay-footer Overlay-footer--alignEnd Overlay-footer--divided">          <button data-action="click:custom-scopes#customScopesCancel" type="button" data-view-component="true" class="btn">    Cancel
</button>
          <button form="custom-scopes-dialog-form" data-action="click:custom-scopes#customScopesSubmit" data-target="custom-scopes.customScopesSubmitButton" type="submit" data-view-component="true" class="btn-primary btn">    Create saved search
</button>
</div>
</dialog></dialog-helper>
    </custom-scopes>
  </div>
</qbsearch-input>


            <div class="position-relative HeaderMenu-link-wrap d-lg-inline-block">
              <a
                href="/login?return_to=https%3A%2F%2Fgithub.com%2FEngreitzLab%2FcNMF_benchmarking%2Fblob%2Fmain%2FcNMF_benchmarking_pipeline%2FPlotting%2FJupterNote_Version%2FcNMF_k_selection.ipynb"
                class="HeaderMenu-link HeaderMenu-link--sign-in HeaderMenu-button flex-shrink-0 no-underline d-none d-lg-inline-flex border border-lg-0 rounded px-2 py-1"
                style="margin-left: 12px;"
                data-hydro-click="{&quot;event_type&quot;:&quot;authentication.click&quot;,&quot;payload&quot;:{&quot;location_in_page&quot;:&quot;site header menu&quot;,&quot;repository_id&quot;:null,&quot;auth_type&quot;:&quot;SIGN_UP&quot;,&quot;originating_url&quot;:&quot;https://github.com/EngreitzLab/cNMF_benchmarking/blob/main/cNMF_benchmarking_pipeline/Plotting/JupterNote_Version/cNMF_k_selection.ipynb&quot;,&quot;user_id&quot;:null}}" data-hydro-click-hmac="f5963f903abb8edb114a405d53e3d00c375aeb947001145aad8418ee351c79cd"
                data-analytics-event="{&quot;category&quot;:&quot;Marketing nav&quot;,&quot;action&quot;:&quot;click to go to homepage&quot;,&quot;label&quot;:&quot;ref_page:Marketing;ref_cta:Sign in;ref_loc:Header&quot;}"
              >
                Sign in
              </a>
            </div>

              <a href="/signup?ref_cta=Sign+up&amp;ref_loc=header+logged+out&amp;ref_page=%2F%3Cuser-name%3E%2F%3Crepo-name%3E%2Fblob%2Fshow&amp;source=header-repo&amp;source_repo=EngreitzLab%2FcNMF_benchmarking"
                class="HeaderMenu-link HeaderMenu-link--sign-up HeaderMenu-button flex-shrink-0 d-flex d-lg-inline-flex no-underline border color-border-default rounded px-2 py-1"
                data-hydro-click="{&quot;event_type&quot;:&quot;authentication.click&quot;,&quot;payload&quot;:{&quot;location_in_page&quot;:&quot;site header menu&quot;,&quot;repository_id&quot;:null,&quot;auth_type&quot;:&quot;SIGN_UP&quot;,&quot;originating_url&quot;:&quot;https://github.com/EngreitzLab/cNMF_benchmarking/blob/main/cNMF_benchmarking_pipeline/Plotting/JupterNote_Version/cNMF_k_selection.ipynb&quot;,&quot;user_id&quot;:null}}" data-hydro-click-hmac="f5963f903abb8edb114a405d53e3d00c375aeb947001145aad8418ee351c79cd"
                data-analytics-event="{&quot;category&quot;:&quot;Sign up&quot;,&quot;action&quot;:&quot;click to sign up for account&quot;,&quot;label&quot;:&quot;ref_page:/&lt;user-name&gt;/&lt;repo-name&gt;/blob/show;ref_cta:Sign up;ref_loc:header logged out&quot;}"
              >
                Sign up
              </a>

                <div class="AppHeader-appearanceSettings">
    <react-partial-anchor>
      <button data-target="react-partial-anchor.anchor" id="icon-button-3b4c2250-8f8f-4c28-8759-df4d13f3276f" aria-labelledby="tooltip-b764b423-90ab-4f41-904c-46186e9cd921" type="button" disabled="disabled" data-view-component="true" class="Button Button--iconOnly Button--invisible Button--medium AppHeader-button HeaderMenu-link border cursor-wait">  <svg aria-hidden="true" height="16" viewBox="0 0 16 16" version="1.1" width="16" data-view-component="true" class="octicon octicon-sliders Button-visual">
    <path d="M15 2.75a.75.75 0 0 1-.75.75h-4a.75.75 0 0 1 0-1.5h4a.75.75 0 0 1 .75.75Zm-8.5.75v1.25a.75.75 0 0 0 1.5 0v-4a.75.75 0 0 0-1.5 0V2H1.75a.75.75 0 0 0 0 1.5H6.5Zm1.25 5.25a.75.75 0 0 0 0-1.5h-6a.75.75 0 0 0 0 1.5h6ZM15 8a.75.75 0 0 1-.75.75H11.5V10a.75.75 0 1 1-1.5 0V6a.75.75 0 0 1 1.5 0v1.25h2.75A.75.75 0 0 1 15 8Zm-9 5.25v-2a.75.75 0 0 0-1.5 0v1.25H1.75a.75.75 0 0 0 0 1.5H4.5v1.25a.75.75 0 0 0 1.5 0v-2Zm9 0a.75.75 0 0 1-.75.75h-6a.75.75 0 0 1 0-1.5h6a.75.75 0 0 1 .75.75Z"></path>
</svg>
</button><tool-tip id="tooltip-b764b423-90ab-4f41-904c-46186e9cd921" for="icon-button-3b4c2250-8f8f-4c28-8759-df4d13f3276f" popover="manual" data-direction="s" data-type="label" data-view-component="true" class="sr-only position-absolute">Appearance settings</tool-tip>

      <template data-target="react-partial-anchor.template">
        <link crossorigin="anonymous" media="all" rel="stylesheet" href="https://github.githubassets.com/assets/primer-react.3d66a64c5878cc361e85.module.css" />
<link crossorigin="anonymous" media="all" rel="stylesheet" href="https://github.githubassets.com/assets/appearance-settings.6c63a6de228d6520804d.module.css" />

<react-partial
  partial-name="appearance-settings"
  data-ssr="false"
  data-attempted-ssr="false"
  data-react-profiling="false"
>
  
  <script type="application/json" data-target="react-partial.embeddedData">{"props":{}}</script>
  <div data-target="react-partial.reactRoot"></div>
</react-partial>


      </template>
    </react-partial-anchor>
  </div>

          <button type="button" class="sr-only js-header-menu-focus-trap d-block d-lg-none">Resetting focus</button>
        </div>
      </div>
    </div>
  </div>
</header>

      <div hidden="hidden" data-view-component="true" class="js-stale-session-flash stale-session-flash flash flash-warn flash-full">
  
        <svg aria-hidden="true" height="16" viewBox="0 0 16 16" version="1.1" width="16" data-view-component="true" class="octicon octicon-alert">
    <path d="M6.457 1.047c.659-1.234 2.427-1.234 3.086 0l6.082 11.378A1.75 1.75 0 0 1 14.082 15H1.918a1.75 1.75 0 0 1-1.543-2.575Zm1.763.707a.25.25 0 0 0-.44 0L1.698 13.132a.25.25 0 0 0 .22.368h12.164a.25.25 0 0 0 .22-.368Zm.53 3.996v2.5a.75.75 0 0 1-1.5 0v-2.5a.75.75 0 0 1 1.5 0ZM9 11a1 1 0 1 1-2 0 1 1 0 0 1 2 0Z"></path>
</svg>
        <span class="js-stale-session-flash-signed-in" hidden>You signed in with another tab or window. <a class="Link--inTextBlock" href="">Reload</a> to refresh your session.</span>
        <span class="js-stale-session-flash-signed-out" hidden>You signed out in another tab or window. <a class="Link--inTextBlock" href="">Reload</a> to refresh your session.</span>
        <span class="js-stale-session-flash-switched" hidden>You switched accounts on another tab or window. <a class="Link--inTextBlock" href="">Reload</a> to refresh your session.</span>

    <button id="icon-button-fce4cf98-d8c5-4b62-aa4e-62610de6baa9" aria-labelledby="tooltip-02b7c4b8-bb4e-4505-8ffa-f6eefe4d6bbe" type="button" data-view-component="true" class="Button Button--iconOnly Button--invisible Button--medium flash-close js-flash-close">  <svg aria-hidden="true" height="16" viewBox="0 0 16 16" version="1.1" width="16" data-view-component="true" class="octicon octicon-x Button-visual">
    <path d="M3.72 3.72a.75.75 0 0 1 1.06 0L8 6.94l3.22-3.22a.749.749 0 0 1 1.275.326.749.749 0 0 1-.215.734L9.06 8l3.22 3.22a.749.749 0 0 1-.326 1.275.749.749 0 0 1-.734-.215L8 9.06l-3.22 3.22a.751.751 0 0 1-1.042-.018.751.751 0 0 1-.018-1.042L6.94 8 3.72 4.78a.75.75 0 0 1 0-1.06Z"></path>
</svg>
</button><tool-tip id="tooltip-02b7c4b8-bb4e-4505-8ffa-f6eefe4d6bbe" for="icon-button-fce4cf98-d8c5-4b62-aa4e-62610de6baa9" popover="manual" data-direction="s" data-type="label" data-view-component="true" class="sr-only position-absolute">Dismiss alert</tool-tip>


  
</div>
    </div>

  <div id="start-of-content" class="show-on-focus"></div>








    <div id="js-flash-container" class="flash-container" data-turbo-replace>




  <template class="js-flash-template">
    
<div class="flash flash-full   {{ className }}">
  <div >
    <button autofocus class="flash-close js-flash-close" type="button" aria-label="Dismiss this message">
      <svg aria-hidden="true" height="16" viewBox="0 0 16 16" version="1.1" width="16" data-view-component="true" class="octicon octicon-x">
    <path d="M3.72 3.72a.75.75 0 0 1 1.06 0L8 6.94l3.22-3.22a.749.749 0 0 1 1.275.326.749.749 0 0 1-.215.734L9.06 8l3.22 3.22a.749.749 0 0 1-.326 1.275.749.749 0 0 1-.734-.215L8 9.06l-3.22 3.22a.751.751 0 0 1-1.042-.018.751.751 0 0 1-.018-1.042L6.94 8 3.72 4.78a.75.75 0 0 1 0-1.06Z"></path>
</svg>
    </button>
    <div aria-atomic="true" role="alert" class="js-flash-alert">
      
      <div>{{ message }}</div>

    </div>
  </div>
</div>
  </template>
</div>


    






  <div
    class="application-main "
    data-commit-hovercards-enabled
    data-discussion-hovercards-enabled
    data-issue-and-pr-hovercards-enabled
    data-project-hovercards-enabled
  >
        <div itemscope itemtype="http://schema.org/SoftwareSourceCode" class="">
    <main id="js-repo-pjax-container" >
      
      
    

    






  
  <div id="repository-container-header"  class="pt-3 hide-full-screen" style="background-color: var(--page-header-bgColor, var(--color-page-header-bg));" data-turbo-replace>

      <div class="d-flex flex-nowrap flex-justify-end mb-3  px-3 px-lg-5" style="gap: 1rem;">

        <div class="flex-auto min-width-0 width-fit">
            
  <div class=" d-flex flex-wrap flex-items-center wb-break-word f3 text-normal">
      <svg aria-hidden="true" height="16" viewBox="0 0 16 16" version="1.1" width="16" data-view-component="true" class="octicon octicon-repo color-fg-muted mr-2">
    <path d="M2 2.5A2.5 2.5 0 0 1 4.5 0h8.75a.75.75 0 0 1 .75.75v12.5a.75.75 0 0 1-.75.75h-2.5a.75.75 0 0 1 0-1.5h1.75v-2h-8a1 1 0 0 0-.714 1.7.75.75 0 1 1-1.072 1.05A2.495 2.495 0 0 1 2 11.5Zm10.5-1h-8a1 1 0 0 0-1 1v6.708A2.486 2.486 0 0 1 4.5 9h8ZM5 12.25a.25.25 0 0 1 .25-.25h3.5a.25.25 0 0 1 .25.25v3.25a.25.25 0 0 1-.4.2l-1.45-1.087a.249.249 0 0 0-.3 0L5.4 15.7a.25.25 0 0 1-.4-.2Z"></path>
</svg>
    
    <span class="author flex-self-stretch" itemprop="author">
      <a class="url fn" rel="author" data-hovercard-type="organization" data-hovercard-url="/orgs/EngreitzLab/hovercard" data-octo-click="hovercard-link-click" data-octo-dimensions="link_type:self" href="/EngreitzLab">
        EngreitzLab
</a>    </span>
    <span class="mx-1 flex-self-stretch color-fg-muted">/</span>
    <strong itemprop="name" class="mr-2 flex-self-stretch">
      <a data-pjax="#repo-content-pjax-container" data-turbo-frame="repo-content-turbo-frame" href="/EngreitzLab/cNMF_benchmarking">cNMF_benchmarking</a>
    </strong>

    <span></span><span class="Label Label--secondary v-align-middle mr-1">Public</span>
  </div>


        </div>

        <div id="repository-details-container" class="flex-shrink-0" data-turbo-replace style="max-width: 70%;">
            <ul class="pagehead-actions flex-shrink-0 d-none d-md-inline" style="padding: 2px 0;">
    
      

  <li>
            <a href="/login?return_to=%2FEngreitzLab%2FcNMF_benchmarking" rel="nofollow" id="repository-details-watch-button" data-hydro-click="{&quot;event_type&quot;:&quot;authentication.click&quot;,&quot;payload&quot;:{&quot;location_in_page&quot;:&quot;notification subscription menu watch&quot;,&quot;repository_id&quot;:null,&quot;auth_type&quot;:&quot;LOG_IN&quot;,&quot;originating_url&quot;:&quot;https://github.com/EngreitzLab/cNMF_benchmarking/blob/main/cNMF_benchmarking_pipeline/Plotting/JupterNote_Version/cNMF_k_selection.ipynb&quot;,&quot;user_id&quot;:null}}" data-hydro-click-hmac="0fac57dfeff1fbeacfc445a39f4603ddc5690549177c9247d0a393968083e60b" aria-label="You must be signed in to change notification settings" data-view-component="true" class="btn-sm btn">    <svg aria-hidden="true" height="16" viewBox="0 0 16 16" version="1.1" width="16" data-view-component="true" class="octicon octicon-bell mr-2">
    <path d="M8 16a2 2 0 0 0 1.985-1.75c.017-.137-.097-.25-.235-.25h-3.5c-.138 0-.252.113-.235.25A2 2 0 0 0 8 16ZM3 5a5 5 0 0 1 10 0v2.947c0 .05.015.098.042.139l1.703 2.555A1.519 1.519 0 0 1 13.482 13H2.518a1.516 1.516 0 0 1-1.263-2.36l1.703-2.554A.255.255 0 0 0 3 7.947Zm5-3.5A3.5 3.5 0 0 0 4.5 5v2.947c0 .346-.102.683-.294.97l-1.703 2.556a.017.017 0 0 0-.003.01l.001.006c0 .002.002.004.004.006l.006.004.007.001h10.964l.007-.001.006-.004.004-.006.001-.007a.017.017 0 0 0-.003-.01l-1.703-2.554a1.745 1.745 0 0 1-.294-.97V5A3.5 3.5 0 0 0 8 1.5Z"></path>
</svg>Notifications
</a>    <tool-tip id="tooltip-2d4f86d3-943a-424a-be1f-5588a0664ed7" for="repository-details-watch-button" popover="manual" data-direction="s" data-type="description" data-view-component="true" class="sr-only position-absolute">You must be signed in to change notification settings</tool-tip>

  </li>

  <li>
          <a icon="repo-forked" id="fork-button" href="/login?return_to=%2FEngreitzLab%2FcNMF_benchmarking" rel="nofollow" data-hydro-click="{&quot;event_type&quot;:&quot;authentication.click&quot;,&quot;payload&quot;:{&quot;location_in_page&quot;:&quot;repo details fork button&quot;,&quot;repository_id&quot;:1033508772,&quot;auth_type&quot;:&quot;LOG_IN&quot;,&quot;originating_url&quot;:&quot;https://github.com/EngreitzLab/cNMF_benchmarking/blob/main/cNMF_benchmarking_pipeline/Plotting/JupterNote_Version/cNMF_k_selection.ipynb&quot;,&quot;user_id&quot;:null}}" data-hydro-click-hmac="0b4bacb6b022f9d865885392c6db0eee84a3fd3da0ce9148a46064f720de4674" data-view-component="true" class="btn-sm btn">    <svg aria-hidden="true" height="16" viewBox="0 0 16 16" version="1.1" width="16" data-view-component="true" class="octicon octicon-repo-forked mr-2">
    <path d="M5 5.372v.878c0 .414.336.75.75.75h4.5a.75.75 0 0 0 .75-.75v-.878a2.25 2.25 0 1 1 1.5 0v.878a2.25 2.25 0 0 1-2.25 2.25h-1.5v2.128a2.251 2.251 0 1 1-1.5 0V8.5h-1.5A2.25 2.25 0 0 1 3.5 6.25v-.878a2.25 2.25 0 1 1 1.5 0ZM5 3.25a.75.75 0 1 0-1.5 0 .75.75 0 0 0 1.5 0Zm6.75.75a.75.75 0 1 0 0-1.5.75.75 0 0 0 0 1.5Zm-3 8.75a.75.75 0 1 0-1.5 0 .75.75 0 0 0 1.5 0Z"></path>
</svg>Fork
    <span id="repo-network-counter" data-pjax-replace="true" data-turbo-replace="true" title="0" data-view-component="true" class="Counter">0</span>
</a>
  </li>

  <li>
        <div data-view-component="true" class="BtnGroup d-flex">
        <a href="/login?return_to=%2FEngreitzLab%2FcNMF_benchmarking" rel="nofollow" data-hydro-click="{&quot;event_type&quot;:&quot;authentication.click&quot;,&quot;payload&quot;:{&quot;location_in_page&quot;:&quot;star button&quot;,&quot;repository_id&quot;:1033508772,&quot;auth_type&quot;:&quot;LOG_IN&quot;,&quot;originating_url&quot;:&quot;https://github.com/EngreitzLab/cNMF_benchmarking/blob/main/cNMF_benchmarking_pipeline/Plotting/JupterNote_Version/cNMF_k_selection.ipynb&quot;,&quot;user_id&quot;:null}}" data-hydro-click-hmac="ca4ae0801dc4dbc5a1da57beaff245b8cb1f5f0e687158252f7d4dcd390bee6f" aria-label="You must be signed in to star a repository" data-view-component="true" class="tooltipped tooltipped-sw btn-sm btn">    <svg aria-hidden="true" height="16" viewBox="0 0 16 16" version="1.1" width="16" data-view-component="true" class="octicon octicon-star v-align-text-bottom d-inline-block mr-2">
    <path d="M8 .25a.75.75 0 0 1 .673.418l1.882 3.815 4.21.612a.75.75 0 0 1 .416 1.279l-3.046 2.97.719 4.192a.751.751 0 0 1-1.088.791L8 12.347l-3.766 1.98a.75.75 0 0 1-1.088-.79l.72-4.194L.818 6.374a.75.75 0 0 1 .416-1.28l4.21-.611L7.327.668A.75.75 0 0 1 8 .25Zm0 2.445L6.615 5.5a.75.75 0 0 1-.564.41l-3.097.45 2.24 2.184a.75.75 0 0 1 .216.664l-.528 3.084 2.769-1.456a.75.75 0 0 1 .698 0l2.77 1.456-.53-3.084a.75.75 0 0 1 .216-.664l2.24-2.183-3.096-.45a.75.75 0 0 1-.564-.41L8 2.694Z"></path>
</svg><span data-view-component="true" class="d-inline">
          Star
</span>          <span id="repo-stars-counter-star" aria-label="0 users starred this repository" data-singular-suffix="user starred this repository" data-plural-suffix="users starred this repository" data-turbo-replace="true" title="0" data-view-component="true" class="Counter js-social-count">0</span>
</a></div>
  </li>

</ul>

        </div>
      </div>

        <div id="responsive-meta-container" data-turbo-replace>
</div>


          <nav data-pjax="#js-repo-pjax-container" aria-label="Repository" data-view-component="true" class="js-repo-nav js-sidenav-container-pjax js-responsive-underlinenav overflow-hidden UnderlineNav px-3 px-md-4 px-lg-5">

  <ul data-view-component="true" class="UnderlineNav-body list-style-none">
      <li data-view-component="true" class="d-inline-flex">
  <a id="code-tab" href="/EngreitzLab/cNMF_benchmarking" data-tab-item="i0code-tab" data-selected-links="repo_source repo_downloads repo_commits repo_releases repo_tags repo_branches repo_packages repo_deployments repo_attestations /EngreitzLab/cNMF_benchmarking" data-pjax="#repo-content-pjax-container" data-turbo-frame="repo-content-turbo-frame" data-hotkey="g c" data-analytics-event="{&quot;category&quot;:&quot;Underline navbar&quot;,&quot;action&quot;:&quot;Click tab&quot;,&quot;label&quot;:&quot;Code&quot;,&quot;target&quot;:&quot;UNDERLINE_NAV.TAB&quot;}" aria-current="page" data-view-component="true" class="UnderlineNav-item no-wrap js-responsive-underlinenav-item js-selected-navigation-item selected">
    
              <svg aria-hidden="true" height="16" viewBox="0 0 16 16" version="1.1" width="16" data-view-component="true" class="octicon octicon-code UnderlineNav-octicon d-none d-sm-inline">
    <path d="m11.28 3.22 4.25 4.25a.75.75 0 0 1 0 1.06l-4.25 4.25a.749.749 0 0 1-1.275-.326.749.749 0 0 1 .215-.734L13.94 8l-3.72-3.72a.749.749 0 0 1 .326-1.275.749.749 0 0 1 .734.215Zm-6.56 0a.751.751 0 0 1 1.042.018.751.751 0 0 1 .018 1.042L2.06 8l3.72 3.72a.749.749 0 0 1-.326 1.275.749.749 0 0 1-.734-.215L.47 8.53a.75.75 0 0 1 0-1.06Z"></path>
</svg>
        <span data-content="Code">Code</span>
          <span id="code-repo-tab-count" data-pjax-replace="" data-turbo-replace="" title="Not available" data-view-component="true" class="Counter"></span>


    
</a></li>
      <li data-view-component="true" class="d-inline-flex">
  <a id="issues-tab" href="/EngreitzLab/cNMF_benchmarking/issues" data-tab-item="i1issues-tab" data-selected-links="repo_issues repo_labels repo_milestones /EngreitzLab/cNMF_benchmarking/issues" data-pjax="#repo-content-pjax-container" data-turbo-frame="repo-content-turbo-frame" data-hotkey="g i" data-analytics-event="{&quot;category&quot;:&quot;Underline navbar&quot;,&quot;action&quot;:&quot;Click tab&quot;,&quot;label&quot;:&quot;Issues&quot;,&quot;target&quot;:&quot;UNDERLINE_NAV.TAB&quot;}" data-view-component="true" class="UnderlineNav-item no-wrap js-responsive-underlinenav-item js-selected-navigation-item">
    
              <svg aria-hidden="true" height="16" viewBox="0 0 16 16" version="1.1" width="16" data-view-component="true" class="octicon octicon-issue-opened UnderlineNav-octicon d-none d-sm-inline">
    <path d="M8 9.5a1.5 1.5 0 1 0 0-3 1.5 1.5 0 0 0 0 3Z"></path><path d="M8 0a8 8 0 1 1 0 16A8 8 0 0 1 8 0ZM1.5 8a6.5 6.5 0 1 0 13 0 6.5 6.5 0 0 0-13 0Z"></path>
</svg>
        <span data-content="Issues">Issues</span>
          <span id="issues-repo-tab-count" data-pjax-replace="" data-turbo-replace="" title="0" hidden="hidden" data-view-component="true" class="Counter">0</span>


    
</a></li>
      <li data-view-component="true" class="d-inline-flex">
  <a id="pull-requests-tab" href="/EngreitzLab/cNMF_benchmarking/pulls" data-tab-item="i2pull-requests-tab" data-selected-links="repo_pulls checks /EngreitzLab/cNMF_benchmarking/pulls" data-pjax="#repo-content-pjax-container" data-turbo-frame="repo-content-turbo-frame" data-hotkey="g p" data-analytics-event="{&quot;category&quot;:&quot;Underline navbar&quot;,&quot;action&quot;:&quot;Click tab&quot;,&quot;label&quot;:&quot;Pull requests&quot;,&quot;target&quot;:&quot;UNDERLINE_NAV.TAB&quot;}" data-view-component="true" class="UnderlineNav-item no-wrap js-responsive-underlinenav-item js-selected-navigation-item">
    
              <svg aria-hidden="true" height="16" viewBox="0 0 16 16" version="1.1" width="16" data-view-component="true" class="octicon octicon-git-pull-request UnderlineNav-octicon d-none d-sm-inline">
    <path d="M1.5 3.25a2.25 2.25 0 1 1 3 2.122v5.256a2.251 2.251 0 1 1-1.5 0V5.372A2.25 2.25 0 0 1 1.5 3.25Zm5.677-.177L9.573.677A.25.25 0 0 1 10 .854V2.5h1A2.5 2.5 0 0 1 13.5 5v5.628a2.251 2.251 0 1 1-1.5 0V5a1 1 0 0 0-1-1h-1v1.646a.25.25 0 0 1-.427.177L7.177 3.427a.25.25 0 0 1 0-.354ZM3.75 2.5a.75.75 0 1 0 0 1.5.75.75 0 0 0 0-1.5Zm0 9.5a.75.75 0 1 0 0 1.5.75.75 0 0 0 0-1.5Zm8.25.75a.75.75 0 1 0 1.5 0 .75.75 0 0 0-1.5 0Z"></path>
</svg>
        <span data-content="Pull requests">Pull requests</span>
          <span id="pull-requests-repo-tab-count" data-pjax-replace="" data-turbo-replace="" title="0" hidden="hidden" data-view-component="true" class="Counter">0</span>


    
</a></li>
      <li data-view-component="true" class="d-inline-flex">
  <a id="actions-tab" href="/EngreitzLab/cNMF_benchmarking/actions" data-tab-item="i3actions-tab" data-selected-links="repo_actions /EngreitzLab/cNMF_benchmarking/actions" data-pjax="#repo-content-pjax-container" data-turbo-frame="repo-content-turbo-frame" data-hotkey="g a" data-analytics-event="{&quot;category&quot;:&quot;Underline navbar&quot;,&quot;action&quot;:&quot;Click tab&quot;,&quot;label&quot;:&quot;Actions&quot;,&quot;target&quot;:&quot;UNDERLINE_NAV.TAB&quot;}" data-view-component="true" class="UnderlineNav-item no-wrap js-responsive-underlinenav-item js-selected-navigation-item">
    
              <svg aria-hidden="true" height="16" viewBox="0 0 16 16" version="1.1" width="16" data-view-component="true" class="octicon octicon-play UnderlineNav-octicon d-none d-sm-inline">
    <path d="M8 0a8 8 0 1 1 0 16A8 8 0 0 1 8 0ZM1.5 8a6.5 6.5 0 1 0 13 0 6.5 6.5 0 0 0-13 0Zm4.879-2.773 4.264 2.559a.25.25 0 0 1 0 .428l-4.264 2.559A.25.25 0 0 1 6 10.559V5.442a.25.25 0 0 1 .379-.215Z"></path>
</svg>
        <span data-content="Actions">Actions</span>
          <span id="actions-repo-tab-count" data-pjax-replace="" data-turbo-replace="" title="Not available" data-view-component="true" class="Counter"></span>


    
</a></li>
      <li data-view-component="true" class="d-inline-flex">
  <a id="projects-tab" href="/EngreitzLab/cNMF_benchmarking/projects" data-tab-item="i4projects-tab" data-selected-links="repo_projects new_repo_project repo_project /EngreitzLab/cNMF_benchmarking/projects" data-pjax="#repo-content-pjax-container" data-turbo-frame="repo-content-turbo-frame" data-hotkey="g b" data-analytics-event="{&quot;category&quot;:&quot;Underline navbar&quot;,&quot;action&quot;:&quot;Click tab&quot;,&quot;label&quot;:&quot;Projects&quot;,&quot;target&quot;:&quot;UNDERLINE_NAV.TAB&quot;}" data-view-component="true" class="UnderlineNav-item no-wrap js-responsive-underlinenav-item js-selected-navigation-item">
    
              <svg aria-hidden="true" height="16" viewBox="0 0 16 16" version="1.1" width="16" data-view-component="true" class="octicon octicon-table UnderlineNav-octicon d-none d-sm-inline">
    <path d="M0 1.75C0 .784.784 0 1.75 0h12.5C15.216 0 16 .784 16 1.75v12.5A1.75 1.75 0 0 1 14.25 16H1.75A1.75 1.75 0 0 1 0 14.25ZM6.5 6.5v8h7.75a.25.25 0 0 0 .25-.25V6.5Zm8-1.5V1.75a.25.25 0 0 0-.25-.25H6.5V5Zm-13 1.5v7.75c0 .138.112.25.25.25H5v-8ZM5 5V1.5H1.75a.25.25 0 0 0-.25.25V5Z"></path>
</svg>
        <span data-content="Projects">Projects</span>
          <span id="projects-repo-tab-count" data-pjax-replace="" data-turbo-replace="" title="0" hidden="hidden" data-view-component="true" class="Counter">0</span>


    
</a></li>
      <li data-view-component="true" class="d-inline-flex">
  <a id="security-tab" href="/EngreitzLab/cNMF_benchmarking/security" data-tab-item="i5security-tab" data-selected-links="security overview alerts policy token_scanning code_scanning /EngreitzLab/cNMF_benchmarking/security" data-pjax="#repo-content-pjax-container" data-turbo-frame="repo-content-turbo-frame" data-hotkey="g s" data-analytics-event="{&quot;category&quot;:&quot;Underline navbar&quot;,&quot;action&quot;:&quot;Click tab&quot;,&quot;label&quot;:&quot;Security&quot;,&quot;target&quot;:&quot;UNDERLINE_NAV.TAB&quot;}" data-view-component="true" class="UnderlineNav-item no-wrap js-responsive-underlinenav-item js-selected-navigation-item">
    
              <svg aria-hidden="true" height="16" viewBox="0 0 16 16" version="1.1" width="16" data-view-component="true" class="octicon octicon-shield UnderlineNav-octicon d-none d-sm-inline">
    <path d="M7.467.133a1.748 1.748 0 0 1 1.066 0l5.25 1.68A1.75 1.75 0 0 1 15 3.48V7c0 1.566-.32 3.182-1.303 4.682-.983 1.498-2.585 2.813-5.032 3.855a1.697 1.697 0 0 1-1.33 0c-2.447-1.042-4.049-2.357-5.032-3.855C1.32 10.182 1 8.566 1 7V3.48a1.75 1.75 0 0 1 1.217-1.667Zm.61 1.429a.25.25 0 0 0-.153 0l-5.25 1.68a.25.25 0 0 0-.174.238V7c0 1.358.275 2.666 1.057 3.86.784 1.194 2.121 2.34 4.366 3.297a.196.196 0 0 0 .154 0c2.245-.956 3.582-2.104 4.366-3.298C13.225 9.666 13.5 8.36 13.5 7V3.48a.251.251 0 0 0-.174-.237l-5.25-1.68ZM8.75 4.75v3a.75.75 0 0 1-1.5 0v-3a.75.75 0 0 1 1.5 0ZM9 10.5a1 1 0 1 1-2 0 1 1 0 0 1 2 0Z"></path>
</svg>
        <span data-content="Security">Security</span>
          <include-fragment src="/EngreitzLab/cNMF_benchmarking/security/overall-count" accept="text/fragment+html" data-nonce="v2:ecaa9fc6-6580-3d2c-5586-9d7e7636080a" data-view-component="true">
  
  <div data-show-on-forbidden-error hidden>
    <div class="Box">
  <div class="blankslate-container">
    <div data-view-component="true" class="blankslate blankslate-spacious color-bg-default rounded-2">
      

      <h3 data-view-component="true" class="blankslate-heading">        Uh oh!
</h3>
      <p data-view-component="true">        <p class="color-fg-muted my-2 mb-2 ws-normal">There was an error while loading. <a class="Link--inTextBlock" data-turbo="false" href="" aria-label="Please reload this page">Please reload this page</a>.</p>
</p>

</div>  </div>
</div>  </div>
</include-fragment>

    
</a></li>
      <li data-view-component="true" class="d-inline-flex">
  <a id="insights-tab" href="/EngreitzLab/cNMF_benchmarking/pulse" data-tab-item="i6insights-tab" data-selected-links="repo_graphs repo_contributors dependency_graph dependabot_updates pulse people community /EngreitzLab/cNMF_benchmarking/pulse" data-pjax="#repo-content-pjax-container" data-turbo-frame="repo-content-turbo-frame" data-analytics-event="{&quot;category&quot;:&quot;Underline navbar&quot;,&quot;action&quot;:&quot;Click tab&quot;,&quot;label&quot;:&quot;Insights&quot;,&quot;target&quot;:&quot;UNDERLINE_NAV.TAB&quot;}" data-view-component="true" class="UnderlineNav-item no-wrap js-responsive-underlinenav-item js-selected-navigation-item">
    
              <svg aria-hidden="true" height="16" viewBox="0 0 16 16" version="1.1" width="16" data-view-component="true" class="octicon octicon-graph UnderlineNav-octicon d-none d-sm-inline">
    <path d="M1.5 1.75V13.5h13.75a.75.75 0 0 1 0 1.5H.75a.75.75 0 0 1-.75-.75V1.75a.75.75 0 0 1 1.5 0Zm14.28 2.53-5.25 5.25a.75.75 0 0 1-1.06 0L7 7.06 4.28 9.78a.751.751 0 0 1-1.042-.018.751.751 0 0 1-.018-1.042l3.25-3.25a.75.75 0 0 1 1.06 0L10 7.94l4.72-4.72a.751.751 0 0 1 1.042.018.751.751 0 0 1 .018 1.042Z"></path>
</svg>
        <span data-content="Insights">Insights</span>
          <span id="insights-repo-tab-count" data-pjax-replace="" data-turbo-replace="" title="Not available" data-view-component="true" class="Counter"></span>


    
</a></li>
</ul>
    <div style="visibility:hidden;" data-view-component="true" class="UnderlineNav-actions js-responsive-underlinenav-overflow position-absolute pr-3 pr-md-4 pr-lg-5 right-0">      <action-menu data-select-variant="none" data-view-component="true">
  <focus-group direction="vertical" mnemonics retain>
    <button id="action-menu-dcb1b3cd-a81d-44da-9491-31efd7f38b05-button" popovertarget="action-menu-dcb1b3cd-a81d-44da-9491-31efd7f38b05-overlay" aria-controls="action-menu-dcb1b3cd-a81d-44da-9491-31efd7f38b05-list" aria-haspopup="true" aria-labelledby="tooltip-71690fb1-45f4-429c-9ed0-c238e29c6e1e" type="button" data-view-component="true" class="Button Button--iconOnly Button--secondary Button--medium UnderlineNav-item">  <svg aria-hidden="true" height="16" viewBox="0 0 16 16" version="1.1" width="16" data-view-component="true" class="octicon octicon-kebab-horizontal Button-visual">
    <path d="M8 9a1.5 1.5 0 1 0 0-3 1.5 1.5 0 0 0 0 3ZM1.5 9a1.5 1.5 0 1 0 0-3 1.5 1.5 0 0 0 0 3Zm13 0a1.5 1.5 0 1 0 0-3 1.5 1.5 0 0 0 0 3Z"></path>
</svg>
</button><tool-tip id="tooltip-71690fb1-45f4-429c-9ed0-c238e29c6e1e" for="action-menu-dcb1b3cd-a81d-44da-9491-31efd7f38b05-button" popover="manual" data-direction="s" data-type="label" data-view-component="true" class="sr-only position-absolute">Additional navigation options</tool-tip>


<anchored-position data-target="action-menu.overlay" id="action-menu-dcb1b3cd-a81d-44da-9491-31efd7f38b05-overlay" anchor="action-menu-dcb1b3cd-a81d-44da-9491-31efd7f38b05-button" align="start" side="outside-bottom" anchor-offset="normal" popover="auto" data-view-component="true">
  <div data-view-component="true" class="Overlay Overlay--size-auto">
    
      <div data-view-component="true" class="Overlay-body Overlay-body--paddingNone">          <action-list>
  <div data-view-component="true">
    <ul aria-labelledby="action-menu-dcb1b3cd-a81d-44da-9491-31efd7f38b05-button" id="action-menu-dcb1b3cd-a81d-44da-9491-31efd7f38b05-list" role="menu" data-view-component="true" class="ActionListWrap--inset ActionListWrap">
        <li hidden="hidden" data-menu-item="i0code-tab" data-targets="action-list.items" role="none" data-view-component="true" class="ActionListItem">
    
    
    <a tabindex="-1" id="item-ff3105fc-ca17-461d-9128-ffeefb87383b" href="/EngreitzLab/cNMF_benchmarking" role="menuitem" data-view-component="true" class="ActionListContent ActionListContent--visual16">
        <span class="ActionListItem-visual ActionListItem-visual--leading">
          <svg aria-hidden="true" height="16" viewBox="0 0 16 16" version="1.1" width="16" data-view-component="true" class="octicon octicon-code">
    <path d="m11.28 3.22 4.25 4.25a.75.75 0 0 1 0 1.06l-4.25 4.25a.749.749 0 0 1-1.275-.326.749.749 0 0 1 .215-.734L13.94 8l-3.72-3.72a.749.749 0 0 1 .326-1.275.749.749 0 0 1 .734.215Zm-6.56 0a.751.751 0 0 1 1.042.018.751.751 0 0 1 .018 1.042L2.06 8l3.72 3.72a.749.749 0 0 1-.326 1.275.749.749 0 0 1-.734-.215L.47 8.53a.75.75 0 0 1 0-1.06Z"></path>
</svg>
        </span>
      
        <span data-view-component="true" class="ActionListItem-label">
          Code
</span>      
</a>
  
</li>
        <li hidden="hidden" data-menu-item="i1issues-tab" data-targets="action-list.items" role="none" data-view-component="true" class="ActionListItem">
    
    
    <a tabindex="-1" id="item-dbdfc87e-88b7-4c5e-af24-c5788b890474" href="/EngreitzLab/cNMF_benchmarking/issues" role="menuitem" data-view-component="true" class="ActionListContent ActionListContent--visual16">
        <span class="ActionListItem-visual ActionListItem-visual--leading">
          <svg aria-hidden="true" height="16" viewBox="0 0 16 16" version="1.1" width="16" data-view-component="true" class="octicon octicon-issue-opened">
    <path d="M8 9.5a1.5 1.5 0 1 0 0-3 1.5 1.5 0 0 0 0 3Z"></path><path d="M8 0a8 8 0 1 1 0 16A8 8 0 0 1 8 0ZM1.5 8a6.5 6.5 0 1 0 13 0 6.5 6.5 0 0 0-13 0Z"></path>
</svg>
        </span>
      
        <span data-view-component="true" class="ActionListItem-label">
          Issues
</span>      
</a>
  
</li>
        <li hidden="hidden" data-menu-item="i2pull-requests-tab" data-targets="action-list.items" role="none" data-view-component="true" class="ActionListItem">
    
    
    <a tabindex="-1" id="item-91e71e04-361c-49a8-b404-4d56f5fbdcfa" href="/EngreitzLab/cNMF_benchmarking/pulls" role="menuitem" data-view-component="true" class="ActionListContent ActionListContent--visual16">
        <span class="ActionListItem-visual ActionListItem-visual--leading">
          <svg aria-hidden="true" height="16" viewBox="0 0 16 16" version="1.1" width="16" data-view-component="true" class="octicon octicon-git-pull-request">
    <path d="M1.5 3.25a2.25 2.25 0 1 1 3 2.122v5.256a2.251 2.251 0 1 1-1.5 0V5.372A2.25 2.25 0 0 1 1.5 3.25Zm5.677-.177L9.573.677A.25.25 0 0 1 10 .854V2.5h1A2.5 2.5 0 0 1 13.5 5v5.628a2.251 2.251 0 1 1-1.5 0V5a1 1 0 0 0-1-1h-1v1.646a.25.25 0 0 1-.427.177L7.177 3.427a.25.25 0 0 1 0-.354ZM3.75 2.5a.75.75 0 1 0 0 1.5.75.75 0 0 0 0-1.5Zm0 9.5a.75.75 0 1 0 0 1.5.75.75 0 0 0 0-1.5Zm8.25.75a.75.75 0 1 0 1.5 0 .75.75 0 0 0-1.5 0Z"></path>
</svg>
        </span>
      
        <span data-view-component="true" class="ActionListItem-label">
          Pull requests
</span>      
</a>
  
</li>
        <li hidden="hidden" data-menu-item="i3actions-tab" data-targets="action-list.items" role="none" data-view-component="true" class="ActionListItem">
    
    
    <a tabindex="-1" id="item-a57519eb-c349-4878-aaf5-0a91dd3f767f" href="/EngreitzLab/cNMF_benchmarking/actions" role="menuitem" data-view-component="true" class="ActionListContent ActionListContent--visual16">
        <span class="ActionListItem-visual ActionListItem-visual--leading">
          <svg aria-hidden="true" height="16" viewBox="0 0 16 16" version="1.1" width="16" data-view-component="true" class="octicon octicon-play">
    <path d="M8 0a8 8 0 1 1 0 16A8 8 0 0 1 8 0ZM1.5 8a6.5 6.5 0 1 0 13 0 6.5 6.5 0 0 0-13 0Zm4.879-2.773 4.264 2.559a.25.25 0 0 1 0 .428l-4.264 2.559A.25.25 0 0 1 6 10.559V5.442a.25.25 0 0 1 .379-.215Z"></path>
</svg>
        </span>
      
        <span data-view-component="true" class="ActionListItem-label">
          Actions
</span>      
</a>
  
</li>
        <li hidden="hidden" data-menu-item="i4projects-tab" data-targets="action-list.items" role="none" data-view-component="true" class="ActionListItem">
    
    
    <a tabindex="-1" id="item-8c8c77d6-082f-4eb6-985d-57d7f8dc2f6d" href="/EngreitzLab/cNMF_benchmarking/projects" role="menuitem" data-view-component="true" class="ActionListContent ActionListContent--visual16">
        <span class="ActionListItem-visual ActionListItem-visual--leading">
          <svg aria-hidden="true" height="16" viewBox="0 0 16 16" version="1.1" width="16" data-view-component="true" class="octicon octicon-table">
    <path d="M0 1.75C0 .784.784 0 1.75 0h12.5C15.216 0 16 .784 16 1.75v12.5A1.75 1.75 0 0 1 14.25 16H1.75A1.75 1.75 0 0 1 0 14.25ZM6.5 6.5v8h7.75a.25.25 0 0 0 .25-.25V6.5Zm8-1.5V1.75a.25.25 0 0 0-.25-.25H6.5V5Zm-13 1.5v7.75c0 .138.112.25.25.25H5v-8ZM5 5V1.5H1.75a.25.25 0 0 0-.25.25V5Z"></path>
</svg>
        </span>
      
        <span data-view-component="true" class="ActionListItem-label">
          Projects
</span>      
</a>
  
</li>
        <li hidden="hidden" data-menu-item="i5security-tab" data-targets="action-list.items" role="none" data-view-component="true" class="ActionListItem">
    
    
    <a tabindex="-1" id="item-ede1b275-83c9-4a50-b8fd-6f1b410da317" href="/EngreitzLab/cNMF_benchmarking/security" role="menuitem" data-view-component="true" class="ActionListContent ActionListContent--visual16">
        <span class="ActionListItem-visual ActionListItem-visual--leading">
          <svg aria-hidden="true" height="16" viewBox="0 0 16 16" version="1.1" width="16" data-view-component="true" class="octicon octicon-shield">
    <path d="M7.467.133a1.748 1.748 0 0 1 1.066 0l5.25 1.68A1.75 1.75 0 0 1 15 3.48V7c0 1.566-.32 3.182-1.303 4.682-.983 1.498-2.585 2.813-5.032 3.855a1.697 1.697 0 0 1-1.33 0c-2.447-1.042-4.049-2.357-5.032-3.855C1.32 10.182 1 8.566 1 7V3.48a1.75 1.75 0 0 1 1.217-1.667Zm.61 1.429a.25.25 0 0 0-.153 0l-5.25 1.68a.25.25 0 0 0-.174.238V7c0 1.358.275 2.666 1.057 3.86.784 1.194 2.121 2.34 4.366 3.297a.196.196 0 0 0 .154 0c2.245-.956 3.582-2.104 4.366-3.298C13.225 9.666 13.5 8.36 13.5 7V3.48a.251.251 0 0 0-.174-.237l-5.25-1.68ZM8.75 4.75v3a.75.75 0 0 1-1.5 0v-3a.75.75 0 0 1 1.5 0ZM9 10.5a1 1 0 1 1-2 0 1 1 0 0 1 2 0Z"></path>
</svg>
        </span>
      
        <span data-view-component="true" class="ActionListItem-label">
          Security
</span>      
</a>
  
</li>
        <li hidden="hidden" data-menu-item="i6insights-tab" data-targets="action-list.items" role="none" data-view-component="true" class="ActionListItem">
    
    
    <a tabindex="-1" id="item-d16f00e3-945c-4765-8707-bdef702c8a96" href="/EngreitzLab/cNMF_benchmarking/pulse" role="menuitem" data-view-component="true" class="ActionListContent ActionListContent--visual16">
        <span class="ActionListItem-visual ActionListItem-visual--leading">
          <svg aria-hidden="true" height="16" viewBox="0 0 16 16" version="1.1" width="16" data-view-component="true" class="octicon octicon-graph">
    <path d="M1.5 1.75V13.5h13.75a.75.75 0 0 1 0 1.5H.75a.75.75 0 0 1-.75-.75V1.75a.75.75 0 0 1 1.5 0Zm14.28 2.53-5.25 5.25a.75.75 0 0 1-1.06 0L7 7.06 4.28 9.78a.751.751 0 0 1-1.042-.018.751.751 0 0 1-.018-1.042l3.25-3.25a.75.75 0 0 1 1.06 0L10 7.94l4.72-4.72a.751.751 0 0 1 1.042.018.751.751 0 0 1 .018 1.042Z"></path>
</svg>
        </span>
      
        <span data-view-component="true" class="ActionListItem-label">
          Insights
</span>      
</a>
  
</li>
</ul>    
</div></action-list>


</div>
      
</div></anchored-position>  </focus-group>
</action-menu></div>
</nav>

  </div>

  



<turbo-frame id="repo-content-turbo-frame" target="_top" data-turbo-action="advance" class="">
    <div id="repo-content-pjax-container" class="repository-content " >
    



    
      
    








<react-app
  app-name="react-code-view"
  initial-path="/EngreitzLab/cNMF_benchmarking/blob/main/cNMF_benchmarking_pipeline/Plotting/JupterNote_Version/cNMF_k_selection.ipynb"
    style="display: block; min-height: calc(100vh - 64px);"
  data-attempted-ssr="false"
  data-ssr="false"
  data-lazy="false"
  data-alternate="false"
  data-data-router-enabled="false"
  data-react-profiling="false"
>
  
  <script type="application/json" data-target="react-app.embeddedData">{"payload":{"allShortcutsEnabled":false,"fileTree":{"cNMF_benchmarking_pipeline/Plotting/JupterNote_Version":{"items":[{"name":"cNMF_k_quality.ipynb","path":"cNMF_benchmarking_pipeline/Plotting/JupterNote_Version/cNMF_k_quality.ipynb","contentType":"file"},{"name":"cNMF_k_selection.ipynb","path":"cNMF_benchmarking_pipeline/Plotting/JupterNote_Version/cNMF_k_selection.ipynb","contentType":"file"},{"name":"cNMF_perturbed_gene_analysis.ipynb","path":"cNMF_benchmarking_pipeline/Plotting/JupterNote_Version/cNMF_perturbed_gene_analysis.ipynb","contentType":"file"},{"name":"cNMF_program_analysis.ipynb","path":"cNMF_benchmarking_pipeline/Plotting/JupterNote_Version/cNMF_program_analysis.ipynb","contentType":"file"},{"name":"perturbed_gene_analysis_example.pdf","path":"cNMF_benchmarking_pipeline/Plotting/JupterNote_Version/perturbed_gene_analysis_example.pdf","contentType":"file"}],"totalCount":5},"cNMF_benchmarking_pipeline/Plotting":{"items":[{"name":"JupterNote_Version","path":"cNMF_benchmarking_pipeline/Plotting/JupterNote_Version","contentType":"directory"},{"name":"Slurm_Version","path":"cNMF_benchmarking_pipeline/Plotting/Slurm_Version","contentType":"directory"},{"name":"src","path":"cNMF_benchmarking_pipeline/Plotting/src","contentType":"directory"},{"name":"environment.yml","path":"cNMF_benchmarking_pipeline/Plotting/environment.yml","contentType":"file"}],"totalCount":4},"cNMF_benchmarking_pipeline":{"items":[{"name":"Evaluation","path":"cNMF_benchmarking_pipeline/Evaluation","contentType":"directory"},{"name":"Inference","path":"cNMF_benchmarking_pipeline/Inference","contentType":"directory"},{"name":"Plotting","path":"cNMF_benchmarking_pipeline/Plotting","contentType":"directory"}],"totalCount":3},"":{"items":[{"name":"NMF_benchmarking_pipeline","path":"NMF_benchmarking_pipeline","contentType":"directory"},{"name":"cNMF_benchmarking_pipeline","path":"cNMF_benchmarking_pipeline","contentType":"directory"},{"name":".gitignore","path":".gitignore","contentType":"file"},{"name":"README.md","path":"README.md","contentType":"file"}],"totalCount":4}},"fileTreeProcessingTime":47.216201,"foldersToFetch":[],"incompleteFileTree":false,"repo":{"id":1033508772,"defaultBranch":"main","name":"cNMF_benchmarking","ownerLogin":"EngreitzLab","currentUserCanPush":false,"isFork":false,"isEmpty":false,"createdAt":"2025-08-06T23:43:35.000Z","ownerAvatar":"https://avatars.githubusercontent.com/u/58485330?v=4","public":true,"private":false,"isOrgOwned":true},"codeLineWrapEnabled":false,"symbolsExpanded":false,"treeExpanded":true,"refInfo":{"name":"main","listCacheKey":"v0:1754679549.0","canEdit":false,"refType":"branch","currentOid":"2dedfab01289701ad3ba34f9b2233953775647c3","canEditOnDefaultBranch":false,"fileExistsOnDefault":true},"path":"cNMF_benchmarking_pipeline/Plotting/JupterNote_Version/cNMF_k_selection.ipynb","currentUser":null,"blob":{"rawLines":["{"," \"cells\": [","  {","   \"cell_type\": \"code\",","   \"execution_count\": 1,","   \"metadata\": {},","   \"outputs\": [","    {","     \"name\": \"stderr\",","     \"output_type\": \"stream\",","     \"text\": [","      \"/home/users/ymo/.local/lib/python3.9/site-packages/tqdm/auto.py:21: TqdmWarning: IProgress not found. Please update jupyter and ipywidgets. See https://ipywidgets.readthedocs.io/en/stable/user_install.html\\n\",","      \"  from .autonotebook import tqdm as notebook_tqdm\\n\"","     ]","    }","   ],","   \"source\": [","    \"import sys\\n\",","    \"\\n\",","    \"# Change path to wherever you have repo locally\\n\",","    \"sys.path.append('/oak/stanford/groups/engreitz/Users/ymo/Tools/cNMF_benchmarking/cNMF_benchmarking_pipeline')\\n\",","    \"\\n\",","    \"from Plotting.src import (load_stablity_error_data, plot_stablity_error,\\\\\\n\",","    \"                               load_enrichment_data, plot_enrichment,\\\\\\n\",","    \"                               load_perturbation_data, plot_perturbation,\\\\\\n\",","    \"                               load_explained_variance_data,plot_explained_variance\\n\",","    \"                          )\"","   ]","  },","  {","   \"cell_type\": \"code\",","   \"execution_count\": 2,","   \"metadata\": {},","   \"outputs\": [],","   \"source\": [","    \"output_directory = \\\"/oak/stanford/groups/engreitz/Users/ymo/NMF_re-inplementing/Results/torch-cNMF_evaluation/batch/v100\\\"\\n\",","    \"run_name = \\\"092525_100k_cells_10iter_torch_halsvar_batch_e7_v100s\\\"\\n\",","    \"folder = f\\\"{output_directory}/{run_name}/Eval\\\"\\n\",","    \"components = [30, 50, 60, 80, 100, 200, 250, 300]\\n\"","   ]","  },","  {","   \"cell_type\": \"markdown\",","   \"metadata\": {},","   \"source\": [","    \"# Stability \u0026 Error\"","   ]","  },","  {","   \"cell_type\": \"code\",","   \"execution_count\": 3,","   \"metadata\": {},","   \"outputs\": [","    {","     \"name\": \"stdout\",","     \"output_type\": \"stream\",","     \"text\": [","      \"Using sklearn nmf coordinate descent to refit\\n\",","      \"sklearn refit completed\\n\",","      \"Using sklearn nmf coordinate descent to refit\\n\",","      \"sklearn refit completed\\n\",","      \"Using sklearn nmf coordinate descent to refit\\n\",","      \"sklearn refit completed\\n\",","      \"Using sklearn nmf coordinate descent to refit\\n\",","      \"sklearn refit completed\\n\",","      \"Using sklearn nmf coordinate descent to refit\\n\",","      \"sklearn refit completed\\n\",","      \"Using sklearn nmf coordinate descent to refit\\n\",","      \"sklearn refit completed\\n\",","      \"Using sklearn nmf coordinate descent to refit\\n\",","      \"sklearn refit completed\\n\",","      \"Using sklearn nmf coordinate descent to refit\\n\",","      \"sklearn refit completed\\n\",","      \"min stablity is 0.5197985172271729\\n\",","      \"max stablity is 0.7523065209388733\\n\",","      \"min error is 431776755.05348337\\n\",","      \"max error is 459270580.5351356\\n\"","     ]","    },","    {","     \"data\": {","      \"text/html\": [","       \"\u003cdiv\u003e\\n\",","       \"\u003cstyle scoped\u003e\\n\",","       \"    .dataframe tbody tr th:only-of-type {\\n\",","       \"        vertical-align: middle;\\n\",","       \"    }\\n\",","       \"\\n\",","       \"    .dataframe tbody tr th {\\n\",","       \"        vertical-align: top;\\n\",","       \"    }\\n\",","       \"\\n\",","       \"    .dataframe thead th {\\n\",","       \"        text-align: right;\\n\",","       \"    }\\n\",","       \"\u003c/style\u003e\\n\",","       \"\u003ctable border=\\\"1\\\" class=\\\"dataframe\\\"\u003e\\n\",","       \"  \u003cthead\u003e\\n\",","       \"    \u003ctr style=\\\"text-align: right;\\\"\u003e\\n\",","       \"      \u003cth\u003e\u003c/th\u003e\\n\",","       \"      \u003cth\u003ek\u003c/th\u003e\\n\",","       \"      \u003cth\u003elocal_density_threshold\u003c/th\u003e\\n\",","       \"      \u003cth\u003esilhouette\u003c/th\u003e\\n\",","       \"      \u003cth\u003eprediction_error\u003c/th\u003e\\n\",","       \"    \u003c/tr\u003e\\n\",","       \"  \u003c/thead\u003e\\n\",","       \"  \u003ctbody\u003e\\n\",","       \"    \u003ctr\u003e\\n\",","       \"      \u003cth\u003estats\u003c/th\u003e\\n\",","       \"      \u003ctd\u003e30.0\u003c/td\u003e\\n\",","       \"      \u003ctd\u003e2.0\u003c/td\u003e\\n\",","       \"      \u003ctd\u003e0.747687\u003c/td\u003e\\n\",","       \"      \u003ctd\u003e4.592706e+08\u003c/td\u003e\\n\",","       \"    \u003c/tr\u003e\\n\",","       \"    \u003ctr\u003e\\n\",","       \"      \u003cth\u003estats\u003c/th\u003e\\n\",","       \"      \u003ctd\u003e50.0\u003c/td\u003e\\n\",","       \"      \u003ctd\u003e2.0\u003c/td\u003e\\n\",","       \"      \u003ctd\u003e0.752307\u003c/td\u003e\\n\",","       \"      \u003ctd\u003e4.564247e+08\u003c/td\u003e\\n\",","       \"    \u003c/tr\u003e\\n\",","       \"    \u003ctr\u003e\\n\",","       \"      \u003cth\u003estats\u003c/th\u003e\\n\",","       \"      \u003ctd\u003e60.0\u003c/td\u003e\\n\",","       \"      \u003ctd\u003e2.0\u003c/td\u003e\\n\",","       \"      \u003ctd\u003e0.724406\u003c/td\u003e\\n\",","       \"      \u003ctd\u003e4.552712e+08\u003c/td\u003e\\n\",","       \"    \u003c/tr\u003e\\n\",","       \"    \u003ctr\u003e\\n\",","       \"      \u003cth\u003estats\u003c/th\u003e\\n\",","       \"      \u003ctd\u003e80.0\u003c/td\u003e\\n\",","       \"      \u003ctd\u003e2.0\u003c/td\u003e\\n\",","       \"      \u003ctd\u003e0.637323\u003c/td\u003e\\n\",","       \"      \u003ctd\u003e4.531705e+08\u003c/td\u003e\\n\",","       \"    \u003c/tr\u003e\\n\",","       \"    \u003ctr\u003e\\n\",","       \"      \u003cth\u003estats\u003c/th\u003e\\n\",","       \"      \u003ctd\u003e100.0\u003c/td\u003e\\n\",","       \"      \u003ctd\u003e2.0\u003c/td\u003e\\n\",","       \"      \u003ctd\u003e0.641367\u003c/td\u003e\\n\",","       \"      \u003ctd\u003e4.511961e+08\u003c/td\u003e\\n\",","       \"    \u003c/tr\u003e\\n\",","       \"    \u003ctr\u003e\\n\",","       \"      \u003cth\u003estats\u003c/th\u003e\\n\",","       \"      \u003ctd\u003e200.0\u003c/td\u003e\\n\",","       \"      \u003ctd\u003e2.0\u003c/td\u003e\\n\",","       \"      \u003ctd\u003e0.544040\u003c/td\u003e\\n\",","       \"      \u003ctd\u003e4.411415e+08\u003c/td\u003e\\n\",","       \"    \u003c/tr\u003e\\n\",","       \"    \u003ctr\u003e\\n\",","       \"      \u003cth\u003estats\u003c/th\u003e\\n\",","       \"      \u003ctd\u003e250.0\u003c/td\u003e\\n\",","       \"      \u003ctd\u003e2.0\u003c/td\u003e\\n\",","       \"      \u003ctd\u003e0.524839\u003c/td\u003e\\n\",","       \"      \u003ctd\u003e4.366008e+08\u003c/td\u003e\\n\",","       \"    \u003c/tr\u003e\\n\",","       \"    \u003ctr\u003e\\n\",","       \"      \u003cth\u003estats\u003c/th\u003e\\n\",","       \"      \u003ctd\u003e300.0\u003c/td\u003e\\n\",","       \"      \u003ctd\u003e2.0\u003c/td\u003e\\n\",","       \"      \u003ctd\u003e0.519799\u003c/td\u003e\\n\",","       \"      \u003ctd\u003e4.317768e+08\u003c/td\u003e\\n\",","       \"    \u003c/tr\u003e\\n\",","       \"  \u003c/tbody\u003e\\n\",","       \"\u003c/table\u003e\\n\",","       \"\u003c/div\u003e\"","      ],","      \"text/plain\": [","       \"           k  local_density_threshold  silhouette  prediction_error\\n\",","       \"stats   30.0                      2.0    0.747687      4.592706e+08\\n\",","       \"stats   50.0                      2.0    0.752307      4.564247e+08\\n\",","       \"stats   60.0                      2.0    0.724406      4.552712e+08\\n\",","       \"stats   80.0                      2.0    0.637323      4.531705e+08\\n\",","       \"stats  100.0                      2.0    0.641367      4.511961e+08\\n\",","       \"stats  200.0                      2.0    0.544040      4.411415e+08\\n\",","       \"stats  250.0                      2.0    0.524839      4.366008e+08\\n\",","       \"stats  300.0                      2.0    0.519799      4.317768e+08\"","      ]","     },","     \"execution_count\": 3,","     \"metadata\": {},","     \"output_type\": \"execute_result\"","    }","   ],","   \"source\": [","    \"stats = load_stablity_error_data( output_directory = output_directory, run_name = run_name, components = components,\\n\",","    \"density_threshold = 2.0, local_neighborhood_size = 0.3)\\n\",","    \"stats\"","   ]","  },","  {","   \"cell_type\": \"code\",","   \"execution_count\": 4,","   \"metadata\": {},","   \"outputs\": [","    {","     \"data\": {","      \"image/png\": \"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\",","      \"text/plain\": [","       \"\u003cFigure size 800x800 with 2 Axes\u003e\"","      ]","     },","     \"metadata\": {},","     \"output_type\": \"display_data\"","    }","   ],","   \"source\": [","    \"plot_stablity_error(stats)\"","   ]","  },","  {","   \"cell_type\": \"markdown\",","   \"metadata\": {},","   \"source\": [","    \"# Enrichement tests\"","   ]","  },","  {","   \"cell_type\": \"code\",","   \"execution_count\": 6,","   \"metadata\": {},","   \"outputs\": [","    {","     \"name\": \"stdout\",","     \"output_type\": \"stream\",","     \"text\": [","      \"min go_terms is 679\\n\",","      \"max go_terms is 860\\n\",","      \"min genesets is 400\\n\",","      \"max genesets is 478\\n\",","      \"min traits is 249\\n\",","      \"max traits is 329\\n\"","     ]","    },","    {","     \"data\": {","      \"image/png\": \"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\",","      \"text/plain\": [","       \"\u003cFigure size 800x800 with 3 Axes\u003e\"","      ]","     },","     \"metadata\": {},","     \"output_type\": \"display_data\"","    }","   ],","   \"source\": [","    \"count_df = load_enrichment_data(folder, components = components)\\n\",","    \"plot_enrichment(count_df)\"","   ]","  },","  {","   \"cell_type\": \"markdown\",","   \"metadata\": {},","   \"source\": [","    \"# Perturbation\"","   ]","  },","  {","   \"cell_type\": \"code\",","   \"execution_count\": 7,","   \"metadata\": {},","   \"outputs\": [","    {","     \"name\": \"stdout\",","     \"output_type\": \"stream\",","     \"text\": [","      \"min regulators is 199\\n\",","      \"max regulators is 235\\n\"","     ]","    },","    {","     \"data\": {","      \"image/png\": \"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\",","      \"text/plain\": [","       \"\u003cFigure size 500x500 with 2 Axes\u003e\"","      ]","     },","     \"metadata\": {},","     \"output_type\": \"display_data\"","    }","   ],","   \"source\": [","    \"test_stats_df = load_perturbation_data(folder, components = components)\\n\",","    \"plot_perturbation(test_stats_df)\"","   ]","  },","  {","   \"cell_type\": \"markdown\",","   \"metadata\": {},","   \"source\": [","    \"# Explained Variance\"","   ]","  },","  {","   \"cell_type\": \"code\",","   \"execution_count\": 8,","   \"metadata\": {},","   \"outputs\": [","    {","     \"name\": \"stdout\",","     \"output_type\": \"stream\",","     \"text\": [","      \"min Explained_variance is 8.284748525144714e-05\\n\",","      \"max Explained_variance is 0.0001550843838393\\n\"","     ]","    },","    {","     \"data\": {","      \"image/png\": \"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\",","      \"text/plain\": [","       \"\u003cFigure size 400x200 with 1 Axes\u003e\"","      ]","     },","     \"metadata\": {},","     \"output_type\": \"display_data\"","    }","   ],","   \"source\": [","    \"stats = load_explained_variance_data(folder, components=components)\\n\",","    \"plot_explained_variance(stats)\"","   ]","  },","  {","   \"cell_type\": \"markdown\",","   \"metadata\": {},","   \"source\": [","    \"# Motif (working in progress for complie the results)\"","   ]","  },","  {","   \"cell_type\": \"code\",","   \"execution_count\": 20,","   \"metadata\": {},","   \"outputs\": [],","   \"source\": [","    \"def collect_motif_data(k, path):\\n\",","    \"\\n\",","    \"    motif_enrichment_data = []\\n\",","    \"\\n\",","    \"    path = f'{path}/{k}'\\n\",","    \"\\n\",","    \"    # import data \\n\",","    \"    for fil in os.listdir(path):\\n\",","    \"        if 'motif_enrichment' in fil:\\n\",","    \"            motif_enrichment_data_ = pd.read_csv('{}/{}'.format(path,fil), sep='\\\\t')\\n\",","    \"            motif_enrichment_data_['sample'] = fil.split('sample_')[-1].split('_motif')[0]\\n\",","    \"            if 'promoter' in fil:\\n\",","    \"                motif_enrichment_data_['class'] = 'promoter'\\n\",","    \"            elif 'enhancer' in fil:\\n\",","    \"                motif_enrichment_data_['class'] = 'enhancer'            \\n\",","    \"\\n\",","    \"            motif_enrichment_data.append(motif_enrichment_data_)\\n\",","    \"\\n\",","    \"    motif_enrichment_data = pd.concat(motif_enrichment_data, ignore_index=True)\\n\",","    \"    motif_enrichment_data.rename(columns={\\\"adj_pval\\\": \\\"Adjusted P-value\\\"}, inplace=True)\\n\",","    \"\\n\",","    \"    motif_enrichment_data.to_csv(f'{path}/{k}_motif_enrichment.txt', sep='\\\\t')\\n\",","    \"    motif_enrichment_data.loc[motif_enrichment_data['class']=='promoter'].to_csv(f'{path}/{k}_motif_enrichment_promoter.txt', sep='\\\\t')\\n\",","    \"    motif_enrichment_data.loc[motif_enrichment_data['class']=='enhancer'].to_csv(f'{path}/{k}_motif_enrichment_enhancer.txt', sep='\\\\t')\\n\",","    \"\\n\",","    \"\\n\",","    \"    # Make summary table column\\n\",","    \"    for seq_class in ['promoter', 'enhancer']:\\n\",","    \"        motif_enrichment_data_ = motif_enrichment_data.loc[motif_enrichment_data['class']==seq_class]\\n\",","    \"        motif_enrichment_data_ = motif_enrichment_data_.groupby(['sample', 'program_name', 'motif']).min().reset_index()\\n\",","    \"\\n\",","    \"        motif_summary_data = pd.DataFrame(index=motif_enrichment_data_.program_name.unique(), columns=['top10_motifs', 'num_enriched_motifs'])\\n\",","    \"        for prog in motif_enrichment_data_.program_name.unique():\\n\",","    \"            motif_summary_data_ = motif_enrichment_data_.loc[(motif_enrichment_data_.program_name==prog) \u0026 ((motif_enrichment_data_[\\\"Adjusted P-value\\\"]\u003c=0.05))]\\n\",","    \"            motif_summary_data_ = motif_summary_data_.sort_values('stat', ascending=False).head(10).motif.values\\n\",","    \"            motif_summary_data.loc[prog,'top10_motifs'] = ', '.join(motif_summary_data_.tolist())\\n\",","    \"            motif_summary_data.loc[prog, 'num_enriched_motifs'] = motif_enrichment_data_.loc[(motif_enrichment_data_.program_name==prog) \u0026 ((motif_enrichment_data_.adj_pval\u003c=0.05))].shape[0]\\n\",","    \"            \\n\",","    \"        motif_summary_data.to_csv('{}/motif_summary_data_{}.txt'.format(path,seq_class), sep='\\\\t')\\n\",","    \"        \\n\",","    \"\\n\",","    \"def collect_motif_all(path, components = [30, 50, 60, 80, 100, 200, 250, 300]):\\n\",","    \"\\n\",","    \"    for k in components:\\n\",","    \"        collect_motif_data(k, path)\\n\",","    \"    \\n\",","    \"collect_motif_all(path)\"","   ]","  },","  {","   \"cell_type\": \"code\",","   \"execution_count\": null,","   \"metadata\": {},","   \"outputs\": [],","   \"source\": [","    \"path = '/oak/stanford/groups/engreitz/Users/ymo/NMF_re-inplementing/Results/torch-cNMF_evaluation/090425_100k_cells_10iter_torch_mu_online/Eval/'\\n\",","    \"\\n\",","    \"\\n\",","    \"collect_motif_data(50,path)\"","   ]","  },","  {","   \"cell_type\": \"code\",","   \"execution_count\": 4,","   \"metadata\": {},","   \"outputs\": [],","   \"source\": [","    \"    \\n\",","    \"# # Copy out to dashboard\\n\",","    \"# out_dir = '../../shared/250110_ipsc_ec_dashboard_setup/cNMF_100/'\\n\",","    \"# for fil in os.listdir('cNMF_100'):\\n\",","    \"#     if 'motif_' in fil:\\n\",","    \"#         class_ = fil.split('_')[1]\\n\",","    \"#         name = fil.split('_sample_')[1]\\n\",","    \"#         new_nam = f'cNMF_100_{class_}_test_pearsonr_sample_{name}'\\n\",","    \"#         if not name.startswith('D0'):\\n\",","    \"#             new_nam = new_nam.replace('sample_', 'sample_sample_')\\n\",","    \"#         os.system('cp {} {}'.format(os.path.join('cNMF_100', fil),\\n\",","    \"#                                     os.path.join(out_dir, new_nam)))\"","   ]","  }"," ],"," \"metadata\": {","  \"kernelspec\": {","   \"display_name\": \"evaluation\",","   \"language\": \"python\",","   \"name\": \"python3\"","  },","  \"language_info\": {","   \"codemirror_mode\": {","    \"name\": \"ipython\",","    \"version\": 3","   },","   \"file_extension\": \".py\",","   \"mimetype\": \"text/x-python\",","   \"name\": \"python\",","   \"nbconvert_exporter\": \"python\",","   \"pygments_lexer\": \"ipython3\",","   \"version\": \"3.9.23\"","  },","  \"orig_nbformat\": 4"," },"," \"nbformat\": 4,"," \"nbformat_minor\": 2","}"],"stylingDirectives":null,"colorizedLines":null,"csv":null,"csvError":null,"copilotSWEAgentEnabled":false,"dependabotInfo":{"showConfigurationBanner":false,"configFilePath":null,"networkDependabotPath":"/EngreitzLab/cNMF_benchmarking/network/updates","dismissConfigurationNoticePath":"/settings/dismiss-notice/dependabot_configuration_notice","configurationNoticeDismissed":null},"displayName":"cNMF_k_selection.ipynb","displayUrl":"https://notebooks.githubusercontent.com/view/ipynb?browser=unknown_browser\u0026bypass_fastly=true\u0026color_mode=auto\u0026commit=2dedfab01289701ad3ba34f9b2233953775647c3\u0026device=unknown_device\u0026docs_host=https%3A%2F%2Fdocs.github.com\u0026enc_url=68747470733a2f2f7261772e67697468756275736572636f6e74656e742e636f6d2f456e67726569747a4c61622f634e4d465f62656e63686d61726b696e672f326465646661623031323839373031616433626133346639623232333339353337373536343763332f634e4d465f62656e63686d61726b696e675f706970656c696e652f506c6f7474696e672f4a75707465724e6f74655f56657273696f6e2f634e4d465f6b5f73656c656374696f6e2e6970796e62\u0026logged_in=false\u0026nwo=EngreitzLab%2FcNMF_benchmarking\u0026path=cNMF_benchmarking_pipeline%2FPlotting%2FJupterNote_Version%2FcNMF_k_selection.ipynb\u0026platform=unknown_platform\u0026repository_id=1033508772\u0026repository_type=Repository\u0026version=0","headerInfo":{"blobSize":"216 KB","deleteTooltip":"You must be signed in to make or propose changes","editTooltip":"You must be signed in to make or propose changes","ghDesktopPath":"https://desktop.github.com","isGitLfs":false,"onBranch":true,"shortPath":"6fc592d","siteNavLoginPath":"/login?return_to=https%3A%2F%2Fgithub.com%2FEngreitzLab%2FcNMF_benchmarking%2Fblob%2Fmain%2FcNMF_benchmarking_pipeline%2FPlotting%2FJupterNote_Version%2FcNMF_k_selection.ipynb","isCSV":false,"isRichtext":false,"toc":null,"lineInfo":{"truncatedLoc":"440","truncatedSloc":"440"},"mode":"file"},"image":false,"isCodeownersFile":null,"isPlain":false,"isValidLegacyIssueTemplate":false,"issueTemplate":null,"discussionTemplate":null,"language":"Jupyter Notebook","languageID":185,"large":false,"planSupportInfo":{"repoIsFork":null,"repoOwnedByCurrentUser":null,"requestFullPath":"/EngreitzLab/cNMF_benchmarking/blob/main/cNMF_benchmarking_pipeline/Plotting/JupterNote_Version/cNMF_k_selection.ipynb","showFreeOrgGatedFeatureMessage":null,"showPlanSupportBanner":null,"upgradeDataAttributes":null,"upgradePath":null},"publishBannersInfo":{"dismissActionNoticePath":"/settings/dismiss-notice/publish_action_from_dockerfile","releasePath":"/EngreitzLab/cNMF_benchmarking/releases/new?marketplace=true","showPublishActionBanner":false},"rawBlobUrl":"https://github.com/EngreitzLab/cNMF_benchmarking/raw/refs/heads/main/cNMF_benchmarking_pipeline/Plotting/JupterNote_Version/cNMF_k_selection.ipynb","renderImageOrRaw":false,"richText":null,"renderedFileInfo":{"identityUUID":"c215c351-9336-41c2-b2e8-8f9b074407b6","renderFileType":"ipynb","size":221494},"shortPath":null,"symbolsEnabled":true,"tabSize":4,"topBannersInfo":{"overridingGlobalFundingFile":false,"globalPreferredFundingPath":null,"showInvalidCitationWarning":false,"citationHelpUrl":"https://docs.github.com/github/creating-cloning-and-archiving-repositories/creating-a-repository-on-github/about-citation-files","actionsOnboardingTip":null},"truncated":false,"viewable":true,"workflowRedirectUrl":null,"symbols":{"timed_out":false,"not_analyzed":true,"symbols":[]}},"copilotInfo":null,"copilotAccessAllowed":false,"modelsAccessAllowed":false,"modelsRepoIntegrationEnabled":false,"isMarketplaceEnabled":true,"csrf_tokens":{"/EngreitzLab/cNMF_benchmarking/branches":{"post":"bPYihbMmrZcNEAucTc6hP985vB2DLyYtOPeaglwPFDnNpOxNY-pG6LcLFVptK120ou0RIQ4LFh9QLY1SJSMHbQ"},"/repos/preferences":{"post":"7o-_uHNj3CEu3T_03l3AWsB0y8BGPTy00xZkMvqEfPjxcOakEHw94xU7w7qccQvP6HgD1ZMBMoEoreCwDQTE5A"}}},"title":"cNMF_benchmarking/cNMF_benchmarking_pipeline/Plotting/JupterNote_Version/cNMF_k_selection.ipynb at main · EngreitzLab/cNMF_benchmarking","appPayload":{"helpUrl":"https://docs.github.com","findFileWorkerPath":"/assets-cdn/worker/find-file-worker-9bd411a8e273.js","findInFileWorkerPath":"/assets-cdn/worker/find-in-file-worker-4747241b1152.js","githubDevUrl":null,"enabled_features":{"code_nav_ui_events":false,"react_blob_overlay":false,"accessible_code_button":true}}}</script>
  <div data-target="react-app.reactRoot"></div>
</react-app>
</turbo-frame>



  </div>

</turbo-frame>

    </main>
  </div>

  </div>

          <footer class="footer pt-8 pb-6 f6 color-fg-muted p-responsive" role="contentinfo" >
  <h2 class='sr-only'>Footer</h2>

  


  <div class="d-flex flex-justify-center flex-items-center flex-column-reverse flex-lg-row flex-wrap flex-lg-nowrap">
    <div class="d-flex flex-items-center flex-shrink-0 mx-2">
      <a aria-label="GitHub Homepage" class="footer-octicon mr-2" href="https://github.com">
        <svg aria-hidden="true" height="24" viewBox="0 0 24 24" version="1.1" width="24" data-view-component="true" class="octicon octicon-mark-github">
    <path d="M12 1C5.923 1 1 5.923 1 12c0 4.867 3.149 8.979 7.521 10.436.55.096.756-.233.756-.522 0-.262-.013-1.128-.013-2.049-2.764.509-3.479-.674-3.699-1.292-.124-.317-.66-1.293-1.127-1.554-.385-.207-.936-.715-.014-.729.866-.014 1.485.797 1.691 1.128.99 1.663 2.571 1.196 3.204.907.096-.715.385-1.196.701-1.471-2.448-.275-5.005-1.224-5.005-5.432 0-1.196.426-2.186 1.128-2.956-.111-.275-.496-1.402.11-2.915 0 0 .921-.288 3.024 1.128a10.193 10.193 0 0 1 2.75-.371c.936 0 1.871.123 2.75.371 2.104-1.43 3.025-1.128 3.025-1.128.605 1.513.221 2.64.111 2.915.701.77 1.127 1.747 1.127 2.956 0 4.222-2.571 5.157-5.019 5.432.399.344.743 1.004.743 2.035 0 1.471-.014 2.654-.014 3.025 0 .289.206.632.756.522C19.851 20.979 23 16.854 23 12c0-6.077-4.922-11-11-11Z"></path>
</svg>
</a>
      <span>
        &copy; 2025 GitHub,&nbsp;Inc.
      </span>
    </div>

    <nav aria-label="Footer">
      <h3 class="sr-only" id="sr-footer-heading">Footer navigation</h3>

      <ul class="list-style-none d-flex flex-justify-center flex-wrap mb-2 mb-lg-0" aria-labelledby="sr-footer-heading">

          <li class="mx-2">
            <a data-analytics-event="{&quot;category&quot;:&quot;Footer&quot;,&quot;action&quot;:&quot;go to Terms&quot;,&quot;label&quot;:&quot;text:terms&quot;}" href="https://docs.github.com/site-policy/github-terms/github-terms-of-service" data-view-component="true" class="Link--secondary Link">Terms</a>
          </li>

          <li class="mx-2">
            <a data-analytics-event="{&quot;category&quot;:&quot;Footer&quot;,&quot;action&quot;:&quot;go to privacy&quot;,&quot;label&quot;:&quot;text:privacy&quot;}" href="https://docs.github.com/site-policy/privacy-policies/github-privacy-statement" data-view-component="true" class="Link--secondary Link">Privacy</a>
          </li>

          <li class="mx-2">
            <a data-analytics-event="{&quot;category&quot;:&quot;Footer&quot;,&quot;action&quot;:&quot;go to security&quot;,&quot;label&quot;:&quot;text:security&quot;}" href="https://github.com/security" data-view-component="true" class="Link--secondary Link">Security</a>
          </li>

          <li class="mx-2">
            <a data-analytics-event="{&quot;category&quot;:&quot;Footer&quot;,&quot;action&quot;:&quot;go to status&quot;,&quot;label&quot;:&quot;text:status&quot;}" href="https://www.githubstatus.com/" data-view-component="true" class="Link--secondary Link">Status</a>
          </li>

          <li class="mx-2">
            <a data-analytics-event="{&quot;category&quot;:&quot;Footer&quot;,&quot;action&quot;:&quot;go to community&quot;,&quot;label&quot;:&quot;text:community&quot;}" href="https://github.community/" data-view-component="true" class="Link--secondary Link">Community</a>
          </li>

          <li class="mx-2">
            <a data-analytics-event="{&quot;category&quot;:&quot;Footer&quot;,&quot;action&quot;:&quot;go to docs&quot;,&quot;label&quot;:&quot;text:docs&quot;}" href="https://docs.github.com/" data-view-component="true" class="Link--secondary Link">Docs</a>
          </li>

          <li class="mx-2">
            <a data-analytics-event="{&quot;category&quot;:&quot;Footer&quot;,&quot;action&quot;:&quot;go to contact&quot;,&quot;label&quot;:&quot;text:contact&quot;}" href="https://support.github.com?tags=dotcom-footer" data-view-component="true" class="Link--secondary Link">Contact</a>
          </li>

          <li class="mx-2" >
  <cookie-consent-link>
    <button
      type="button"
      class="Link--secondary underline-on-hover border-0 p-0 color-bg-transparent"
      data-action="click:cookie-consent-link#showConsentManagement"
      data-analytics-event="{&quot;location&quot;:&quot;footer&quot;,&quot;action&quot;:&quot;cookies&quot;,&quot;context&quot;:&quot;subfooter&quot;,&quot;tag&quot;:&quot;link&quot;,&quot;label&quot;:&quot;cookies_link_subfooter_footer&quot;}"
    >
       Manage cookies
    </button>
  </cookie-consent-link>
</li>

<li class="mx-2">
  <cookie-consent-link>
    <button
      type="button"
      class="Link--secondary underline-on-hover border-0 p-0 color-bg-transparent text-left"
      data-action="click:cookie-consent-link#showConsentManagement"
      data-analytics-event="{&quot;location&quot;:&quot;footer&quot;,&quot;action&quot;:&quot;dont_share_info&quot;,&quot;context&quot;:&quot;subfooter&quot;,&quot;tag&quot;:&quot;link&quot;,&quot;label&quot;:&quot;dont_share_info_link_subfooter_footer&quot;}"
    >
      Do not share my personal information
    </button>
  </cookie-consent-link>
</li>

      </ul>
    </nav>
  </div>
</footer>



    <ghcc-consent id="ghcc" class="position-fixed bottom-0 left-0" style="z-index: 999999"
      data-locale="en"
      data-initial-cookie-consent-allowed=""
      data-cookie-consent-required="false"
    ></ghcc-consent>




  <div id="ajax-error-message" class="ajax-error-message flash flash-error" hidden>
    <svg aria-hidden="true" height="16" viewBox="0 0 16 16" version="1.1" width="16" data-view-component="true" class="octicon octicon-alert">
    <path d="M6.457 1.047c.659-1.234 2.427-1.234 3.086 0l6.082 11.378A1.75 1.75 0 0 1 14.082 15H1.918a1.75 1.75 0 0 1-1.543-2.575Zm1.763.707a.25.25 0 0 0-.44 0L1.698 13.132a.25.25 0 0 0 .22.368h12.164a.25.25 0 0 0 .22-.368Zm.53 3.996v2.5a.75.75 0 0 1-1.5 0v-2.5a.75.75 0 0 1 1.5 0ZM9 11a1 1 0 1 1-2 0 1 1 0 0 1 2 0Z"></path>
</svg>
    <button type="button" class="flash-close js-ajax-error-dismiss" aria-label="Dismiss error">
      <svg aria-hidden="true" height="16" viewBox="0 0 16 16" version="1.1" width="16" data-view-component="true" class="octicon octicon-x">
    <path d="M3.72 3.72a.75.75 0 0 1 1.06 0L8 6.94l3.22-3.22a.749.749 0 0 1 1.275.326.749.749 0 0 1-.215.734L9.06 8l3.22 3.22a.749.749 0 0 1-.326 1.275.749.749 0 0 1-.734-.215L8 9.06l-3.22 3.22a.751.751 0 0 1-1.042-.018.751.751 0 0 1-.018-1.042L6.94 8 3.72 4.78a.75.75 0 0 1 0-1.06Z"></path>
</svg>
    </button>
    You can’t perform that action at this time.
  </div>

    <template id="site-details-dialog">
  <details class="details-reset details-overlay details-overlay-dark lh-default color-fg-default hx_rsm" open>
    <summary role="button" aria-label="Close dialog"></summary>
    <details-dialog class="Box Box--overlay d-flex flex-column anim-fade-in fast hx_rsm-dialog hx_rsm-modal">
      <button class="Box-btn-octicon m-0 btn-octicon position-absolute right-0 top-0" type="button" aria-label="Close dialog" data-close-dialog>
        <svg aria-hidden="true" height="16" viewBox="0 0 16 16" version="1.1" width="16" data-view-component="true" class="octicon octicon-x">
    <path d="M3.72 3.72a.75.75 0 0 1 1.06 0L8 6.94l3.22-3.22a.749.749 0 0 1 1.275.326.749.749 0 0 1-.215.734L9.06 8l3.22 3.22a.749.749 0 0 1-.326 1.275.749.749 0 0 1-.734-.215L8 9.06l-3.22 3.22a.751.751 0 0 1-1.042-.018.751.751 0 0 1-.018-1.042L6.94 8 3.72 4.78a.75.75 0 0 1 0-1.06Z"></path>
</svg>
      </button>
      <div class="octocat-spinner my-6 js-details-dialog-spinner"></div>
    </details-dialog>
  </details>
</template>

    <div class="Popover js-hovercard-content position-absolute" style="display: none; outline: none;">
  <div class="Popover-message Popover-message--bottom-left Popover-message--large Box color-shadow-large" style="width:360px;">
  </div>
</div>

    <template id="snippet-clipboard-copy-button">
  <div class="zeroclipboard-container position-absolute right-0 top-0">
    <clipboard-copy aria-label="Copy" class="ClipboardButton btn js-clipboard-copy m-2 p-0" data-copy-feedback="Copied!" data-tooltip-direction="w">
      <svg aria-hidden="true" height="16" viewBox="0 0 16 16" version="1.1" width="16" data-view-component="true" class="octicon octicon-copy js-clipboard-copy-icon m-2">
    <path d="M0 6.75C0 5.784.784 5 1.75 5h1.5a.75.75 0 0 1 0 1.5h-1.5a.25.25 0 0 0-.25.25v7.5c0 .138.112.25.25.25h7.5a.25.25 0 0 0 .25-.25v-1.5a.75.75 0 0 1 1.5 0v1.5A1.75 1.75 0 0 1 9.25 16h-7.5A1.75 1.75 0 0 1 0 14.25Z"></path><path d="M5 1.75C5 .784 5.784 0 6.75 0h7.5C15.216 0 16 .784 16 1.75v7.5A1.75 1.75 0 0 1 14.25 11h-7.5A1.75 1.75 0 0 1 5 9.25Zm1.75-.25a.25.25 0 0 0-.25.25v7.5c0 .138.112.25.25.25h7.5a.25.25 0 0 0 .25-.25v-7.5a.25.25 0 0 0-.25-.25Z"></path>
</svg>
      <svg aria-hidden="true" height="16" viewBox="0 0 16 16" version="1.1" width="16" data-view-component="true" class="octicon octicon-check js-clipboard-check-icon color-fg-success d-none m-2">
    <path d="M13.78 4.22a.75.75 0 0 1 0 1.06l-7.25 7.25a.75.75 0 0 1-1.06 0L2.22 9.28a.751.751 0 0 1 .018-1.042.751.751 0 0 1 1.042-.018L6 10.94l6.72-6.72a.75.75 0 0 1 1.06 0Z"></path>
</svg>
    </clipboard-copy>
  </div>
</template>
<template id="snippet-clipboard-copy-button-unpositioned">
  <div class="zeroclipboard-container">
    <clipboard-copy aria-label="Copy" class="ClipboardButton btn btn-invisible js-clipboard-copy m-2 p-0 d-flex flex-justify-center flex-items-center" data-copy-feedback="Copied!" data-tooltip-direction="w">
      <svg aria-hidden="true" height="16" viewBox="0 0 16 16" version="1.1" width="16" data-view-component="true" class="octicon octicon-copy js-clipboard-copy-icon">
    <path d="M0 6.75C0 5.784.784 5 1.75 5h1.5a.75.75 0 0 1 0 1.5h-1.5a.25.25 0 0 0-.25.25v7.5c0 .138.112.25.25.25h7.5a.25.25 0 0 0 .25-.25v-1.5a.75.75 0 0 1 1.5 0v1.5A1.75 1.75 0 0 1 9.25 16h-7.5A1.75 1.75 0 0 1 0 14.25Z"></path><path d="M5 1.75C5 .784 5.784 0 6.75 0h7.5C15.216 0 16 .784 16 1.75v7.5A1.75 1.75 0 0 1 14.25 11h-7.5A1.75 1.75 0 0 1 5 9.25Zm1.75-.25a.25.25 0 0 0-.25.25v7.5c0 .138.112.25.25.25h7.5a.25.25 0 0 0 .25-.25v-7.5a.25.25 0 0 0-.25-.25Z"></path>
</svg>
      <svg aria-hidden="true" height="16" viewBox="0 0 16 16" version="1.1" width="16" data-view-component="true" class="octicon octicon-check js-clipboard-check-icon color-fg-success d-none">
    <path d="M13.78 4.22a.75.75 0 0 1 0 1.06l-7.25 7.25a.75.75 0 0 1-1.06 0L2.22 9.28a.751.751 0 0 1 .018-1.042.751.751 0 0 1 1.042-.018L6 10.94l6.72-6.72a.75.75 0 0 1 1.06 0Z"></path>
</svg>
    </clipboard-copy>
  </div>
</template>




    </div>
    <div id="js-global-screen-reader-notice" class="sr-only mt-n1" aria-live="polite" aria-atomic="true" ></div>
    <div id="js-global-screen-reader-notice-assertive" class="sr-only mt-n1" aria-live="assertive" aria-atomic="true"></div>
  </body>
</html>

