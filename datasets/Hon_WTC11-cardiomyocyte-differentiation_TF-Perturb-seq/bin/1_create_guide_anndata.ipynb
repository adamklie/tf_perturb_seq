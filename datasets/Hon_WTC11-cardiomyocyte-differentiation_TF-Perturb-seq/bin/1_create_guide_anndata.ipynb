{
 "cells": [
  {
   "cell_type": "markdown",
   "metadata": {},
   "source": [
    "# Creating `h5ad` files\n",
    "This notebook builds h5ad files for both gene UMI count matrices and guide assignment matrices."
   ]
  },
  {
   "cell_type": "markdown",
   "metadata": {},
   "source": [
    "# Set-up"
   ]
  },
  {
   "cell_type": "code",
   "execution_count": 1,
   "metadata": {},
   "outputs": [
    {
     "name": "stdout",
     "output_type": "stream",
     "text": [
      "The history saving thread hit an unexpected error (DatabaseError('database disk image is malformed')).History will not be written to the database.\n"
     ]
    }
   ],
   "source": [
    "# imports\n",
    "import os\n",
    "import pandas as pd\n",
    "from scipy.sparse import csr_matrix\n",
    "from scipy.io import mmwrite, mmread\n",
    "import anndata as ad"
   ]
  },
  {
   "cell_type": "code",
   "execution_count": 2,
   "metadata": {},
   "outputs": [],
   "source": [
    "# paths\n",
    "path_guide_assignments = \"/cellar/users/aklie/data/datasets/tf_perturb_seq/datasets/Hon_WTC11-cardiomyocyte-differentiation_TF-Perturb-seq/Perturbation_information/cell_x_sgrna_matrix.pkl\"\n",
    "path_id_master = \"/cellar/users/aklie/data/datasets/tf_perturb_seq/ref/sgRNA_id_master.tsv\"\n",
    "\n",
    "path_out = \"/cellar/users/aklie/data/datasets/tf_perturb_seq/datasets/Hon_WTC11-cardiomyocyte-differentiation_TF-Perturb-seq/Perturbation_information\"\n",
    "os.makedirs(path_out, exist_ok=True)"
   ]
  },
  {
   "cell_type": "markdown",
   "metadata": {},
   "source": [
    "# Load auxiliary data"
   ]
  },
  {
   "cell_type": "code",
   "execution_count": 3,
   "metadata": {},
   "outputs": [],
   "source": [
    "# Load the id mapping\n",
    "id_master = pd.read_csv(path_id_master, sep=\"\\t\")"
   ]
  },
  {
   "cell_type": "code",
   "execution_count": 4,
   "metadata": {},
   "outputs": [
    {
     "data": {
      "text/plain": [
       "targeting           13147\n",
       "non_targeting         600\n",
       "negative_control      598\n",
       "positive_control       19\n",
       "Name: type, dtype: int64"
      ]
     },
     "execution_count": 4,
     "metadata": {},
     "output_type": "execute_result"
    }
   ],
   "source": [
    "id_master[\"type\"].value_counts()"
   ]
  },
  {
   "cell_type": "markdown",
   "metadata": {},
   "source": [
    "# Load guide assignments"
   ]
  },
  {
   "cell_type": "code",
   "execution_count": 5,
   "metadata": {},
   "outputs": [
    {
     "data": {
      "text/plain": [
       "(11619, 739192)"
      ]
     },
     "execution_count": 5,
     "metadata": {},
     "output_type": "execute_result"
    }
   ],
   "source": [
    "# Read the guide assignments for this dataset\n",
    "guide_assignments = pd.read_pickle(path_guide_assignments)\n",
    "guide_ids = guide_assignments.index\n",
    "guide_assignments.shape"
   ]
  },
  {
   "cell_type": "code",
   "execution_count": 6,
   "metadata": {},
   "outputs": [
    {
     "data": {
      "text/plain": [
       "11619"
      ]
     },
     "execution_count": 6,
     "metadata": {},
     "output_type": "execute_result"
    }
   ],
   "source": [
    "# Check how many guides are in the master\n",
    "in_master_msk = guide_ids.isin(id_master[\"protospacer_ID\"])\n",
    "in_master_msk.sum()"
   ]
  },
  {
   "cell_type": "code",
   "execution_count": 7,
   "metadata": {},
   "outputs": [
    {
     "name": "stdout",
     "output_type": "stream",
     "text": [
      "Don't need to subset\n"
     ]
    },
    {
     "data": {
      "text/plain": [
       "(11619, 739192)"
      ]
     },
     "execution_count": 7,
     "metadata": {},
     "output_type": "execute_result"
    }
   ],
   "source": [
    "# Subset the guide assignments to only include those in the master\n",
    "if in_master_msk.sum() < guide_assignments.shape[0]:\n",
    "    print(f\"Subsetting guide assignments to only include {in_master_msk.sum()} guides in the master.\")\n",
    "    guide_assignments_subset = guide_assignments.loc[in_master_msk]\n",
    "else:\n",
    "    print(f\"Don't need to subset\")\n",
    "    guide_assignments_subset = guide_assignments\n",
    "guide_assignments_subset.shape"
   ]
  },
  {
   "cell_type": "code",
   "execution_count": 8,
   "metadata": {},
   "outputs": [
    {
     "data": {
      "text/plain": [
       "0"
      ]
     },
     "execution_count": 8,
     "metadata": {},
     "output_type": "execute_result"
    }
   ],
   "source": [
    "# Any troublesome NaNs?\n",
    "guide_assignments_subset.isna().sum().sum()"
   ]
  },
  {
   "cell_type": "code",
   "execution_count": 9,
   "metadata": {},
   "outputs": [
    {
     "data": {
      "text/plain": [
       "(739192, 11619)"
      ]
     },
     "execution_count": 9,
     "metadata": {},
     "output_type": "execute_result"
    }
   ],
   "source": [
    "# Convert to sparse matrix\n",
    "guide_assignments_sparse = csr_matrix(guide_assignments_subset.T)\n",
    "guide_assignments_sparse.shape"
   ]
  },
  {
   "cell_type": "markdown",
   "metadata": {},
   "source": [
    "# Write 10X matrix format"
   ]
  },
  {
   "cell_type": "code",
   "execution_count": 10,
   "metadata": {},
   "outputs": [],
   "source": [
    "os.makedirs(os.path.join(path_out, \"guide_assignment_matrix\"), exist_ok=True)"
   ]
  },
  {
   "cell_type": "code",
   "execution_count": 11,
   "metadata": {},
   "outputs": [
    {
     "name": "stdout",
     "output_type": "stream",
     "text": [
      "Number of features: 11619\n",
      "First 5 features: Index(['ADNP2_-_77867536.23-P1P2-1', 'ADNP2_-_77867536.23-P1P2-2',\n",
      "       'ADNP2_-_77867648.23-P1P2-2', 'ADNP_-_49547603.23-P1P2-2',\n",
      "       'AEBP1_+_44143999.23-P1P2-1'],\n",
      "      dtype='object')\n"
     ]
    }
   ],
   "source": [
    "# Write features.tsv.gz\n",
    "features = guide_ids\n",
    "print(f\"Number of features: {len(features)}\")\n",
    "print(f\"First 5 features: {features[:5]}\")\n",
    "pd.Index(features).to_frame().to_csv(f\"{path_out}/guide_assignment_matrix/features.tsv.gz\", sep=\"\\t\", header=False, index=False, compression=\"gzip\")"
   ]
  },
  {
   "cell_type": "code",
   "execution_count": 12,
   "metadata": {},
   "outputs": [
    {
     "name": "stdout",
     "output_type": "stream",
     "text": [
      "Number of barcodes: 739192\n",
      "First 5 barcodes: Index(['AAACCTGAGAAACCGC-1', 'AAACCTGAGAGAGCTC-1', 'AAACCTGAGAGGGATA-1',\n",
      "       'AAACCTGAGCAAATCA-1', 'AAACCTGAGCAATCTC-1'],\n",
      "      dtype='object')\n"
     ]
    }
   ],
   "source": [
    "# Barcodes\n",
    "barcodes = guide_assignments_subset.columns\n",
    "print(f\"Number of barcodes: {len(barcodes)}\")\n",
    "print(f\"First 5 barcodes: {barcodes[:5]}\")\n",
    "barcodes.to_frame().to_csv(f\"{path_out}/guide_assignment_matrix/barcodes.tsv.gz\", sep=\"\\t\", header=False, index=False, compression=\"gzip\")"
   ]
  },
  {
   "cell_type": "code",
   "execution_count": 13,
   "metadata": {},
   "outputs": [
    {
     "data": {
      "text/plain": [
       "(11619, 739192)"
      ]
     },
     "execution_count": 13,
     "metadata": {},
     "output_type": "execute_result"
    }
   ],
   "source": [
    "len(features), len(barcodes)"
   ]
  },
  {
   "cell_type": "code",
   "execution_count": 14,
   "metadata": {},
   "outputs": [
    {
     "data": {
      "text/plain": [
       "(739192, 11619)"
      ]
     },
     "execution_count": 14,
     "metadata": {},
     "output_type": "execute_result"
    }
   ],
   "source": [
    "guide_assignments_sparse.shape"
   ]
  },
  {
   "cell_type": "code",
   "execution_count": 15,
   "metadata": {},
   "outputs": [],
   "source": [
    "# Write mtx.mtx, features.tsv.gz, barcodes.tsv.gz\n",
    "mmwrite(f\"{path_out}/guide_assignment_matrix/matrix.mtx\", guide_assignments_sparse)"
   ]
  },
  {
   "cell_type": "markdown",
   "metadata": {},
   "source": [
    "# Make AnnData"
   ]
  },
  {
   "cell_type": "code",
   "execution_count": 16,
   "metadata": {},
   "outputs": [
    {
     "data": {
      "text/plain": [
       "(739192, 11619)"
      ]
     },
     "execution_count": 16,
     "metadata": {},
     "output_type": "execute_result"
    }
   ],
   "source": [
    "# Reload the matrix to check\n",
    "mtx = mmread(f\"{path_out}/guide_assignment_matrix/matrix.mtx\").tocsr()\n",
    "mtx.shape"
   ]
  },
  {
   "cell_type": "code",
   "execution_count": 17,
   "metadata": {},
   "outputs": [],
   "source": [
    "# Reload the features and barcodes\n",
    "barcodes = pd.read_csv(\n",
    "    f\"{path_out}/guide_assignment_matrix/barcodes.tsv.gz\", sep=\"\\t\", header=None, index_col=0\n",
    ")\n",
    "barcodes.index.name = \"barcode\"\n",
    "features = pd.read_csv(\n",
    "    f\"{path_out}/guide_assignment_matrix/features.tsv.gz\", sep=\"\\t\", header=None, index_col=0\n",
    ")\n",
    "features.index.name = \"feature\""
   ]
  },
  {
   "cell_type": "code",
   "execution_count": 18,
   "metadata": {},
   "outputs": [
    {
     "data": {
      "text/plain": [
       "(11619, 739192)"
      ]
     },
     "execution_count": 18,
     "metadata": {},
     "output_type": "execute_result"
    }
   ],
   "source": [
    "len(features), len(barcodes)"
   ]
  },
  {
   "cell_type": "code",
   "execution_count": 19,
   "metadata": {},
   "outputs": [
    {
     "name": "stderr",
     "output_type": "stream",
     "text": [
      "/tmp/ipykernel_1975983/2628849102.py:2: FutureWarning: X.dtype being converted to np.float32 from float64. In the next version of anndata (0.9) conversion will not be automatic. Pass dtype explicitly to avoid this warning. Pass `AnnData(X, dtype=X.dtype, ...)` to get the future behavour.\n",
      "  adata = ad.AnnData(\n"
     ]
    }
   ],
   "source": [
    "# Construct AnnData object\n",
    "adata = ad.AnnData(\n",
    "    X=mtx,\n",
    "    obs=barcodes,\n",
    "    var=features,\n",
    ")"
   ]
  },
  {
   "cell_type": "code",
   "execution_count": null,
   "metadata": {},
   "outputs": [
    {
     "name": "stderr",
     "output_type": "stream",
     "text": [
      "/cellar/users/aklie/opt/miniconda3/envs/scverse-lite-py38/lib/python3.8/site-packages/anndata/_core/anndata.py:798: UserWarning: \n",
      "AnnData expects .var.index to contain strings, but got values like:\n",
      "    [7182, 7883, 10960, 4714, 4955]\n",
      "\n",
      "    Inferred to be: integer\n",
      "\n",
      "  value_idx = self._prep_dim_index(value.index, attr)\n"
     ]
    },
    {
     "data": {
      "text/plain": [
       "AnnData object with n_obs × n_vars = 739192 × 11619\n",
       "    var: 'protospacer_ID', 'protospacer', 'intended_target_name', 'genomic_element', 'reverse_compliment', 'Huangfu_id', 'Huangfu_name', 'type'"
      ]
     },
     "execution_count": 20,
     "metadata": {},
     "output_type": "execute_result"
    }
   ],
   "source": [
    "# add in guide metadata\n",
    "adata.var = adata.var.merge(id_master, left_index=True, right_on=\"protospacer_ID\", how=\"left\").set_index(\"protospacer_ID\")\n",
    "adata"
   ]
  },
  {
   "cell_type": "code",
   "execution_count": 26,
   "metadata": {},
   "outputs": [],
   "source": [
    "# Write AnnData object\n",
    "adata.write(f\"{path_out}/guide_assignment_matrix.h5ad\")"
   ]
  },
  {
   "cell_type": "code",
   "execution_count": 27,
   "metadata": {},
   "outputs": [],
   "source": [
    "# Write csv for PySpade\n",
    "adata.to_df().T.to_csv(f\"{path_out}/guide_assignment_matrix.csv\")"
   ]
  },
  {
   "cell_type": "markdown",
   "metadata": {},
   "source": [
    "# DONE!"
   ]
  },
  {
   "cell_type": "markdown",
   "metadata": {},
   "source": [
    "---"
   ]
  }
 ],
 "metadata": {
  "kernelspec": {
   "display_name": "Python 3.8 scverse-lite",
   "language": "python",
   "name": "scverse-lite-py38"
  }
 },
 "nbformat": 4,
 "nbformat_minor": 2
}
