{
 "cells": [
  {
   "cell_type": "markdown",
   "metadata": {},
   "source": [
    "# Upload to synpase\n",
    "This notebook illustrates how to upload files to a synapse directory"
   ]
  },
  {
   "cell_type": "markdown",
   "metadata": {},
   "source": [
    "# Set-up"
   ]
  },
  {
   "cell_type": "code",
   "execution_count": null,
   "metadata": {},
   "outputs": [
    {
     "name": "stdout",
     "output_type": "stream",
     "text": [
      "The history saving thread hit an unexpected error (DatabaseError('database disk image is malformed')).History will not be written to the database.\n"
     ]
    }
   ],
   "source": [
    "# Imports\n",
    "import os\n",
    "import pandas as pd\n",
    "import synapseclient\n",
    "import synapseutils"
   ]
  },
  {
   "cell_type": "markdown",
   "metadata": {},
   "source": [
    "# Log-in"
   ]
  },
  {
   "cell_type": "code",
   "execution_count": 2,
   "metadata": {},
   "outputs": [
    {
     "name": "stderr",
     "output_type": "stream",
     "text": [
      "\n",
      "UPGRADE AVAILABLE\n",
      "\n",
      "A more recent version of the Synapse Client (4.7.0) is available. Your version (2.7.2) can be upgraded by typing:\n",
      "    pip install --upgrade synapseclient\n",
      "\n",
      "Python Synapse Client version 4.7.0 release notes\n",
      "\n",
      "https://python-docs.synapse.org/news/\n",
      "\n"
     ]
    },
    {
     "name": "stdout",
     "output_type": "stream",
     "text": [
      "Welcome, Adam Klie!\n",
      "\n"
     ]
    }
   ],
   "source": [
    "# Use \"os\" library to read your api keys, or you can hardcode it if that's easier\n",
    "AUTH_TOKEN = os.environ.get('SYNAPSE_AUTH_TOKEN')\n",
    "\n",
    "# Log-in\n",
    "syn = synapseclient.Synapse() \n",
    "syn.login(authToken=AUTH_TOKEN)"
   ]
  },
  {
   "cell_type": "markdown",
   "metadata": {},
   "source": [
    "# Create your directory set-up"
   ]
  },
  {
   "cell_type": "code",
   "execution_count": 3,
   "metadata": {},
   "outputs": [],
   "source": [
    "# TODO: Change this to your dataset name e.g. \n",
    "DATASET_DIR = \"/cellar/users/aklie/data/datasets/tf_perturb_seq/datasets\"\n",
    "DATASET_NAME = \"Hon_WTC11-cardiomyocyte-differentiation_TF-Perturb-seq\""
   ]
  },
  {
   "cell_type": "code",
   "execution_count": 4,
   "metadata": {},
   "outputs": [
    {
     "name": "stdout",
     "output_type": "stream",
     "text": [
      "/carter/users/aklie/data/datasets/tf_perturb_seq/datasets\n"
     ]
    },
    {
     "data": {
      "text/plain": [
       "0"
      ]
     },
     "execution_count": 4,
     "metadata": {},
     "output_type": "execute_result"
    }
   ],
   "source": [
    "# move to the directory right above the data_dir\n",
    "os.chdir(DATASET_DIR)\n",
    "os.system(\"pwd\")"
   ]
  },
  {
   "cell_type": "markdown",
   "metadata": {},
   "source": [
    "move files over to this directory\n",
    "!mv "
   ]
  },
  {
   "cell_type": "markdown",
   "metadata": {},
   "source": [
    "# Make a manifest for these files"
   ]
  },
  {
   "cell_type": "code",
   "execution_count": 5,
   "metadata": {},
   "outputs": [
    {
     "name": "stdout",
     "output_type": "stream",
     "text": [
      "Manifest file: /cellar/users/aklie/data/datasets/tf_perturb_seq/datasets/Hon_WTC11-cardiomyocyte-differentiation_TF-Perturb-seq/manifest-for-upload.tsv\n"
     ]
    }
   ],
   "source": [
    "# Manifest file name\n",
    "MANIFEST_FILE = f\"{DATASET_DIR}/{DATASET_NAME}/manifest-for-upload.tsv\"\n",
    "print(f\"Manifest file: {MANIFEST_FILE}\")"
   ]
  },
  {
   "cell_type": "code",
   "execution_count": 7,
   "metadata": {},
   "outputs": [],
   "source": [
    "# Synapse ID of our project\n",
    "project_id = \"syn64003378\""
   ]
  },
  {
   "cell_type": "code",
   "execution_count": 8,
   "metadata": {},
   "outputs": [],
   "source": [
    "# Create a manifest TSV file to upload data in bulk\n",
    "# Note: When this command is run it will re-create your directory structure within\n",
    "# Synapse. Be aware of this before running this command.\n",
    "# If folders with the exact names already exists in Synapse, those folders will be used.\n",
    "synapseutils.generate_sync_manifest(\n",
    "    syn=syn,\n",
    "    directory_path=DATASET_NAME,\n",
    "    parent_id=project_id,\n",
    "    manifest_path=MANIFEST_FILE,\n",
    ")"
   ]
  },
  {
   "cell_type": "code",
   "execution_count": 9,
   "metadata": {},
   "outputs": [
    {
     "name": "stdout",
     "output_type": "stream",
     "text": [
      "path\tparent\n",
      "Hon_WTC11-cardiomyocyte-differentiation_TF-Perturb-seq/bin/2_gene_UMI_pipeline.sh\tsyn65491932\n",
      "Hon_WTC11-cardiomyocyte-differentiation_TF-Perturb-seq/bin/synapse.ipynb\tsyn65491932\n",
      "Hon_WTC11-cardiomyocyte-differentiation_TF-Perturb-seq/bin/3_qc.ipynb\tsyn65491932\n",
      "Hon_WTC11-cardiomyocyte-differentiation_TF-Perturb-seq/bin/1_create_guide_anndata.ipynb\tsyn65491932\n",
      "Hon_WTC11-cardiomyocyte-differentiation_TF-Perturb-seq/Perturbation_information/cell_x_sgrna_matrix.pkl\tsyn64003380\n",
      "Hon_WTC11-cardiomyocyte-differentiation_TF-Perturb-seq/Perturbation_information/guide_assignment_matrix.csv\tsyn64003380\n",
      "Hon_WTC11-cardiomyocyte-differentiation_TF-Perturb-seq/Perturbation_information/guide_assignment_matrix.h5ad\tsyn64003380\n",
      "Hon_WTC11-cardiomyocyte-differentiation_TF-Perturb-seq/Perturbation_information/guide_assignment_matrix/features.tsv.gz\tsyn65491936\n",
      "Hon_WTC11-cardiomyocyte-differentiation_TF-Perturb-seq/Perturbation_information/guide_assignment_matrix/matrix.mtx\tsyn65491936\n",
      "Hon_WTC11-cardiomyocyte-differentiation_TF-Perturb-seq/Perturbation_information/guide_assignment_matrix/barcodes.tsv.gz\tsyn65491936\n",
      "Hon_WTC11-cardiomyocyte-differentiation_TF-Perturb-seq/Transcriptome_Analysis/preprocess.h5ad\tsyn65491934\n",
      "Hon_WTC11-cardiomyocyte-differentiation_TF-Perturb-seq/Transcriptome_Analysis/qc.log\tsyn65491934\n",
      "Hon_WTC11-cardiomyocyte-differentiation_TF-Perturb-seq/Transcriptome_Analysis/preprocess.log\tsyn65491934\n",
      "Hon_WTC11-cardiomyocyte-differentiation_TF-Perturb-seq/Transcriptome_Analysis/filtered_cell_x_gene_matrix.h5ad\tsyn65491934\n",
      "Hon_WTC11-cardiomyocyte-differentiation_TF-Perturb-seq/Transcriptome_Analysis/anndata.h5ad\tsyn65491934\n",
      "Hon_WTC11-cardiomyocyte-differentiation_TF-Perturb-seq/Transcriptome_Analysis/cluster.h5ad\tsyn65491934\n",
      "Hon_WTC11-cardiomyocyte-differentiation_TF-Perturb-seq/Transcriptome_Analysis/cluster.log\tsyn65491934\n",
      "Hon_WTC11-cardiomyocyte-differentiation_TF-Perturb-seq/Transcriptome_Analysis/barcodes_metadata.tsv\tsyn65491934\n",
      "Hon_WTC11-cardiomyocyte-differentiation_TF-Perturb-seq/Transcriptome_Analysis/anndata.log\tsyn65491934\n",
      "Hon_WTC11-cardiomyocyte-differentiation_TF-Perturb-seq/Transcriptome_Analysis/qc.h5ad\tsyn65491934\n",
      "Hon_WTC11-cardiomyocyte-differentiation_TF-Perturb-seq/Transcriptome_Analysis/plots/cluster/umap_clustering.png\tsyn65491938\n",
      "Hon_WTC11-cardiomyocyte-differentiation_TF-Perturb-seq/Transcriptome_Analysis/plots/qc/violin_n_genes.png\tsyn65491939\n",
      "Hon_WTC11-cardiomyocyte-differentiation_TF-Perturb-seq/Transcriptome_Analysis/plots/qc/violin_total_counts.png\tsyn65491939\n",
      "Hon_WTC11-cardiomyocyte-differentiation_TF-Perturb-seq/Transcriptome_Analysis/plots/qc/violin_pct_MT.png\tsyn65491939\n",
      "Hon_WTC11-cardiomyocyte-differentiation_TF-Perturb-seq/Transcriptome_Analysis/plots/qc/total_counts_vs_pct_MT.png\tsyn65491939\n",
      "Hon_WTC11-cardiomyocyte-differentiation_TF-Perturb-seq/Transcriptome_Analysis/plots/qc/total_counts_vs_n_genes.png\tsyn65491939\n",
      "Hon_WTC11-cardiomyocyte-differentiation_TF-Perturb-seq/Transcriptome_Analysis/plots/preprocess/highly_variable_genes.png\tsyn65491940\n",
      "Hon_WTC11-cardiomyocyte-differentiation_TF-Perturb-seq/Cell_Ranger_Output/barcodes.tsv.gz\tsyn65491935\n",
      "Hon_WTC11-cardiomyocyte-differentiation_TF-Perturb-seq/Cell_Ranger_Output/filtered_feature_bc_matrix.h5\tsyn65491935\n",
      "Hon_WTC11-cardiomyocyte-differentiation_TF-Perturb-seq/Cell_Ranger_Output/web_summary.html\tsyn65491935\n"
     ]
    }
   ],
   "source": [
    "# Manually inspect the manifest file to ensure it is correct\n",
    "!cat $MANIFEST_FILE"
   ]
  },
  {
   "cell_type": "markdown",
   "metadata": {},
   "source": [
    "# Upload the files\n",
    "If the files are large, I recommend running the following in a script"
   ]
  },
  {
   "cell_type": "code",
   "execution_count": 10,
   "metadata": {},
   "outputs": [
    {
     "name": "stdout",
     "output_type": "stream",
     "text": [
      "Validation and upload of: /cellar/users/aklie/data/datasets/tf_perturb_seq/datasets/Hon_WTC11-cardiomyocyte-differentiation_TF-Perturb-seq/manifest-for-upload.tsv\n",
      "Validating columns of manifest.....OK\n",
      "Validating that all paths exist.................................OK\n",
      "Validating that all files are unique...OK\n",
      "Validating that all the files are not empty...OK\n",
      "Validating file names... \n",
      "OK\n",
      "Validating provenance...OK\n",
      "Validating that parents exist and are containers...OK\n",
      "==================================================\n",
      "We are about to upload 30 files with a total size of 252.3GB.\n",
      " ==================================================\n",
      "Starting upload...\n"
     ]
    }
   ],
   "source": [
    "# Step 3: After generating the manifest file, we can upload the data in bulk\n",
    "synapseutils.syncToSynapse(\n",
    "    syn=syn, manifestFile=MANIFEST_FILE, sendMessages=False\n",
    ")"
   ]
  },
  {
   "cell_type": "markdown",
   "metadata": {},
   "source": [
    "# DONE!"
   ]
  },
  {
   "cell_type": "markdown",
   "metadata": {},
   "source": [
    "---"
   ]
  }
 ],
 "metadata": {
  "kernelspec": {
   "display_name": "Python 3.7 get_data",
   "language": "python",
   "name": "get_data"
  }
 },
 "nbformat": 4,
 "nbformat_minor": 2
}
