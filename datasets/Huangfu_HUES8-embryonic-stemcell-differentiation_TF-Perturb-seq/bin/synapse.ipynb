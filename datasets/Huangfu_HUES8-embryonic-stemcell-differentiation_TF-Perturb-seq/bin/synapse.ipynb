{
 "cells": [
  {
   "cell_type": "markdown",
   "metadata": {},
   "source": [
    "# Set-up"
   ]
  },
  {
   "cell_type": "code",
   "execution_count": null,
   "metadata": {},
   "outputs": [
    {
     "name": "stdout",
     "output_type": "stream",
     "text": [
      "The history saving thread hit an unexpected error (DatabaseError('database disk image is malformed')).History will not be written to the database.\n"
     ]
    }
   ],
   "source": [
    "# Imports\n",
    "import os\n",
    "import pandas as pd\n",
    "import synapseclient\n",
    "import synapseutils"
   ]
  },
  {
   "cell_type": "code",
   "execution_count": 2,
   "metadata": {},
   "outputs": [
    {
     "name": "stdout",
     "output_type": "stream",
     "text": [
      "Welcome, Adam Klie!\n",
      "\n"
     ]
    }
   ],
   "source": [
    "# Use \"os\" library to read your api keys, or you can hardcode it if that's easier\n",
    "AUTH_TOKEN = os.environ.get('SYNAPSE_AUTH_TOKEN')\n",
    "\n",
    "# Log-in\n",
    "syn = synapseclient.Synapse() \n",
    "syn.login(authToken=AUTH_TOKEN)"
   ]
  },
  {
   "cell_type": "code",
   "execution_count": 3,
   "metadata": {},
   "outputs": [],
   "source": [
    "synapse_id = \"syn64003378\"\n",
    "path_out = \"/cellar/users/aklie/data/datasets/Hon_WTC11-cardiomyocyte-differentiation_TF-Perturb-seq/processed\""
   ]
  },
  {
   "cell_type": "code",
   "execution_count": null,
   "metadata": {},
   "outputs": [
    {
     "name": "stdout",
     "output_type": "stream",
     "text": [
      "Downloading: ('barcodes.tsv.gz', 'syn64003393') to /cellar/users/aklie/data/datasets/Hon_WTC11-cardiomyocyte-differentiation_TF-Perturb-seq/processed/Cell_Ranger_Output\n"
     ]
    },
    {
     "name": "stderr",
     "output_type": "stream",
     "text": [
      "Downloading files:  10%|▉         | 2.67G/27.9G [00:54<08:33, 49.1MB/s]"
     ]
    },
    {
     "name": "stdout",
     "output_type": "stream",
     "text": [
      "Downloaded syn64003393 to /cellar/users/aklie/data/datasets/Hon_WTC11-cardiomyocyte-differentiation_TF-Perturb-seq/processed/Cell_Ranger_Output/barcodes.tsv.gz\n"
     ]
    },
    {
     "name": "stderr",
     "output_type": "stream",
     "text": [
      "Downloading files:  10%|▉         | 2.67G/27.9G [00:54<08:39, 48.5MB/s]\n"
     ]
    },
    {
     "name": "stdout",
     "output_type": "stream",
     "text": [
      "Downloading: ('filtered_feature_bc_matrix.h5', 'syn64003394') to /cellar/users/aklie/data/datasets/Hon_WTC11-cardiomyocyte-differentiation_TF-Perturb-seq/processed/Cell_Ranger_Output\n"
     ]
    },
    {
     "name": "stderr",
     "output_type": "stream",
     "text": [
      "Task exception was never retrieved\n",
      "future: <Task finished name='Task-3' coro=<download_file_entity() done, defined at /cellar/users/aklie/opt/miniconda3/envs/test_celloracle/lib/python3.10/site-packages/synapseclient/core/download/download_functions.py:76> exception=SynapseHTTPError('403 Client Error: ')>\n",
      "Traceback (most recent call last):\n",
      "  File \"/cellar/users/aklie/opt/miniconda3/envs/test_celloracle/lib/python3.10/asyncio/tasks.py\", line 234, in __step\n",
      "    result = coro.throw(exc)\n",
      "  File \"/cellar/users/aklie/opt/miniconda3/envs/test_celloracle/lib/python3.10/site-packages/synapseclient/core/download/download_functions.py\", line 172, in download_file_entity\n",
      "    download_path = await download_by_file_handle(\n",
      "  File \"/cellar/users/aklie/opt/miniconda3/envs/test_celloracle/lib/python3.10/site-packages/synapseclient/core/download/download_functions.py\", line 500, in download_by_file_handle\n",
      "    downloaded_path = await download_from_url_multi_threaded(\n",
      "  File \"/cellar/users/aklie/opt/miniconda3/envs/test_celloracle/lib/python3.10/site-packages/synapseclient/core/download/download_functions.py\", line 605, in download_from_url_multi_threaded\n",
      "    await download_file(client=client, download_request=request)\n",
      "  File \"/cellar/users/aklie/opt/miniconda3/envs/test_celloracle/lib/python3.10/site-packages/synapseclient/core/download/download_async.py\", line 81, in download_file\n",
      "    await downloader.download_file()\n",
      "  File \"/cellar/users/aklie/opt/miniconda3/envs/test_celloracle/lib/python3.10/site-packages/synapseclient/core/download/download_async.py\", line 310, in download_file\n",
      "    file_size = await _get_file_size_wrapper(\n",
      "  File \"/cellar/users/aklie/opt/miniconda3/envs/test_celloracle/lib/python3.10/site-packages/synapseclient/core/download/download_async.py\", line 248, in _get_file_size_wrapper\n",
      "    return await loop.run_in_executor(\n",
      "  File \"/cellar/users/aklie/opt/miniconda3/envs/test_celloracle/lib/python3.10/asyncio/futures.py\", line 285, in __await__\n",
      "    yield self  # This tells Task to wait for completion.\n",
      "  File \"/cellar/users/aklie/opt/miniconda3/envs/test_celloracle/lib/python3.10/asyncio/tasks.py\", line 304, in __wakeup\n",
      "    future.result()\n",
      "  File \"/cellar/users/aklie/opt/miniconda3/envs/test_celloracle/lib/python3.10/asyncio/futures.py\", line 201, in result\n",
      "    raise self._exception.with_traceback(self._exception_tb)\n",
      "  File \"/cellar/users/aklie/opt/miniconda3/envs/test_celloracle/lib/python3.10/concurrent/futures/thread.py\", line 58, in run\n",
      "    result = self.fn(*self.args, **self.kwargs)\n",
      "  File \"/cellar/users/aklie/opt/miniconda3/envs/test_celloracle/lib/python3.10/site-packages/synapseclient/core/download/download_async.py\", line 269, in _get_file_size\n",
      "    _raise_for_status_httpx(\n",
      "  File \"/cellar/users/aklie/opt/miniconda3/envs/test_celloracle/lib/python3.10/site-packages/synapseclient/core/exceptions.py\", line 291, in _raise_for_status_httpx\n",
      "    raise SynapseHTTPError(message, response=response)\n",
      "synapseclient.core.exceptions.SynapseHTTPError: 403 Client Error: \n",
      "Downloading files:  85%|████████▌ | 3.97G/4.64G [00:53<00:09, 73.7MB/s, syn64003394]"
     ]
    },
    {
     "name": "stdout",
     "output_type": "stream",
     "text": [
      "Downloaded syn64003394 to /cellar/users/aklie/data/datasets/Hon_WTC11-cardiomyocyte-differentiation_TF-Perturb-seq/processed/Cell_Ranger_Output/filtered_feature_bc_matrix(1).h5\n"
     ]
    },
    {
     "name": "stderr",
     "output_type": "stream",
     "text": [
      "Downloading files:  86%|████████▌ | 3.98G/4.64G [00:53<00:09, 73.7MB/s, syn64003394]\n"
     ]
    },
    {
     "name": "stdout",
     "output_type": "stream",
     "text": [
      "Downloaded syn64003394 to /cellar/users/aklie/data/datasets/Hon_WTC11-cardiomyocyte-differentiation_TF-Perturb-seq/processed/Cell_Ranger_Output/filtered_feature_bc_matrix.h5\n",
      "Downloading: ('web_summary.html', 'syn64003392') to /cellar/users/aklie/data/datasets/Hon_WTC11-cardiomyocyte-differentiation_TF-Perturb-seq/processed/Cell_Ranger_Output\n"
     ]
    },
    {
     "name": "stderr",
     "output_type": "stream",
     "text": [
      "Downloading files: 100%|██████████| 5.78M/5.78M [00:01<00:00, 4.74MB/s, syn64003392]"
     ]
    },
    {
     "name": "stdout",
     "output_type": "stream",
     "text": [
      "Downloaded syn64003392 to /cellar/users/aklie/data/datasets/Hon_WTC11-cardiomyocyte-differentiation_TF-Perturb-seq/processed/Cell_Ranger_Output/web_summary.html\n"
     ]
    },
    {
     "name": "stderr",
     "output_type": "stream",
     "text": [
      "Downloading files: 100%|██████████| 5.78M/5.78M [00:01<00:00, 4.71MB/s, syn64003392]\n"
     ]
    },
    {
     "name": "stdout",
     "output_type": "stream",
     "text": [
      "Downloading: ('cell_x_sgrna_matrix.pkl', 'syn64003432') to /cellar/users/aklie/data/datasets/Hon_WTC11-cardiomyocyte-differentiation_TF-Perturb-seq/processed/Perturbation_information\n"
     ]
    },
    {
     "name": "stderr",
     "output_type": "stream",
     "text": [
      "Downloading files: 100%|██████████| 68.7G/68.7G [25:31<00:00, 44.9MB/s, syn64003432]   "
     ]
    },
    {
     "name": "stdout",
     "output_type": "stream",
     "text": [
      "Downloaded syn64003432 to /cellar/users/aklie/data/datasets/Hon_WTC11-cardiomyocyte-differentiation_TF-Perturb-seq/processed/Perturbation_information/cell_x_sgrna_matrix.pkl\n"
     ]
    },
    {
     "name": "stderr",
     "output_type": "stream",
     "text": [
      "Downloading files: 100%|██████████| 68.7G/68.7G [25:31<00:00, 44.9MB/s, syn64003432]\n"
     ]
    },
    {
     "name": "stdout",
     "output_type": "stream",
     "text": [
      "Downloading: ('filtered_cell_x_gene_matrix.h5ad', 'syn64003472') to /cellar/users/aklie/data/datasets/Hon_WTC11-cardiomyocyte-differentiation_TF-Perturb-seq/processed/Perturbation_information\n"
     ]
    },
    {
     "name": "stderr",
     "output_type": "stream",
     "text": [
      "Downloading files:  26%|██▌       | 29.4G/115G [10:08<29:21, 48.3MB/s, syn64003472]   "
     ]
    }
   ],
   "source": [
    "# For every folder in synapse_id, download that folder to \n",
    "folders = synapseutils.walk(syn, synapse_id)\n",
    "for dirpath, dirname, filenames in folders:\n",
    "    for filename in filenames:\n",
    "        name = dirpath[0].split(\"/\")[-1].split(\"_(\")[0].replace(\" \", \"\")\n",
    "        print(f\"Downloading: {filename} to {os.path.join(path_out, name)}\")\n",
    "        syn.get(filename[1], downloadLocation=os.path.join(path_out, name))"
   ]
  },
  {
   "cell_type": "markdown",
   "metadata": {},
   "source": [
    "# DONE!"
   ]
  },
  {
   "cell_type": "markdown",
   "metadata": {},
   "source": [
    "---"
   ]
  }
 ],
 "metadata": {
  "kernelspec": {
   "display_name": "Python 3.10 test_celloracle",
   "language": "python",
   "name": "test_scenicplus-py310"
  }
 },
 "nbformat": 4,
 "nbformat_minor": 2
}
