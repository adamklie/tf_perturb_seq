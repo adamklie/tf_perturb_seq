{
 "cells": [
  {
   "cell_type": "markdown",
   "metadata": {},
   "source": [
    "# Creating `h5ad` files\n",
    "This notebook builds h5ad files for both gene UMI count matrices and guide assignment matrices."
   ]
  },
  {
   "cell_type": "markdown",
   "metadata": {},
   "source": [
    "# Set-up"
   ]
  },
  {
   "cell_type": "code",
   "execution_count": 3,
   "metadata": {},
   "outputs": [],
   "source": [
    "# imports\n",
    "import os\n",
    "import pandas as pd\n",
    "from scipy.sparse import csr_matrix\n",
    "from scipy.io import mmwrite, mmread\n",
    "import anndata as ad"
   ]
  },
  {
   "cell_type": "code",
   "execution_count": 8,
   "metadata": {},
   "outputs": [],
   "source": [
    "# paths\n",
    "path_guide_assignments = \"/cellar/users/aklie/data/datasets/tf_perturb_seq/Huangfu_HUES8-embryonic-stemcell-differentiation_TF-Perturb-seq/Perturbation_information/sgrna_design_matrix_filtered_combined_control_final.csv\"\n",
    "path_id_master = \"/cellar/users/aklie/data/datasets/tf_perturb_seq/ref/sgRNA_id_master.tsv\"\n",
    "\n",
    "path_out = \"/cellar/users/aklie/data/datasets/tf_perturb_seq/datasets/Huangfu_HUES8-embryonic-stemcell-differentiation_TF-Perturb-seq/Perturbation_information\"\n",
    "os.makedirs(path_out, exist_ok=True)"
   ]
  },
  {
   "cell_type": "markdown",
   "metadata": {},
   "source": [
    "# Load auxiliary data"
   ]
  },
  {
   "cell_type": "code",
   "execution_count": 9,
   "metadata": {},
   "outputs": [],
   "source": [
    "# Load the id mapping\n",
    "id_master = pd.read_csv(path_id_master, sep=\"\\t\")\n",
    "id_map = id_master.set_index(\"Huangfu_id\")[\"protospacer_ID\"].to_dict()"
   ]
  },
  {
   "cell_type": "code",
   "execution_count": 10,
   "metadata": {},
   "outputs": [
    {
     "data": {
      "text/plain": [
       "type\n",
       "targeting           13147\n",
       "non_targeting         600\n",
       "negative_control      598\n",
       "positive_control       19\n",
       "Name: count, dtype: int64"
      ]
     },
     "execution_count": 10,
     "metadata": {},
     "output_type": "execute_result"
    }
   ],
   "source": [
    "id_master[\"type\"].value_counts()"
   ]
  },
  {
   "cell_type": "markdown",
   "metadata": {},
   "source": [
    "# Load guide assignments"
   ]
  },
  {
   "cell_type": "code",
   "execution_count": 8,
   "metadata": {},
   "outputs": [],
   "source": [
    "# Read the guide assignments for this dataset\n",
    "guide_assignments = pd.read_csv(path_guide_assignments, delim_whitespace=True, engine=\"python\")\n",
    "guide_ids = guide_assignments[\"gene_ids\"]\n",
    "guide_assignments.shape"
   ]
  },
  {
   "cell_type": "code",
   "execution_count": null,
   "metadata": {},
   "outputs": [],
   "source": [
    "# Check how many guides are in the master\n",
    "in_master_msk = guide_ids.isin(id_master[\"Huangfu_id\"])\n",
    "in_master_msk.sum()"
   ]
  },
  {
   "cell_type": "code",
   "execution_count": null,
   "metadata": {},
   "outputs": [],
   "source": [
    "# Subset the guide assignments to only include those in the master\n",
    "guide_assignments_subset = guide_assignments[in_master_msk]\n",
    "guide_assignments_subset.shape"
   ]
  },
  {
   "cell_type": "code",
   "execution_count": null,
   "metadata": {},
   "outputs": [],
   "source": [
    "# Any troublesome NaNs?\n",
    "guide_assignments_subset.isna().sum().sum()"
   ]
  },
  {
   "cell_type": "code",
   "execution_count": null,
   "metadata": {},
   "outputs": [],
   "source": [
    "# Convert to sparse matrix\n",
    "guide_assignments_sparse = csr_matrix(guide_assignments_subset.drop(columns=[\"gene_ids\"]).values)\n",
    "guide_assignments_sparse.shape"
   ]
  },
  {
   "cell_type": "markdown",
   "metadata": {},
   "source": [
    "# Write 10X matrix format"
   ]
  },
  {
   "cell_type": "code",
   "execution_count": null,
   "metadata": {},
   "outputs": [],
   "source": [
    "# Write features.tsv.gz\n",
    "features = guide_assignments_subset[\"gene_ids\"]\n",
    "features = features.map(id_map).values\n",
    "print(f\"Number of features: {len(features)}\")\n",
    "print(f\"First 5 features: {features[:5]}\")\n",
    "pd.Index(features).to_frame().to_csv(f\"{path_out}/guide_assignment_matrix/features.tsv.gz\", sep=\"\\t\", header=False, index=False, compression=\"gzip\")"
   ]
  },
  {
   "cell_type": "code",
   "execution_count": null,
   "metadata": {},
   "outputs": [],
   "source": [
    "# Barcodes\n",
    "barcodes = guide_assignments_subset.drop(columns=[\"gene_ids\"]).columns\n",
    "print(f\"Number of barcodes: {len(barcodes)}\")\n",
    "print(f\"First 5 barcodes: {barcodes[:5]}\")\n",
    "barcodes.to_frame().to_csv(f\"{path_out}/guide_assignment_matrix/barcodes.tsv.gz\", sep=\"\\t\", header=False, index=False, compression=\"gzip\")"
   ]
  },
  {
   "cell_type": "code",
   "execution_count": null,
   "metadata": {},
   "outputs": [],
   "source": [
    "len(features), len(barcodes)"
   ]
  },
  {
   "cell_type": "code",
   "execution_count": null,
   "metadata": {},
   "outputs": [],
   "source": [
    "guide_assignments_sparse.T.shape"
   ]
  },
  {
   "cell_type": "code",
   "execution_count": null,
   "metadata": {},
   "outputs": [],
   "source": [
    "# Write mtx.mtx, features.tsv.gz, barcodes.tsv.gz\n",
    "mmwrite(f\"{path_out}/guide_assignment_matrix/matrix.mtx\", guide_assignments_sparse.T)"
   ]
  },
  {
   "cell_type": "markdown",
   "metadata": {},
   "source": [
    "# Make AnnData"
   ]
  },
  {
   "cell_type": "code",
   "execution_count": 11,
   "metadata": {},
   "outputs": [
    {
     "data": {
      "text/plain": [
       "(95717, 13160)"
      ]
     },
     "execution_count": 11,
     "metadata": {},
     "output_type": "execute_result"
    }
   ],
   "source": [
    "# Reload the matrix to check\n",
    "mtx = mmread(f\"{path_out}/guide_assignment_matrix/matrix.mtx\").tocsr()\n",
    "mtx.shape"
   ]
  },
  {
   "cell_type": "code",
   "execution_count": 12,
   "metadata": {},
   "outputs": [],
   "source": [
    "# Reload the features and barcodes\n",
    "barcodes = pd.read_csv(\n",
    "    f\"{path_out}/guide_assignment_matrix/barcodes.tsv.gz\", sep=\"\\t\", header=None, index_col=0\n",
    ")\n",
    "barcodes.index.name = \"barcode\"\n",
    "features = pd.read_csv(\n",
    "    f\"{path_out}/guide_assignment_matrix/features.tsv.gz\", sep=\"\\t\", header=None, index_col=0\n",
    ")\n",
    "features.index.name = \"feature\""
   ]
  },
  {
   "cell_type": "code",
   "execution_count": 13,
   "metadata": {},
   "outputs": [],
   "source": [
    "# Construct AnnData object\n",
    "adata = ad.AnnData(\n",
    "    X=mtx,\n",
    "    obs=barcodes,\n",
    "    var=features,\n",
    ")"
   ]
  },
  {
   "cell_type": "code",
   "execution_count": 14,
   "metadata": {},
   "outputs": [
    {
     "name": "stderr",
     "output_type": "stream",
     "text": [
      "/cellar/users/aklie/opt/miniconda3/envs/scverse-lite-py39/lib/python3.9/site-packages/anndata/_core/anndata.py:859: UserWarning: \n",
      "AnnData expects .var.index to contain strings, but got values like:\n",
      "    [7519, 7513, 4418, 4393, 6600]\n",
      "\n",
      "    Inferred to be: integer\n",
      "\n",
      "  value_idx = self._prep_dim_index(value.index, attr)\n"
     ]
    },
    {
     "data": {
      "text/plain": [
       "AnnData object with n_obs × n_vars = 95717 × 13160\n",
       "    var: 'protospacer_ID', 'protospacer', 'intended_target_name', 'genomic_element', 'reverse_compliment', 'Huangfu_id', 'Huangfu_name', 'type'"
      ]
     },
     "execution_count": 14,
     "metadata": {},
     "output_type": "execute_result"
    }
   ],
   "source": [
    "# add in guide metadata\n",
    "adata.var = adata.var.merge(id_master, left_index=True, right_on=\"protospacer_ID\", how=\"left\")\n",
    "adata"
   ]
  },
  {
   "cell_type": "code",
   "execution_count": 15,
   "metadata": {},
   "outputs": [],
   "source": [
    "# Write AnnData object\n",
    "adata.write(f\"{path_out}/guide_assignment_matrix.h5ad\")"
   ]
  },
  {
   "cell_type": "code",
   "execution_count": null,
   "metadata": {},
   "outputs": [],
   "source": [
    "# Write csv for PySpade\n",
    "adata.to_df().T.to_csv(f\"{path_out}/guide_assignment_matrix.csv\")"
   ]
  },
  {
   "cell_type": "markdown",
   "metadata": {},
   "source": [
    "# DONE!"
   ]
  },
  {
   "cell_type": "markdown",
   "metadata": {},
   "source": [
    "---"
   ]
  },
  {
   "cell_type": "code",
   "execution_count": 9,
   "metadata": {},
   "outputs": [],
   "source": [
    "path_test = \"/cellar/users/aklie/data/datasets/Huangfu_HUES8-embryonic-stemcell-differentiation_TF-Perturb-seq/bin/results/3_pySpade/Singlet_sgRNA_df.h5\""
   ]
  },
  {
   "cell_type": "code",
   "execution_count": 10,
   "metadata": {},
   "outputs": [],
   "source": [
    "test = pd.read_hdf(path_test, key=\"df\")"
   ]
  },
  {
   "cell_type": "code",
   "execution_count": null,
   "metadata": {},
   "outputs": [],
   "source": [
    "test"
   ]
  }
 ],
 "metadata": {
  "kernelspec": {
   "display_name": "Python 3.9 scverse-lite",
   "language": "python",
   "name": "scverse-lite-py39"
  },
  "language_info": {
   "codemirror_mode": {
    "name": "ipython",
    "version": 3
   },
   "file_extension": ".py",
   "mimetype": "text/x-python",
   "name": "python",
   "nbconvert_exporter": "python",
   "pygments_lexer": "ipython3",
   "version": "3.9.18"
  }
 },
 "nbformat": 4,
 "nbformat_minor": 2
}
