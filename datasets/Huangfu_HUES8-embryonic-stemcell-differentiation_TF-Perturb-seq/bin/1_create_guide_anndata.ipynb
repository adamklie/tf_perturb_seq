{
 "cells": [
  {
   "cell_type": "markdown",
   "metadata": {},
   "source": [
    "# Creating `h5ad` files\n",
    "This notebook builds h5ad files for both gene UMI count matrices and guide assignment matrices."
   ]
  },
  {
   "cell_type": "markdown",
   "metadata": {},
   "source": [
    "# Set-up"
   ]
  },
  {
   "cell_type": "code",
   "execution_count": 1,
   "metadata": {},
   "outputs": [
    {
     "name": "stdout",
     "output_type": "stream",
     "text": [
      "The history saving thread hit an unexpected error (DatabaseError('database disk image is malformed')).History will not be written to the database.\n"
     ]
    }
   ],
   "source": [
    "# imports\n",
    "import os\n",
    "import pandas as pd\n",
    "from scipy.sparse import csr_matrix\n",
    "from scipy.io import mmwrite, mmread\n",
    "import anndata as ad"
   ]
  },
  {
   "cell_type": "code",
   "execution_count": 6,
   "metadata": {},
   "outputs": [],
   "source": [
    "# paths\n",
    "path_guide_assignments = \"/cellar/users/aklie/data/datasets/tf_perturb_seq/datasets/Huangfu_HUES8-embryonic-stemcell-differentiation_TF-Perturb-seq/Perturbation_information/sgrna_design_matrix_filtered_combined_control_final.csv\"\n",
    "path_id_master = \"/cellar/users/aklie/data/datasets/tf_perturb_seq/ref/sgRNA_id_master.tsv\"\n",
    "\n",
    "path_out = \"/cellar/users/aklie/data/datasets/tf_perturb_seq/datasets/Huangfu_HUES8-embryonic-stemcell-differentiation_TF-Perturb-seq/Perturbation_information\"\n",
    "os.makedirs(path_out, exist_ok=True)"
   ]
  },
  {
   "cell_type": "markdown",
   "metadata": {},
   "source": [
    "# Load auxiliary data"
   ]
  },
  {
   "cell_type": "code",
   "execution_count": 7,
   "metadata": {},
   "outputs": [],
   "source": [
    "# Load the id mapping\n",
    "id_master = pd.read_csv(path_id_master, sep=\"\\t\")\n",
    "id_map = id_master.set_index(\"Huangfu_id\")[\"protospacer_ID\"].to_dict()"
   ]
  },
  {
   "cell_type": "code",
   "execution_count": 8,
   "metadata": {},
   "outputs": [
    {
     "data": {
      "text/plain": [
       "type\n",
       "targeting           13147\n",
       "non_targeting         600\n",
       "negative_control      598\n",
       "positive_control       19\n",
       "Name: count, dtype: int64"
      ]
     },
     "execution_count": 8,
     "metadata": {},
     "output_type": "execute_result"
    }
   ],
   "source": [
    "id_master[\"type\"].value_counts()"
   ]
  },
  {
   "cell_type": "markdown",
   "metadata": {},
   "source": [
    "# Load guide assignments"
   ]
  },
  {
   "cell_type": "code",
   "execution_count": 9,
   "metadata": {},
   "outputs": [
    {
     "name": "stderr",
     "output_type": "stream",
     "text": [
      "/tmp/ipykernel_1859328/1152691566.py:2: FutureWarning: The 'delim_whitespace' keyword in pd.read_csv is deprecated and will be removed in a future version. Use ``sep='\\s+'`` instead\n",
      "  guide_assignments = pd.read_csv(path_guide_assignments, delim_whitespace=True, engine=\"python\")\n"
     ]
    },
    {
     "data": {
      "text/plain": [
       "(13167, 95718)"
      ]
     },
     "execution_count": 9,
     "metadata": {},
     "output_type": "execute_result"
    }
   ],
   "source": [
    "# Read the guide assignments for this dataset\n",
    "guide_assignments = pd.read_csv(path_guide_assignments, delim_whitespace=True, engine=\"python\")\n",
    "guide_ids = guide_assignments[\"gene_ids\"]\n",
    "guide_assignments.shape"
   ]
  },
  {
   "cell_type": "code",
   "execution_count": 11,
   "metadata": {},
   "outputs": [
    {
     "data": {
      "text/plain": [
       "13166"
      ]
     },
     "execution_count": 11,
     "metadata": {},
     "output_type": "execute_result"
    }
   ],
   "source": [
    "# Check how many guides are in the master\n",
    "in_master_msk = guide_ids.isin(id_master[\"Huangfu_id\"])\n",
    "in_master_msk.sum()"
   ]
  },
  {
   "cell_type": "code",
   "execution_count": 12,
   "metadata": {},
   "outputs": [
    {
     "data": {
      "text/html": [
       "<div>\n",
       "<style scoped>\n",
       "    .dataframe tbody tr th:only-of-type {\n",
       "        vertical-align: middle;\n",
       "    }\n",
       "\n",
       "    .dataframe tbody tr th {\n",
       "        vertical-align: top;\n",
       "    }\n",
       "\n",
       "    .dataframe thead th {\n",
       "        text-align: right;\n",
       "    }\n",
       "</style>\n",
       "<table border=\"1\" class=\"dataframe\">\n",
       "  <thead>\n",
       "    <tr style=\"text-align: right;\">\n",
       "      <th></th>\n",
       "      <th>gene_ids</th>\n",
       "      <th>AAACCCAAGAACGCGT-1</th>\n",
       "      <th>AAACCCAAGATACTGA-1</th>\n",
       "      <th>AAACCCACAGGCGTTC-1</th>\n",
       "      <th>AAACCCAGTAGGTCAG-1</th>\n",
       "      <th>AAACCCAGTATGTCAC-1</th>\n",
       "      <th>AAACCCAGTCATCGCG-1</th>\n",
       "      <th>AAACCCAGTCGACTGC-1</th>\n",
       "      <th>AAACCCAGTCGTTGGC-1</th>\n",
       "      <th>AAACCCAGTGGCTGCT-1</th>\n",
       "      <th>...</th>\n",
       "      <th>TTTGTTGAGCCATGCC-8</th>\n",
       "      <th>TTTGTTGCACTACTTT-8</th>\n",
       "      <th>TTTGTTGCAGTTGTCA-8</th>\n",
       "      <th>TTTGTTGCATGTAACC-8</th>\n",
       "      <th>TTTGTTGCATTCATCT-8</th>\n",
       "      <th>TTTGTTGGTCTGGTTA-8</th>\n",
       "      <th>TTTGTTGGTGGCTACC-8</th>\n",
       "      <th>TTTGTTGTCACAACCA-8</th>\n",
       "      <th>TTTGTTGTCCGGACGT-8</th>\n",
       "      <th>TTTGTTGTCTCTGGTC-8</th>\n",
       "    </tr>\n",
       "  </thead>\n",
       "  <tbody>\n",
       "    <tr>\n",
       "      <th>13166</th>\n",
       "      <td>control</td>\n",
       "      <td>0</td>\n",
       "      <td>0</td>\n",
       "      <td>0</td>\n",
       "      <td>1</td>\n",
       "      <td>0</td>\n",
       "      <td>0</td>\n",
       "      <td>0</td>\n",
       "      <td>0</td>\n",
       "      <td>0</td>\n",
       "      <td>...</td>\n",
       "      <td>0</td>\n",
       "      <td>0</td>\n",
       "      <td>0</td>\n",
       "      <td>0</td>\n",
       "      <td>0</td>\n",
       "      <td>0</td>\n",
       "      <td>1</td>\n",
       "      <td>0</td>\n",
       "      <td>0</td>\n",
       "      <td>0</td>\n",
       "    </tr>\n",
       "  </tbody>\n",
       "</table>\n",
       "<p>1 rows × 95718 columns</p>\n",
       "</div>"
      ],
      "text/plain": [
       "      gene_ids  AAACCCAAGAACGCGT-1  AAACCCAAGATACTGA-1  AAACCCACAGGCGTTC-1  \\\n",
       "13166  control                   0                   0                   0   \n",
       "\n",
       "       AAACCCAGTAGGTCAG-1  AAACCCAGTATGTCAC-1  AAACCCAGTCATCGCG-1  \\\n",
       "13166                   1                   0                   0   \n",
       "\n",
       "       AAACCCAGTCGACTGC-1  AAACCCAGTCGTTGGC-1  AAACCCAGTGGCTGCT-1  ...  \\\n",
       "13166                   0                   0                   0  ...   \n",
       "\n",
       "       TTTGTTGAGCCATGCC-8  TTTGTTGCACTACTTT-8  TTTGTTGCAGTTGTCA-8  \\\n",
       "13166                   0                   0                   0   \n",
       "\n",
       "       TTTGTTGCATGTAACC-8  TTTGTTGCATTCATCT-8  TTTGTTGGTCTGGTTA-8  \\\n",
       "13166                   0                   0                   0   \n",
       "\n",
       "       TTTGTTGGTGGCTACC-8  TTTGTTGTCACAACCA-8  TTTGTTGTCCGGACGT-8  \\\n",
       "13166                   1                   0                   0   \n",
       "\n",
       "       TTTGTTGTCTCTGGTC-8  \n",
       "13166                   0  \n",
       "\n",
       "[1 rows x 95718 columns]"
      ]
     },
     "execution_count": 12,
     "metadata": {},
     "output_type": "execute_result"
    }
   ],
   "source": [
    "# which ones are not in the master?\n",
    "guide_assignments[~in_master_msk]"
   ]
  },
  {
   "cell_type": "code",
   "execution_count": 13,
   "metadata": {},
   "outputs": [
    {
     "data": {
      "text/plain": [
       "8093"
      ]
     },
     "execution_count": 13,
     "metadata": {},
     "output_type": "execute_result"
    }
   ],
   "source": [
    "# \n",
    "guide_assignments[~in_master_msk].iloc[0].drop(\"gene_ids\").sum()"
   ]
  },
  {
   "cell_type": "code",
   "execution_count": 14,
   "metadata": {},
   "outputs": [
    {
     "data": {
      "text/plain": [
       "(13166, 95718)"
      ]
     },
     "execution_count": 14,
     "metadata": {},
     "output_type": "execute_result"
    }
   ],
   "source": [
    "# Subset the guide assignments to only include those in the master\n",
    "guide_assignments_subset = guide_assignments[in_master_msk]\n",
    "guide_assignments_subset.shape"
   ]
  },
  {
   "cell_type": "code",
   "execution_count": 15,
   "metadata": {},
   "outputs": [
    {
     "data": {
      "text/plain": [
       "0"
      ]
     },
     "execution_count": 15,
     "metadata": {},
     "output_type": "execute_result"
    }
   ],
   "source": [
    "# Any troublesome NaNs?\n",
    "guide_assignments_subset.isna().sum().sum()"
   ]
  },
  {
   "cell_type": "code",
   "execution_count": 16,
   "metadata": {},
   "outputs": [
    {
     "data": {
      "text/plain": [
       "(13166, 95717)"
      ]
     },
     "execution_count": 16,
     "metadata": {},
     "output_type": "execute_result"
    }
   ],
   "source": [
    "# Convert to sparse matrix\n",
    "guide_assignments_sparse = csr_matrix(guide_assignments_subset.drop(columns=[\"gene_ids\"]).values)\n",
    "guide_assignments_sparse.shape"
   ]
  },
  {
   "cell_type": "markdown",
   "metadata": {},
   "source": [
    "# Write 10X matrix format"
   ]
  },
  {
   "cell_type": "code",
   "execution_count": 17,
   "metadata": {},
   "outputs": [
    {
     "name": "stdout",
     "output_type": "stream",
     "text": [
      "Number of features: 13166\n",
      "First 5 features: ['CD81_strong' 'CD81_weak' 'CD151_strong' 'CD151_weak' 'CD55']\n"
     ]
    }
   ],
   "source": [
    "# Write features.tsv.gz\n",
    "features = guide_assignments_subset[\"gene_ids\"]\n",
    "features = features.map(id_map).values\n",
    "print(f\"Number of features: {len(features)}\")\n",
    "print(f\"First 5 features: {features[:5]}\")\n",
    "pd.Index(features).to_frame().to_csv(f\"{path_out}/guide_assignment_matrix/features.tsv.gz\", sep=\"\\t\", header=False, index=False, compression=\"gzip\")"
   ]
  },
  {
   "cell_type": "code",
   "execution_count": 18,
   "metadata": {},
   "outputs": [
    {
     "name": "stdout",
     "output_type": "stream",
     "text": [
      "Number of barcodes: 95717\n",
      "First 5 barcodes: Index(['AAACCCAAGAACGCGT-1', 'AAACCCAAGATACTGA-1', 'AAACCCACAGGCGTTC-1',\n",
      "       'AAACCCAGTAGGTCAG-1', 'AAACCCAGTATGTCAC-1'],\n",
      "      dtype='object')\n"
     ]
    }
   ],
   "source": [
    "# Barcodes\n",
    "barcodes = guide_assignments_subset.drop(columns=[\"gene_ids\"]).columns\n",
    "print(f\"Number of barcodes: {len(barcodes)}\")\n",
    "print(f\"First 5 barcodes: {barcodes[:5]}\")\n",
    "barcodes.to_frame().to_csv(f\"{path_out}/guide_assignment_matrix/barcodes.tsv.gz\", sep=\"\\t\", header=False, index=False, compression=\"gzip\")"
   ]
  },
  {
   "cell_type": "code",
   "execution_count": 19,
   "metadata": {},
   "outputs": [
    {
     "data": {
      "text/plain": [
       "(13166, 95717)"
      ]
     },
     "execution_count": 19,
     "metadata": {},
     "output_type": "execute_result"
    }
   ],
   "source": [
    "len(features), len(barcodes)"
   ]
  },
  {
   "cell_type": "code",
   "execution_count": 20,
   "metadata": {},
   "outputs": [
    {
     "data": {
      "text/plain": [
       "(95717, 13166)"
      ]
     },
     "execution_count": 20,
     "metadata": {},
     "output_type": "execute_result"
    }
   ],
   "source": [
    "guide_assignments_sparse.T.shape"
   ]
  },
  {
   "cell_type": "code",
   "execution_count": 21,
   "metadata": {},
   "outputs": [],
   "source": [
    "# Write mtx.mtx, features.tsv.gz, barcodes.tsv.gz\n",
    "mmwrite(f\"{path_out}/guide_assignment_matrix/matrix.mtx\", guide_assignments_sparse.T)"
   ]
  },
  {
   "cell_type": "markdown",
   "metadata": {},
   "source": [
    "# Make AnnData"
   ]
  },
  {
   "cell_type": "code",
   "execution_count": 22,
   "metadata": {},
   "outputs": [
    {
     "data": {
      "text/plain": [
       "(95717, 13166)"
      ]
     },
     "execution_count": 22,
     "metadata": {},
     "output_type": "execute_result"
    }
   ],
   "source": [
    "# Reload the matrix to check\n",
    "mtx = mmread(f\"{path_out}/guide_assignment_matrix/matrix.mtx\").tocsr()\n",
    "mtx.shape"
   ]
  },
  {
   "cell_type": "code",
   "execution_count": 23,
   "metadata": {},
   "outputs": [],
   "source": [
    "# Reload the features and barcodes\n",
    "barcodes = pd.read_csv(\n",
    "    f\"{path_out}/guide_assignment_matrix/barcodes.tsv.gz\", sep=\"\\t\", header=None, index_col=0\n",
    ")\n",
    "barcodes.index.name = \"barcode\"\n",
    "features = pd.read_csv(\n",
    "    f\"{path_out}/guide_assignment_matrix/features.tsv.gz\", sep=\"\\t\", header=None, index_col=0\n",
    ")\n",
    "features.index.name = \"feature\""
   ]
  },
  {
   "cell_type": "code",
   "execution_count": 24,
   "metadata": {},
   "outputs": [
    {
     "name": "stderr",
     "output_type": "stream",
     "text": [
      "/cellar/users/aklie/opt/miniconda3/envs/scverse-lite-py39/lib/python3.9/site-packages/anndata/_core/anndata.py:183: ImplicitModificationWarning: Transforming to str index.\n",
      "  warnings.warn(\"Transforming to str index.\", ImplicitModificationWarning)\n",
      "/cellar/users/aklie/opt/miniconda3/envs/scverse-lite-py39/lib/python3.9/site-packages/anndata/_core/anndata.py:1908: UserWarning: Variable names are not unique. To make them unique, call `.var_names_make_unique`.\n",
      "  utils.warn_names_duplicates(\"var\")\n"
     ]
    }
   ],
   "source": [
    "# Construct AnnData object\n",
    "adata = ad.AnnData(\n",
    "    X=mtx,\n",
    "    obs=barcodes,\n",
    "    var=features,\n",
    ")"
   ]
  },
  {
   "cell_type": "code",
   "execution_count": 25,
   "metadata": {},
   "outputs": [
    {
     "data": {
      "text/plain": [
       "AnnData object with n_obs × n_vars = 95717 × 13166\n",
       "    var: 'protospacer', 'intended_target_name', 'genomic_element', 'reverse_compliment', 'Huangfu_id', 'Huangfu_name', 'type'"
      ]
     },
     "execution_count": 25,
     "metadata": {},
     "output_type": "execute_result"
    }
   ],
   "source": [
    "# add in guide metadata\n",
    "adata.var = adata.var.merge(id_master, left_index=True, right_on=\"protospacer_ID\", how=\"left\").set_index(\"protospacer_ID\")\n",
    "adata"
   ]
  },
  {
   "cell_type": "code",
   "execution_count": 26,
   "metadata": {},
   "outputs": [],
   "source": [
    "# Write AnnData object\n",
    "adata.write(f\"{path_out}/guide_assignment_matrix.h5ad\")"
   ]
  },
  {
   "cell_type": "code",
   "execution_count": 27,
   "metadata": {},
   "outputs": [],
   "source": [
    "# Write csv for PySpade\n",
    "adata.to_df().T.to_csv(f\"{path_out}/guide_assignment_matrix.csv\")"
   ]
  },
  {
   "cell_type": "markdown",
   "metadata": {},
   "source": [
    "# DONE!"
   ]
  },
  {
   "cell_type": "markdown",
   "metadata": {},
   "source": [
    "---"
   ]
  }
 ],
 "metadata": {
  "kernelspec": {
   "display_name": "Python 3.9 scverse-lite",
   "language": "python",
   "name": "scverse-lite-py39"
  },
  "language_info": {
   "codemirror_mode": {
    "name": "ipython",
    "version": 3
   },
   "file_extension": ".py",
   "mimetype": "text/x-python",
   "name": "python",
   "nbconvert_exporter": "python",
   "pygments_lexer": "ipython3",
   "version": "3.9.18"
  }
 },
 "nbformat": 4,
 "nbformat_minor": 2
}
